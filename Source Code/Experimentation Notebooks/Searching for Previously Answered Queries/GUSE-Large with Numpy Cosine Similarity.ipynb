{
  "nbformat": 4,
  "nbformat_minor": 0,
  "metadata": {
    "colab": {
      "provenance": [],
      "collapsed_sections": [
        "jEYaVYzg-E1p",
        "gNT_neTt-1-a",
        "RMo538GH-_GV",
        "dEUgPbQ8Mo3I",
        "dm-kRtYdMsvC"
      ]
    },
    "kernelspec": {
      "name": "python3",
      "display_name": "Python 3"
    },
    "language_info": {
      "name": "python"
    }
  },
  "cells": [
    {
      "cell_type": "markdown",
      "source": [
        "#Installing and Importing Libraries"
      ],
      "metadata": {
        "id": "jEYaVYzg-E1p"
      }
    },
    {
      "cell_type": "code",
      "source": [
        "!pip install transformers"
      ],
      "metadata": {
        "colab": {
          "base_uri": "https://localhost:8080/"
        },
        "id": "RcggzXW6zLaF",
        "outputId": "1a2d0fa8-3037-488e-bba3-2135207e6ac4"
      },
      "execution_count": null,
      "outputs": [
        {
          "output_type": "stream",
          "name": "stdout",
          "text": [
            "Looking in indexes: https://pypi.org/simple, https://us-python.pkg.dev/colab-wheels/public/simple/\n",
            "Collecting transformers\n",
            "  Downloading transformers-4.26.0-py3-none-any.whl (6.3 MB)\n",
            "\u001b[2K     \u001b[90m━━━━━━━━━━━━━━━━━━━━━━━━━━━━━━━━━━━━━━━━\u001b[0m \u001b[32m6.3/6.3 MB\u001b[0m \u001b[31m63.4 MB/s\u001b[0m eta \u001b[36m0:00:00\u001b[0m\n",
            "\u001b[?25hRequirement already satisfied: regex!=2019.12.17 in /usr/local/lib/python3.8/dist-packages (from transformers) (2022.6.2)\n",
            "Requirement already satisfied: requests in /usr/local/lib/python3.8/dist-packages (from transformers) (2.25.1)\n",
            "Requirement already satisfied: filelock in /usr/local/lib/python3.8/dist-packages (from transformers) (3.9.0)\n",
            "Collecting huggingface-hub<1.0,>=0.11.0\n",
            "  Downloading huggingface_hub-0.12.0-py3-none-any.whl (190 kB)\n",
            "\u001b[2K     \u001b[90m━━━━━━━━━━━━━━━━━━━━━━━━━━━━━━━━━━━━━━\u001b[0m \u001b[32m190.3/190.3 KB\u001b[0m \u001b[31m22.5 MB/s\u001b[0m eta \u001b[36m0:00:00\u001b[0m\n",
            "\u001b[?25hRequirement already satisfied: pyyaml>=5.1 in /usr/local/lib/python3.8/dist-packages (from transformers) (6.0)\n",
            "Requirement already satisfied: packaging>=20.0 in /usr/local/lib/python3.8/dist-packages (from transformers) (23.0)\n",
            "Collecting tokenizers!=0.11.3,<0.14,>=0.11.1\n",
            "  Downloading tokenizers-0.13.2-cp38-cp38-manylinux_2_17_x86_64.manylinux2014_x86_64.whl (7.6 MB)\n",
            "\u001b[2K     \u001b[90m━━━━━━━━━━━━━━━━━━━━━━━━━━━━━━━━━━━━━━━━\u001b[0m \u001b[32m7.6/7.6 MB\u001b[0m \u001b[31m74.9 MB/s\u001b[0m eta \u001b[36m0:00:00\u001b[0m\n",
            "\u001b[?25hRequirement already satisfied: numpy>=1.17 in /usr/local/lib/python3.8/dist-packages (from transformers) (1.21.6)\n",
            "Requirement already satisfied: tqdm>=4.27 in /usr/local/lib/python3.8/dist-packages (from transformers) (4.64.1)\n",
            "Requirement already satisfied: typing-extensions>=3.7.4.3 in /usr/local/lib/python3.8/dist-packages (from huggingface-hub<1.0,>=0.11.0->transformers) (4.4.0)\n",
            "Requirement already satisfied: chardet<5,>=3.0.2 in /usr/local/lib/python3.8/dist-packages (from requests->transformers) (4.0.0)\n",
            "Requirement already satisfied: urllib3<1.27,>=1.21.1 in /usr/local/lib/python3.8/dist-packages (from requests->transformers) (1.24.3)\n",
            "Requirement already satisfied: idna<3,>=2.5 in /usr/local/lib/python3.8/dist-packages (from requests->transformers) (2.10)\n",
            "Requirement already satisfied: certifi>=2017.4.17 in /usr/local/lib/python3.8/dist-packages (from requests->transformers) (2022.12.7)\n",
            "Installing collected packages: tokenizers, huggingface-hub, transformers\n",
            "Successfully installed huggingface-hub-0.12.0 tokenizers-0.13.2 transformers-4.26.0\n"
          ]
        }
      ]
    },
    {
      "cell_type": "code",
      "execution_count": null,
      "metadata": {
        "id": "q4KNsMk4yt91"
      },
      "outputs": [],
      "source": [
        "import csv\n",
        "import requests\n",
        "import pandas as pd\n",
        "from transformers import AutoModel, AutoTokenizer\n",
        "from pprint import pprint\n",
        "import matplotlib.pyplot as plt\n",
        "import tensorflow as tf\n",
        "import tensorflow_hub as hub\n",
        "import torch\n",
        "import numpy as np"
      ]
    },
    {
      "cell_type": "markdown",
      "source": [
        "#Load the dataset"
      ],
      "metadata": {
        "id": "gNT_neTt-1-a"
      }
    },
    {
      "cell_type": "code",
      "source": [
        "# load training dataset\n",
        "def load_data():\n",
        "    CSV_URL = 'https://drive.google.com/u/0/uc?id=1Z-yb752A3o7b9dqrGt24XU0sl53FVqya&export=download'\n",
        "\n",
        "    with requests.Session() as s:\n",
        "        download = s.get(CSV_URL)\n",
        "        decoded_content = download.content.decode('utf-8')\n",
        "        cr = csv.reader(decoded_content.splitlines(), delimiter=',')\n",
        "        train_data = list(cr)\n",
        "\n",
        "    print(f\"Number of examples = {len(train_data)}\")\n",
        "    ans, noans = 0, 0\n",
        "    for x in train_data:\n",
        "        if x[4] == 'False':\n",
        "            noans += 1\n",
        "        else:\n",
        "            ans += 1\n",
        "    print(f\"\\tAnswerable questions = {ans}\")\n",
        "    print(f\"\\tNon-Answerable questions = {noans}\\n\")\n",
        "    print(\"Examples:\")\n",
        "    for i in [0, 1000, 1300]:\n",
        "        print(' | '.join(train_data[i][:2]), ' | ', train_data[i][2][:20] + '...', ' | ', ' | '.join(train_data[i][3:]))\n",
        "    return train_data"
      ],
      "metadata": {
        "id": "lzBdaVAizT9E"
      },
      "execution_count": null,
      "outputs": []
    },
    {
      "cell_type": "code",
      "source": [
        "def load_theme_wise_data(train_data):\n",
        "    theme_wise_data = {}\n",
        "    for x in train_data[1:]:\n",
        "        if x[1] not in theme_wise_data:\n",
        "            theme_wise_data[x[1]] = {\n",
        "                'para': [],\n",
        "                'ques': [],\n",
        "                'ans': []\n",
        "            }\n",
        "        if x[2] not in theme_wise_data[x[1]]['para']:\n",
        "            theme_wise_data[x[1]]['para'].append(x[2])\n",
        "        theme_wise_data[x[1]]['ques'].append(x[3])\n",
        "        # ans contains a list -> [Para_Number, Answer_possible, Answer_text, Answer_start]\n",
        "        theme_wise_data[x[1]]['ans'].append([theme_wise_data[x[1]]['para'].index(x[2])] + x[4:])\n",
        "    print(f'\\nTotal {len(theme_wise_data)} themes present.')\n",
        "    return theme_wise_data"
      ],
      "metadata": {
        "id": "ztBRb7oRy8hj"
      },
      "execution_count": null,
      "outputs": []
    },
    {
      "cell_type": "code",
      "source": [
        "module_url = \"https://tfhub.dev/google/universal-sentence-encoder-large/5\"\n",
        "model = hub.load(module_url)"
      ],
      "metadata": {
        "id": "yZ9fUmkkzXPy"
      },
      "execution_count": null,
      "outputs": []
    },
    {
      "cell_type": "code",
      "source": [
        "train_data = load_data()\n",
        "theme_wise_data = load_theme_wise_data(train_data)"
      ],
      "metadata": {
        "id": "sBk1Fpu0zZWc",
        "colab": {
          "base_uri": "https://localhost:8080/"
        },
        "outputId": "bc18a58f-f247-4741-d2de-ee00f0601bc1"
      },
      "execution_count": null,
      "outputs": [
        {
          "output_type": "stream",
          "name": "stdout",
          "text": [
            "Number of examples = 75056\n",
            "\tAnswerable questions = 50126\n",
            "\tNon-Answerable questions = 24930\n",
            "\n",
            "Examples:\n",
            " | Theme  |  Paragraph...  |  Question | Answer_possible | Answer_text | Answer_start\n",
            "1430 | Frédéric_Chopin  |  Some modern commenta...  |  Who said Chopin's works were modeled after Bach, Beethoven, Schubert and Field? | True | ['Richard Taruskin'] | [543]\n",
            "2196 | The_Legend_of_Zelda:_Twilight_Princess  |  Twilight Princess ta...  |  Who releases Bulbins from the Realm of Twilight? | False | [] | []\n",
            "\n",
            "Total 361 themes present.\n"
          ]
        }
      ]
    },
    {
      "cell_type": "code",
      "source": [
        "theme = \"Adolescence\""
      ],
      "metadata": {
        "id": "UlmS7gKrzcVY"
      },
      "execution_count": null,
      "outputs": []
    },
    {
      "cell_type": "code",
      "source": [
        "!gdown 1rCktWk6rljttLjiXCupAF0wrS5oHUI8K\n",
        "\n",
        "df = pd.read_csv('Question Generation - Sheet1.csv')\n",
        "queries = df[df['Theme']==theme]['Similar Question']\n",
        "dis_sim_queries = df[df['Theme']==theme]['Dissimilar Question']"
      ],
      "metadata": {
        "colab": {
          "base_uri": "https://localhost:8080/"
        },
        "id": "zr0iaez7AI24",
        "outputId": "7e980a41-d021-4dff-d68e-d3b5e0586066"
      },
      "execution_count": null,
      "outputs": [
        {
          "output_type": "stream",
          "name": "stdout",
          "text": [
            "Downloading...\n",
            "From: https://drive.google.com/uc?id=1rCktWk6rljttLjiXCupAF0wrS5oHUI8K\n",
            "To: /content/Question Generation - Sheet1.csv\n",
            "\r  0% 0.00/13.0k [00:00<?, ?B/s]\r100% 13.0k/13.0k [00:00<00:00, 8.94MB/s]\n"
          ]
        }
      ]
    },
    {
      "cell_type": "code",
      "source": [
        "t_ques = list(theme_wise_data[theme]['ques'])\n",
        "t_ans = list(theme_wise_data[theme]['ans'])\n",
        "t_ans = [i[2][2:-2] for i in t_ans]\n",
        "t = [[i, j] for i,j in zip(t_ques , t_ans )]\n",
        "new_t = {idx:[t[idx][0],t[idx][1]] for idx in range(len(t))}"
      ],
      "metadata": {
        "id": "eEyl5azXzzkh"
      },
      "execution_count": null,
      "outputs": []
    },
    {
      "cell_type": "markdown",
      "source": [
        "#Create embeddings and apply Cosine Similarity"
      ],
      "metadata": {
        "id": "RMo538GH-_GV"
      }
    },
    {
      "cell_type": "code",
      "source": [
        "encoded_data=model(t_ques)\n",
        "encoded_data=encoded_data.numpy()\n",
        "encoded_data = np.array(encoded_data)"
      ],
      "metadata": {
        "id": "KiS57D3vz0p6"
      },
      "execution_count": null,
      "outputs": []
    },
    {
      "cell_type": "code",
      "source": [
        "from numpy.linalg import norm\n",
        "def cos(a, b):\n",
        "  return (np.dot(a, b)/(norm(a)*norm(b)))"
      ],
      "metadata": {
        "id": "iep74dzYz-mD"
      },
      "execution_count": null,
      "outputs": []
    },
    {
      "cell_type": "markdown",
      "source": [
        "#Check for one query"
      ],
      "metadata": {
        "id": "dEUgPbQ8Mo3I"
      }
    },
    {
      "cell_type": "code",
      "source": [
        "query = [\"What organ produces estrogen in females?\"]"
      ],
      "metadata": {
        "id": "ft0emNECA60A"
      },
      "execution_count": null,
      "outputs": []
    },
    {
      "cell_type": "code",
      "source": [
        "query_encode=model(query)\n",
        "query_encode=query_encode.numpy()\n",
        "query_encode = np.array(query_encode)"
      ],
      "metadata": {
        "id": "ExGWWd0GAKDf"
      },
      "execution_count": null,
      "outputs": []
    },
    {
      "cell_type": "code",
      "source": [
        "cosarr = []\n",
        "for i in range(len(encoded_data)):\n",
        "  cosarr.append(cos(query_encode, encoded_data[i]))"
      ],
      "metadata": {
        "id": "EfCdX4yl-NYJ"
      },
      "execution_count": null,
      "outputs": []
    },
    {
      "cell_type": "code",
      "source": [
        "cosarr = np.array(cosarr, dtype=np.float32)\n",
        "index_cosarr = np.argsort(cosarr, axis=0)[-5:][::-1]"
      ],
      "metadata": {
        "id": "0bqwuQom-ZsC"
      },
      "execution_count": null,
      "outputs": []
    },
    {
      "cell_type": "code",
      "source": [
        "for i in range(5):\n",
        "  print(theme_wise_data[theme]['ques'][index_cosarr[i][0]])\n",
        "  print(1-cosarr[index_cosarr[i]])"
      ],
      "metadata": {
        "id": "gCigCkpEFiV2",
        "colab": {
          "base_uri": "https://localhost:8080/"
        },
        "outputId": "5d190595-1921-44ef-9db9-6a15ae1467c7"
      },
      "execution_count": null,
      "outputs": [
        {
          "output_type": "stream",
          "name": "stdout",
          "text": [
            "Which part of the body relesases estrogen in females?\n",
            "[[0.14522243]]\n",
            "Which part of the body releases testosterone in males?\n",
            "[[0.28804702]]\n",
            "What is a female's major landmark of puberty?\n",
            "[[0.44473755]]\n",
            "What is a secondary sex characteristic change?\n",
            "[[0.45803547]]\n",
            "Which male body parts enlarge and develop at the same time as the penis?\n",
            "[[0.49982017]]\n"
          ]
        }
      ]
    },
    {
      "cell_type": "markdown",
      "source": [
        "# Testing on self-curated dataset"
      ],
      "metadata": {
        "id": "dm-kRtYdMsvC"
      }
    },
    {
      "cell_type": "code",
      "source": [
        "def most_sim(query, model, theme, encoded_data):\n",
        "  query_encode=model(query)\n",
        "  query_encode=query_encode.numpy()\n",
        "  query_encode = np.array(query_encode)\n",
        "  cosarr = []\n",
        "  for i in range(len(encoded_data)):\n",
        "    cosarr.append(cos(query_encode, encoded_data[i]))\n",
        "  index_cosarr = np.argsort(cosarr, axis=0)[-1:][::-1]\n",
        "  print(query)\n",
        "  print('Most similar query is: ' +str(theme_wise_data[theme]['ques'][index_cosarr[0][0]]))\n",
        "  print('And the cosine score for the query is '+str(cosarr[index_cosarr[0][0]]))"
      ],
      "metadata": {
        "id": "xee7evu1_siX"
      },
      "execution_count": null,
      "outputs": []
    },
    {
      "cell_type": "code",
      "source": [
        "for k in range(len(queries)):\n",
        "  most_sim([queries[k]], model, theme, encoded_data)\n",
        "  most_sim([dis_sim_queries[k]], model, theme, encoded_data)"
      ],
      "metadata": {
        "colab": {
          "base_uri": "https://localhost:8080/"
        },
        "id": "g6M2XxawLhXC",
        "outputId": "24090849-c24b-48f7-c5b8-eac74ec10dfe"
      },
      "execution_count": null,
      "outputs": [
        {
          "output_type": "stream",
          "name": "stdout",
          "text": [
            "['When are a number of changes triggered due to increased hormone production ']\n",
            "Most similar query is: A surge in hormone production triggers a number of physical changes during what stage of life?\n",
            "And the cosine score for the query is [0.78290737]\n",
            "['At what stage of life does a decrease in hormone production trigger a number of physical changes?']\n",
            "Most similar query is: A surge in hormone production triggers a number of physical changes during what stage of life?\n",
            "And the cosine score for the query is [0.8692846]\n",
            "['What organ produces testosterone in males?']\n",
            "Most similar query is: Which part of the body releases testosterone in males?\n",
            "And the cosine score for the query is [0.8768661]\n",
            "['Which organ in the male body does not release testosterone?']\n",
            "Most similar query is: Which part of the body releases testosterone in males?\n",
            "And the cosine score for the query is [0.8727007]\n",
            "['What organ produces estrogen in females?']\n",
            "Most similar query is: Which part of the body relesases estrogen in females?\n",
            "And the cosine score for the query is [0.8547776]\n",
            "['Which organ in the female body does not release estrogen?']\n",
            "Most similar query is: Which part of the body relesases estrogen in females?\n",
            "And the cosine score for the query is [0.8362744]\n",
            "['What is the stage of life between childhood and adulthood called?']\n",
            "Most similar query is: The period of one's life that spans late adolescence and early adulthood is known as what?\n",
            "And the cosine score for the query is [0.7822992]\n",
            "['What is the period between childhood and adulthood not viewed as?']\n",
            "Most similar query is: What is the transitional period between childhood and adulthood viewed as?\n",
            "And the cosine score for the query is [0.8752199]\n",
            "['What physical changes occur during puberty besides physical maturation?']\n",
            "Most similar query is: What transitions occur during puberty in addition to living circumstances?\n",
            "And the cosine score for the query is [0.82050556]\n",
            "['What changes do not occur during puberty in addition to physical maturation?']\n",
            "Most similar query is: What transitions occur during puberty in addition to living circumstances?\n",
            "And the cosine score for the query is [0.8047729]\n",
            "['How do the cardiovascular system change during puberty?']\n",
            "Most similar query is: How do a person's heart and lungs change during puberty?\n",
            "And the cosine score for the query is [0.8181544]\n",
            "['How do the cardiovascular system not change during puberty?']\n",
            "Most similar query is: How do a person's heart and lungs change during puberty?\n",
            "And the cosine score for the query is [0.7812513]\n",
            "['What changes to the body result from the increased size and capacity of the heart and lungs during puberty?']\n",
            "Most similar query is: Increased size and capacity of the heart and lungs result in what changes to the body?\n",
            "And the cosine score for the query is [0.8614074]\n",
            "['What changes to the body do not result from the decreased size and capacity of the heart and lungs during puberty?']\n",
            "Most similar query is: Increased size and capacity of the heart and lungs result in what changes to the body?\n",
            "And the cosine score for the query is [0.80277836]\n",
            "['Which gender has a higher red blood cell count on average?']\n",
            "Most similar query is: Which sex tends to have more red blood cells than the other?\n",
            "And the cosine score for the query is [0.8608519]\n",
            "['Which gender has a lower red blood cell count on average?']\n",
            "Most similar query is: Which sex tends to have more red blood cells than the other?\n",
            "And the cosine score for the query is [0.8451891]\n",
            "['Which body system do the lungs play a key role in?']\n",
            "Most similar query is: Which body system are a person's lungs a major proponent of?\n",
            "And the cosine score for the query is [0.8527553]\n",
            "['Which body system do the lungs not play a key role in?']\n",
            "Most similar query is: Which body system are a person's lungs a major proponent of?\n",
            "And the cosine score for the query is [0.8526377]\n",
            "['Is the brain fully developed at the onset of puberty?']\n",
            "Most similar query is: Is a person's brain fully developed by the time they reach puberty?\n",
            "And the cosine score for the query is [0.9258561]\n",
            "['Is the brain not fully developed at the onset of puberty?']\n",
            "Most similar query is: Is a person's brain fully developed by the time they reach puberty?\n",
            "And the cosine score for the query is [0.8887377]\n",
            "['At what age is the brain considered to be approximately 90% of its adult size?']\n",
            "Most similar query is: The brain reaches what percentage of its adult size by the time a person is six years old?\n",
            "And the cosine score for the query is [0.79222274]\n",
            "['The brain reaches what percentage of its adult size by the time a person is 60 years old?']\n",
            "Most similar query is: The brain reaches what percentage of its adult size by the time a person is six years old?\n",
            "And the cosine score for the query is [0.9053754]\n",
            "['What areas of the brain undergo the most significant changes during puberty?']\n",
            "Most similar query is: The biggest changes in the brain during puberty occur in the parts of the cortex that process what kinds of information?\n",
            "And the cosine score for the query is [0.841394]\n",
            "['The smallest changes in the brain during puberty occur in the parts of the cortex that process what kinds of information?']\n",
            "Most similar query is: The biggest changes in the brain during puberty occur in the parts of the cortex that process what kinds of information?\n",
            "And the cosine score for the query is [0.9595837]\n",
            "['Which regions of the brain continue to mature and develop during the adolescent years?']\n",
            "Most similar query is: What parts of the brain continue to become more complex into the late teens?\n",
            "And the cosine score for the query is [0.8322701]\n",
            "['What parts of the brain become less complex into the late teens?']\n",
            "Most similar query is: What parts of the brain continue to become more complex into the late teens?\n",
            "And the cosine score for the query is [0.9781171]\n",
            "['What are the two neurotransmitters that play a role in increased emotional reactivity and sensitivity to rewards and stress during adolescence?']\n",
            "Most similar query is: Which two neurotransmitters cause adolescents to be more emotional and more responsive to rewards and stresses?\n",
            "And the cosine score for the query is [0.9064419]\n",
            "['Which two neurotransmitters cause adolescents to be less emotional and less responsive to rewards and stresses?']\n",
            "Most similar query is: Which two neurotransmitters cause adolescents to be more emotional and more responsive to rewards and stresses?\n",
            "And the cosine score for the query is [0.97635233]\n",
            "['What type of cognitive process is associated with the development of deductive reasoning?']\n",
            "Most similar query is: Deductive reasoning leads to the development of what type of thinking?\n",
            "And the cosine score for the query is [0.7996366]\n",
            "['Inductive reasoning leads to the development of what type of thinking?']\n",
            "Most similar query is: Deductive reasoning leads to the development of what type of thinking?\n",
            "And the cosine score for the query is [0.89445895]\n"
          ]
        }
      ]
    }
  ]
}