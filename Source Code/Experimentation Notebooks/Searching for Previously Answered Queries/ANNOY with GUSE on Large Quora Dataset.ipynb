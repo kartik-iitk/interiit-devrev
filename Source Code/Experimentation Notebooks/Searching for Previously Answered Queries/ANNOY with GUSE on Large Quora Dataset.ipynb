{
  "nbformat": 4,
  "nbformat_minor": 0,
  "metadata": {
    "colab": {
      "provenance": []
    },
    "kernelspec": {
      "name": "python3",
      "display_name": "Python 3"
    },
    "language_info": {
      "name": "python"
    },
    "accelerator": "GPU",
    "gpuClass": "standard"
  },
  "cells": [
    {
      "cell_type": "markdown",
      "source": [
        "# Prereqs\n"
      ],
      "metadata": {
        "id": "1qbC2YGmbf6r"
      }
    },
    {
      "cell_type": "code",
      "source": [
        "! pip install annoy"
      ],
      "metadata": {
        "colab": {
          "base_uri": "https://localhost:8080/"
        },
        "id": "GBz-njCVzNqJ",
        "outputId": "da1db809-1306-4a52-a610-1df4a83668a4"
      },
      "execution_count": null,
      "outputs": [
        {
          "output_type": "stream",
          "name": "stdout",
          "text": [
            "Looking in indexes: https://pypi.org/simple, https://us-python.pkg.dev/colab-wheels/public/simple/\n",
            "Collecting annoy\n",
            "  Downloading annoy-1.17.1.tar.gz (647 kB)\n",
            "\u001b[2K     \u001b[90m━━━━━━━━━━━━━━━━━━━━━━━━━━━━━━━━━━━━━━\u001b[0m \u001b[32m648.0/648.0 KB\u001b[0m \u001b[31m39.8 MB/s\u001b[0m eta \u001b[36m0:00:00\u001b[0m\n",
            "\u001b[?25h  Preparing metadata (setup.py) ... \u001b[?25l\u001b[?25hdone\n",
            "Building wheels for collected packages: annoy\n",
            "  Building wheel for annoy (setup.py) ... \u001b[?25l\u001b[?25hdone\n",
            "  Created wheel for annoy: filename=annoy-1.17.1-cp38-cp38-linux_x86_64.whl size=581428 sha256=57db0f719f1e327b101aeb484d70907280ea760f18d36129438304ca9c2516a3\n",
            "  Stored in directory: /root/.cache/pip/wheels/f9/93/19/30511c4a9ae6b4937455a134c34a39e13943e2c6f46fcd2ed2\n",
            "Successfully built annoy\n",
            "Installing collected packages: annoy\n",
            "Successfully installed annoy-1.17.1\n"
          ]
        }
      ]
    },
    {
      "cell_type": "code",
      "source": [
        "import csv\n",
        "import requests\n",
        "import pandas as pd"
      ],
      "metadata": {
        "id": "5uC72KG7zvnh"
      },
      "execution_count": null,
      "outputs": []
    },
    {
      "cell_type": "code",
      "source": [
        "import time"
      ],
      "metadata": {
        "id": "o8DEJYT-kTFv"
      },
      "execution_count": null,
      "outputs": []
    },
    {
      "cell_type": "code",
      "source": [
        "from transformers import AutoModel, AutoTokenizer\n",
        "from pprint import pprint\n",
        "\n",
        "import faiss\n",
        "import annoy\n",
        "import matplotlib.pyplot as plt\n",
        "import tensorflow as tf\n",
        "import tensorflow_hub as hub\n",
        "import torch"
      ],
      "metadata": {
        "id": "YMvoph9m2zJ9"
      },
      "execution_count": null,
      "outputs": []
    },
    {
      "cell_type": "code",
      "source": [
        "import numpy as np "
      ],
      "metadata": {
        "id": "Vct4JsuIjTsf"
      },
      "execution_count": null,
      "outputs": []
    },
    {
      "cell_type": "markdown",
      "source": [
        "# Loading dataset and model"
      ],
      "metadata": {
        "id": "6amBd6bYboAn"
      }
    },
    {
      "cell_type": "code",
      "source": [
        "import csv\n",
        "import requests\n",
        "\n",
        "# load training dataset\n",
        "def load_data():\n",
        "    CSV_URL = 'https://drive.google.com/u/0/uc?id=1Z-yb752A3o7b9dqrGt24XU0sl53FVqya&export=download'\n",
        "\n",
        "    with requests.Session() as s:\n",
        "        download = s.get(CSV_URL)\n",
        "        decoded_content = download.content.decode('utf-8')\n",
        "        cr = csv.reader(decoded_content.splitlines(), delimiter=',')\n",
        "        train_data = list(cr)\n",
        "\n",
        "    print(f\"Number of examples = {len(train_data)}\")\n",
        "    ans, noans = 0, 0\n",
        "    for x in train_data:\n",
        "        if x[4] == 'False':\n",
        "            noans += 1\n",
        "        else:\n",
        "            ans += 1\n",
        "    print(f\"\\tAnswerable questions = {ans}\")\n",
        "    print(f\"\\tNon-Answerable questions = {noans}\\n\")\n",
        "    print(\"Examples:\")\n",
        "    for i in [0, 1000, 1300]:\n",
        "        print(' | '.join(train_data[i][:2]), ' | ', train_data[i][2][:20] + '...', ' | ', ' | '.join(train_data[i][3:]))\n",
        "    return train_data"
      ],
      "metadata": {
        "id": "shkz-50-SpES"
      },
      "execution_count": null,
      "outputs": []
    },
    {
      "cell_type": "code",
      "source": [
        "def load_theme_wise_data(train_data):\n",
        "    theme_wise_data = {}\n",
        "    for x in train_data[1:]:\n",
        "        if x[1] not in theme_wise_data:\n",
        "            theme_wise_data[x[1]] = {\n",
        "                'para': [],\n",
        "                'ques': [],\n",
        "                'ans': []\n",
        "            }\n",
        "        if x[2] not in theme_wise_data[x[1]]['para']:\n",
        "            theme_wise_data[x[1]]['para'].append(x[2])\n",
        "        theme_wise_data[x[1]]['ques'].append(x[3])\n",
        "        # ans contains a list -> [Para_Number, Answer_possible, Answer_text, Answer_start]\n",
        "        theme_wise_data[x[1]]['ans'].append([theme_wise_data[x[1]]['para'].index(x[2])] + x[4:])\n",
        "    print(f'\\nTotal {len(theme_wise_data)} themes present.')\n",
        "    return theme_wise_data"
      ],
      "metadata": {
        "id": "u7dImHQMSqAQ"
      },
      "execution_count": null,
      "outputs": []
    },
    {
      "cell_type": "code",
      "source": [
        "module_url = \"https://tfhub.dev/google/universal-sentence-encoder-large/5\"\n",
        "model = hub.load(module_url)"
      ],
      "metadata": {
        "id": "8iiWzFoY3Fej"
      },
      "execution_count": null,
      "outputs": []
    },
    {
      "cell_type": "code",
      "source": [
        "train_data = load_data()\n",
        "theme_wise_data = load_theme_wise_data(train_data)"
      ],
      "metadata": {
        "colab": {
          "base_uri": "https://localhost:8080/"
        },
        "id": "5GZbjVSASzjs",
        "outputId": "45b2caad-b6b8-4f62-ee9a-b682f4515871"
      },
      "execution_count": null,
      "outputs": [
        {
          "output_type": "stream",
          "name": "stdout",
          "text": [
            "Number of examples = 75056\n",
            "\tAnswerable questions = 50126\n",
            "\tNon-Answerable questions = 24930\n",
            "\n",
            "Examples:\n",
            " | Theme  |  Paragraph...  |  Question | Answer_possible | Answer_text | Answer_start\n",
            "1430 | Frédéric_Chopin  |  Some modern commenta...  |  Who said Chopin's works were modeled after Bach, Beethoven, Schubert and Field? | True | ['Richard Taruskin'] | [543]\n",
            "2196 | The_Legend_of_Zelda:_Twilight_Princess  |  Twilight Princess ta...  |  Who releases Bulbins from the Realm of Twilight? | False | [] | []\n",
            "\n",
            "Total 361 themes present.\n"
          ]
        }
      ]
    },
    {
      "cell_type": "markdown",
      "source": [
        "#Quora Dataset\n",
        "\n",
        "Reference : [Quora faq datasets](https://github.com/hellohaptik/faq-datasets)"
      ],
      "metadata": {
        "id": "pYPKWQPQQJ17"
      }
    },
    {
      "cell_type": "code",
      "source": [
        "tdash_ques = ['How do i get traffic for website?', 'How can I increase traffic to my site and what are some suggestions on how to get more of it?']"
      ],
      "metadata": {
        "id": "_YXTN67VSxtc"
      },
      "execution_count": null,
      "outputs": []
    },
    {
      "cell_type": "code",
      "source": [
        "new_tdash = {0: ['How do i get traffic for website?', '1'],\n",
        " 1: ['How can I increase traffic to my site and what are some suggestions on how to get more of it?', '1']} "
      ],
      "metadata": {
        "id": "GffHhUXDRM-T"
      },
      "execution_count": null,
      "outputs": []
    },
    {
      "cell_type": "code",
      "source": [
        "encoded_data=model(tdash_ques)\n",
        "encoded_data = np.array(encoded_data)"
      ],
      "metadata": {
        "id": "9iZxGcFxTA92"
      },
      "execution_count": null,
      "outputs": []
    },
    {
      "cell_type": "code",
      "source": [
        "def create_index_annoy(embeddings, vector_length = 512, metric = 'angular', num_trees = 100):\n",
        "  annoy_index = annoy.AnnoyIndex(vector_length, metric=metric)\n",
        "  for i in range(len(embeddings)):\n",
        "    annoy_index.add_item(i, embeddings[i])\n",
        "  annoy_index.build(n_trees = num_trees)\n",
        "  return annoy_index"
      ],
      "metadata": {
        "id": "u5siRTJjTGKs"
      },
      "execution_count": null,
      "outputs": []
    },
    {
      "cell_type": "code",
      "source": [
        "index = create_index_annoy(encoded_data)"
      ],
      "metadata": {
        "id": "1GYVZ-VdTQct"
      },
      "execution_count": null,
      "outputs": []
    },
    {
      "cell_type": "code",
      "source": [
        "def top_k_ques(query):\n",
        "    query_vector = model(query)\n",
        "    results = find_similar_annoy(index,query_vector[0])\n",
        "\n",
        "    print(\"\\n\")\n",
        "    for result in results:\n",
        "        print('\\t',result)"
      ],
      "metadata": {
        "id": "B4f1y1iYTUe9"
      },
      "execution_count": null,
      "outputs": []
    },
    {
      "cell_type": "code",
      "source": [
        "def find_similar_annoy(index ,embedding, num_matches=2):\n",
        "  '''Finds similar items to a given embedding in the ANN index'''\n",
        "  \n",
        "  ids = index.get_nns_by_vector(\n",
        "  embedding, num_matches, search_k=-1, include_distances=True)\n",
        "  score = ids[1]\n",
        "  questions = [new_tdash[id][0] for id in ids[0]]\n",
        "  return [(a[0], a[1]) for a in zip(questions, score)]"
      ],
      "metadata": {
        "id": "pG1ibIAQTinO"
      },
      "execution_count": null,
      "outputs": []
    },
    {
      "cell_type": "code",
      "source": [
        "query = ['How can I increase the traffic on my website?']"
      ],
      "metadata": {
        "id": "OgrSIH6cQoa9"
      },
      "execution_count": null,
      "outputs": []
    },
    {
      "cell_type": "code",
      "source": [
        "top_k_ques(query)"
      ],
      "metadata": {
        "colab": {
          "base_uri": "https://localhost:8080/"
        },
        "id": "SO1kR_QLQI1z",
        "outputId": "5d2317cc-57df-4c0d-8ce0-5a29ca73439e"
      },
      "execution_count": null,
      "outputs": [
        {
          "output_type": "stream",
          "name": "stdout",
          "text": [
            "\n",
            "\n",
            "\t ('How can I increase traffic to my site and what are some suggestions on how to get more of it?', 0.2392665594816208)\n",
            "\t ('How do i get traffic for website?', 0.3868260383605957)\n"
          ]
        }
      ]
    },
    {
      "cell_type": "code",
      "source": [
        "tdash_ques = ['How can I improve my pronunciation of English words?', 'How I can speak English with fluency?', 'What is the best way to talk English fluently?', '\tHow could I improve my English pronunciation?']"
      ],
      "metadata": {
        "id": "N-T8bclyJKCz"
      },
      "execution_count": null,
      "outputs": []
    },
    {
      "cell_type": "code",
      "source": [
        "new_tdash = {0: ['How can I improve my pronunciation of English words?', '1'],\n",
        " 1: ['How I can speak English with fluency?', '1'], 2: ['What is the best way to talk English fluently?'], 3: ['How could I improve my English pronunciation?']} "
      ],
      "metadata": {
        "id": "O3_lpZKpJKCz"
      },
      "execution_count": null,
      "outputs": []
    },
    {
      "cell_type": "code",
      "source": [
        "encoded_data=model(tdash_ques)\n",
        "encoded_data = np.array(encoded_data)"
      ],
      "metadata": {
        "id": "NSMjPdKrJKCz"
      },
      "execution_count": null,
      "outputs": []
    },
    {
      "cell_type": "code",
      "source": [
        "index =create_index_annoy(encoded_data)"
      ],
      "metadata": {
        "id": "DTbKd0pXJKCz"
      },
      "execution_count": null,
      "outputs": []
    },
    {
      "cell_type": "code",
      "source": [
        "query = ['What should I have to do to make my english and communication skills perfect?']"
      ],
      "metadata": {
        "id": "XM6hRaeBJKCz"
      },
      "execution_count": null,
      "outputs": []
    },
    {
      "cell_type": "code",
      "source": [
        "top_k_ques(query)"
      ],
      "metadata": {
        "colab": {
          "base_uri": "https://localhost:8080/"
        },
        "outputId": "92cddb09-0fb3-4bfb-9cb9-779875a0144b",
        "id": "yUtTkLfsJKCz"
      },
      "execution_count": null,
      "outputs": [
        {
          "output_type": "stream",
          "name": "stdout",
          "text": [
            "\n",
            "\n",
            "\t ('What is the best way to talk English fluently?', 0.7073822617530823)\n",
            "\t ('How I can speak English with fluency?', 0.7201260924339294)\n"
          ]
        }
      ]
    },
    {
      "cell_type": "code",
      "source": [
        "tdash_ques = ['What are some of the real life Alien Encounters (with proof)?', 'What is the best evidence for the existence of aliens?']"
      ],
      "metadata": {
        "id": "u5BvRZlt5Rid"
      },
      "execution_count": null,
      "outputs": []
    },
    {
      "cell_type": "code",
      "source": [
        "new_tdash = {0: ['What are some of the real life Alien Encounters (with proof)?', '1'],\n",
        " 1: ['What is the best evidence for the existence of aliens?', '1']} "
      ],
      "metadata": {
        "id": "XjI9pyQd5Rie"
      },
      "execution_count": null,
      "outputs": []
    },
    {
      "cell_type": "code",
      "source": [
        "encoded_data=model(tdash_ques)\n",
        "encoded_data = np.array(encoded_data)"
      ],
      "metadata": {
        "id": "0BNchOZy5Rie"
      },
      "execution_count": null,
      "outputs": []
    },
    {
      "cell_type": "code",
      "source": [
        "index =create_index_annoy(encoded_data)"
      ],
      "metadata": {
        "id": "jJyDpdIb5Rie"
      },
      "execution_count": null,
      "outputs": []
    },
    {
      "cell_type": "code",
      "source": [
        "query = ['Is there any physical proof of aliens on earth?']"
      ],
      "metadata": {
        "id": "Ot3lV-Bt5Rie"
      },
      "execution_count": null,
      "outputs": []
    },
    {
      "cell_type": "code",
      "source": [
        "top_k_ques(query)"
      ],
      "metadata": {
        "colab": {
          "base_uri": "https://localhost:8080/"
        },
        "outputId": "e0ccb27c-bc88-42b6-bc39-bc9259b75355",
        "id": "sX4AnWjk5Rie"
      },
      "execution_count": null,
      "outputs": [
        {
          "output_type": "stream",
          "name": "stdout",
          "text": [
            "\n",
            "\n",
            "\t ('What is the best evidence for the existence of aliens?', 0.5598667860031128)\n",
            "\t ('What are some of the real life Alien Encounters (with proof)?', 0.6074343919754028)\n"
          ]
        }
      ]
    },
    {
      "cell_type": "code",
      "source": [
        "tdash_ques = ['How do I stop letting my emotions control me?', 'Can we control our feelings and emotions?']"
      ],
      "metadata": {
        "id": "kuzIMXHo5R7w"
      },
      "execution_count": null,
      "outputs": []
    },
    {
      "cell_type": "code",
      "source": [
        "new_tdash = {0: ['How do I stop letting my emotions control me?', '1'],\n",
        " 1: ['Can we control our feelings and emotions?', '1']} "
      ],
      "metadata": {
        "id": "fD09of3E5R7w"
      },
      "execution_count": null,
      "outputs": []
    },
    {
      "cell_type": "code",
      "source": [
        "encoded_data=model(tdash_ques)\n",
        "encoded_data = np.array(encoded_data)"
      ],
      "metadata": {
        "id": "6lLazT1q5R7w"
      },
      "execution_count": null,
      "outputs": []
    },
    {
      "cell_type": "code",
      "source": [
        "index =create_index_annoy(encoded_data)"
      ],
      "metadata": {
        "id": "QPwpaz5s5R7w"
      },
      "execution_count": null,
      "outputs": []
    },
    {
      "cell_type": "code",
      "source": [
        "query = ['What is the best way to achieve emotional self control?']"
      ],
      "metadata": {
        "id": "R6wuO3sS5R7x"
      },
      "execution_count": null,
      "outputs": []
    },
    {
      "cell_type": "code",
      "source": [
        "top_k_ques(query)"
      ],
      "metadata": {
        "colab": {
          "base_uri": "https://localhost:8080/"
        },
        "outputId": "67e25f1d-38f3-476c-8363-0b6240f749bd",
        "id": "7yujfus45R7x"
      },
      "execution_count": null,
      "outputs": [
        {
          "output_type": "stream",
          "name": "stdout",
          "text": [
            "\n",
            "\n",
            "\t ('How do I stop letting my emotions control me?', 0.7092652320861816)\n",
            "\t ('Can we control our feelings and emotions?', 0.8975867629051208)\n"
          ]
        }
      ]
    },
    {
      "cell_type": "code",
      "source": [
        "tdash_ques = ['Why its taking long time to answer my question in Quora? I have been asking since yesterday. I wonder why no one answer?', 'Why don\\'t people on Quora answer to my questions?']"
      ],
      "metadata": {
        "id": "KCXixk4l60sc"
      },
      "execution_count": null,
      "outputs": []
    },
    {
      "cell_type": "code",
      "source": [
        "new_tdash = {0: ['Why its taking long time to answer my question in Quora? I have been asking since yesterday. I wonder why no one answer?', '1'],\n",
        " 1: ['Why don\\'t people on Quora answer to my questions?', '1']} "
      ],
      "metadata": {
        "id": "8SCXfGa160sd"
      },
      "execution_count": null,
      "outputs": []
    },
    {
      "cell_type": "code",
      "source": [
        "encoded_data=model(tdash_ques)\n",
        "encoded_data = np.array(encoded_data)"
      ],
      "metadata": {
        "id": "IKoDC7Vr60sd"
      },
      "execution_count": null,
      "outputs": []
    },
    {
      "cell_type": "code",
      "source": [
        "index =create_index_annoy(encoded_data)"
      ],
      "metadata": {
        "id": "jIcqnLS-60sd"
      },
      "execution_count": null,
      "outputs": []
    },
    {
      "cell_type": "code",
      "source": [
        "query = ['Why are some questions not answered on Quora?']"
      ],
      "metadata": {
        "id": "QZ5rAm7S60sd"
      },
      "execution_count": null,
      "outputs": []
    },
    {
      "cell_type": "code",
      "source": [
        "top_k_ques(query)"
      ],
      "metadata": {
        "colab": {
          "base_uri": "https://localhost:8080/"
        },
        "outputId": "b6e84785-605d-447b-b4bf-6364983f5d42",
        "id": "ccG8j1ZE60sd"
      },
      "execution_count": null,
      "outputs": [
        {
          "output_type": "stream",
          "name": "stdout",
          "text": [
            "\n",
            "\n",
            "\t (\"Why don't people on Quora answer to my questions?\", 0.5344185829162598)\n",
            "\t ('Why its taking long time to answer my question in Quora? I have been asking since yesterday. I wonder why no one answer?', 0.6736072897911072)\n"
          ]
        }
      ]
    },
    {
      "cell_type": "code",
      "source": [
        "tdash_ques = ['What are the best places to visit in Kerala? What is the best way of transportation there?', 'What are the places to visit for a honeymoon in Kerala?']"
      ],
      "metadata": {
        "id": "LxYAjg5A61Av"
      },
      "execution_count": null,
      "outputs": []
    },
    {
      "cell_type": "code",
      "source": [
        "new_tdash = {0: ['What are the best places to visit in Kerala? What is the best way of transportation there?', '1'],\n",
        " 1: ['What are the places to visit for a honeymoon in Kerala?', '1']} "
      ],
      "metadata": {
        "id": "cmMpuhxi61Av"
      },
      "execution_count": null,
      "outputs": []
    },
    {
      "cell_type": "code",
      "source": [
        "encoded_data=model(tdash_ques)\n",
        "encoded_data = np.array(encoded_data)"
      ],
      "metadata": {
        "id": "ZsOdjq0461Av"
      },
      "execution_count": null,
      "outputs": []
    },
    {
      "cell_type": "code",
      "source": [
        "index =create_index_annoy(encoded_data)"
      ],
      "metadata": {
        "id": "EpWwUerL61Av"
      },
      "execution_count": null,
      "outputs": []
    },
    {
      "cell_type": "code",
      "source": [
        "query = ['What are some good beaches to visit in Kerala?']"
      ],
      "metadata": {
        "id": "Tdn6BFfi61Av"
      },
      "execution_count": null,
      "outputs": []
    },
    {
      "cell_type": "code",
      "source": [
        "top_k_ques(query)"
      ],
      "metadata": {
        "colab": {
          "base_uri": "https://localhost:8080/"
        },
        "outputId": "e7bae32a-f160-432a-93cb-c9b0cfa10ae9",
        "id": "dvZkWuPJ61Av"
      },
      "execution_count": null,
      "outputs": [
        {
          "output_type": "stream",
          "name": "stdout",
          "text": [
            "\n",
            "\n",
            "\t ('What are the places to visit for a honeymoon in Kerala?', 0.6292951107025146)\n",
            "\t ('What are the best places to visit in Kerala? What is the best way of transportation there?', 0.7279655337333679)\n"
          ]
        }
      ]
    },
    {
      "cell_type": "code",
      "source": [
        "tdash_ques = ['Why Indians are failing to place gold in Olympics or other international events?', 'Why India fails to get medals in Olympics?']"
      ],
      "metadata": {
        "id": "93LvcuD561Km"
      },
      "execution_count": null,
      "outputs": []
    },
    {
      "cell_type": "code",
      "source": [
        "new_tdash = {0: ['Why Indians are failing to place gold in Olympics or other international events?', '1'],\n",
        " 1: ['Why India fails to get medals in Olympics?', '1']} "
      ],
      "metadata": {
        "id": "Y8KrQMkI61Kn"
      },
      "execution_count": null,
      "outputs": []
    },
    {
      "cell_type": "code",
      "source": [
        "encoded_data=model(tdash_ques)\n",
        "encoded_data = np.array(encoded_data)"
      ],
      "metadata": {
        "id": "fIc1hfzy61Kn"
      },
      "execution_count": null,
      "outputs": []
    },
    {
      "cell_type": "code",
      "source": [
        "index =create_index_annoy(encoded_data)"
      ],
      "metadata": {
        "id": "3GEa3W6P61Kn"
      },
      "execution_count": null,
      "outputs": []
    },
    {
      "cell_type": "code",
      "source": [
        "query = ['With a population of over 1 billion, why does India fail to shine in the Olympics?']"
      ],
      "metadata": {
        "id": "bicttBNG61Kn"
      },
      "execution_count": null,
      "outputs": []
    },
    {
      "cell_type": "code",
      "source": [
        "top_k_ques(query)"
      ],
      "metadata": {
        "colab": {
          "base_uri": "https://localhost:8080/"
        },
        "outputId": "822d382a-3589-4b58-ba02-c238828ee5ea",
        "id": "yE7OWmPw61Kn"
      },
      "execution_count": null,
      "outputs": [
        {
          "output_type": "stream",
          "name": "stdout",
          "text": [
            "\n",
            "\n",
            "\t ('Why India fails to get medals in Olympics?', 0.5529614090919495)\n",
            "\t ('Why Indians are failing to place gold in Olympics or other international events?', 0.6709415316581726)\n"
          ]
        }
      ]
    },
    {
      "cell_type": "code",
      "source": [
        "tdash_ques = ['Is it possible to login to Facebook without password?', 'Is there any way to reset my Facebook personal upload email address?']"
      ],
      "metadata": {
        "id": "YsCPd8ZX61WK"
      },
      "execution_count": null,
      "outputs": []
    },
    {
      "cell_type": "code",
      "source": [
        "new_tdash = {0: ['Is it possible to login to Facebook without password?', '1'],\n",
        " 1: ['Is there any way to reset my Facebook personal upload email address?', '1']} "
      ],
      "metadata": {
        "id": "emEswyP661WK"
      },
      "execution_count": null,
      "outputs": []
    },
    {
      "cell_type": "code",
      "source": [
        "encoded_data=model(tdash_ques)\n",
        "encoded_data = np.array(encoded_data)"
      ],
      "metadata": {
        "id": "7DvfeEG_61WK"
      },
      "execution_count": null,
      "outputs": []
    },
    {
      "cell_type": "code",
      "source": [
        "index =create_index_annoy(encoded_data)"
      ],
      "metadata": {
        "id": "bjpDnJ0h61WL"
      },
      "execution_count": null,
      "outputs": []
    },
    {
      "cell_type": "code",
      "source": [
        "query = ['I forgot my Facebook email and password how can I log in?']"
      ],
      "metadata": {
        "id": "pG6KdAVS61WL"
      },
      "execution_count": null,
      "outputs": []
    },
    {
      "cell_type": "code",
      "source": [
        "top_k_ques(query)"
      ],
      "metadata": {
        "colab": {
          "base_uri": "https://localhost:8080/"
        },
        "outputId": "c4ecabcb-36d3-454d-9aaa-358cd92a63a6",
        "id": "yhahtrrI61WL"
      },
      "execution_count": null,
      "outputs": [
        {
          "output_type": "stream",
          "name": "stdout",
          "text": [
            "\n",
            "\n",
            "\t ('Is it possible to login to Facebook without password?', 0.8110687732696533)\n",
            "\t ('Is there any way to reset my Facebook personal upload email address?', 0.8526048064231873)\n"
          ]
        }
      ]
    },
    {
      "cell_type": "code",
      "source": [
        "tdash_ques = ['How do I trace the exact location of a mobile phone in India? What things are required for that', 'How can I trace phone calls from a cell phone?']"
      ],
      "metadata": {
        "id": "Wc0LI9H_9CD4"
      },
      "execution_count": null,
      "outputs": []
    },
    {
      "cell_type": "code",
      "source": [
        "new_tdash = {0: ['How do I trace the exact location of a mobile phone in India? What things are required for that', '1'],\n",
        " 1: ['How can I trace phone calls from a cell phone?', '1']} "
      ],
      "metadata": {
        "id": "iYM-WQCc9CD5"
      },
      "execution_count": null,
      "outputs": []
    },
    {
      "cell_type": "code",
      "source": [
        "encoded_data=model(tdash_ques)\n",
        "encoded_data = np.array(encoded_data)"
      ],
      "metadata": {
        "id": "2Cg5LU749CD5"
      },
      "execution_count": null,
      "outputs": []
    },
    {
      "cell_type": "code",
      "source": [
        "index =create_index_annoy(encoded_data)"
      ],
      "metadata": {
        "id": "Emcje13P9CD5"
      },
      "execution_count": null,
      "outputs": []
    },
    {
      "cell_type": "code",
      "source": [
        "query = ['How do I track a person basing on his mobile phone?']"
      ],
      "metadata": {
        "id": "kpS77ken9CD5"
      },
      "execution_count": null,
      "outputs": []
    },
    {
      "cell_type": "code",
      "source": [
        "top_k_ques(query)"
      ],
      "metadata": {
        "colab": {
          "base_uri": "https://localhost:8080/"
        },
        "outputId": "f06328d7-e755-4af9-bee6-fd2230652283",
        "id": "bDFxSjlr9CD5"
      },
      "execution_count": null,
      "outputs": [
        {
          "output_type": "stream",
          "name": "stdout",
          "text": [
            "\n",
            "\n",
            "\t ('How can I trace phone calls from a cell phone?', 0.7417287230491638)\n",
            "\t ('How do I trace the exact location of a mobile phone in India? What things are required for that', 0.7602880001068115)\n"
          ]
        }
      ]
    },
    {
      "cell_type": "code",
      "source": [
        "tdash_ques = ['Is the potential energy of vacuum energy, virtual particles and/or dark energy infinite?', 'If dark and vacuum energy are created with expansion is there potential energy that transforms into these types of energy with expansion?']"
      ],
      "metadata": {
        "id": "e-p8vGXy9CKv"
      },
      "execution_count": null,
      "outputs": []
    },
    {
      "cell_type": "code",
      "source": [
        "new_tdash = {0: ['Is the potential energy of vacuum energy, virtual particles and/or dark energy infinite?', '1'],\n",
        " 1: ['If dark and vacuum energy are created with expansion is there potential energy that transforms into these types of energy with expansion?', '1']} "
      ],
      "metadata": {
        "id": "1A2o2if89CKv"
      },
      "execution_count": null,
      "outputs": []
    },
    {
      "cell_type": "code",
      "source": [
        "encoded_data=model(tdash_ques)\n",
        "encoded_data = np.array(encoded_data)"
      ],
      "metadata": {
        "id": "sd2ckdOt9CKw"
      },
      "execution_count": null,
      "outputs": []
    },
    {
      "cell_type": "code",
      "source": [
        "index =create_index_annoy(encoded_data)"
      ],
      "metadata": {
        "id": "p0GH8iSu9CKw"
      },
      "execution_count": null,
      "outputs": []
    },
    {
      "cell_type": "code",
      "source": [
        "query = ['If universe expands and vacuum energy is created with it (with no limit),is there infinite potential energy/infinite vacuum energy that can be created?']"
      ],
      "metadata": {
        "id": "s-RjXnjs9CKw"
      },
      "execution_count": null,
      "outputs": []
    },
    {
      "cell_type": "code",
      "source": [
        "top_k_ques(query)"
      ],
      "metadata": {
        "colab": {
          "base_uri": "https://localhost:8080/"
        },
        "outputId": "fe29c4d2-cacd-4450-f323-a725bbcc4a1b",
        "id": "x-stfwLt9CKw"
      },
      "execution_count": null,
      "outputs": [
        {
          "output_type": "stream",
          "name": "stdout",
          "text": [
            "\n",
            "\n",
            "\t ('If dark and vacuum energy are created with expansion is there potential energy that transforms into these types of energy with expansion?', 0.7097910642623901)\n",
            "\t ('Is the potential energy of vacuum energy, virtual particles and/or dark energy infinite?', 0.7651801705360413)\n"
          ]
        }
      ]
    },
    {
      "cell_type": "code",
      "source": [
        "tdash_ques = ['What are the safety precautions on handling shotguns proposed by the NRA in Utah?', 'What are the safety precautions on handling shotguns proposed by the NRA in Kentucky?']"
      ],
      "metadata": {
        "id": "8HwVMsw19Cj-"
      },
      "execution_count": null,
      "outputs": []
    },
    {
      "cell_type": "code",
      "source": [
        "new_tdash = {0: ['What are the safety precautions on handling shotguns proposed by the NRA in Utah?', '1'],\n",
        " 1: ['What are the safety precautions on handling shotguns proposed by the NRA in Kentucky?', '1']} "
      ],
      "metadata": {
        "id": "LLUqjBqT9Cj_"
      },
      "execution_count": null,
      "outputs": []
    },
    {
      "cell_type": "code",
      "source": [
        "encoded_data=model(tdash_ques)\n",
        "encoded_data = np.array(encoded_data)"
      ],
      "metadata": {
        "id": "4sbdNYTG9Cj_"
      },
      "execution_count": null,
      "outputs": []
    },
    {
      "cell_type": "code",
      "source": [
        "index =create_index_annoy(encoded_data)"
      ],
      "metadata": {
        "id": "IPCZPguH9Cj_"
      },
      "execution_count": null,
      "outputs": []
    },
    {
      "cell_type": "code",
      "source": [
        "query = ['What are the safety precautions on handling shotguns proposed by the NRA in New Hampshire?']"
      ],
      "metadata": {
        "id": "csbe6cH99Cj_"
      },
      "execution_count": null,
      "outputs": []
    },
    {
      "cell_type": "code",
      "source": [
        "top_k_ques(query)"
      ],
      "metadata": {
        "colab": {
          "base_uri": "https://localhost:8080/"
        },
        "outputId": "25ff2b2e-9c5e-4dc1-cbb0-d458b765e354",
        "id": "Iuy5oYeq9Cj_"
      },
      "execution_count": null,
      "outputs": [
        {
          "output_type": "stream",
          "name": "stdout",
          "text": [
            "\n",
            "\n",
            "\t ('What are the safety precautions on handling shotguns proposed by the NRA in Utah?', 0.39940765500068665)\n",
            "\t ('What are the safety precautions on handling shotguns proposed by the NRA in Kentucky?', 0.4198141396045685)\n"
          ]
        }
      ]
    },
    {
      "cell_type": "code",
      "source": [
        "tdash_ques = ['How do I find whether my girl friend is cheating on me?', 'How do I know my partner is cheating on me?']"
      ],
      "metadata": {
        "id": "I85kShDA9CyG"
      },
      "execution_count": null,
      "outputs": []
    },
    {
      "cell_type": "code",
      "source": [
        "new_tdash = {0: ['How do I find whether my girl friend is cheating on me?', '1'],\n",
        " 1: ['How do I know my partner is cheating on me?', '1']} "
      ],
      "metadata": {
        "id": "pbW_slBT9CyG"
      },
      "execution_count": null,
      "outputs": []
    },
    {
      "cell_type": "code",
      "source": [
        "encoded_data=model(tdash_ques)\n",
        "encoded_data = np.array(encoded_data)"
      ],
      "metadata": {
        "id": "y7ldUJdl9CyH"
      },
      "execution_count": null,
      "outputs": []
    },
    {
      "cell_type": "code",
      "source": [
        "index =create_index_annoy(encoded_data)"
      ],
      "metadata": {
        "id": "fScOtCE69CyH"
      },
      "execution_count": null,
      "outputs": []
    },
    {
      "cell_type": "code",
      "source": [
        "query = ['How do I know my partner is in another relationship?']"
      ],
      "metadata": {
        "id": "I_ccQTJ69CyH"
      },
      "execution_count": null,
      "outputs": []
    },
    {
      "cell_type": "code",
      "source": [
        "top_k_ques(query)"
      ],
      "metadata": {
        "colab": {
          "base_uri": "https://localhost:8080/"
        },
        "outputId": "52d40361-be06-4c87-ecbd-69fadc4b71e6",
        "id": "AhZNJPFs9CyH"
      },
      "execution_count": null,
      "outputs": [
        {
          "output_type": "stream",
          "name": "stdout",
          "text": [
            "\n",
            "\n",
            "\t ('How do I know my partner is cheating on me?', 0.6522311568260193)\n",
            "\t ('How do I find whether my girl friend is cheating on me?', 0.7995787858963013)\n"
          ]
        }
      ]
    }
  ]
}