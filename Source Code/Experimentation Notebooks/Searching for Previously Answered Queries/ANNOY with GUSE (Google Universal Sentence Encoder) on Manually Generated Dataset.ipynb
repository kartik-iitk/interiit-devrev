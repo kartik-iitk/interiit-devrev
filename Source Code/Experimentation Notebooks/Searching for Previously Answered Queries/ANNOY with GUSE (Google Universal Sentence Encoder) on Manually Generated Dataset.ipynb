{
  "nbformat": 4,
  "nbformat_minor": 0,
  "metadata": {
    "colab": {
      "provenance": []
    },
    "kernelspec": {
      "name": "python3",
      "display_name": "Python 3"
    },
    "language_info": {
      "name": "python"
    },
    "accelerator": "GPU",
    "gpuClass": "standard"
  },
  "cells": [
    {
      "cell_type": "markdown",
      "source": [
        "Run in order:\n",
        "1. Prereqs\n",
        "2. Loading Dataset and model\n",
        "3. In \"For any Theme\" write your preferred theme in (theme =\"\")\n",
        "4. Run rest of the cells in the \"For any theme\" block\n",
        "5. Write your query in the Analysis sub-block"
      ],
      "metadata": {
        "id": "RFnByEiMuhOB"
      }
    },
    {
      "cell_type": "markdown",
      "source": [
        "# Prereqs\n"
      ],
      "metadata": {
        "id": "1qbC2YGmbf6r"
      }
    },
    {
      "cell_type": "code",
      "source": [
        "!pip install transformers faiss-cpu"
      ],
      "metadata": {
        "colab": {
          "base_uri": "https://localhost:8080/"
        },
        "id": "sptWH-dR2vn6",
        "outputId": "186f9e11-8f55-4d15-a131-000bb42e6ba3"
      },
      "execution_count": null,
      "outputs": [
        {
          "output_type": "stream",
          "name": "stdout",
          "text": [
            "Looking in indexes: https://pypi.org/simple, https://us-python.pkg.dev/colab-wheels/public/simple/\n",
            "Collecting transformers\n",
            "  Downloading transformers-4.26.0-py3-none-any.whl (6.3 MB)\n",
            "\u001b[2K     \u001b[90m━━━━━━━━━━━━━━━━━━━━━━━━━━━━━━━━━━━━━━━━\u001b[0m \u001b[32m6.3/6.3 MB\u001b[0m \u001b[31m80.8 MB/s\u001b[0m eta \u001b[36m0:00:00\u001b[0m\n",
            "\u001b[?25hCollecting faiss-cpu\n",
            "  Downloading faiss_cpu-1.7.3-cp38-cp38-manylinux_2_17_x86_64.manylinux2014_x86_64.whl (17.0 MB)\n",
            "\u001b[2K     \u001b[90m━━━━━━━━━━━━━━━━━━━━━━━━━━━━━━━━━━━━━━━━\u001b[0m \u001b[32m17.0/17.0 MB\u001b[0m \u001b[31m44.5 MB/s\u001b[0m eta \u001b[36m0:00:00\u001b[0m\n",
            "\u001b[?25hCollecting tokenizers!=0.11.3,<0.14,>=0.11.1\n",
            "  Downloading tokenizers-0.13.2-cp38-cp38-manylinux_2_17_x86_64.manylinux2014_x86_64.whl (7.6 MB)\n",
            "\u001b[2K     \u001b[90m━━━━━━━━━━━━━━━━━━━━━━━━━━━━━━━━━━━━━━━━\u001b[0m \u001b[32m7.6/7.6 MB\u001b[0m \u001b[31m114.4 MB/s\u001b[0m eta \u001b[36m0:00:00\u001b[0m\n",
            "\u001b[?25hRequirement already satisfied: pyyaml>=5.1 in /usr/local/lib/python3.8/dist-packages (from transformers) (6.0)\n",
            "Requirement already satisfied: packaging>=20.0 in /usr/local/lib/python3.8/dist-packages (from transformers) (23.0)\n",
            "Requirement already satisfied: filelock in /usr/local/lib/python3.8/dist-packages (from transformers) (3.9.0)\n",
            "Requirement already satisfied: tqdm>=4.27 in /usr/local/lib/python3.8/dist-packages (from transformers) (4.64.1)\n",
            "Requirement already satisfied: requests in /usr/local/lib/python3.8/dist-packages (from transformers) (2.25.1)\n",
            "Requirement already satisfied: regex!=2019.12.17 in /usr/local/lib/python3.8/dist-packages (from transformers) (2022.6.2)\n",
            "Collecting huggingface-hub<1.0,>=0.11.0\n",
            "  Downloading huggingface_hub-0.12.0-py3-none-any.whl (190 kB)\n",
            "\u001b[2K     \u001b[90m━━━━━━━━━━━━━━━━━━━━━━━━━━━━━━━━━━━━━━\u001b[0m \u001b[32m190.3/190.3 KB\u001b[0m \u001b[31m25.1 MB/s\u001b[0m eta \u001b[36m0:00:00\u001b[0m\n",
            "\u001b[?25hRequirement already satisfied: numpy>=1.17 in /usr/local/lib/python3.8/dist-packages (from transformers) (1.21.6)\n",
            "Requirement already satisfied: typing-extensions>=3.7.4.3 in /usr/local/lib/python3.8/dist-packages (from huggingface-hub<1.0,>=0.11.0->transformers) (4.4.0)\n",
            "Requirement already satisfied: urllib3<1.27,>=1.21.1 in /usr/local/lib/python3.8/dist-packages (from requests->transformers) (1.24.3)\n",
            "Requirement already satisfied: chardet<5,>=3.0.2 in /usr/local/lib/python3.8/dist-packages (from requests->transformers) (4.0.0)\n",
            "Requirement already satisfied: certifi>=2017.4.17 in /usr/local/lib/python3.8/dist-packages (from requests->transformers) (2022.12.7)\n",
            "Requirement already satisfied: idna<3,>=2.5 in /usr/local/lib/python3.8/dist-packages (from requests->transformers) (2.10)\n",
            "Installing collected packages: tokenizers, faiss-cpu, huggingface-hub, transformers\n",
            "Successfully installed faiss-cpu-1.7.3 huggingface-hub-0.12.0 tokenizers-0.13.2 transformers-4.26.0\n"
          ]
        }
      ]
    },
    {
      "cell_type": "code",
      "source": [
        "! pip install annoy"
      ],
      "metadata": {
        "colab": {
          "base_uri": "https://localhost:8080/"
        },
        "id": "GBz-njCVzNqJ",
        "outputId": "400b5249-8ff3-4ded-df28-e3e85db6837a"
      },
      "execution_count": null,
      "outputs": [
        {
          "output_type": "stream",
          "name": "stdout",
          "text": [
            "Looking in indexes: https://pypi.org/simple, https://us-python.pkg.dev/colab-wheels/public/simple/\n",
            "Collecting annoy\n",
            "  Downloading annoy-1.17.1.tar.gz (647 kB)\n",
            "\u001b[2K     \u001b[90m━━━━━━━━━━━━━━━━━━━━━━━━━━━━━━━━━━━━━━\u001b[0m \u001b[32m648.0/648.0 KB\u001b[0m \u001b[31m18.2 MB/s\u001b[0m eta \u001b[36m0:00:00\u001b[0m\n",
            "\u001b[?25h  Preparing metadata (setup.py) ... \u001b[?25l\u001b[?25hdone\n",
            "Building wheels for collected packages: annoy\n",
            "  Building wheel for annoy (setup.py) ... \u001b[?25l\u001b[?25hdone\n",
            "  Created wheel for annoy: filename=annoy-1.17.1-cp38-cp38-linux_x86_64.whl size=581429 sha256=c64364b42826893163e4fe0516dd5e2d636d328686f637bb2f43be7c9d51835f\n",
            "  Stored in directory: /root/.cache/pip/wheels/f9/93/19/30511c4a9ae6b4937455a134c34a39e13943e2c6f46fcd2ed2\n",
            "Successfully built annoy\n",
            "Installing collected packages: annoy\n",
            "Successfully installed annoy-1.17.1\n"
          ]
        }
      ]
    },
    {
      "cell_type": "code",
      "source": [
        "import csv\n",
        "import requests\n",
        "import pandas as pd"
      ],
      "metadata": {
        "id": "5uC72KG7zvnh"
      },
      "execution_count": null,
      "outputs": []
    },
    {
      "cell_type": "code",
      "source": [
        "import time"
      ],
      "metadata": {
        "id": "o8DEJYT-kTFv"
      },
      "execution_count": null,
      "outputs": []
    },
    {
      "cell_type": "code",
      "source": [
        "from transformers import AutoModel, AutoTokenizer\n",
        "from pprint import pprint\n",
        "\n",
        "import faiss\n",
        "import annoy\n",
        "import matplotlib.pyplot as plt\n",
        "import tensorflow as tf\n",
        "import tensorflow_hub as hub\n",
        "import torch"
      ],
      "metadata": {
        "id": "YMvoph9m2zJ9"
      },
      "execution_count": null,
      "outputs": []
    },
    {
      "cell_type": "code",
      "source": [
        "import numpy as np "
      ],
      "metadata": {
        "id": "Vct4JsuIjTsf"
      },
      "execution_count": null,
      "outputs": []
    },
    {
      "cell_type": "markdown",
      "source": [
        "# Loading dataset and model"
      ],
      "metadata": {
        "id": "6amBd6bYboAn"
      }
    },
    {
      "cell_type": "code",
      "source": [
        "import csv\n",
        "import requests\n",
        "\n",
        "# load training dataset\n",
        "def load_data():\n",
        "    CSV_URL = 'https://drive.google.com/u/0/uc?id=1Z-yb752A3o7b9dqrGt24XU0sl53FVqya&export=download'\n",
        "\n",
        "    with requests.Session() as s:\n",
        "        download = s.get(CSV_URL)\n",
        "        decoded_content = download.content.decode('utf-8')\n",
        "        cr = csv.reader(decoded_content.splitlines(), delimiter=',')\n",
        "        train_data = list(cr)\n",
        "\n",
        "    print(f\"Number of examples = {len(train_data)}\")\n",
        "    ans, noans = 0, 0\n",
        "    for x in train_data:\n",
        "        if x[4] == 'False':\n",
        "            noans += 1\n",
        "        else:\n",
        "            ans += 1\n",
        "    print(f\"\\tAnswerable questions = {ans}\")\n",
        "    print(f\"\\tNon-Answerable questions = {noans}\\n\")\n",
        "    print(\"Examples:\")\n",
        "    for i in [0, 1000, 1300]:\n",
        "        print(' | '.join(train_data[i][:2]), ' | ', train_data[i][2][:20] + '...', ' | ', ' | '.join(train_data[i][3:]))\n",
        "    return train_data"
      ],
      "metadata": {
        "id": "shkz-50-SpES"
      },
      "execution_count": null,
      "outputs": []
    },
    {
      "cell_type": "code",
      "source": [
        "def load_theme_wise_data(train_data):\n",
        "    theme_wise_data = {}\n",
        "    for x in train_data[1:]:\n",
        "        if x[1] not in theme_wise_data:\n",
        "            theme_wise_data[x[1]] = {\n",
        "                'para': [],\n",
        "                'ques': [],\n",
        "                'ans': []\n",
        "            }\n",
        "        if x[2] not in theme_wise_data[x[1]]['para']:\n",
        "            theme_wise_data[x[1]]['para'].append(x[2])\n",
        "        theme_wise_data[x[1]]['ques'].append(x[3])\n",
        "        # ans contains a list -> [Para_Number, Answer_possible, Answer_text, Answer_start]\n",
        "        theme_wise_data[x[1]]['ans'].append([theme_wise_data[x[1]]['para'].index(x[2])] + x[4:])\n",
        "    print(f'\\nTotal {len(theme_wise_data)} themes present.')\n",
        "    return theme_wise_data"
      ],
      "metadata": {
        "id": "u7dImHQMSqAQ"
      },
      "execution_count": null,
      "outputs": []
    },
    {
      "cell_type": "code",
      "source": [
        "module_url = \"https://tfhub.dev/google/universal-sentence-encoder-qa/3\"\n",
        "model = hub.load(module_url)"
      ],
      "metadata": {
        "id": "8iiWzFoY3Fej"
      },
      "execution_count": null,
      "outputs": []
    },
    {
      "cell_type": "code",
      "source": [
        "metric = faiss.METRIC_INNER_PRODUCT "
      ],
      "metadata": {
        "id": "l60SrKUQVQf8"
      },
      "execution_count": null,
      "outputs": []
    },
    {
      "cell_type": "code",
      "source": [
        "train_data = load_data()\n",
        "theme_wise_data = load_theme_wise_data(train_data)"
      ],
      "metadata": {
        "colab": {
          "base_uri": "https://localhost:8080/"
        },
        "id": "5GZbjVSASzjs",
        "outputId": "4162ec09-ab8b-4423-f12a-a783086fb4e1"
      },
      "execution_count": null,
      "outputs": [
        {
          "output_type": "stream",
          "name": "stdout",
          "text": [
            "Number of examples = 75056\n",
            "\tAnswerable questions = 50126\n",
            "\tNon-Answerable questions = 24930\n",
            "\n",
            "Examples:\n",
            " | Theme  |  Paragraph...  |  Question | Answer_possible | Answer_text | Answer_start\n",
            "1430 | Frédéric_Chopin  |  Some modern commenta...  |  Who said Chopin's works were modeled after Bach, Beethoven, Schubert and Field? | True | ['Richard Taruskin'] | [543]\n",
            "2196 | The_Legend_of_Zelda:_Twilight_Princess  |  Twilight Princess ta...  |  Who releases Bulbins from the Realm of Twilight? | False | [] | []\n",
            "\n",
            "Total 361 themes present.\n"
          ]
        }
      ]
    },
    {
      "cell_type": "markdown",
      "source": [
        "## Creating list of questions for a particular theme"
      ],
      "metadata": {
        "id": "fcDvC2-geDMB"
      }
    },
    {
      "cell_type": "code",
      "source": [
        "def ques_ans(theme):\n",
        "  t_ques = list(theme_wise_data[theme]['ques'])\n",
        "  t_ans = list(theme_wise_data[theme]['ans'])\n",
        "  t_ans = [i[2][2:-2] for i in t_ans]\n",
        "  t = [[i, j] for i,j in zip(t_ques , t_ans )]\n",
        "  new_t = {idx:[t[idx][0],t[idx][1]] for idx in range(len(t))}\n",
        "  return t_ques, new_t"
      ],
      "metadata": {
        "id": "dK6M9LCfcOB4"
      },
      "execution_count": null,
      "outputs": []
    },
    {
      "cell_type": "markdown",
      "source": [
        "## Creating Embeddings and similarity scores"
      ],
      "metadata": {
        "id": "31w_tTIReFV_"
      }
    },
    {
      "cell_type": "code",
      "source": [
        "def embed_ques(t_ques):\n",
        "  encoded_data=model.signatures['question_encoder'](tf.constant(t_ques))['outputs']\n",
        "  encoded_data=encoded_data.numpy()\n",
        "  encoded_data = np.array(encoded_data)\n",
        "  index =create_index_annoy(encoded_data)\n",
        "  return index"
      ],
      "metadata": {
        "id": "JK-1JDwUclRa"
      },
      "execution_count": null,
      "outputs": []
    },
    {
      "cell_type": "code",
      "source": [
        "def create_index_annoy(embeddings, vector_length = 512, metric = 'angular', num_trees = 100):\n",
        "  annoy_index = annoy.AnnoyIndex(vector_length, metric=metric)\n",
        "  for i in range(len(embeddings)):\n",
        "    annoy_index.add_item(i, embeddings[i])\n",
        "  annoy_index.build(n_trees = num_trees)\n",
        "  return annoy_index"
      ],
      "metadata": {
        "id": "Yg5kAWauclX4"
      },
      "execution_count": null,
      "outputs": []
    },
    {
      "cell_type": "code",
      "source": [
        "def top_k_ques(query):\n",
        "    query_vector = model.signatures['question_encoder'](tf.constant(query))['outputs']\n",
        "    query_vector =  query_vector.numpy()\n",
        "    results = find_similar_annoy(index,query_vector[0])\n",
        "    for result in results:\n",
        "        print('\\t',result)"
      ],
      "metadata": {
        "id": "13N3C4MJBEpe"
      },
      "execution_count": null,
      "outputs": []
    },
    {
      "cell_type": "markdown",
      "source": [
        "## Finding the next k similar questions for a given query "
      ],
      "metadata": {
        "id": "kWf9J56SeMAl"
      }
    },
    {
      "cell_type": "code",
      "source": [
        "def find_similar_annoy(index ,embedding, num_matches=5):\n",
        "  '''Finds similar items to a given embedding in the ANN index'''\n",
        "  \n",
        "  ids = index.get_nns_by_vector(\n",
        "  embedding, num_matches, search_k=-1, include_distances=True)\n",
        "  # results =  [fetch_question_info(idx) for idx in ids]\n",
        "  # fetch_q/uestion_info(ids)\n",
        "  score = ids[1]\n",
        "  questions = [new_t[id][0] for id in ids[0]]\n",
        "  return [(a[0], a[1]) for a in zip(questions, score)]"
      ],
      "metadata": {
        "id": "fMtafmeAcpgR"
      },
      "execution_count": null,
      "outputs": []
    },
    {
      "cell_type": "code",
      "source": [
        "def print_sim_query(query, index):\n",
        "  query_vector = model.signatures['question_encoder'](tf.constant(query))['outputs']\n",
        "  query_vector =  query_vector.numpy()\n",
        "  results = find_similar_annoy(index,query_vector[0])\n",
        "\n",
        "  print(\"\\n\")\n",
        "  for result in results:\n",
        "      print('\\t',result)"
      ],
      "metadata": {
        "id": "oAwdOjX53qWg"
      },
      "execution_count": null,
      "outputs": []
    },
    {
      "cell_type": "markdown",
      "source": [
        "# Theme 1 - Beyonce"
      ],
      "metadata": {
        "id": "JXYrP77Ff8my"
      }
    },
    {
      "cell_type": "code",
      "source": [
        "theme = 'Beyoncé'"
      ],
      "metadata": {
        "id": "oQTS7BfqtbTE"
      },
      "execution_count": null,
      "outputs": []
    },
    {
      "cell_type": "code",
      "source": [
        "t_ques, new_t = ques_ans(theme)"
      ],
      "metadata": {
        "id": "eJRMuRoS5VSG"
      },
      "execution_count": null,
      "outputs": []
    },
    {
      "cell_type": "code",
      "source": [
        "index = embed_ques(t_ques)"
      ],
      "metadata": {
        "id": "5Fa-CPd25Fq2"
      },
      "execution_count": null,
      "outputs": []
    },
    {
      "cell_type": "markdown",
      "source": [
        "## Analysis"
      ],
      "metadata": {
        "id": "uiI3HyNxczum"
      }
    },
    {
      "cell_type": "code",
      "source": [
        "query= [\"What was the name of Beyoncé's last solo album?\"]\n",
        "print_sim_query(query, index)"
      ],
      "metadata": {
        "colab": {
          "base_uri": "https://localhost:8080/"
        },
        "id": "yWXSudVx32s3",
        "outputId": "673ced6b-1669-474d-c61d-d125e77b2f8f"
      },
      "execution_count": null,
      "outputs": [
        {
          "output_type": "stream",
          "name": "stdout",
          "text": [
            "\n",
            "\n",
            "\t (\"What was the name of Beyoncé's second solo album?\", 0.2723705768585205)\n",
            "\t (\"What was the name of Beyoncé's first solo album?\", 0.2802713215351105)\n",
            "\t (\"What is the name of Beyoncé's second album?\", 0.4083942174911499)\n",
            "\t (\"What is the name of Beyoncé's fourth studio album?\", 0.5114314556121826)\n",
            "\t ('What solo album did Beyonce release in 2003?', 0.602519690990448)\n"
          ]
        }
      ]
    },
    {
      "cell_type": "code",
      "source": [
        "query= [\"How has this foundation not changed in recent years\"]\n",
        "print_sim_query(query, index)"
      ],
      "metadata": {
        "colab": {
          "base_uri": "https://localhost:8080/"
        },
        "id": "2x7RNo5ldpK7",
        "outputId": "36211f02-a03e-4277-cedc-dce1526bf0af"
      },
      "execution_count": null,
      "outputs": [
        {
          "output_type": "stream",
          "name": "stdout",
          "text": [
            "\n",
            "\n",
            "\t ('How has this foundation changed in recent years?', 0.3281075656414032)\n",
            "\t ('Who inspired this hiatus?', 0.8138259649276733)\n",
            "\t ('What do other critics claim?', 0.8885858058929443)\n",
            "\t ('The Demand a Plan video campaign followed what tragic event?', 0.9217267036437988)\n",
            "\t (\"Who's death caused this protest?\", 0.9632421731948853)\n"
          ]
        }
      ]
    },
    {
      "cell_type": "code",
      "source": [
        "query= [\"What platform for crowdfunding was used in the concert?\"]\n",
        "print_sim_query(query, index)"
      ],
      "metadata": {
        "colab": {
          "base_uri": "https://localhost:8080/"
        },
        "id": "hA2CbG_YgoZD",
        "outputId": "a2d93af6-4792-4203-d595-7c7b4b7e73f5"
      },
      "execution_count": null,
      "outputs": [
        {
          "output_type": "stream",
          "name": "stdout",
          "text": [
            "\n",
            "\n",
            "\t ('What crowdfunding platform was used in the concert?', 0.23780225217342377)\n",
            "\t ('What kind of platform was the song released?', 0.8722350001335144)\n",
            "\t ('What had to be set in developing funding?', 1.05350661277771)\n",
            "\t ('On June 1 , 2013 where was the concert held for \"a Chime for Change\"?', 1.0759516954421997)\n",
            "\t ('What campaign did she contribute to?', 1.0950654745101929)\n"
          ]
        }
      ]
    },
    {
      "cell_type": "code",
      "source": [
        "query= [\"What criteria have to be specified while developing funding?\"]\n",
        "print_sim_query(query, index)"
      ],
      "metadata": {
        "colab": {
          "base_uri": "https://localhost:8080/"
        },
        "id": "5xCjaSe_hjun",
        "outputId": "1bc86869-15f2-4a32-b9de-a8895acfa3ba"
      },
      "execution_count": null,
      "outputs": [
        {
          "output_type": "stream",
          "name": "stdout",
          "text": [
            "\n",
            "\n",
            "\t ('What had to be set in developing funding?', 0.753717303276062)\n",
            "\t ('What crowdfunding platform was used in the concert?', 1.1570402383804321)\n",
            "\t ('What did she agree to do for 50 million dollars in 2012?', 1.2295639514923096)\n",
            "\t ('What campaign did she contribute to?', 1.2316741943359375)\n",
            "\t ('What does she get credits for in her music?', 1.2413731813430786)\n"
          ]
        }
      ]
    },
    {
      "cell_type": "code",
      "source": [
        "query= [\"In 2005, what did Beyonce and Rowland find?\"]\n",
        "print_sim_query(query, index)"
      ],
      "metadata": {
        "colab": {
          "base_uri": "https://localhost:8080/"
        },
        "id": "ZxkDFPw2kUb5",
        "outputId": "6c77ecf5-d830-4577-ad61-974a494d0815"
      },
      "execution_count": null,
      "outputs": [
        {
          "output_type": "stream",
          "name": "stdout",
          "text": [
            "\n",
            "\n",
            "\t ('What did Beyonce and Rowland found in 2005?', 0.26844704151153564)\n",
            "\t ('Who did Beyoncé and Parkwood Entertainment partner with in October 2014?', 0.8748180866241455)\n",
            "\t ('Jay Z and Beyonce attended which event together in August of 2011?', 0.8915486335754395)\n",
            "\t ('What type of accessory company did Beyonce partner with in 2005?', 0.9225267171859741)\n",
            "\t ('What did Beyonce sign in 2013?', 0.9349269866943359)\n"
          ]
        }
      ]
    },
    {
      "cell_type": "code",
      "source": [
        "query= [\"With what kind of accessory business did Beyonce collaborate in 2005?\"]\n",
        "print_sim_query(query, index)"
      ],
      "metadata": {
        "colab": {
          "base_uri": "https://localhost:8080/"
        },
        "id": "fGyYpFL3ktzB",
        "outputId": "df23c9f0-a074-403c-ba3a-23d58c86a308"
      },
      "execution_count": null,
      "outputs": [
        {
          "output_type": "stream",
          "name": "stdout",
          "text": [
            "\n",
            "\n",
            "\t ('What type of accessory company did Beyonce partner with in 2005?', 0.4395388662815094)\n",
            "\t ('What company did Beyoncé get together with in 2005 to add shoes to her fashions?', 0.7291938662528992)\n",
            "\t ('After her second solo album, what other entertainment venture did Beyonce explore?', 0.7702184915542603)\n",
            "\t (\"Beyonce's mother worked in what industry?\", 0.8038763999938965)\n",
            "\t ('What did Beyonce sign in 2013?', 0.8232850432395935)\n"
          ]
        }
      ]
    },
    {
      "cell_type": "code",
      "source": [
        "query= [\"What percentage of the new business is owned by Beyonce?\"]\n",
        "print_sim_query(query, index)"
      ],
      "metadata": {
        "colab": {
          "base_uri": "https://localhost:8080/"
        },
        "id": "zblpcH06kkaP",
        "outputId": "0a81b8b5-279c-4736-c246-ff3c325ca2bd"
      },
      "execution_count": null,
      "outputs": [
        {
          "output_type": "stream",
          "name": "stdout",
          "text": [
            "\n",
            "\n",
            "\t (\"What is Beyonce's percentage of ownership in the new venture?\", 0.46717506647109985)\n",
            "\t ('Totaling worldwide, how many records as Beyonce sold?', 0.7950239777565002)\n",
            "\t ('How many records has Beyoncé sold in the United States?', 0.8102226853370667)\n",
            "\t ('How many records has Beyonce sold in her 19 year career?', 0.8104107975959778)\n",
            "\t ('How many records has Beyoncé sold throughout the world?', 0.8281041383743286)\n"
          ]
        }
      ]
    },
    {
      "cell_type": "markdown",
      "source": [
        "# Theme 2 - Frédéric_Chopin"
      ],
      "metadata": {
        "id": "FN-LDJ6EfJZ9"
      }
    },
    {
      "cell_type": "code",
      "source": [
        "theme = 'Frédéric_Chopin'"
      ],
      "metadata": {
        "id": "8p54DLkjtjcs"
      },
      "execution_count": null,
      "outputs": []
    },
    {
      "cell_type": "code",
      "source": [
        "t_ques, new_t = ques_ans(theme)"
      ],
      "metadata": {
        "id": "wrNEst9O6chK"
      },
      "execution_count": null,
      "outputs": []
    },
    {
      "cell_type": "code",
      "source": [
        "index = embed_ques(t_ques)"
      ],
      "metadata": {
        "id": "odl-6N1-6chL"
      },
      "execution_count": null,
      "outputs": []
    },
    {
      "cell_type": "markdown",
      "source": [
        "## Analysis"
      ],
      "metadata": {
        "id": "--qVHmvkgqm8"
      }
    },
    {
      "cell_type": "code",
      "source": [
        "query= [\"How much did Chopin's monument and funeral cost?\"]\n",
        "print_sim_query(query, index)"
      ],
      "metadata": {
        "colab": {
          "base_uri": "https://localhost:8080/"
        },
        "id": "AKD0rw87fH0j",
        "outputId": "6aa9aaf1-f176-479a-b4cf-4508dbb877f2"
      },
      "execution_count": null,
      "outputs": [
        {
          "output_type": "stream",
          "name": "stdout",
          "text": [
            "\n",
            "\n",
            "\t (\"How much did Chopin's funeral and monument cost?\", 0.081990547478199)\n",
            "\t (\"How much did Chopin's funeral cost?\", 0.37547066807746887)\n",
            "\t (\"Where was Chopin's funeral held?\", 0.8660853505134583)\n",
            "\t (\"How long was Chopin's funeral delayed?\", 0.8949658274650574)\n",
            "\t ('Which cemetery was Chopin buried in?', 0.9271509647369385)\n"
          ]
        }
      ]
    },
    {
      "cell_type": "code",
      "source": [
        "query= [\"By how long was Chopin's funeral delayed?\"]\n",
        "print_sim_query(query, index)"
      ],
      "metadata": {
        "colab": {
          "base_uri": "https://localhost:8080/"
        },
        "id": "lhi7NM-qiBKN",
        "outputId": "09b1e5f7-9b15-4bd0-bbb7-44ab87a6e723"
      },
      "execution_count": null,
      "outputs": [
        {
          "output_type": "stream",
          "name": "stdout",
          "text": [
            "\n",
            "\n",
            "\t (\"How long was Chopin's funeral delayed?\", 0.13632582128047943)\n",
            "\t (\"Where was Chopin's funeral held?\", 0.8291794061660767)\n",
            "\t (\"How much did Chopin's funeral cost?\", 0.835708737373352)\n",
            "\t (\"Who was the organist at Chopin's funeral?\", 0.8773708343505859)\n",
            "\t (\"What song was sung at Chopin's funeral?\", 0.8781919479370117)\n"
          ]
        }
      ]
    },
    {
      "cell_type": "code",
      "source": [
        "query= [\"Who played the organ at Chopin's funeral?\"]\n",
        "print_sim_query(query, index)"
      ],
      "metadata": {
        "colab": {
          "base_uri": "https://localhost:8080/"
        },
        "id": "OHO3ypf_FYNg",
        "outputId": "2e5cd73b-20e2-4703-8638-053fb2cad231"
      },
      "execution_count": null,
      "outputs": [
        {
          "output_type": "stream",
          "name": "stdout",
          "text": [
            "\n",
            "\n",
            "\t (\"Who was the organist at Chopin's funeral?\", 0.4385497272014618)\n",
            "\t ('At whose funeral did Chopin play in 1839?', 0.6213280558586121)\n",
            "\t (\"Who led Chopin's funeral procession?\", 0.6579896807670593)\n",
            "\t (\"What song was sung at Chopin's funeral?\", 0.675342321395874)\n",
            "\t (\"What instrument did Chopin play at  Adolphe Nourrit's funeral?\", 0.6897367238998413)\n"
          ]
        }
      ]
    },
    {
      "cell_type": "code",
      "source": [
        "query= [\"Which sonata is worthy of Brahms as per historians?\"]\n",
        "print_sim_query(query, index)"
      ],
      "metadata": {
        "colab": {
          "base_uri": "https://localhost:8080/"
        },
        "id": "vaC0h5UzReiP",
        "outputId": "51e8f89b-376c-45e0-868f-ba90b13557e3"
      },
      "execution_count": null,
      "outputs": [
        {
          "output_type": "stream",
          "name": "stdout",
          "text": [
            "\n",
            "\n",
            "\t ('According to music historians, which sonata is similar to German tradition and worthy of Brahms?', 0.7455739974975586)\n",
            "\t (\"What piece of Bach's did Chopin take inspiration for his preludes?\", 0.8156876564025879)\n",
            "\t ('What piece did Chopin dedicate to Schumann?', 0.8419543504714966)\n",
            "\t ('What piece did Chopin dedicate to Liszt?', 0.8464268445968628)\n",
            "\t ('What piece did Chopin compose in 1844?', 0.8759956955909729)\n"
          ]
        }
      ]
    },
    {
      "cell_type": "code",
      "source": [
        "query= [\"When claiming Chopin's nationalism was overrated, what 2 dancers were referenced ? \"]\n",
        "print_sim_query(query, index)"
      ],
      "metadata": {
        "colab": {
          "base_uri": "https://localhost:8080/"
        },
        "id": "f5pOCWIxSTet",
        "outputId": "ed8ea382-3f8a-422e-cc38-8975d6a8e280"
      },
      "execution_count": null,
      "outputs": [
        {
          "output_type": "stream",
          "name": "stdout",
          "text": [
            "\n",
            "\n",
            "\t (\"George Golos references what two musicians when claiming Chopin's nationalism was overrated? \", 0.6044313311576843)\n",
            "\t (\"Who were two of Chopin's contemporaries?\", 0.8973211646080017)\n",
            "\t (\"Who choreographed a ballet which included Chopin's work?\", 0.9447776675224304)\n",
            "\t (\"Which two of Chopin's friends became part of his Paris milieu?\", 0.9582419991493225)\n",
            "\t (\"What three composers influenced Chopin's work?\", 0.9607998132705688)\n"
          ]
        }
      ]
    },
    {
      "cell_type": "code",
      "source": [
        "query= [\" Who danced which included Chopin's work? \"]\n",
        "print_sim_query(query, index)"
      ],
      "metadata": {
        "colab": {
          "base_uri": "https://localhost:8080/"
        },
        "id": "fktFCJTzTySo",
        "outputId": "72fa6e3f-0472-4bb9-a9a3-b3d18d67a204"
      },
      "execution_count": null,
      "outputs": [
        {
          "output_type": "stream",
          "name": "stdout",
          "text": [
            "\n",
            "\n",
            "\t (\"Who choreographed a ballet which included Chopin's work?\", 0.5014089941978455)\n",
            "\t (\"Who played the earlier known recording of Chopin's work?\", 0.7038514018058777)\n",
            "\t (\"What is the name of the ballet that included Chopin's work?\", 0.7139905691146851)\n",
            "\t (\"Who released the first collection of Chopin's works?\", 0.7374522686004639)\n",
            "\t (\"Which 1909 ballet used Chopin's music?\", 0.7641186714172363)\n"
          ]
        }
      ]
    },
    {
      "cell_type": "markdown",
      "source": [
        "# Theme 3 - New_York_City"
      ],
      "metadata": {
        "id": "NYKDUK0dYmRm"
      }
    },
    {
      "cell_type": "code",
      "source": [
        "theme = 'New_York_City'"
      ],
      "metadata": {
        "id": "XLbBCeastvnE"
      },
      "execution_count": null,
      "outputs": []
    },
    {
      "cell_type": "code",
      "source": [
        "t_ques, new_t = ques_ans(theme)"
      ],
      "metadata": {
        "id": "CEqtlUEa69kT"
      },
      "execution_count": null,
      "outputs": []
    },
    {
      "cell_type": "code",
      "source": [
        "index = embed_ques(t_ques)"
      ],
      "metadata": {
        "id": "HFrDLlGL69kU"
      },
      "execution_count": null,
      "outputs": []
    },
    {
      "cell_type": "markdown",
      "source": [
        "## Analysis"
      ],
      "metadata": {
        "id": "0zboarrkZGrA"
      }
    },
    {
      "cell_type": "code",
      "source": [
        "query= [\"What was year when New York adopted the mayor?\"]\n",
        "print_sim_query(query, index)"
      ],
      "metadata": {
        "colab": {
          "base_uri": "https://localhost:8080/"
        },
        "id": "Th_yc0jvZIWF",
        "outputId": "f990821b-66f1-4a61-a078-f17f77ea9ccf"
      },
      "execution_count": null,
      "outputs": [
        {
          "output_type": "stream",
          "name": "stdout",
          "text": [
            "\n",
            "\n",
            "\t ('In what year did New York City adopt the mayor-council form of government?', 0.7314983010292053)\n",
            "\t ('When was New York City established?', 0.7921110391616821)\n",
            "\t ('In what year did New York become the largest city in the United States?', 0.7946471571922302)\n",
            "\t ('By which year, did New York City become the largest city in the United States?', 0.8021202087402344)\n",
            "\t ('In what year did New York become the United States capital?', 0.8064650893211365)\n"
          ]
        }
      ]
    },
    {
      "cell_type": "code",
      "source": [
        "query= [\"By what time did New York become the capital\"]\n",
        "print_sim_query(query, index)"
      ],
      "metadata": {
        "colab": {
          "base_uri": "https://localhost:8080/"
        },
        "id": "2hHwrtXSaFNQ",
        "outputId": "cb2e34e8-b398-4dd7-8e14-4a60cac505fe"
      },
      "execution_count": null,
      "outputs": [
        {
          "output_type": "stream",
          "name": "stdout",
          "text": [
            "\n",
            "\n",
            "\t ('In what year did New York become the United States capital?', 0.4954143464565277)\n",
            "\t ('In what year did New York cease the be the capital of the United States?', 0.5808302164077759)\n",
            "\t ('When was New York City established?', 0.6266717910766602)\n",
            "\t ('In what year did New York become the largest city in the United States?', 0.7234587669372559)\n",
            "\t ('By which year, did New York City become the largest city in the United States?', 0.7274383902549744)\n"
          ]
        }
      ]
    },
    {
      "cell_type": "code",
      "source": [
        "query= [\"By what time New York was created\"]\n",
        "print_sim_query(query, index)"
      ],
      "metadata": {
        "colab": {
          "base_uri": "https://localhost:8080/"
        },
        "id": "NJLZELAXadHL",
        "outputId": "61a28bf4-9541-4bc8-edc2-5e3d7fb17c2c"
      },
      "execution_count": null,
      "outputs": [
        {
          "output_type": "stream",
          "name": "stdout",
          "text": [
            "\n",
            "\n",
            "\t ('When was New York City established?', 0.5855913162231445)\n",
            "\t ('The English occupied New York City beginning on what date?', 0.776697039604187)\n",
            "\t ('In what year did New York become the United States capital?', 0.7908604741096497)\n",
            "\t ('In what year did the first European arrive in the New York area?', 0.7914308309555054)\n",
            "\t ('In what year did New York become the largest city in the United States?', 0.8113515377044678)\n"
          ]
        }
      ]
    },
    {
      "cell_type": "code",
      "source": [
        "query= [\"What year did New York surpass Los Angeles as the country's biggest city?\"]\n",
        "print_sim_query(query, index)"
      ],
      "metadata": {
        "colab": {
          "base_uri": "https://localhost:8080/"
        },
        "id": "yLWiU6HoangS",
        "outputId": "8c934018-83b4-488b-fa6e-a00d56754034"
      },
      "execution_count": null,
      "outputs": [
        {
          "output_type": "stream",
          "name": "stdout",
          "text": [
            "\n",
            "\n",
            "\t ('In what year did New York become the largest city in the United States?', 0.4836888611316681)\n",
            "\t ('By which year, did New York City become the largest city in the United States?', 0.48466891050338745)\n",
            "\t ('New York City is the biggest city in the United States since what historical date?', 0.6833901405334473)\n",
            "\t ('In what year did the population of New York first reach an all-time high in this period?', 0.7013521790504456)\n",
            "\t ('In what year did New York become the United States capital?', 0.7431342005729675)\n"
          ]
        }
      ]
    },
    {
      "cell_type": "code",
      "source": [
        "query= [\"When did New York's population initially hit an all-time high during this time period?\"]\n",
        "print_sim_query(query, index)"
      ],
      "metadata": {
        "colab": {
          "base_uri": "https://localhost:8080/"
        },
        "id": "YChAwiacazbm",
        "outputId": "a00370c2-f9ba-4d27-87e8-9c1175f6720f"
      },
      "execution_count": null,
      "outputs": [
        {
          "output_type": "stream",
          "name": "stdout",
          "text": [
            "\n",
            "\n",
            "\t ('In what year did the population of New York first reach an all-time high in this period?', 0.4841434955596924)\n",
            "\t ('In what year was New York ranked first on the Global Economic Power Index?', 0.7494376301765442)\n",
            "\t ('In what year did New York become the largest city in the United States?', 0.7518388032913208)\n",
            "\t ('By which year, did New York City become the largest city in the United States?', 0.7715208530426025)\n",
            "\t ('In the 1930s, New York City had more than 10 million people becoming the first what in history?', 0.793397843837738)\n"
          ]
        }
      ]
    },
    {
      "cell_type": "code",
      "source": [
        "query= [\"What is the number of track lines are there on New York's commuter network?\"]\n",
        "print_sim_query(query, index)"
      ],
      "metadata": {
        "colab": {
          "base_uri": "https://localhost:8080/"
        },
        "id": "35Sgc91DbkG6",
        "outputId": "28b02505-db8a-4c47-b189-d352c041ff8c"
      },
      "execution_count": null,
      "outputs": [
        {
          "output_type": "stream",
          "name": "stdout",
          "text": [
            "\n",
            "\n",
            "\t (\"How many rail lines are there on New York City's commuter rail network?\", 0.6007077097892761)\n",
            "\t (\"About how many stations does New York City's commuter rail network have?\", 0.6621059775352478)\n",
            "\t ('How many daily bicycle riders are there in NYC?', 0.8890556693077087)\n",
            "\t ('How many people rode the New York City Subway in 2014?', 0.89009028673172)\n",
            "\t ('How many boroughs does New York City have?', 0.9176472425460815)\n"
          ]
        }
      ]
    },
    {
      "cell_type": "markdown",
      "source": [
        "# Theme 4 - Kanye_West"
      ],
      "metadata": {
        "id": "Tt1MAsYxdPVT"
      }
    },
    {
      "cell_type": "code",
      "source": [
        "theme = 'Kanye_West'"
      ],
      "metadata": {
        "id": "3UuJV0wTcZQL"
      },
      "execution_count": null,
      "outputs": []
    },
    {
      "cell_type": "code",
      "source": [
        "t_ques, new_t = ques_ans(theme)"
      ],
      "metadata": {
        "id": "KJanIiLM6_BS"
      },
      "execution_count": null,
      "outputs": []
    },
    {
      "cell_type": "code",
      "source": [
        "index = embed_ques(t_ques)"
      ],
      "metadata": {
        "id": "QaZ_cwHA6_BT"
      },
      "execution_count": null,
      "outputs": []
    },
    {
      "cell_type": "markdown",
      "source": [
        "##Analysis"
      ],
      "metadata": {
        "id": "yy9DNq_cdT8u"
      }
    },
    {
      "cell_type": "code",
      "source": [
        "query= ['What university prompted Wests mother to relocate the family to Asia?']\n",
        "print_sim_query(query, index)"
      ],
      "metadata": {
        "colab": {
          "base_uri": "https://localhost:8080/"
        },
        "id": "ArMqDk_Ocpmf",
        "outputId": "e2956496-4e87-4f3f-d261-008e1d772665"
      },
      "execution_count": null,
      "outputs": [
        {
          "output_type": "stream",
          "name": "stdout",
          "text": [
            "\n",
            "\n",
            "\t (\"What University was the cause of West's mother moving the family to China?\", 0.4612826406955719)\n",
            "\t ('What school awarded Kanye west an honorary doctorate?', 1.0234363079071045)\n",
            "\t ('What school did Kanye West go to in 1997?', 1.0398316383361816)\n",
            "\t (\"Where did Kanye West's mother work before becoming his manager?\", 1.0499783754348755)\n",
            "\t (\"What was the name of Kanye West's high school?\", 1.0578633546829224)\n"
          ]
        }
      ]
    },
    {
      "cell_type": "code",
      "source": [
        "query= ['Before becoming Kanye Wests assistant, where did his mother work?']\n",
        "print_sim_query(query, index)"
      ],
      "metadata": {
        "colab": {
          "base_uri": "https://localhost:8080/"
        },
        "id": "2Jtd-qZWe4G-",
        "outputId": "d00b85b6-631d-4d36-d5b3-d07e83eb612e"
      },
      "execution_count": null,
      "outputs": [
        {
          "output_type": "stream",
          "name": "stdout",
          "text": [
            "\n",
            "\n",
            "\t (\"Where did Kanye West's mother work before becoming his manager?\", 0.41114863753318787)\n",
            "\t (\"What was Kanye West's first job title after art school?\", 0.7896179556846619)\n",
            "\t ('Where did Kanye receive a scholarship to attend?', 0.8363249897956848)\n",
            "\t ('What kind of background did Kanye West grow up in?', 0.8681840300559998)\n",
            "\t ('Where did Kanye West live as a child?', 0.8720035552978516)\n"
          ]
        }
      ]
    },
    {
      "cell_type": "code",
      "source": [
        "query= ['What type of upbringing did Kanye West have?']\n",
        "print_sim_query(query, index)"
      ],
      "metadata": {
        "colab": {
          "base_uri": "https://localhost:8080/"
        },
        "id": "8EW5JhDufEKE",
        "outputId": "964342ec-7ca3-4f1d-e706-f6bb77b8015c"
      },
      "execution_count": null,
      "outputs": [
        {
          "output_type": "stream",
          "name": "stdout",
          "text": [
            "\n",
            "\n",
            "\t ('What kind of background did Kanye West grow up in?', 0.619104266166687)\n",
            "\t ('What type of people did Kanye state had more power than Black people?', 0.8380099534988403)\n",
            "\t ('What kind of music does Kanye West perform?', 0.838288426399231)\n",
            "\t ('How well did Kanye do in high school?', 0.8466695547103882)\n",
            "\t (\"What did Kanye's peers see him as while he tried to pursue his rap career?\", 0.855300784111023)\n"
          ]
        }
      ]
    },
    {
      "cell_type": "code",
      "source": [
        "query= ['According to Kanye, what type of people has greater power than Black people?']\n",
        "print_sim_query(query, index)"
      ],
      "metadata": {
        "colab": {
          "base_uri": "https://localhost:8080/"
        },
        "id": "c076Iq7EfMfK",
        "outputId": "c5f362cc-f132-4657-a30d-0a033d5a3ca2"
      },
      "execution_count": null,
      "outputs": [
        {
          "output_type": "stream",
          "name": "stdout",
          "text": [
            "\n",
            "\n",
            "\t ('What type of people did Kanye state had more power than Black people?', 0.4698088765144348)\n",
            "\t (\"Who did Kanye West say doesn't care about black people?\", 0.8581160306930542)\n",
            "\t (\"What did Kanye's peers see him as while he tried to pursue his rap career?\", 0.9881647229194641)\n",
            "\t ('Although Kanye was achieving fame by producing, what did he actually want to be?', 0.988705575466156)\n",
            "\t (\"What person was Kanye's rant on Twitter directed at?\", 1.0002437829971313)\n"
          ]
        }
      ]
    },
    {
      "cell_type": "code",
      "source": [
        "query= ['In 2001, Kanye was given producer credit on which album?']\n",
        "print_sim_query(query, index)"
      ],
      "metadata": {
        "colab": {
          "base_uri": "https://localhost:8080/"
        },
        "id": "JrX196Y7fyDQ",
        "outputId": "c96e8e34-fc7b-4f3b-8806-b07e87a94917"
      },
      "execution_count": null,
      "outputs": [
        {
          "output_type": "stream",
          "name": "stdout",
          "text": [
            "\n",
            "\n",
            "\t ('What album did Kanye receive production credits on in 2001?', 0.4002895653247833)\n",
            "\t (\"What was the name of Kanye's second studio album?\", 0.6303995847702026)\n",
            "\t ('What was the name of the joint album Kanye made with Jay Z?', 0.6521729230880737)\n",
            "\t (\"What was the name of Kanye's third album?\", 0.6539018750190735)\n",
            "\t (\"What was the title of Kanye's sixth album?\", 0.6585341095924377)\n"
          ]
        }
      ]
    },
    {
      "cell_type": "markdown",
      "source": [
        "# Theme 5 - Buddhism"
      ],
      "metadata": {
        "id": "UAEkA8J-gIIx"
      }
    },
    {
      "cell_type": "code",
      "source": [
        "theme = 'Buddhism'"
      ],
      "metadata": {
        "id": "GaoVEKfhgJ_x"
      },
      "execution_count": null,
      "outputs": []
    },
    {
      "cell_type": "code",
      "source": [
        "t_ques, new_t = ques_ans(theme)"
      ],
      "metadata": {
        "id": "_j2uttG_7ADw"
      },
      "execution_count": null,
      "outputs": []
    },
    {
      "cell_type": "code",
      "source": [
        "index = embed_ques(t_ques)"
      ],
      "metadata": {
        "id": "2PNHkzlO7ADw"
      },
      "execution_count": null,
      "outputs": []
    },
    {
      "cell_type": "markdown",
      "source": [
        "## Analysis"
      ],
      "metadata": {
        "id": "vnJqTPNXgLo-"
      }
    },
    {
      "cell_type": "code",
      "source": [
        "query= ['Which branch follows the Zen teachings?']\n",
        "print_sim_query(query, index)"
      ],
      "metadata": {
        "colab": {
          "base_uri": "https://localhost:8080/"
        },
        "id": "oBjicbiIgND5",
        "outputId": "bdb2b3c7-0e14-4977-ee1c-8ed431e77bbc"
      },
      "execution_count": null,
      "outputs": [
        {
          "output_type": "stream",
          "name": "stdout",
          "text": [
            "\n",
            "\n",
            "\t ('Which branch practices the teachings of Zen?', 0.38213881850242615)\n",
            "\t ('What minor branch is sometimes attributed to Mahayana?', 0.8329461216926575)\n",
            "\t ('Which schools of Zen likes the use of meditation on the koan for spiritual breakthroughs?', 0.8493402004241943)\n",
            "\t ('What is sometimes viewed as the third branch of Buddhism?', 0.9110625982284546)\n",
            "\t ('In which branch of Buddhism is it believed that there can be no divine salvation or forgiveness for karma?', 0.9205144047737122)\n"
          ]
        }
      ]
    },
    {
      "cell_type": "code",
      "source": [
        "query= ['Which school of Buddhism holds the view that karma cannot be forgiven or saved by God?']\n",
        "print_sim_query(query, index)"
      ],
      "metadata": {
        "colab": {
          "base_uri": "https://localhost:8080/"
        },
        "id": "DTobSQqxgl9m",
        "outputId": "1ca9a050-5d7b-4bd3-cfea-1e534ff0f578"
      },
      "execution_count": null,
      "outputs": [
        {
          "output_type": "stream",
          "name": "stdout",
          "text": [
            "\n",
            "\n",
            "\t ('In which branch of Buddhism is it believed that there can be no divine salvation or forgiveness for karma?', 0.5482146143913269)\n",
            "\t ('What actions does karma refer to in Buddhism?', 0.8524971604347229)\n",
            "\t ('What is karma according to Buddhism?', 0.8535218834877014)\n",
            "\t ('What branch of Buddhism rejects that there is a transitional state between lives?', 0.8561480045318604)\n",
            "\t ('What form of Buddhism has declined to the point where few are capable of following the path?', 0.8710591197013855)\n"
          ]
        }
      ]
    },
    {
      "cell_type": "code",
      "source": [
        "query= ['What branch of Buddhism has become so rare that few people can still pursue the path?']\n",
        "print_sim_query(query, index)"
      ],
      "metadata": {
        "colab": {
          "base_uri": "https://localhost:8080/"
        },
        "id": "CAkX6ohmgnSf",
        "outputId": "1997a876-470d-481e-d46a-0a8ebace7e7a"
      },
      "execution_count": null,
      "outputs": [
        {
          "output_type": "stream",
          "name": "stdout",
          "text": [
            "\n",
            "\n",
            "\t ('What form of Buddhism has declined to the point where few are capable of following the path?', 0.6057392358779907)\n",
            "\t ('What is sometimes viewed as the third branch of Buddhism?', 0.7603534460067749)\n",
            "\t ('In which branch of Buddhism is it believed that there can be no divine salvation or forgiveness for karma?', 0.7651271820068359)\n",
            "\t ('What branch of Buddhism rejects that there is a transitional state between lives?', 0.7882188558578491)\n",
            "\t ('What is the most widely practised Eastern Buddhism?', 0.8200209140777588)\n"
          ]
        }
      ]
    },
    {
      "cell_type": "code",
      "source": [
        "query= ['What is regarded as the third tree of Buddhism occasionally?']\n",
        "print_sim_query(query, index)"
      ],
      "metadata": {
        "colab": {
          "base_uri": "https://localhost:8080/"
        },
        "id": "AnlCQ-kGgoCr",
        "outputId": "5a1d1b2c-67fa-4374-e042-f0add5dc374b"
      },
      "execution_count": null,
      "outputs": [
        {
          "output_type": "stream",
          "name": "stdout",
          "text": [
            "\n",
            "\n",
            "\t ('What is sometimes viewed as the third branch of Buddhism?', 0.5807662606239319)\n",
            "\t ('What was the tree renamed that Gautama achieved enlightenment under?', 0.7413508296012878)\n",
            "\t ('What is the most widely practised Eastern Buddhism?', 0.8034606575965881)\n",
            "\t ('When he was 35 Gautama sat in meditation under what tree?', 0.8126512765884399)\n",
            "\t ('What is another name for Nikaya buddhism?', 0.8138707876205444)\n"
          ]
        }
      ]
    },
    {
      "cell_type": "code",
      "source": [
        "query= ['What is the name of the middle ground between indulgence and mortification?']\n",
        "print_sim_query(query, index)"
      ],
      "metadata": {
        "colab": {
          "base_uri": "https://localhost:8080/"
        },
        "id": "XgV0ooKugonq",
        "outputId": "3afa9944-5eda-4b2e-a979-3938eba89498"
      },
      "execution_count": null,
      "outputs": [
        {
          "output_type": "stream",
          "name": "stdout",
          "text": [
            "\n",
            "\n",
            "\t ('What is the path of moderation between the extremes of self-indulgence and self-mortification called?', 0.8737300038337708)\n",
            "\t ('What is the avoidance of bad acts called?', 1.0166782140731812)\n",
            "\t ('What is another name for Nikaya buddhism?', 1.0379949808120728)\n",
            "\t ('Avoidance of unwholesome actions and use of positive actions is called what?', 1.057279348373413)\n",
            "\t ('What is Esoteric Buddhism also called?', 1.0651354789733887)\n"
          ]
        }
      ]
    },
    {
      "cell_type": "markdown",
      "source": [
        "#Theme 6 - ASCII"
      ],
      "metadata": {
        "id": "r__tvVgogqwn"
      }
    },
    {
      "cell_type": "code",
      "source": [
        "theme = 'ASCII'"
      ],
      "metadata": {
        "id": "XgslKZNtgs5i"
      },
      "execution_count": null,
      "outputs": []
    },
    {
      "cell_type": "code",
      "source": [
        "t_ques, new_t = ques_ans(theme)"
      ],
      "metadata": {
        "id": "sOULlRYT7BWw"
      },
      "execution_count": null,
      "outputs": []
    },
    {
      "cell_type": "code",
      "source": [
        "index = embed_ques(t_ques)"
      ],
      "metadata": {
        "id": "5Qh139Kj7BWx"
      },
      "execution_count": null,
      "outputs": []
    },
    {
      "cell_type": "markdown",
      "source": [
        "##Analysis"
      ],
      "metadata": {
        "id": "eC_8Y1zQgt2j"
      }
    },
    {
      "cell_type": "code",
      "source": [
        "query= ['What was the name of the signal that alerted the sender of an imminent overflow?']\n",
        "print_sim_query(query, index)"
      ],
      "metadata": {
        "colab": {
          "base_uri": "https://localhost:8080/"
        },
        "id": "QYz0blGigva3",
        "outputId": "6177b94e-5694-421e-aaaa-6dbc9d0ab867"
      },
      "execution_count": null,
      "outputs": [
        {
          "output_type": "stream",
          "name": "stdout",
          "text": [
            "\n",
            "\n",
            "\t ('What was the warning signal called that warned the sender that there was impending overflow?', 0.5235121250152588)\n",
            "\t ('What was the warning signal that warned TAPE that there was impending overflow?', 0.814116358757019)\n",
            "\t ('What is impending overflow replaced by on some systems?', 1.0514439344406128)\n",
            "\t ('What was the code first called in Europe?', 1.1051982641220093)\n",
            "\t ('What did older operating systems use to mark the end of the text?', 1.140036940574646)\n"
          ]
        }
      ]
    },
    {
      "cell_type": "code",
      "source": [
        "query= ['What signalled the end of the text in earlier operating systems?']\n",
        "print_sim_query(query, index)"
      ],
      "metadata": {
        "colab": {
          "base_uri": "https://localhost:8080/"
        },
        "id": "PmGP-R5amVbj",
        "outputId": "c89cca40-330d-4265-fad2-220f83a91b4f"
      },
      "execution_count": null,
      "outputs": [
        {
          "output_type": "stream",
          "name": "stdout",
          "text": [
            "\n",
            "\n",
            "\t ('What did older operating systems use to mark the end of the text?', 0.702467679977417)\n",
            "\t ('What did older operating systems use to mark control code?', 0.9564542174339294)\n",
            "\t ('What do computers using operating systems use for line endings?', 0.9871618747711182)\n",
            "\t ('What interpretation became common in Unix systmes?', 0.9992682933807373)\n",
            "\t ('What is using Z as the end of text analogous to?', 1.0113563537597656)\n"
          ]
        }
      ]
    },
    {
      "cell_type": "code",
      "source": [
        "query= ['Where the typebars hit the ribbon, what moves the paper?']\n",
        "print_sim_query(query, index)"
      ],
      "metadata": {
        "colab": {
          "base_uri": "https://localhost:8080/"
        },
        "id": "LtdUUUBAmWvZ",
        "outputId": "05c23d1d-8846-46e8-a777-b2977ac65d3a"
      },
      "execution_count": null,
      "outputs": [
        {
          "output_type": "stream",
          "name": "stdout",
          "text": [
            "\n",
            "\n",
            "\t ('Which advances the paper where the typebars strike the ribbon?', 0.6677637696266174)\n",
            "\t ('What casued the automatic paper tape reader to stop?', 1.074441909790039)\n",
            "\t ('When was paper tape popular?', 1.130643606185913)\n",
            "\t ('Where were the letters DEC in position?', 1.1517703533172607)\n",
            "\t ('What caused the automatic paper tape reader to start again?', 1.1538203954696655)\n"
          ]
        }
      ]
    },
    {
      "cell_type": "code",
      "source": [
        "query= ['What were the two codes that teletype machines need to terminate a line?']\n",
        "print_sim_query(query, index)"
      ],
      "metadata": {
        "colab": {
          "base_uri": "https://localhost:8080/"
        },
        "id": "Fb9HUZSmmXMk",
        "outputId": "54188bb8-ef7a-4332-ff15-c27d50de46db"
      },
      "execution_count": null,
      "outputs": [
        {
          "output_type": "stream",
          "name": "stdout",
          "text": [
            "\n",
            "\n",
            "\t ('Teletype machines had to have two codes to termanate a line, what were they?', 0.7270897030830383)\n",
            "\t ('What is another name for Teletype machines?', 0.9325006604194641)\n",
            "\t ('What was code 127 labeled as for the Teletype?', 0.9456164836883545)\n",
            "\t ('Why did Teletype have the code for \"rubout\"?', 0.9873180985450745)\n",
            "\t ('How many specific characters are there in the ASCII Teletype machines?', 1.0240564346313477)\n"
          ]
        }
      ]
    },
    {
      "cell_type": "code",
      "source": [
        "query= ['When was the first significant code revision completed?']\n",
        "print_sim_query(query, index)"
      ],
      "metadata": {
        "colab": {
          "base_uri": "https://localhost:8080/"
        },
        "id": "q0oH-vRXmXqg",
        "outputId": "ac035deb-1e02-44ff-ae8c-be10cf483f14"
      },
      "execution_count": null,
      "outputs": [
        {
          "output_type": "stream",
          "name": "stdout",
          "text": [
            "\n",
            "\n",
            "\t ('When was the first major revision of the code done?', 0.3822709023952484)\n",
            "\t ('What were code points ultimately published as?', 0.9067711234092712)\n",
            "\t ('When was the introduction of IBM?', 0.9538112282752991)\n",
            "\t ('When did work on the ASCII standard begin? ', 0.9592514634132385)\n",
            "\t ('When was ASCII first commercially used?', 0.9922497868537903)\n"
          ]
        }
      ]
    },
    {
      "cell_type": "code",
      "source": [
        "query= ['What kinds of extensions do these other standards organisations have?']\n",
        "print_sim_query(query, index)"
      ],
      "metadata": {
        "colab": {
          "base_uri": "https://localhost:8080/"
        },
        "id": "0Pu-9V0WmYLD",
        "outputId": "7bcb0e9c-4055-44e4-c527-d70ca2ab0838"
      },
      "execution_count": null,
      "outputs": [
        {
          "output_type": "stream",
          "name": "stdout",
          "text": [
            "\n",
            "\n",
            "\t ('What type of extensions do these other standard bodies have?', 0.6129148602485657)\n",
            "\t ('What type of extensions do these other character encodings have?', 0.8505483865737915)\n",
            "\t ('ASCII was incorporated into what other extensions?', 1.0342093706130981)\n",
            "\t ('Why are the other versions of ASCII charging extra for extensions?', 1.063830018043518)\n",
            "\t ('What was incorporated into the Unicode extensions?', 1.0809438228607178)\n"
          ]
        }
      ]
    },
    {
      "cell_type": "markdown",
      "source": [
        "#Theme 7 - Republic_of_the_Congo"
      ],
      "metadata": {
        "id": "PkfpMwm_gwVZ"
      }
    },
    {
      "cell_type": "code",
      "source": [
        "theme= 'Republic_of_the_Congo'"
      ],
      "metadata": {
        "id": "Z13MukWngxo-"
      },
      "execution_count": null,
      "outputs": []
    },
    {
      "cell_type": "code",
      "source": [
        "t_ques, new_t = ques_ans(theme)"
      ],
      "metadata": {
        "id": "_wkK2jwh7Ci3"
      },
      "execution_count": null,
      "outputs": []
    },
    {
      "cell_type": "code",
      "source": [
        "index = embed_ques(t_ques)"
      ],
      "metadata": {
        "id": "h7MrvlBh7Ci3"
      },
      "execution_count": null,
      "outputs": []
    },
    {
      "cell_type": "markdown",
      "source": [
        "##Analysis"
      ],
      "metadata": {
        "id": "33a4mjZkgygt"
      }
    },
    {
      "cell_type": "code",
      "source": [
        "query= ['What caused the Bantu cultures rise to dominance in the late years?']\n",
        "print_sim_query(query, index)"
      ],
      "metadata": {
        "colab": {
          "base_uri": "https://localhost:8080/"
        },
        "id": "7Ip5WFPvg0AS",
        "outputId": "35f926eb-19a4-440b-e945-039a6843c062"
      },
      "execution_count": null,
      "outputs": [
        {
          "output_type": "stream",
          "name": "stdout",
          "text": [
            "\n",
            "\n",
            "\t ('What was responsible for the power of Bantu societies growing in the late 19th century?', 0.6028746366500854)\n",
            "\t ('What did European traders exchange with Bantu people?', 0.8925159573554993)\n",
            "\t ('When did the Pygmy people displace the Bantu?', 0.8964157104492188)\n",
            "\t ('When did Bantu tribes arrive in the area formerly populated by the Pygmy people?', 0.9157742261886597)\n",
            "\t ('What area did the Bantu colonize in the late 19th century?', 0.9159032702445984)\n"
          ]
        }
      ]
    },
    {
      "cell_type": "markdown",
      "source": [
        "# Theme 8 - Madonna_(entertainer)"
      ],
      "metadata": {
        "id": "z6EOdAx6hAc3"
      }
    },
    {
      "cell_type": "code",
      "source": [
        "theme = 'Madonna_(entertainer)'"
      ],
      "metadata": {
        "id": "QEOZee1QhCbN"
      },
      "execution_count": null,
      "outputs": []
    },
    {
      "cell_type": "code",
      "source": [
        "t_ques, new_t = ques_ans(theme)"
      ],
      "metadata": {
        "id": "Jk5I9McK7Dcb"
      },
      "execution_count": null,
      "outputs": []
    },
    {
      "cell_type": "code",
      "source": [
        "index = embed_ques(t_ques)"
      ],
      "metadata": {
        "id": "qbBfMAAb7Dcc"
      },
      "execution_count": null,
      "outputs": []
    },
    {
      "cell_type": "markdown",
      "source": [
        "##Analysis"
      ],
      "metadata": {
        "id": "0PeddwG2hDVI"
      }
    },
    {
      "cell_type": "code",
      "source": [
        "query= ['What negative effects did Madonnas portrayal of blasphemy in her newest video, Like A Prayer, cause?']\n",
        "print_sim_query(query, index)"
      ],
      "metadata": {
        "colab": {
          "base_uri": "https://localhost:8080/"
        },
        "id": "6h5iezRDhFKw",
        "outputId": "fe727682-dd4c-44bc-b9c4-035d7a85521b"
      },
      "execution_count": null,
      "outputs": [
        {
          "output_type": "stream",
          "name": "stdout",
          "text": [
            "\n",
            "\n",
            "\t (\"With Madonna's new video, Like A Prayer, the blasphemy that she portrayed in the video led to what consequences?\", 0.7037410140037537)\n",
            "\t (\"What was Madonna's mother's reaction to her questioning about her illness?\", 0.9074692130088806)\n",
            "\t (\"Name one of Madonna's major influence?\", 0.9358859658241272)\n",
            "\t ('Which religion was Madonna dedicated to?', 0.9584553837776184)\n",
            "\t ('Madonna was born to which religion?', 0.9810348153114319)\n"
          ]
        }
      ]
    },
    {
      "cell_type": "code",
      "source": [
        "query= ['What is the name of the art piece that Madonna and fashion photographer Chris Klein collaborated on for an exhibition?']\n",
        "print_sim_query(query, index)"
      ],
      "metadata": {
        "colab": {
          "base_uri": "https://localhost:8080/"
        },
        "id": "gCsEssW7n-pS",
        "outputId": "2361d3e5-bfb7-47fb-fd36-086150830d5d"
      },
      "execution_count": null,
      "outputs": [
        {
          "output_type": "stream",
          "name": "stdout",
          "text": [
            "\n",
            "\n",
            "\t ('What is the name of the exhibition installation that Madonna teamed up with fashion photographer Chris Klein called?', 0.5428701639175415)\n",
            "\t ('What is the name of the clothing line Madonna released with her daughter?', 0.8831934928894043)\n",
            "\t (\"Who is the stylist and jewellery designer that created Madonna's look?\", 0.9169471263885498)\n",
            "\t (\"Which 2 album show Madonna's artistic statement?\", 0.9196118712425232)\n",
            "\t (\"What is Madonna's compilation album called?\", 0.9316215515136719)\n"
          ]
        }
      ]
    },
    {
      "cell_type": "code",
      "source": [
        "query= ['Who has enjoyed the greatest level of unary success in the history of the American singles chart?']\n",
        "print_sim_query(query, index)"
      ],
      "metadata": {
        "colab": {
          "base_uri": "https://localhost:8080/"
        },
        "id": "5hVwJIaFn_-d",
        "outputId": "fd68c621-f32e-46f5-a149-7955c9d3c949"
      },
      "execution_count": null,
      "outputs": [
        {
          "output_type": "stream",
          "name": "stdout",
          "text": [
            "\n",
            "\n",
            "\t ('Who is the most successful solo artist in the history of American singles chart?', 0.8740720748901367)\n",
            "\t ('Who listed Ray of Light as \"The 500 Greatest Albums of All Time?\"', 1.0533597469329834)\n",
            "\t ('Who has the most number one songs in an active BiIlboard chart?', 1.0803903341293335)\n",
            "\t ('American Life reached which number at the Hot 100?', 1.1259734630584717)\n",
            "\t ('Madonna surpassed which artist with the most top-ten hits?', 1.1348237991333008)\n"
          ]
        }
      ]
    },
    {
      "cell_type": "code",
      "source": [
        "query= ['Which record has Kabbalistic influences?']\n",
        "print_sim_query(query, index)"
      ],
      "metadata": {
        "colab": {
          "base_uri": "https://localhost:8080/"
        },
        "id": "4qbLgf8PoAc6",
        "outputId": "174cfbeb-9c74-48ff-cb62-d3d8fcf24ef6"
      },
      "execution_count": null,
      "outputs": [
        {
          "output_type": "stream",
          "name": "stdout",
          "text": [
            "\n",
            "\n",
            "\t ('The influence of Kabbalah is seen in which album?', 0.9498804807662964)\n",
            "\t ('Which award the the album win?', 1.06398344039917)\n",
            "\t ('Which 2 albums explored the New Lack Swing?', 1.0951555967330933)\n",
            "\t ('True Blue has what type of music Incorporated in it?', 1.1013261079788208)\n",
            "\t ('Which edition of the Guinness Book of World Record states that no female artist sold more records than Madonna?', 1.101597547531128)\n"
          ]
        }
      ]
    },
    {
      "cell_type": "code",
      "source": [
        "query= ['Who said that Madonna overstated the extent of her charitable contributions?']\n",
        "print_sim_query(query, index)"
      ],
      "metadata": {
        "colab": {
          "base_uri": "https://localhost:8080/"
        },
        "id": "Huy2IJwuoA2b",
        "outputId": "c098c4df-924e-4163-b304-397fa5bdebb2"
      },
      "execution_count": null,
      "outputs": [
        {
          "output_type": "stream",
          "name": "stdout",
          "text": [
            "\n",
            "\n",
            "\t (\"Who criticized Madonna's charity efforts, stating that she exaggerated her contributions?\", 0.518703818321228)\n",
            "\t ('Who said that Madonna changed the world social history?', 0.7492490410804749)\n",
            "\t ('Who said that Madonna is like post-moderm art?', 0.8066521286964417)\n",
            "\t ('Who noted that Madonna was reversing the gender role?', 0.8197821974754333)\n",
            "\t ('Who wrote that Madonna is opportunistic, manipulative and ruthless?', 0.8361309170722961)\n"
          ]
        }
      ]
    },
    {
      "cell_type": "markdown",
      "source": [
        "#Theme 9 - Edmund_Burke"
      ],
      "metadata": {
        "id": "A9JsUaf9hG8M"
      }
    },
    {
      "cell_type": "code",
      "source": [
        "theme = 'Edmund_Burke'"
      ],
      "metadata": {
        "id": "uWr4I3gKhJHE"
      },
      "execution_count": null,
      "outputs": []
    },
    {
      "cell_type": "code",
      "source": [
        "t_ques, new_t = ques_ans(theme)"
      ],
      "metadata": {
        "id": "mdUR7dg67Ele"
      },
      "execution_count": null,
      "outputs": []
    },
    {
      "cell_type": "code",
      "source": [
        "index = embed_ques(t_ques)"
      ],
      "metadata": {
        "id": "4embyjCO7Elf"
      },
      "execution_count": null,
      "outputs": []
    },
    {
      "cell_type": "markdown",
      "source": [
        "##Analysis"
      ],
      "metadata": {
        "id": "801cTV8_hKDs"
      }
    },
    {
      "cell_type": "code",
      "source": [
        "query= ['Burke might not have continued his history of England if another authors was written before his by whom?']\n",
        "print_sim_query(query, index)"
      ],
      "metadata": {
        "colab": {
          "base_uri": "https://localhost:8080/"
        },
        "id": "jiFM8mijhLR3",
        "outputId": "226354f6-4cfc-49c6-f0ff-ef9ee7dd477e"
      },
      "execution_count": null,
      "outputs": [
        {
          "output_type": "stream",
          "name": "stdout",
          "text": [
            "\n",
            "\n",
            "\t (\"Which author's history of England being published before Burke's might have dissuaded Burke from continuing his?\", 0.5110180377960205)\n",
            "\t ('Whose biography did Burke write?', 0.8000097274780273)\n",
            "\t ('Who wrote a biography of Burke?', 0.8035860657691956)\n",
            "\t ('Who wrote to Burke on Nov 4, 1793?', 0.8314825296401978)\n",
            "\t ('Who did Burke write to on Nov 4, 1793?', 0.8400540351867676)\n"
          ]
        }
      ]
    },
    {
      "cell_type": "code",
      "source": [
        "query= ['Opposite to which state burke thought that backing the war against the mutiny was an act ?']\n",
        "print_sim_query(query, index)"
      ],
      "metadata": {
        "colab": {
          "base_uri": "https://localhost:8080/"
        },
        "id": "Wxpu1C5LrPlU",
        "outputId": "8f96308a-1a9a-4ffd-9c9d-371ec92e039a"
      },
      "execution_count": null,
      "outputs": [
        {
          "output_type": "stream",
          "name": "stdout",
          "text": [
            "\n",
            "\n",
            "\t ('Burke considered supporting the war against the revolution as being against which nation?', 0.7691667079925537)\n",
            "\t ('Who did Burke think the war was against, rather than France as a whole?', 0.8651604652404785)\n",
            "\t ('Burke thought the French Revolution was against whose principles?', 0.8761308193206787)\n",
            "\t ('What faction was Burke opposed to in La Vendée?', 0.8968031406402588)\n",
            "\t ('Who did Burke want to support the revolution?', 0.9082686901092529)\n"
          ]
        }
      ]
    },
    {
      "cell_type": "code",
      "source": [
        "query= ['What insight into human nature did Rousseau claim Burke possessed?']\n",
        "print_sim_query(query, index)"
      ],
      "metadata": {
        "colab": {
          "base_uri": "https://localhost:8080/"
        },
        "id": "PGHVv7JkrPsA",
        "outputId": "718a7292-036a-4050-cf09-8127c85f137b"
      },
      "execution_count": null,
      "outputs": [
        {
          "output_type": "stream",
          "name": "stdout",
          "text": [
            "\n",
            "\n",
            "\t ('What did Rousseau say Burke had in regards to understanding human nature?', 0.48615971207618713)\n",
            "\t ('What did Burke think was the foundation of society?', 0.8569153547286987)\n",
            "\t ('What did Burke think was crucial for human life?', 0.862197756767273)\n",
            "\t ('What did Burke believe was against the natural order of events?', 0.8782197833061218)\n",
            "\t ('What did Burke think a social hierarchy should be based on?', 0.8886898756027222)\n"
          ]
        }
      ]
    },
    {
      "cell_type": "code",
      "source": [
        "query= ['Who believed Burke to be like an architect renovating an old home as opposed to demolishing it?']\n",
        "print_sim_query(query, index)"
      ],
      "metadata": {
        "colab": {
          "base_uri": "https://localhost:8080/"
        },
        "id": "hH_PLvsArRDB",
        "outputId": "1fc8933e-f2a4-4314-88cb-7d6429537446"
      },
      "execution_count": null,
      "outputs": [
        {
          "output_type": "stream",
          "name": "stdout",
          "text": [
            "\n",
            "\n",
            "\t ('Who thought Burke was like an architect remodeling an old house instead of tearing it down?', 0.5309524536132812)\n",
            "\t ('Whose ascendancy did Burke think was malignant?', 0.8425593376159668)\n",
            "\t ('Who did Burke think protected unpopular minorities?', 0.8745482563972473)\n",
            "\t ('Who did Burke think a social class structure benefited?', 0.8815036416053772)\n",
            "\t ('Who did Burke say we look to with reverence?', 0.8883112668991089)\n"
          ]
        }
      ]
    },
    {
      "cell_type": "markdown",
      "source": [
        "#Theme 10 - Adolescence "
      ],
      "metadata": {
        "id": "BAs_YurYAbs8"
      }
    },
    {
      "cell_type": "code",
      "source": [
        "theme = 'Adolescence'"
      ],
      "metadata": {
        "id": "hoojcJxkAfvN"
      },
      "execution_count": null,
      "outputs": []
    },
    {
      "cell_type": "markdown",
      "source": [
        "##Analysis"
      ],
      "metadata": {
        "id": "JpQt0db_Aheb"
      }
    },
    {
      "cell_type": "code",
      "source": [
        "query = ['When are a number of changes triggered due to increased hormone production ']\n",
        "top_k_ques(query)"
      ],
      "metadata": {
        "colab": {
          "base_uri": "https://localhost:8080/"
        },
        "id": "dbeIybOfAjEN",
        "outputId": "e385c0fe-a124-4638-c5ce-445d910f34de"
      },
      "execution_count": null,
      "outputs": [
        {
          "output_type": "stream",
          "name": "stdout",
          "text": [
            "\t ('How often could paymasters make withdrawals?', 1.2053004503250122)\n",
            "\t ('When did Mary Wollstonecraft publish her response?', 1.2379944324493408)\n",
            "\t (\"When was the tenth printing of the French translation of 'Reflections on the Revolution in France'?\", 1.2449085712432861)\n",
            "\t ('When did Richard resign?', 1.250648021697998)\n",
            "\t ('When did Wordsworth initially attack Burke?', 1.2516568899154663)\n"
          ]
        }
      ]
    },
    {
      "cell_type": "code",
      "source": [
        "query = ['At what stage of life does a decrease in hormone production trigger a number of physical changes?']\n",
        "top_k_ques(query)"
      ],
      "metadata": {
        "colab": {
          "base_uri": "https://localhost:8080/"
        },
        "id": "3BYvVLnHAk80",
        "outputId": "741b1bf1-1942-4f7d-b6e1-a24fd13b1e8b"
      },
      "execution_count": null,
      "outputs": [
        {
          "output_type": "stream",
          "name": "stdout",
          "text": [
            "\t ('How often could paymasters make withdrawals?', 1.2344247102737427)\n",
            "\t ('When did Richard resign?', 1.242231845855713)\n",
            "\t ('When did Jean-Jacques Rousseau die?', 1.2619874477386475)\n",
            "\t ('When did Hamilton die?', 1.268661618232727)\n",
            "\t ('When did Wordsworth initially attack Burke?', 1.274701714515686)\n"
          ]
        }
      ]
    },
    {
      "cell_type": "code",
      "source": [
        "query = ['What organ produces testosterone in males?']\n",
        "top_k_ques(query)"
      ],
      "metadata": {
        "colab": {
          "base_uri": "https://localhost:8080/"
        },
        "id": "MWDREMlZAldn",
        "outputId": "068f006a-480f-46f5-8eb0-c5c88de622cd"
      },
      "execution_count": null,
      "outputs": [
        {
          "output_type": "stream",
          "name": "stdout",
          "text": [
            "\t (\"Who wrote 'The Rights of Man'?\", 1.2285473346710205)\n",
            "\t (\"Who wrote 'A Vindication of the Rights of Men'?\", 1.2597192525863647)\n",
            "\t ('What geographical feature would prevent the Americans from retreating?', 1.2623785734176636)\n",
            "\t (\"What was William Gerard Hamilton's nickname?\", 1.2701637744903564)\n",
            "\t ('What was Burke a member of?', 1.2755508422851562)\n"
          ]
        }
      ]
    },
    {
      "cell_type": "code",
      "source": [
        "query = ['Which organ in the male body does not release testosterone?']\n",
        "top_k_ques(query)"
      ],
      "metadata": {
        "colab": {
          "base_uri": "https://localhost:8080/"
        },
        "id": "JkuGJXOwAmIl",
        "outputId": "7f460dbf-3eca-4944-ba06-f1870c7e5be8"
      },
      "execution_count": null,
      "outputs": [
        {
          "output_type": "stream",
          "name": "stdout",
          "text": [
            "\t ('What geographical feature would prevent the Americans from retreating?', 1.217445731163025)\n",
            "\t (\"Who wrote 'The Rights of Man'?\", 1.2549430131912231)\n",
            "\t ('Burke claimed that the contract did not affect what groups of people?', 1.258540153503418)\n",
            "\t ('What city did Burke represent in parliament?', 1.2600822448730469)\n",
            "\t ('What nickname was Burke given for his emotional indignation?', 1.2663604021072388)\n"
          ]
        }
      ]
    },
    {
      "cell_type": "code",
      "source": [
        "query = ['What organ produces estrogen in females?']\n",
        "top_k_ques(query)"
      ],
      "metadata": {
        "id": "ml_MYVkcAvbF",
        "colab": {
          "base_uri": "https://localhost:8080/"
        },
        "outputId": "ad96f873-9a51-4ce0-a1a8-ab18f79eb326"
      },
      "execution_count": null,
      "outputs": [
        {
          "output_type": "stream",
          "name": "stdout",
          "text": [
            "\t (\"Who wrote 'The Rights of Man'?\", 1.2703571319580078)\n",
            "\t ('What geographical feature would prevent the Americans from retreating?', 1.2735867500305176)\n",
            "\t ('Which administration proposed the Paymaster act?', 1.2749035358428955)\n",
            "\t ('Who did Parisian women want to return to Paris?', 1.2784361839294434)\n",
            "\t ('When did Mary Wollstonecraft publish her response?', 1.2837767601013184)\n"
          ]
        }
      ]
    },
    {
      "cell_type": "code",
      "source": [
        "query = ['Which organ in the female body does not release estrogen?']\n",
        "top_k_ques(query)"
      ],
      "metadata": {
        "id": "gqfQcfZfCWyd",
        "colab": {
          "base_uri": "https://localhost:8080/"
        },
        "outputId": "46bf5fd8-9a58-4a86-9013-0194e6ce5650"
      },
      "execution_count": null,
      "outputs": [
        {
          "output_type": "stream",
          "name": "stdout",
          "text": [
            "\t ('What geographical feature would prevent the Americans from retreating?', 1.217729091644287)\n",
            "\t ('Which administration proposed the Paymaster act?', 1.2699962854385376)\n",
            "\t ('What area could the American colonists retreat to?', 1.2720457315444946)\n",
            "\t ('What was Cobden an activist against?', 1.2721219062805176)\n",
            "\t ('Burke claimed that the contract did not affect what groups of people?', 1.2763144969940186)\n"
          ]
        }
      ]
    },
    {
      "cell_type": "code",
      "source": [
        "query = ['What is the stage of life between childhood and adulthood called?']\n",
        "top_k_ques(query)"
      ],
      "metadata": {
        "id": "uXnnwozoCXT_",
        "colab": {
          "base_uri": "https://localhost:8080/"
        },
        "outputId": "33a90056-eb96-40af-a911-ed2e43d9ed0b"
      },
      "execution_count": null,
      "outputs": [
        {
          "output_type": "stream",
          "name": "stdout",
          "text": [
            "\t ('What was the impeachment formally called?', 1.1795594692230225)\n",
            "\t ('What was the name of the letters Young published?', 1.2132208347320557)\n",
            "\t (\"Burke's unfinished letter to Arthur Young became part of what publication?\", 1.2485876083374023)\n",
            "\t ('What did Burke call corporate tyranny in India?', 1.2774399518966675)\n",
            "\t ('What was the subject of the letter Arthur Young did not complete?', 1.2836214303970337)\n"
          ]
        }
      ]
    },
    {
      "cell_type": "code",
      "source": [
        "query = ['What is the period between childhood and adulthood not viewed as?']\n",
        "top_k_ques(query)"
      ],
      "metadata": {
        "id": "AN9sXgKdCXsN",
        "colab": {
          "base_uri": "https://localhost:8080/"
        },
        "outputId": "f98b27f0-1647-4168-837a-9530548bd54b"
      },
      "execution_count": null,
      "outputs": [
        {
          "output_type": "stream",
          "name": "stdout",
          "text": [
            "\t ('What was the subject of the letter Arthur Young did not complete?', 1.1907283067703247)\n",
            "\t (\"Burke's unfinished letter to Arthur Young became part of what publication?\", 1.2042601108551025)\n",
            "\t ('When did Mary Wollstonecraft publish her response?', 1.206414818763733)\n",
            "\t ('What was founded the year before the contract?', 1.2104051113128662)\n",
            "\t ('When was the Revolution Society founded?', 1.216540813446045)\n"
          ]
        }
      ]
    },
    {
      "cell_type": "code",
      "source": [
        "query = ['What physical changes occur during puberty besides physical maturation?']\n",
        "top_k_ques(query)"
      ],
      "metadata": {
        "id": "FEpxlhqrCYRe",
        "colab": {
          "base_uri": "https://localhost:8080/"
        },
        "outputId": "97db76a6-1899-4625-efe8-b7c5aed7926c"
      },
      "execution_count": null,
      "outputs": [
        {
          "output_type": "stream",
          "name": "stdout",
          "text": [
            "\t ('What was published in 1775?', 1.2930465936660767)\n",
            "\t ('Who converted into Catholicism?', 1.3011642694473267)\n",
            "\t ('What did Burke note in the preface of the first edition of the book?', 1.3159685134887695)\n",
            "\t ('Which victories against the Americans did the British celebrate?', 1.3161762952804565)\n",
            "\t ('What did François-Louis-Thibault de Menonville publish in April 1791?', 1.317848563194275)\n"
          ]
        }
      ]
    },
    {
      "cell_type": "code",
      "source": [
        "query = ['What changes do not occur during puberty in addition to physical maturation?']\n",
        "top_k_ques(query)"
      ],
      "metadata": {
        "id": "xMa6z-evCY17",
        "colab": {
          "base_uri": "https://localhost:8080/"
        },
        "outputId": "c1829121-84de-4eac-ffcc-78219ef4386a"
      },
      "execution_count": null,
      "outputs": [
        {
          "output_type": "stream",
          "name": "stdout",
          "text": [
            "\t ('What was the subject of the letter Arthur Young did not complete?', 1.2729597091674805)\n",
            "\t ('What did Burke note in the preface of the first edition of the book?', 1.281389832496643)\n",
            "\t ('What was published in 1775?', 1.2860881090164185)\n",
            "\t ('What geographical feature would prevent the Americans from retreating?', 1.2975492477416992)\n",
            "\t ('What did François-Louis-Thibault de Menonville publish in April 1791?', 1.2985872030258179)\n"
          ]
        }
      ]
    },
    {
      "cell_type": "code",
      "source": [
        "query = ['why does the cardiovascular system change during puberty?']\n",
        "top_k_ques(query)"
      ],
      "metadata": {
        "id": "8YBPkeCUCZO7",
        "colab": {
          "base_uri": "https://localhost:8080/"
        },
        "outputId": "7bd10c15-3948-4798-b846-d556f98e14ee"
      },
      "execution_count": null,
      "outputs": [
        {
          "output_type": "stream",
          "name": "stdout",
          "text": [
            "\t ('When did Wordsworth initially attack Burke?', 1.2916131019592285)\n",
            "\t ('Who converted into Catholicism?', 1.2917991876602173)\n",
            "\t ('When was Trinity College Dublin established?', 1.309001088142395)\n",
            "\t ('What was the name of the letters Young published?', 1.3103127479553223)\n",
            "\t ('When was the Revolution Society founded?', 1.316306233406067)\n"
          ]
        }
      ]
    },
    {
      "cell_type": "code",
      "source": [
        "query = ['How do the cardiovascular system not change during puberty?']\n",
        "top_k_ques(query)"
      ],
      "metadata": {
        "id": "Ol4Nb_LyCZkh",
        "colab": {
          "base_uri": "https://localhost:8080/"
        },
        "outputId": "58749d8a-5f50-4cc1-d0bf-c6919921612d"
      },
      "execution_count": null,
      "outputs": [
        {
          "output_type": "stream",
          "name": "stdout",
          "text": [
            "\t ('When did Wordsworth initially attack Burke?', 1.2937309741973877)\n",
            "\t ('How often could paymasters make withdrawals?', 1.2990998029708862)\n",
            "\t ('Who converted into Catholicism?', 1.3046412467956543)\n",
            "\t ('What was the name of the letters Young published?', 1.3097878694534302)\n",
            "\t ('How did Burke say we look towards magistrates?', 1.3100730180740356)\n"
          ]
        }
      ]
    },
    {
      "cell_type": "code",
      "source": [
        "query = ['What changes to the body result from the increased size and capacity of the heart and lungs during puberty?']\n",
        "top_k_ques(query)"
      ],
      "metadata": {
        "id": "KFs8bR5fCaTb",
        "colab": {
          "base_uri": "https://localhost:8080/"
        },
        "outputId": "ba479c82-7852-4074-8f26-9b8262a1f938"
      },
      "execution_count": null,
      "outputs": [
        {
          "output_type": "stream",
          "name": "stdout",
          "text": [
            "\t ('What did Mackintosh claim he had more of than any other writer?', 1.282840371131897)\n",
            "\t ('What was the name of the letters Young published?', 1.2836024761199951)\n",
            "\t ('What was published in 1775?', 1.2848434448242188)\n",
            "\t (\"Burke's unfinished letter to Arthur Young became part of what publication?\", 1.2887433767318726)\n",
            "\t ('Who converted into Catholicism?', 1.2979382276535034)\n"
          ]
        }
      ]
    },
    {
      "cell_type": "code",
      "source": [
        "query = ['What changes to the body do not result from the decreased size and capacity of the heart and lungs during puberty?']\n",
        "top_k_ques(query)"
      ],
      "metadata": {
        "id": "JMfzjcrtCatb",
        "colab": {
          "base_uri": "https://localhost:8080/"
        },
        "outputId": "d835f369-6067-4b21-cb06-7b4a14dddee4"
      },
      "execution_count": null,
      "outputs": [
        {
          "output_type": "stream",
          "name": "stdout",
          "text": [
            "\t ('What was the subject of the letter Arthur Young did not complete?', 1.263871669769287)\n",
            "\t ('What was the name of the letters Young published?', 1.276983380317688)\n",
            "\t ('What did Mackintosh claim he had more of than any other writer?', 1.2808232307434082)\n",
            "\t ('What geographical feature would prevent the Americans from retreating?', 1.2815642356872559)\n",
            "\t (\"Burke's unfinished letter to Arthur Young became part of what publication?\", 1.282180905342102)\n"
          ]
        }
      ]
    },
    {
      "cell_type": "code",
      "source": [
        "query = ['Which gender has a higher red blood cell count on average?']\n",
        "top_k_ques(query)"
      ],
      "metadata": {
        "id": "0hNsHrEuCdub",
        "colab": {
          "base_uri": "https://localhost:8080/"
        },
        "outputId": "9f3f35d3-4d33-4850-e6bf-e4a2bb9edc0d"
      },
      "execution_count": null,
      "outputs": [
        {
          "output_type": "stream",
          "name": "stdout",
          "text": [
            "\t (\"Who wrote 'A Vindication of the Rights of Men'?\", 1.2770447731018066)\n",
            "\t ('Who did Burke think Britain could beat at war?', 1.290177345275879)\n",
            "\t ('Burke claimed that the contract did not affect what groups of people?', 1.3044127225875854)\n",
            "\t (\"Who wrote 'The Rights of Man'?\", 1.3065577745437622)\n",
            "\t ('Who did Burke think a social class structure benefited?', 1.3066191673278809)\n"
          ]
        }
      ]
    },
    {
      "cell_type": "code",
      "source": [
        "query = ['Which gender has a lower white blood cell count on average?']\n",
        "top_k_ques(query)"
      ],
      "metadata": {
        "id": "qO4BwEQtCeR1",
        "colab": {
          "base_uri": "https://localhost:8080/"
        },
        "outputId": "0c0339fc-cbe7-4ece-f34a-c2c72cf4c236"
      },
      "execution_count": null,
      "outputs": [
        {
          "output_type": "stream",
          "name": "stdout",
          "text": [
            "\t (\"Who wrote 'A Vindication of the Rights of Men'?\", 1.2645127773284912)\n",
            "\t ('Who did Burke think Britain could beat at war?', 1.2746580839157104)\n",
            "\t ('Burke claimed that the contract did not affect what groups of people?', 1.278517246246338)\n",
            "\t (\"Who wrote 'The Rights of Man'?\", 1.2884252071380615)\n",
            "\t (\"Who wrote Dodsley's biography?\", 1.2886765003204346)\n"
          ]
        }
      ]
    },
    {
      "cell_type": "code",
      "source": [
        "query = ['Which body system do the lungs play a key role in?']\n",
        "top_k_ques(query)"
      ],
      "metadata": {
        "id": "YNLRatdfCelo",
        "colab": {
          "base_uri": "https://localhost:8080/"
        },
        "outputId": "d4c88e0d-081b-4ef2-996e-bf4ea103e906"
      },
      "execution_count": null,
      "outputs": [
        {
          "output_type": "stream",
          "name": "stdout",
          "text": [
            "\t ('What geographical feature would prevent the Americans from retreating?', 1.2132680416107178)\n",
            "\t ('What did Burke think was crucial for human life?', 1.2444883584976196)\n",
            "\t ('Who did Burke think a social class structure benefited?', 1.2526333332061768)\n",
            "\t ('What region did Prince Charles use to back up his points? ', 1.2638839483261108)\n",
            "\t ('Whose principles did L. Bol imitate?', 1.2647424936294556)\n"
          ]
        }
      ]
    },
    {
      "cell_type": "code",
      "source": [
        "query = ['Which body system do the lungs not play a key role in?']\n",
        "top_k_ques(query)"
      ],
      "metadata": {
        "id": "9bV812JjCe6u",
        "colab": {
          "base_uri": "https://localhost:8080/"
        },
        "outputId": "d3309b24-e9ec-4d37-c048-1fdf2054edc2"
      },
      "execution_count": null,
      "outputs": [
        {
          "output_type": "stream",
          "name": "stdout",
          "text": [
            "\t ('What geographical feature would prevent the Americans from retreating?', 1.1821203231811523)\n",
            "\t ('What region did Prince Charles use to back up his points? ', 1.2548292875289917)\n",
            "\t ('Burke claimed that the contract did not affect what groups of people?', 1.254873275756836)\n",
            "\t ('What did Burke think was crucial for human life?', 1.2568868398666382)\n",
            "\t ('Who did Burke think a social class structure benefited?', 1.2581617832183838)\n"
          ]
        }
      ]
    },
    {
      "cell_type": "code",
      "source": [
        "query = ['Is the brain fully developed at the onset of puberty?']\n",
        "top_k_ques(query)"
      ],
      "metadata": {
        "id": "nbaF8yAJCfMr",
        "colab": {
          "base_uri": "https://localhost:8080/"
        },
        "outputId": "d6c50235-1c67-4d38-f455-4a56d356c0ad"
      },
      "execution_count": null,
      "outputs": [
        {
          "output_type": "stream",
          "name": "stdout",
          "text": [
            "\t ('What was founded the year before the contract?', 1.2923957109451294)\n",
            "\t ('Who converted into Catholicism?', 1.3013157844543457)\n",
            "\t ('When was Trinity College Dublin established?', 1.3074853420257568)\n",
            "\t ('What was the name of the letters Young published?', 1.3114265203475952)\n",
            "\t ('When did Paymasters begin to get money directly from the HM treasury?', 1.3200222253799438)\n"
          ]
        }
      ]
    },
    {
      "cell_type": "code",
      "source": [
        "query = ['Is the brain not fully developed at the onset of puberty?']\n",
        "top_k_ques(query)"
      ],
      "metadata": {
        "id": "WAvzZHElCffK",
        "colab": {
          "base_uri": "https://localhost:8080/"
        },
        "outputId": "8ad4f552-88e9-4fa4-d7e8-2afc4a271a40"
      },
      "execution_count": null,
      "outputs": [
        {
          "output_type": "stream",
          "name": "stdout",
          "text": [
            "\t (\"Who said he 'perfectly differed from Mr. Fox'?\", 1.2860392332077026)\n",
            "\t ('What was the name of the letters Young published?', 1.3081443309783936)\n",
            "\t ('Who converted into Catholicism?', 1.3223891258239746)\n",
            "\t ('What was founded the year before the contract?', 1.323432445526123)\n",
            "\t ('When did Paymasters begin to get money directly from the HM treasury?', 1.3255380392074585)\n"
          ]
        }
      ]
    },
    {
      "cell_type": "code",
      "source": [
        "query = ['At what age is the brain considered to be approximately 90% of its adult size?']\n",
        "top_k_ques(query)"
      ],
      "metadata": {
        "id": "v4-kSBT-Cfxa",
        "colab": {
          "base_uri": "https://localhost:8080/"
        },
        "outputId": "9aba6325-cf9d-4e13-e528-bdc9ba967740"
      },
      "execution_count": null,
      "outputs": [
        {
          "output_type": "stream",
          "name": "stdout",
          "text": [
            "\t ('When was Trinity College Dublin established?', 1.2446255683898926)\n",
            "\t ('When did Edmund Burke graduate?', 1.2508925199508667)\n",
            "\t ('When did Burke begin attending Trinity College Dublin?', 1.2610880136489868)\n",
            "\t ('When did an angel supposedly speak to Bathurst?', 1.2614587545394897)\n",
            "\t ('When did Burke become the chief editor?', 1.276320457458496)\n"
          ]
        }
      ]
    },
    {
      "cell_type": "code",
      "source": [
        "query = ['The brain reaches what percentage of its adult size by the time a person is 60 years old?']\n",
        "top_k_ques(query)"
      ],
      "metadata": {
        "id": "h7IujwEgCgD4",
        "colab": {
          "base_uri": "https://localhost:8080/"
        },
        "outputId": "bd206e46-978d-44b1-e4ac-d34ce0cbda78"
      },
      "execution_count": null,
      "outputs": [
        {
          "output_type": "stream",
          "name": "stdout",
          "text": [
            "\t ('How long was the book Robert Dodsley wrote?', 1.2878847122192383)\n",
            "\t (\"How many words long was Burke's history of England contracted to be?\", 1.2912001609802246)\n",
            "\t ('When did Jean-Jacques Rousseau die?', 1.291517972946167)\n",
            "\t (\"How many pages long was Burke's history of England contracted to be?\", 1.2916827201843262)\n",
            "\t (\"How many words was Lord Acton's commentary?\", 1.303222894668579)\n"
          ]
        }
      ]
    },
    {
      "cell_type": "code",
      "source": [
        "query = ['What areas of the brain undergo the most significant changes during puberty?']\n",
        "top_k_ques(query)"
      ],
      "metadata": {
        "id": "k42ewjWBCgUQ",
        "colab": {
          "base_uri": "https://localhost:8080/"
        },
        "outputId": "1c135c50-4c75-43bf-cc7f-bbafb41a8ec0"
      },
      "execution_count": null,
      "outputs": [
        {
          "output_type": "stream",
          "name": "stdout",
          "text": [
            "\t (\"Who was featured in the most well-known part of Burke's Reflections?\", 1.2764241695404053)\n",
            "\t ('What region did Prince Charles use to back up his points? ', 1.2862557172775269)\n",
            "\t ('What did Burke think was crucial for human life?', 1.2870371341705322)\n",
            "\t (\"Burke's unfinished letter to Arthur Young became part of what publication?\", 1.2876253128051758)\n",
            "\t ('What geographical feature would prevent the Americans from retreating?', 1.28914213180542)\n"
          ]
        }
      ]
    },
    {
      "cell_type": "code",
      "source": [
        "query = ['The smallest changes in the brain during puberty occur in the parts of the cortex that process what kinds of information?']\n",
        "top_k_ques(query)"
      ],
      "metadata": {
        "id": "Sgw_mvGbCgmv",
        "colab": {
          "base_uri": "https://localhost:8080/"
        },
        "outputId": "81918fc7-e054-4c10-b08c-967b59d150ab"
      },
      "execution_count": null,
      "outputs": [
        {
          "output_type": "stream",
          "name": "stdout",
          "text": [
            "\t (\"Burke's unfinished letter to Arthur Young became part of what publication?\", 1.221121072769165)\n",
            "\t ('What did Rousseau say Burke had in regards to understanding human nature?', 1.2450579404830933)\n",
            "\t ('What was the name of the letters Young published?', 1.2518717050552368)\n",
            "\t ('What was the subject of the letter Arthur Young did not complete?', 1.2550405263900757)\n",
            "\t ('What publication did Burke found?', 1.2567905187606812)\n"
          ]
        }
      ]
    },
    {
      "cell_type": "code",
      "source": [
        "query = ['Which regions of the brain continue to mature and develop during the adolescent years?']\n",
        "top_k_ques(query)"
      ],
      "metadata": {
        "id": "JjamSpqzCg2Y",
        "colab": {
          "base_uri": "https://localhost:8080/"
        },
        "outputId": "e0eae407-4be9-4298-88a4-c0e6645a3cff"
      },
      "execution_count": null,
      "outputs": [
        {
          "output_type": "stream",
          "name": "stdout",
          "text": [
            "\t ('What region did Prince Charles use to back up his points? ', 1.2163207530975342)\n",
            "\t ('What geographical feature would prevent the Americans from retreating?', 1.2329826354980469)\n",
            "\t (\"Burke's unfinished letter to Arthur Young became part of what publication?\", 1.2442278861999512)\n",
            "\t ('What was the name of the letters Young published?', 1.2576898336410522)\n",
            "\t ('Who overcame his emotions in order to finish his speech?', 1.2588074207305908)\n"
          ]
        }
      ]
    },
    {
      "cell_type": "code",
      "source": [
        "query = ['What parts of the brain become less complex into the late teens?']\n",
        "top_k_ques(query)"
      ],
      "metadata": {
        "colab": {
          "base_uri": "https://localhost:8080/"
        },
        "id": "vCVVlbGvMKZs",
        "outputId": "80f61cc7-0671-415b-fa40-779e84cb7253"
      },
      "execution_count": null,
      "outputs": [
        {
          "output_type": "stream",
          "name": "stdout",
          "text": [
            "\t ('What was the name of the letters Young published?', 1.2656153440475464)\n",
            "\t ('What did Mackintosh claim he had more of than any other writer?', 1.2707489728927612)\n",
            "\t (\"What did Francis think Burke's writing had too much of?\", 1.2744094133377075)\n",
            "\t (\"Burke's unfinished letter to Arthur Young became part of what publication?\", 1.2826820611953735)\n",
            "\t ('Who overcame his emotions in order to finish his speech?', 1.289731502532959)\n"
          ]
        }
      ]
    },
    {
      "cell_type": "code",
      "source": [
        "query = ['What are the two neurotransmitters that play a role in increased emotional reactivity and sensitivity to rewards and stress during adolescence?']\n",
        "top_k_ques(query)"
      ],
      "metadata": {
        "id": "71lH7GAMChFg",
        "colab": {
          "base_uri": "https://localhost:8080/"
        },
        "outputId": "a51e3d82-5785-4929-ab4b-460413672761"
      },
      "execution_count": null,
      "outputs": [
        {
          "output_type": "stream",
          "name": "stdout",
          "text": [
            "\t ('What was the name of the letters Young published?', 1.2492859363555908)\n",
            "\t ('Which administration proposed the Paymaster act?', 1.2548224925994873)\n",
            "\t ('What nickname was Burke given for his emotional indignation?', 1.259202480316162)\n",
            "\t ('Who overcame his emotions in order to finish his speech?', 1.2645432949066162)\n",
            "\t ('What did Rousseau say Burke had in regards to understanding human nature?', 1.2698105573654175)\n"
          ]
        }
      ]
    },
    {
      "cell_type": "code",
      "source": [
        "query = ['Which two neurotransmitters cause adolescents to be less emotional and less responsive to rewards and stresses?']\n",
        "top_k_ques(query)"
      ],
      "metadata": {
        "id": "QIDgh5-dChT1",
        "colab": {
          "base_uri": "https://localhost:8080/"
        },
        "outputId": "2ec779b3-5969-4734-e4d0-93204deb7592"
      },
      "execution_count": null,
      "outputs": [
        {
          "output_type": "stream",
          "name": "stdout",
          "text": [
            "\t ('Which administration proposed the Paymaster act?', 1.247583270072937)\n",
            "\t ('Who overcame his emotions in order to finish his speech?', 1.249194622039795)\n",
            "\t ('What was the name of the letters Young published?', 1.2492200136184692)\n",
            "\t ('What did Rousseau say Burke had in regards to understanding human nature?', 1.273706316947937)\n",
            "\t (\"Burke's unfinished letter to Arthur Young became part of what publication?\", 1.278310775756836)\n"
          ]
        }
      ]
    },
    {
      "cell_type": "code",
      "source": [
        "query = ['What type of cognitive process is associated with the development of deductive reasoning?']\n",
        "top_k_ques(query)"
      ],
      "metadata": {
        "colab": {
          "base_uri": "https://localhost:8080/"
        },
        "id": "xsbP6nhAMCkt",
        "outputId": "19621eb4-a4fe-4c76-fc1e-c32d68d8dc0a"
      },
      "execution_count": null,
      "outputs": [
        {
          "output_type": "stream",
          "name": "stdout",
          "text": [
            "\t ('What type of doctrine did Burke propose?', 1.1680338382720947)\n",
            "\t ('What did Burke think a social hierarchy should be based on?', 1.1688759326934814)\n",
            "\t ('What did Rousseau say Burke had in regards to understanding human nature?', 1.176338791847229)\n",
            "\t ('What philosophy did Price support?', 1.1851774454116821)\n",
            "\t ('What did Burke believe was against the natural order of events?', 1.1935421228408813)\n"
          ]
        }
      ]
    },
    {
      "cell_type": "code",
      "source": [
        "query = ['Inductive reasoning leads to the development of what type of thinking?']\n",
        "top_k_ques(query)"
      ],
      "metadata": {
        "id": "xUCxYGHYChje",
        "colab": {
          "base_uri": "https://localhost:8080/"
        },
        "outputId": "72f45f6e-c34a-4bc8-ee3a-8ac1e6badf01"
      },
      "execution_count": null,
      "outputs": [
        {
          "output_type": "stream",
          "name": "stdout",
          "text": [
            "\t ('What did Burke think a social hierarchy should be based on?', 1.1677690744400024)\n",
            "\t ('What philosophy did Price support?', 1.1684865951538086)\n",
            "\t ('What type of doctrine did Burke propose?', 1.1690744161605835)\n",
            "\t ('What did Burke believe was against the natural order of events?', 1.1744353771209717)\n",
            "\t ('Whose principles did Burke imitate?', 1.1752909421920776)\n"
          ]
        }
      ]
    },
    {
      "cell_type": "code",
      "source": [
        "query = ['What are some of the perspectives of adolescence in society?']\n",
        "top_k_ques(query)"
      ],
      "metadata": {
        "colab": {
          "base_uri": "https://localhost:8080/"
        },
        "id": "8n2_Eq0B00rN",
        "outputId": "07aaf2f7-9a8f-42bd-aae9-02d63b33fd0d"
      },
      "execution_count": null,
      "outputs": [
        {
          "output_type": "stream",
          "name": "stdout",
          "text": [
            "\t ('What did Rousseau say Burke had in regards to understanding human nature?', 1.1795889139175415)\n",
            "\t ('What did Burke think a social hierarchy should be based on?', 1.2026410102844238)\n",
            "\t ('What did Burke think was the foundation of society?', 1.241262435913086)\n",
            "\t (\"What did Lord Chesterfield believe Bolingbroke's arguments could also apply to?\", 1.2435874938964844)\n",
            "\t ('What philosophy did Price support?', 1.2530182600021362)\n"
          ]
        }
      ]
    },
    {
      "cell_type": "code",
      "source": [
        "query = ['What is adolescence viewed as?']\n",
        "top_k_ques(query)"
      ],
      "metadata": {
        "colab": {
          "base_uri": "https://localhost:8080/"
        },
        "id": "2iSI9keY03EX",
        "outputId": "6643ac05-6a20-493c-9066-ddd833981c12"
      },
      "execution_count": null,
      "outputs": [
        {
          "output_type": "stream",
          "name": "stdout",
          "text": [
            "\t ('What was the name of the letters Young published?', 1.2361997365951538)\n",
            "\t ('What did Rousseau say Burke had in regards to understanding human nature?', 1.2746394872665405)\n",
            "\t ('What did Paine call Reflections?', 1.2819792032241821)\n",
            "\t ('What was the subject of the letter Arthur Young did not complete?', 1.287163257598877)\n",
            "\t ('What was Cobden an activist against?', 1.292448878288269)\n"
          ]
        }
      ]
    },
    {
      "cell_type": "code",
      "source": [
        "query = ['What is adolescence a period of?']\n",
        "top_k_ques(query)"
      ],
      "metadata": {
        "colab": {
          "base_uri": "https://localhost:8080/"
        },
        "id": "oHN3IzMd03LW",
        "outputId": "ac88655a-23a1-4db7-fdb2-961e7aa03b05"
      },
      "execution_count": null,
      "outputs": [
        {
          "output_type": "stream",
          "name": "stdout",
          "text": [
            "\t (\"How long before Hastings's trial had Britain been dealing with Indian unrest?\", 1.2326998710632324)\n",
            "\t ('What was the subject of the letter Arthur Young did not complete?', 1.2545785903930664)\n",
            "\t ('When was the Revolution Society founded?', 1.2587389945983887)\n",
            "\t ('What was the impeachment formally called?', 1.2650803327560425)\n",
            "\t ('When was Trinity College Dublin established?', 1.2682859897613525)\n"
          ]
        }
      ]
    },
    {
      "cell_type": "code",
      "source": [
        "query = ['Adolescents thinking is less bound to what than that of children?']\n",
        "top_k_ques(query)"
      ],
      "metadata": {
        "colab": {
          "base_uri": "https://localhost:8080/"
        },
        "id": "O9UQTHfO03PT",
        "outputId": "c96fec7e-18eb-4862-98b1-e5bacaa66266"
      },
      "execution_count": null,
      "outputs": [
        {
          "output_type": "stream",
          "name": "stdout",
          "text": [
            "\t ('Who wanted the argument to go public?', 0.8725441694259644)\n",
            "\t (\"What did Burke say 'envenoms everything it touches'?\", 0.9980752468109131)\n",
            "\t (\"Who said he 'perfectly differed from Mr. Fox'?\", 1.042303204536438)\n",
            "\t ('Who did Price think should see themselves as citizens of the world?', 1.080922245979309)\n",
            "\t (\"Who thought Burke and Fox shouldn't have made their argument public?\", 1.1321946382522583)\n"
          ]
        }
      ]
    },
    {
      "cell_type": "code",
      "source": [
        "query = ['Adolescents become what?']\n",
        "top_k_ques(query)"
      ],
      "metadata": {
        "colab": {
          "base_uri": "https://localhost:8080/"
        },
        "id": "KPFmV_M903UK",
        "outputId": "f1997e75-2c10-435a-ae47-c6e7c4174af8"
      },
      "execution_count": null,
      "outputs": [
        {
          "output_type": "stream",
          "name": "stdout",
          "text": [
            "\t ('Who wanted the argument to go public?', 0.7257106900215149)\n",
            "\t (\"What did Burke say 'envenoms everything it touches'?\", 0.9964730739593506)\n",
            "\t (\"Who said he 'perfectly differed from Mr. Fox'?\", 1.0520625114440918)\n",
            "\t ('What did Charles James Fox translate?', 1.1280627250671387)\n",
            "\t ('Who did Price think should see themselves as citizens of the world?', 1.2047890424728394)\n"
          ]
        }
      ]
    },
    {
      "cell_type": "code",
      "source": [
        "query = ['Inductive reasoning leads to the development of what type of thinking?']\n",
        "top_k_ques(query)"
      ],
      "metadata": {
        "colab": {
          "base_uri": "https://localhost:8080/"
        },
        "id": "lBT5iaRL05cd",
        "outputId": "6fc36211-a977-4660-bad7-1f1ace570b93"
      },
      "execution_count": null,
      "outputs": [
        {
          "output_type": "stream",
          "name": "stdout",
          "text": [
            "\t ('What did Burke think a social hierarchy should be based on?', 1.1677690744400024)\n",
            "\t ('What philosophy did Price support?', 1.1684865951538086)\n",
            "\t ('What type of doctrine did Burke propose?', 1.1690744161605835)\n",
            "\t ('What did Burke believe was against the natural order of events?', 1.1744353771209717)\n",
            "\t ('Whose principles did Burke imitate?', 1.1752909421920776)\n"
          ]
        }
      ]
    },
    {
      "cell_type": "code",
      "source": [
        "query = ['Inductive reasoning leads to the development of what type of thinking?']\n",
        "top_k_ques(query)"
      ],
      "metadata": {
        "id": "Z5_lJuS61WSz",
        "colab": {
          "base_uri": "https://localhost:8080/"
        },
        "outputId": "79691331-1200-4d7d-99b9-db2077381b63"
      },
      "execution_count": null,
      "outputs": [
        {
          "output_type": "stream",
          "name": "stdout",
          "text": [
            "\t ('What did Burke think a social hierarchy should be based on?', 1.1677690744400024)\n",
            "\t ('What philosophy did Price support?', 1.1684865951538086)\n",
            "\t ('What type of doctrine did Burke propose?', 1.1690744161605835)\n",
            "\t ('What did Burke believe was against the natural order of events?', 1.1744353771209717)\n",
            "\t ('Whose principles did Burke imitate?', 1.1752909421920776)\n"
          ]
        }
      ]
    },
    {
      "cell_type": "code",
      "source": [
        "query = ['Inductive reasoning leads to the development of what type of thinking?']\n",
        "top_k_ques(query)"
      ],
      "metadata": {
        "id": "eawK1tAq1Ykp",
        "colab": {
          "base_uri": "https://localhost:8080/"
        },
        "outputId": "f77d2c5b-187e-4087-d637-69fcc04a7fa7"
      },
      "execution_count": null,
      "outputs": [
        {
          "output_type": "stream",
          "name": "stdout",
          "text": [
            "\t ('What did Burke think a social hierarchy should be based on?', 1.1677690744400024)\n",
            "\t ('What philosophy did Price support?', 1.1684865951538086)\n",
            "\t ('What type of doctrine did Burke propose?', 1.1690744161605835)\n",
            "\t ('What did Burke believe was against the natural order of events?', 1.1744353771209717)\n",
            "\t ('Whose principles did Burke imitate?', 1.1752909421920776)\n"
          ]
        }
      ]
    },
    {
      "cell_type": "code",
      "source": [
        "query = ['Inductive reasoning leads to the development of what type of thinking?']\n",
        "top_k_ques(query)"
      ],
      "metadata": {
        "id": "6CUtrI0j1ZIC",
        "colab": {
          "base_uri": "https://localhost:8080/"
        },
        "outputId": "4f5a4ccc-44a6-4fa4-b774-3575a86dd479"
      },
      "execution_count": null,
      "outputs": [
        {
          "output_type": "stream",
          "name": "stdout",
          "text": [
            "\t ('What did Burke think a social hierarchy should be based on?', 1.1677690744400024)\n",
            "\t ('What philosophy did Price support?', 1.1684865951538086)\n",
            "\t ('What type of doctrine did Burke propose?', 1.1690744161605835)\n",
            "\t ('What did Burke believe was against the natural order of events?', 1.1744353771209717)\n",
            "\t ('Whose principles did Burke imitate?', 1.1752909421920776)\n"
          ]
        }
      ]
    },
    {
      "cell_type": "markdown",
      "source": [
        "#Theme 11 - National_Archives_and_Records_Administration "
      ],
      "metadata": {
        "id": "tt3MPjtfFECK"
      }
    },
    {
      "cell_type": "code",
      "source": [
        "theme = 'National_Archives_and_Records_Administration'"
      ],
      "metadata": {
        "id": "iX-JugkHFECK"
      },
      "execution_count": null,
      "outputs": []
    },
    {
      "cell_type": "markdown",
      "source": [
        "##Analysis"
      ],
      "metadata": {
        "id": "GdnNC7gSFECK"
      }
    },
    {
      "cell_type": "markdown",
      "source": [
        "Similar"
      ],
      "metadata": {
        "id": "r6-ldyLHHqhm"
      }
    },
    {
      "cell_type": "code",
      "source": [
        "query = ['What collection of archives is under the jurisdiction of the National Archives and Records Administration (NARA)?']\n",
        "top_k_ques(query)"
      ],
      "metadata": {
        "colab": {
          "base_uri": "https://localhost:8080/"
        },
        "outputId": "f37cebc7-ca35-43aa-cb92-6540d10034da",
        "id": "kkW6tlkvFECL"
      },
      "execution_count": null,
      "outputs": [
        {
          "output_type": "stream",
          "name": "stdout",
          "text": [
            "\t ('The Annual Register covered international events of what type?', 1.1278140544891357)\n",
            "\t ('What pamphlet did Fox publish in 3 August 1791?', 1.1755728721618652)\n",
            "\t ('What was Hastings the governor of during his impeachment?', 1.186761736869812)\n",
            "\t ('What was the impeachment formally called?', 1.1943436861038208)\n",
            "\t ('Who was the Secretary of the Board of Agriculture?', 1.1950229406356812)\n"
          ]
        }
      ]
    },
    {
      "cell_type": "code",
      "source": [
        "query = ['Which independent organization preserves the original copy of executive orders?']\n",
        "top_k_ques(query)"
      ],
      "metadata": {
        "colab": {
          "base_uri": "https://localhost:8080/"
        },
        "outputId": "0f629660-6e2a-42ca-f6d4-6ed41086cf12",
        "id": "Qy-FEKAkFECL"
      },
      "execution_count": null,
      "outputs": [
        {
          "output_type": "stream",
          "name": "stdout",
          "text": [
            "\t ('Which administration proposed the Paymaster act?', 1.0631524324417114)\n",
            "\t ('Who wanted to limit the powers of the political parties?', 1.144372820854187)\n",
            "\t ('What pamphlet did Fox publish in 3 August 1791?', 1.153132438659668)\n",
            "\t ('What did Burke call corporate tyranny in India?', 1.159178614616394)\n",
            "\t ('Who was the Secretary of the Board of Agriculture?', 1.1655924320220947)\n"
          ]
        }
      ]
    },
    {
      "cell_type": "code",
      "source": [
        "query = ['What is the responsibility of Congress in terms of preserving historical documents?']\n",
        "top_k_ques(query)"
      ],
      "metadata": {
        "colab": {
          "base_uri": "https://localhost:8080/"
        },
        "outputId": "15750f27-84cf-4700-8990-3cd6502e7ca7",
        "id": "WZHWufc-FECL"
      },
      "execution_count": null,
      "outputs": [
        {
          "output_type": "stream",
          "name": "stdout",
          "text": [
            "\t ('Who wanted to limit the powers of the political parties?', 1.1469264030456543)\n",
            "\t ('What did the Whig party want Burke to condemn?', 1.1509652137756348)\n",
            "\t ('What did Burke believe made political arrangements difficult?', 1.1614875793457031)\n",
            "\t ('When was the American Declaration of Independence issued?', 1.1667201519012451)\n",
            "\t ('Which administration proposed the Paymaster act?', 1.178993582725525)\n"
          ]
        }
      ]
    },
    {
      "cell_type": "code",
      "source": [
        "query = ['What type of entity is The Electoral College?']\n",
        "top_k_ques(query)"
      ],
      "metadata": {
        "colab": {
          "base_uri": "https://localhost:8080/"
        },
        "outputId": "83f53ee8-4d05-4dcb-f39d-80af3cea68be",
        "id": "JOK8gKJmFECL"
      },
      "execution_count": null,
      "outputs": [
        {
          "output_type": "stream",
          "name": "stdout",
          "text": [
            "\t ('What was the impeachment formally called?', 1.1239614486694336)\n",
            "\t ('Who wanted to limit the powers of the political parties?', 1.1316622495651245)\n",
            "\t ('What political party did Johnson claim the angel represented?', 1.1672425270080566)\n",
            "\t ('Who did Burke want constitutional limits on the power of?', 1.1717947721481323)\n",
            "\t ('What type of government did Burke think would be inept?', 1.1812896728515625)\n"
          ]
        }
      ]
    },
    {
      "cell_type": "code",
      "source": [
        "query = ['What kinds of records does Congress maintain?']\n",
        "top_k_ques(query)"
      ],
      "metadata": {
        "id": "k_ddHJO8FECL",
        "colab": {
          "base_uri": "https://localhost:8080/"
        },
        "outputId": "c620ae9b-a0fc-4df5-901b-2c2249ba3a3c"
      },
      "execution_count": null,
      "outputs": [
        {
          "output_type": "stream",
          "name": "stdout",
          "text": [
            "\t ('What was published in 1775?', 1.1248985528945923)\n",
            "\t ('What pamphlet did Fox publish in 3 August 1791?', 1.161558985710144)\n",
            "\t ('The Annual Register covered international events of what type?', 1.1761012077331543)\n",
            "\t ('What was the impeachment formally called?', 1.1802570819854736)\n",
            "\t ('What was Hastings the governor of during his impeachment?', 1.1808199882507324)\n"
          ]
        }
      ]
    },
    {
      "cell_type": "code",
      "source": [
        "query = ['What type of entity is The Electoral College?']\n",
        "top_k_ques(query)"
      ],
      "metadata": {
        "id": "fs9cDZKoFECL",
        "colab": {
          "base_uri": "https://localhost:8080/"
        },
        "outputId": "bfc9d8f8-6e86-4cd8-b41a-ff73966e57bf"
      },
      "execution_count": null,
      "outputs": [
        {
          "output_type": "stream",
          "name": "stdout",
          "text": [
            "\t ('What was the impeachment formally called?', 1.123961329460144)\n",
            "\t ('Who wanted to limit the powers of the political parties?', 1.1316622495651245)\n",
            "\t ('What political party did Johnson claim the angel represented?', 1.1672425270080566)\n",
            "\t ('Who did Burke want constitutional limits on the power of?', 1.1717948913574219)\n",
            "\t ('What type of government did Burke think would be inept?', 1.181289553642273)\n"
          ]
        }
      ]
    },
    {
      "cell_type": "code",
      "source": [
        "query = ['What kinds of records does Congress maintain?']\n",
        "top_k_ques(query)"
      ],
      "metadata": {
        "id": "NWZ7_9epFECL",
        "colab": {
          "base_uri": "https://localhost:8080/"
        },
        "outputId": "eb42e6ec-7437-4acb-8a42-b444be5a0fe5"
      },
      "execution_count": null,
      "outputs": [
        {
          "output_type": "stream",
          "name": "stdout",
          "text": [
            "\t ('What was published in 1775?', 1.1248985528945923)\n",
            "\t ('What pamphlet did Fox publish in 3 August 1791?', 1.161558985710144)\n",
            "\t ('The Annual Register covered international events of what type?', 1.1761012077331543)\n",
            "\t ('What was the impeachment formally called?', 1.1802570819854736)\n",
            "\t ('What was Hastings the governor of during his impeachment?', 1.1808199882507324)\n"
          ]
        }
      ]
    },
    {
      "cell_type": "code",
      "source": [
        "query = ['What areas of governance do state legislatures have authority over?']\n",
        "top_k_ques(query)"
      ],
      "metadata": {
        "id": "_S8AYofJFECL",
        "colab": {
          "base_uri": "https://localhost:8080/"
        },
        "outputId": "478b83f4-c76b-450d-fb45-13b42d768480"
      },
      "execution_count": null,
      "outputs": [
        {
          "output_type": "stream",
          "name": "stdout",
          "text": [
            "\t ('Who wanted to limit the powers of the political parties?', 1.0743677616119385)\n",
            "\t ('What type of government did Burke think would be inept?', 1.1201250553131104)\n",
            "\t ('Who did Burke want constitutional limits on the power of?', 1.1225531101226807)\n",
            "\t ('What did Burke say the plan of freedom must be governed by?', 1.1345014572143555)\n",
            "\t ('What did Burke think the British Empire should be governed based on?', 1.137668251991272)\n"
          ]
        }
      ]
    },
    {
      "cell_type": "code",
      "source": [
        "query = ['What type of records are kept by state legislatures?']\n",
        "top_k_ques(query)"
      ],
      "metadata": {
        "id": "21R65JocFECL",
        "colab": {
          "base_uri": "https://localhost:8080/"
        },
        "outputId": "fe7d33ae-f43c-446a-f11f-33c6d94f9c2e"
      },
      "execution_count": null,
      "outputs": [
        {
          "output_type": "stream",
          "name": "stdout",
          "text": [
            "\t ('What was published in 1775?', 1.1257001161575317)\n",
            "\t ('What was Hastings the governor of during his impeachment?', 1.1590280532836914)\n",
            "\t ('What pamphlet did Fox publish in 3 August 1791?', 1.1695959568023682)\n",
            "\t ('What pamphlet was published on 13 February 1790?', 1.1758121252059937)\n",
            "\t ('The Annual Register covered international events of what type?', 1.1776270866394043)\n"
          ]
        }
      ]
    },
    {
      "cell_type": "code",
      "source": [
        "query = ['What powers do state legislatures hold?']\n",
        "top_k_ques(query)"
      ],
      "metadata": {
        "id": "21M_rHINFECL",
        "colab": {
          "base_uri": "https://localhost:8080/"
        },
        "outputId": "d612c0be-89e8-4df0-cb9e-d49fc2fa7010"
      },
      "execution_count": null,
      "outputs": [
        {
          "output_type": "stream",
          "name": "stdout",
          "text": [
            "\t ('Who wanted to limit the powers of the political parties?', 1.0824716091156006)\n",
            "\t ('Who did Burke want constitutional limits on the power of?', 1.1050313711166382)\n",
            "\t ('What did Burke think the British Empire should be governed based on?', 1.1280463933944702)\n",
            "\t ('Which constitution did Burke condemn on May 6, 1791?', 1.1285582780838013)\n",
            "\t ('What did Burke believe made political arrangements difficult?', 1.1330187320709229)\n"
          ]
        }
      ]
    },
    {
      "cell_type": "code",
      "source": [
        "query = ['Which office manages the Electoral College?']\n",
        "top_k_ques(query)"
      ],
      "metadata": {
        "id": "snxMUo88FECM",
        "colab": {
          "base_uri": "https://localhost:8080/"
        },
        "outputId": "3c37fb3a-f20e-44d8-d3c7-7f2e20b5a1f8"
      },
      "execution_count": null,
      "outputs": [
        {
          "output_type": "stream",
          "name": "stdout",
          "text": [
            "\t ('What was the impeachment formally called?', 1.1129554510116577)\n",
            "\t ('Which administration proposed the Paymaster act?', 1.1361970901489258)\n",
            "\t ('Who wanted to limit the powers of the political parties?', 1.1416020393371582)\n",
            "\t ('Who condemned the Canadian constitution?', 1.1504417657852173)\n",
            "\t ('Who did Burke want constitutional limits on the power of?', 1.157193660736084)\n"
          ]
        }
      ]
    },
    {
      "cell_type": "code",
      "source": [
        "query = ['What is the Electoral College responsible for implementing?']\n",
        "top_k_ques(query)"
      ],
      "metadata": {
        "id": "01gnYoXEFECM",
        "colab": {
          "base_uri": "https://localhost:8080/"
        },
        "outputId": "7be37839-b380-4aab-cfa1-3b937d17d27c"
      },
      "execution_count": null,
      "outputs": [
        {
          "output_type": "stream",
          "name": "stdout",
          "text": [
            "\t ('Who wanted to limit the powers of the political parties?', 1.081020712852478)\n",
            "\t ('What was the impeachment formally called?', 1.0972782373428345)\n",
            "\t ('Who did Burke want constitutional limits on the power of?', 1.1226732730865479)\n",
            "\t ('Who condemned the Canadian constitution?', 1.1305218935012817)\n",
            "\t ('Which administration proposed the Paymaster act?', 1.1595189571380615)\n"
          ]
        }
      ]
    },
    {
      "cell_type": "code",
      "source": [
        "query = ['What regulations are issued by the Electoral College?']\n",
        "top_k_ques(query)"
      ],
      "metadata": {
        "id": "hQ8nElaRFECM",
        "colab": {
          "base_uri": "https://localhost:8080/"
        },
        "outputId": "0f440617-5612-4f21-ef99-5c6ec4612846"
      },
      "execution_count": null,
      "outputs": [
        {
          "output_type": "stream",
          "name": "stdout",
          "text": [
            "\t ('What was the impeachment formally called?', 1.1234490871429443)\n",
            "\t ('What law was William Ewart Gladstone against?', 1.1415411233901978)\n",
            "\t ('Which administration proposed the Paymaster act?', 1.145695447921753)\n",
            "\t ('Who wanted to limit the powers of the political parties?', 1.160748839378357)\n",
            "\t ('What was published in 1775?', 1.1768014430999756)\n"
          ]
        }
      ]
    },
    {
      "cell_type": "code",
      "source": [
        "query = ['What is the main function of the office administered by the Electoral College?']\n",
        "top_k_ques(query)"
      ],
      "metadata": {
        "id": "GsXUPlWYFECM",
        "colab": {
          "base_uri": "https://localhost:8080/"
        },
        "outputId": "0daa37ee-7e45-4300-bc69-be6ca8130686"
      },
      "execution_count": null,
      "outputs": [
        {
          "output_type": "stream",
          "name": "stdout",
          "text": [
            "\t ('What was the impeachment formally called?', 1.1253501176834106)\n",
            "\t ('Who wanted to limit the powers of the political parties?', 1.1652545928955078)\n",
            "\t ('What was Hastings the governor of during his impeachment?', 1.175482988357544)\n",
            "\t ('What did Burke say the plan of freedom must be governed by?', 1.1799489259719849)\n",
            "\t ('Which administration proposed the Paymaster act?', 1.1888591051101685)\n"
          ]
        }
      ]
    },
    {
      "cell_type": "code",
      "source": [
        "query = ['In what year was the National Historical Publications and Records Commission established?']\n",
        "top_k_ques(query)"
      ],
      "metadata": {
        "id": "DEijcnIyFECM",
        "colab": {
          "base_uri": "https://localhost:8080/"
        },
        "outputId": "4dc360d9-0d7d-431e-d542-697d121c5cde"
      },
      "execution_count": null,
      "outputs": [
        {
          "output_type": "stream",
          "name": "stdout",
          "text": [
            "\t (\"When was Burke's history of England published?\", 0.9441933035850525)\n",
            "\t (\"When was Hume's history of England published?\", 0.9916211366653442)\n",
            "\t ('When was the American Declaration of Independence issued?', 1.0090419054031372)\n",
            "\t ('What was founded the year before the contract?', 1.018351674079895)\n",
            "\t ('Dodsley was the only writer for the register until what year?', 1.0227359533309937)\n"
          ]
        }
      ]
    },
    {
      "cell_type": "code",
      "source": [
        "query = ['How many grants are offered by the government each year?']\n",
        "top_k_ques(query)"
      ],
      "metadata": {
        "id": "oPr7Xk5SFECM",
        "colab": {
          "base_uri": "https://localhost:8080/"
        },
        "outputId": "0395c2d0-2b69-49e4-9e01-36dec880c4a8"
      },
      "execution_count": null,
      "outputs": [
        {
          "output_type": "stream",
          "name": "stdout",
          "text": [
            "\t ('When did Paymasters begin to get money directly from the HM treasury?', 1.1630337238311768)\n",
            "\t ('How many books did Lord Acton publish on Burke?', 1.1896922588348389)\n",
            "\t ('How much money did Burke accept instead of the Earlship?', 1.1939005851745605)\n",
            "\t ('Which administration proposed the Paymaster act?', 1.194284439086914)\n",
            "\t ('How much did most pamphlets cost at the time?', 1.2039951086044312)\n"
          ]
        }
      ]
    },
    {
      "cell_type": "code",
      "source": [
        "query = ['How many institutions of higher education award grants to students annually?']\n",
        "top_k_ques(query)"
      ],
      "metadata": {
        "id": "DUvujRslFECM",
        "colab": {
          "base_uri": "https://localhost:8080/"
        },
        "outputId": "8340105e-c75c-40b5-e72b-85c41a52eecb"
      },
      "execution_count": null,
      "outputs": [
        {
          "output_type": "stream",
          "name": "stdout",
          "text": [
            "\t ('In what year did Trinity College ban Catholics?', 1.1751765012741089)\n",
            "\t ('When was Trinity College Dublin established?', 1.1820307970046997)\n",
            "\t ('When did Paymasters begin to get money directly from the HM treasury?', 1.1865133047103882)\n",
            "\t ('How many books did Lord Acton publish on Burke?', 1.18731689453125)\n",
            "\t ('When did Burke begin attending Trinity College Dublin?', 1.197001338005066)\n"
          ]
        }
      ]
    },
    {
      "cell_type": "markdown",
      "source": [
        "Dissimilar"
      ],
      "metadata": {
        "id": "salbhchtHv1_"
      }
    },
    {
      "cell_type": "code",
      "source": [
        "query = ['NARA is not responsible for what collection of archives??']\n",
        "top_k_ques(query)"
      ],
      "metadata": {
        "id": "5CPRjRQ5FECM",
        "colab": {
          "base_uri": "https://localhost:8080/"
        },
        "outputId": "658c4871-e189-4cf6-9286-8c07a5eb1545"
      },
      "execution_count": null,
      "outputs": [
        {
          "output_type": "stream",
          "name": "stdout",
          "text": [
            "\t ('Who wanted the argument to go public?', 1.1090234518051147)\n",
            "\t ('Dodsley was the only writer for the register until what year?', 1.126320719718933)\n",
            "\t (\"Who said he 'perfectly differed from Mr. Fox'?\", 1.1327275037765503)\n",
            "\t ('The Annual Register covered international events of what type?', 1.1409986019134521)\n",
            "\t (\"Fox quoted Burke's speeches from how long ago?\", 1.1558775901794434)\n"
          ]
        }
      ]
    },
    {
      "cell_type": "code",
      "source": [
        "query = ['What independent agency does not preserve the original copy of executive orders?']\n",
        "top_k_ques(query)"
      ],
      "metadata": {
        "id": "CV_6VSj5FECM",
        "colab": {
          "base_uri": "https://localhost:8080/"
        },
        "outputId": "a279cc87-e3a6-422d-8c0b-a28e4bdcc540"
      },
      "execution_count": null,
      "outputs": [
        {
          "output_type": "stream",
          "name": "stdout",
          "text": [
            "\t ('Which administration proposed the Paymaster act?', 1.0634586811065674)\n",
            "\t ('Who was the Secretary of the Board of Agriculture?', 1.1621464490890503)\n",
            "\t ('What pamphlet did Fox publish in 3 August 1791?', 1.1663269996643066)\n",
            "\t ('Who could no longer make withdrawal requests to the Bank of England after 1782?', 1.1790878772735596)\n",
            "\t ('Who did Basset send a copy of his letter to?', 1.1804219484329224)\n"
          ]
        }
      ]
    },
    {
      "cell_type": "code",
      "source": [
        "query = ['What is Congress not responsible for preserving?']\n",
        "top_k_ques(query)"
      ],
      "metadata": {
        "id": "vXcm8Q4XFECM",
        "colab": {
          "base_uri": "https://localhost:8080/"
        },
        "outputId": "2ff37f67-30bd-4572-f065-d2e7e5da81f3"
      },
      "execution_count": null,
      "outputs": [
        {
          "output_type": "stream",
          "name": "stdout",
          "text": [
            "\t ('Who wanted to limit the powers of the political parties?', 1.1250113248825073)\n",
            "\t ('What did the Whig party want Burke to condemn?', 1.1505616903305054)\n",
            "\t ('Who did Burke want constitutional limits on the power of?', 1.1568589210510254)\n",
            "\t ('What was the impeachment formally called?', 1.1633062362670898)\n",
            "\t ('Which administration proposed the Paymaster act?', 1.1673842668533325)\n"
          ]
        }
      ]
    },
    {
      "cell_type": "code",
      "source": [
        "query = ['What kind of agency is not The Electoral College?']\n",
        "top_k_ques(query)"
      ],
      "metadata": {
        "id": "IW5jLBCwFECM",
        "colab": {
          "base_uri": "https://localhost:8080/"
        },
        "outputId": "7765af36-efa6-47ce-8ec0-5a0790ae2b0f"
      },
      "execution_count": null,
      "outputs": [
        {
          "output_type": "stream",
          "name": "stdout",
          "text": [
            "\t ('What was the impeachment formally called?', 1.1544065475463867)\n",
            "\t ('Which administration proposed the Paymaster act?', 1.1724590063095093)\n",
            "\t ('What type of government did Burke think would be inept?', 1.1920720338821411)\n",
            "\t ('Who wanted to limit the powers of the political parties?', 1.2021667957305908)\n",
            "\t ('Who was the Secretary of the Board of Agriculture?', 1.2058130502700806)\n"
          ]
        }
      ]
    },
    {
      "cell_type": "code",
      "source": [
        "query = ['What types of documents does not Congress preserve?']\n",
        "top_k_ques(query)"
      ],
      "metadata": {
        "id": "Pu1XH7WwFECN",
        "colab": {
          "base_uri": "https://localhost:8080/"
        },
        "outputId": "348d7b35-cce5-4d5f-c760-af514523870f"
      },
      "execution_count": null,
      "outputs": [
        {
          "output_type": "stream",
          "name": "stdout",
          "text": [
            "\t ('What was published in 1775?', 1.1260175704956055)\n",
            "\t ('What pamphlet did Fox publish in 3 August 1791?', 1.1363000869750977)\n",
            "\t ('Which constitution did Burke condemn on May 6, 1791?', 1.1492518186569214)\n",
            "\t ('What was the impeachment formally called?', 1.161470890045166)\n",
            "\t ('What pamphlet was published on 13 February 1790?', 1.1672848463058472)\n"
          ]
        }
      ]
    },
    {
      "cell_type": "code",
      "source": [
        "query = ['What does state legislatures not oversee the operation of?']\n",
        "top_k_ques(query)"
      ],
      "metadata": {
        "id": "iL7PZqTEFECN",
        "colab": {
          "base_uri": "https://localhost:8080/"
        },
        "outputId": "d7a23059-54b1-4305-9096-92fe1c064328"
      },
      "execution_count": null,
      "outputs": [
        {
          "output_type": "stream",
          "name": "stdout",
          "text": [
            "\t ('Who wanted to limit the powers of the political parties?', 1.0323536396026611)\n",
            "\t ('Who did Burke want constitutional limits on the power of?', 1.070587396621704)\n",
            "\t ('What did Burke say the plan of freedom must be governed by?', 1.1062129735946655)\n",
            "\t ('What did Burke believe made political arrangements difficult?', 1.1116529703140259)\n",
            "\t ('What did the Whig party want Burke to condemn?', 1.1213151216506958)\n"
          ]
        }
      ]
    },
    {
      "cell_type": "code",
      "source": [
        "query = ['What kind of documentation is not maintained by the state legislatures?']\n",
        "top_k_ques(query)"
      ],
      "metadata": {
        "id": "4HoJ9HQ0FECN",
        "colab": {
          "base_uri": "https://localhost:8080/"
        },
        "outputId": "36ecd861-90f1-450a-86c1-04dbba30a7f3"
      },
      "execution_count": null,
      "outputs": [
        {
          "output_type": "stream",
          "name": "stdout",
          "text": [
            "\t ('What was published in 1775?', 1.0966675281524658)\n",
            "\t ('What did Burke believe made political arrangements difficult?', 1.1220911741256714)\n",
            "\t ('What pamphlet did Fox publish in 3 August 1791?', 1.1269738674163818)\n",
            "\t ('What pamphlet was published on 13 February 1790?', 1.128035545349121)\n",
            "\t ('Which constitution did Burke condemn on May 6, 1791?', 1.1280832290649414)\n"
          ]
        }
      ]
    },
    {
      "cell_type": "code",
      "source": [
        "query = ['What authority does state legislatures not have?']\n",
        "top_k_ques(query)"
      ],
      "metadata": {
        "id": "NKefuaZZFECN",
        "colab": {
          "base_uri": "https://localhost:8080/"
        },
        "outputId": "1bf1b963-cf24-4902-9b95-88fcd0f0b3fb"
      },
      "execution_count": null,
      "outputs": [
        {
          "output_type": "stream",
          "name": "stdout",
          "text": [
            "\t ('Who wanted to limit the powers of the political parties?', 1.0536378622055054)\n",
            "\t ('Who did Burke want constitutional limits on the power of?', 1.0659152269363403)\n",
            "\t ('Which constitution did Burke condemn on May 6, 1791?', 1.079596757888794)\n",
            "\t ('What type of government did Burke think would be inept?', 1.0969607830047607)\n",
            "\t ('What did Burke think the British Empire should be governed based on?', 1.09807550907135)\n"
          ]
        }
      ]
    },
    {
      "cell_type": "code",
      "source": [
        "query = ['What office does not administer the Electoral College?']\n",
        "top_k_ques(query)"
      ],
      "metadata": {
        "id": "Xiv9SWm0FECN",
        "colab": {
          "base_uri": "https://localhost:8080/"
        },
        "outputId": "0da9ce8c-a6e6-4f51-aca3-ad51912ff4c6"
      },
      "execution_count": null,
      "outputs": [
        {
          "output_type": "stream",
          "name": "stdout",
          "text": [
            "\t ('What was the impeachment formally called?', 1.095910906791687)\n",
            "\t ('Which administration proposed the Paymaster act?', 1.126145601272583)\n",
            "\t ('Which constitution did Burke condemn on May 6, 1791?', 1.152563452720642)\n",
            "\t ('Who wanted to limit the powers of the political parties?', 1.1629735231399536)\n",
            "\t ('Who did Burke want constitutional limits on the power of?', 1.1682780981063843)\n"
          ]
        }
      ]
    },
    {
      "cell_type": "code",
      "source": [
        "query = ['What code is the Electoral College not responsible for?']\n",
        "top_k_ques(query)"
      ],
      "metadata": {
        "id": "6V41WjRMFECN",
        "colab": {
          "base_uri": "https://localhost:8080/"
        },
        "outputId": "cded4811-d841-4706-e110-121287d79db1"
      },
      "execution_count": null,
      "outputs": [
        {
          "output_type": "stream",
          "name": "stdout",
          "text": [
            "\t ('What was the impeachment formally called?', 1.052178144454956)\n",
            "\t ('Who condemned the Canadian constitution?', 1.1530561447143555)\n",
            "\t ('When was the American Declaration of Independence issued?', 1.1714086532592773)\n",
            "\t ('Which constitution did Burke condemn on May 6, 1791?', 1.1850873231887817)\n",
            "\t ('What was Hastings the governor of during his impeachment?', 1.1885653734207153)\n"
          ]
        }
      ]
    },
    {
      "cell_type": "code",
      "source": [
        "query = ['What statutes does the Electoral College not publish?']\n",
        "top_k_ques(query)"
      ],
      "metadata": {
        "id": "hE2mEailFECN",
        "colab": {
          "base_uri": "https://localhost:8080/"
        },
        "outputId": "6c40aeb2-06a5-4996-de18-fab8579281b4"
      },
      "execution_count": null,
      "outputs": [
        {
          "output_type": "stream",
          "name": "stdout",
          "text": [
            "\t ('What was published in 1775?', 1.0718313455581665)\n",
            "\t ('Which constitution did Burke condemn on May 6, 1791?', 1.075891137123108)\n",
            "\t ('What was the impeachment formally called?', 1.086777925491333)\n",
            "\t ('What pamphlet did Fox publish in 3 August 1791?', 1.0868772268295288)\n",
            "\t ('What law was William Ewart Gladstone against?', 1.0905219316482544)\n"
          ]
        }
      ]
    },
    {
      "cell_type": "code",
      "source": [
        "query = ['What office does the Electoral College not administer?']\n",
        "top_k_ques(query)"
      ],
      "metadata": {
        "id": "aBtIB7Q5FECN",
        "colab": {
          "base_uri": "https://localhost:8080/"
        },
        "outputId": "d4620f2f-7b3b-4de8-cd0d-0d804a9ed53b"
      },
      "execution_count": null,
      "outputs": [
        {
          "output_type": "stream",
          "name": "stdout",
          "text": [
            "\t ('What was the impeachment formally called?', 1.0893559455871582)\n",
            "\t ('Which administration proposed the Paymaster act?', 1.1576879024505615)\n",
            "\t ('Which constitution did Burke condemn on May 6, 1791?', 1.1676931381225586)\n",
            "\t ('Who did Burke want constitutional limits on the power of?', 1.1932709217071533)\n",
            "\t ('Who condemned the Canadian constitution?', 1.193400263786316)\n"
          ]
        }
      ]
    },
    {
      "cell_type": "code",
      "source": [
        "query = ['What year was The National Historical Publications and Records Commission not established?']\n",
        "top_k_ques(query)"
      ],
      "metadata": {
        "id": "jgawshikFECN",
        "colab": {
          "base_uri": "https://localhost:8080/"
        },
        "outputId": "df0cb627-2b44-4a37-fdd6-72f28056b0ad"
      },
      "execution_count": null,
      "outputs": [
        {
          "output_type": "stream",
          "name": "stdout",
          "text": [
            "\t (\"When was Burke's history of England published?\", 0.935650110244751)\n",
            "\t (\"When was Hume's history of England published?\", 0.9856116771697998)\n",
            "\t ('When was the American Declaration of Independence issued?', 1.0012439489364624)\n",
            "\t ('Dodsley was the only writer for the register until what year?', 1.0056188106536865)\n",
            "\t ('What was founded the year before the contract?', 1.0152335166931152)\n"
          ]
        }
      ]
    },
    {
      "cell_type": "code",
      "source": [
        "query = ['About how many grants has the NHPRC not awarded?']\n",
        "top_k_ques(query)"
      ],
      "metadata": {
        "id": "ITeaCImBK05O",
        "colab": {
          "base_uri": "https://localhost:8080/"
        },
        "outputId": "e01d0284-0475-4a1e-ff7c-37b716fa009e"
      },
      "execution_count": null,
      "outputs": [
        {
          "output_type": "stream",
          "name": "stdout",
          "text": [
            "\t ('When did Paymasters begin to get money directly from the HM treasury?', 1.123218297958374)\n",
            "\t ('How much money did Burke accept instead of the Earlship?', 1.1616883277893066)\n",
            "\t ('How many books did Lord Acton publish on Burke?', 1.1668037176132202)\n",
            "\t (\"How many words long was Burke's history of England contracted to be?\", 1.2025532722473145)\n",
            "\t (\"How many pages long was Burke's history of England contracted to be?\", 1.2054669857025146)\n"
          ]
        }
      ]
    },
    {
      "cell_type": "code",
      "source": [
        "query = ['How many grants are not awarded by the government annually?']\n",
        "top_k_ques(query)"
      ],
      "metadata": {
        "id": "G6VbEx1jK2Wy",
        "colab": {
          "base_uri": "https://localhost:8080/"
        },
        "outputId": "84197cd3-6579-4967-96e8-5ab50e61ead9"
      },
      "execution_count": null,
      "outputs": [
        {
          "output_type": "stream",
          "name": "stdout",
          "text": [
            "\t ('When did Paymasters begin to get money directly from the HM treasury?', 1.1643184423446655)\n",
            "\t ('How many books did Lord Acton publish on Burke?', 1.1996713876724243)\n",
            "\t ('Which administration proposed the Paymaster act?', 1.214601755142212)\n",
            "\t ('How much money did Burke accept instead of the Earlship?', 1.2234889268875122)\n",
            "\t ('What was founded the year before the contract?', 1.227081537246704)\n"
          ]
        }
      ]
    },
    {
      "cell_type": "code",
      "source": [
        "query = ['How many colleges and universities not award grants to students each year?']\n",
        "top_k_ques(query)"
      ],
      "metadata": {
        "id": "idsDa40JK3I8",
        "colab": {
          "base_uri": "https://localhost:8080/"
        },
        "outputId": "72104ac1-c3ec-4ac7-83ae-d5281589d9a4"
      },
      "execution_count": null,
      "outputs": [
        {
          "output_type": "stream",
          "name": "stdout",
          "text": [
            "\t ('In what year did Trinity College ban Catholics?', 1.1771771907806396)\n",
            "\t ('What type of people did Trinity College Dublin not allow to earn degrees there?', 1.203924298286438)\n",
            "\t ('When did Paymasters begin to get money directly from the HM treasury?', 1.2124168872833252)\n",
            "\t ('How many books did Lord Acton publish on Burke?', 1.2124898433685303)\n",
            "\t ('When was Trinity College Dublin established?', 1.2199974060058594)\n"
          ]
        }
      ]
    },
    {
      "cell_type": "markdown",
      "source": [
        "#Theme 12 - Hindu_philosophy"
      ],
      "metadata": {
        "id": "4KX319heGuBQ"
      }
    },
    {
      "cell_type": "code",
      "source": [
        "theme = 'Hindu_philosophy'"
      ],
      "metadata": {
        "id": "URIPt-zSGuBQ"
      },
      "execution_count": null,
      "outputs": []
    },
    {
      "cell_type": "markdown",
      "source": [
        "##Analysis"
      ],
      "metadata": {
        "id": "_oOZzYkIGuBQ"
      }
    },
    {
      "cell_type": "markdown",
      "source": [
        "Similar"
      ],
      "metadata": {
        "id": "4nPmu337LO_P"
      }
    },
    {
      "cell_type": "code",
      "source": [
        "query = ['What is the historical origin of Hindu philosophy?']\n",
        "top_k_ques(query)"
      ],
      "metadata": {
        "colab": {
          "base_uri": "https://localhost:8080/"
        },
        "outputId": "d5b5fc38-fecc-40e3-9083-928c26458c78",
        "id": "5nb2fbS_GuBR"
      },
      "execution_count": null,
      "outputs": [
        {
          "output_type": "stream",
          "name": "stdout",
          "text": [
            "\t ('What philosophy did Price support?', 1.1242917776107788)\n",
            "\t ('What did Burke believe was the foundation of religion?', 1.1352299451828003)\n",
            "\t ('Whose principles did L. Bol imitate?', 1.150197982788086)\n",
            "\t ('When was the Revolution Society founded?', 1.157507300376892)\n",
            "\t (\"Who wrote 'The Rights of Man'?\", 1.1651804447174072)\n"
          ]
        }
      ]
    },
    {
      "cell_type": "code",
      "source": [
        "query = ['How many main branches of Hindu philosophy exist?']\n",
        "top_k_ques(query)"
      ],
      "metadata": {
        "colab": {
          "base_uri": "https://localhost:8080/"
        },
        "outputId": "e04b028f-6a91-41a5-f5dd-561e46ca7826",
        "id": "oKmRyPnyGuBR"
      },
      "execution_count": null,
      "outputs": [
        {
          "output_type": "stream",
          "name": "stdout",
          "text": [
            "\t ('What did Burke call corporate tyranny in India?', 1.1911574602127075)\n",
            "\t ('How many books did Lord Acton publish on Burke?', 1.2175661325454712)\n",
            "\t ('What philosophy did Price support?', 1.2183412313461304)\n",
            "\t ('What did Burke believe was the foundation of religion?', 1.2218865156173706)\n",
            "\t ('Whose principles did L. Bol imitate?', 1.223077416419983)\n"
          ]
        }
      ]
    },
    {
      "cell_type": "code",
      "source": [
        "query = ['What are the traditional, mainstream systems of Hindu philosophy referred to as?']\n",
        "top_k_ques(query)"
      ],
      "metadata": {
        "colab": {
          "base_uri": "https://localhost:8080/"
        },
        "outputId": "be294b4e-a1cf-426f-8475-bf675ae0c54b",
        "id": "9S7RG8gIGuBR"
      },
      "execution_count": null,
      "outputs": [
        {
          "output_type": "stream",
          "name": "stdout",
          "text": [
            "\t ('What did Burke call corporate tyranny in India?', 1.0492324829101562)\n",
            "\t ('What philosophy did Price support?', 1.1120572090148926)\n",
            "\t ('What type of doctrine did Burke propose?', 1.144097089767456)\n",
            "\t ('Whose principles did L. Bol imitate?', 1.1459842920303345)\n",
            "\t ('What did Paine call Reflections?', 1.176249623298645)\n"
          ]
        }
      ]
    },
    {
      "cell_type": "code",
      "source": [
        "query = ['What are the non-traditional Indian philosophical systems that do not accept the authority of the Vedas called?']\n",
        "top_k_ques(query)"
      ],
      "metadata": {
        "id": "OrOg2jznGuBR",
        "colab": {
          "base_uri": "https://localhost:8080/"
        },
        "outputId": "337140bc-b920-4d6d-e7c3-a13c3faf97e2"
      },
      "execution_count": null,
      "outputs": [
        {
          "output_type": "stream",
          "name": "stdout",
          "text": [
            "\t ('What did Burke call corporate tyranny in India?', 1.013529896736145)\n",
            "\t ('What did Burke nickname his paternalistic doctrine?', 1.1663790941238403)\n",
            "\t ('What philosophy did Price support?', 1.1758759021759033)\n",
            "\t ('What type of doctrine did Burke propose?', 1.1890021562576294)\n",
            "\t ('What did Paine call Reflections?', 1.1898236274719238)\n"
          ]
        }
      ]
    },
    {
      "cell_type": "code",
      "source": [
        "query = ['What is the meaning of the term \"Carvaka\"?']\n",
        "top_k_ques(query)"
      ],
      "metadata": {
        "id": "aeA3t7QhGuBR",
        "colab": {
          "base_uri": "https://localhost:8080/"
        },
        "outputId": "a63d21b1-8a36-418b-8813-44724ef1987e"
      },
      "execution_count": null,
      "outputs": [
        {
          "output_type": "stream",
          "name": "stdout",
          "text": [
            "\t (\"Who said he 'perfectly differed from Mr. Fox'?\", 1.165772557258606)\n",
            "\t ('What did Charles James Fox translate?', 1.1755249500274658)\n",
            "\t ('Who wanted the argument to go public?', 1.1875784397125244)\n",
            "\t (\"What did Burke say 'envenoms everything it touches'?\", 1.1945948600769043)\n",
            "\t ('Whose ascendancy did Burke think was malignant?', 1.2203004360198975)\n"
          ]
        }
      ]
    },
    {
      "cell_type": "code",
      "source": [
        "query = ['In what centuries have scholars used primary texts to debate Indian philosophical traditions?']\n",
        "top_k_ques(query)"
      ],
      "metadata": {
        "id": "ghIwfum1GuBR",
        "colab": {
          "base_uri": "https://localhost:8080/"
        },
        "outputId": "faa10847-03e0-4708-a826-56ef92af666c"
      },
      "execution_count": null,
      "outputs": [
        {
          "output_type": "stream",
          "name": "stdout",
          "text": [
            "\t (\"When was Hume's history of England published?\", 1.0724375247955322)\n",
            "\t (\"When was the tenth printing of the French translation of 'Reflections on the Revolution in France'?\", 1.093199372291565)\n",
            "\t ('When did Edmund Burke start a debate club?', 1.101587176322937)\n",
            "\t (\"How long before Hastings's trial had Britain been dealing with Indian unrest?\", 1.1114702224731445)\n",
            "\t ('In what year did Trinity College ban Catholics?', 1.113917350769043)\n"
          ]
        }
      ]
    },
    {
      "cell_type": "code",
      "source": [
        "query = ['How are Buddhism and Jainism classified in relation to religion and philosophy?']\n",
        "top_k_ques(query)"
      ],
      "metadata": {
        "id": "T8tNf9ahGuBR",
        "colab": {
          "base_uri": "https://localhost:8080/"
        },
        "outputId": "b7f699a9-d579-4cfe-df07-cc9ecb2b17f9"
      },
      "execution_count": null,
      "outputs": [
        {
          "output_type": "stream",
          "name": "stdout",
          "text": [
            "\t ('What philosophy did Price support?', 1.229480266571045)\n",
            "\t ('What did Burke believe was the foundation of religion?', 1.2309048175811768)\n",
            "\t ('What did Burke say established religion undermined?', 1.2533445358276367)\n",
            "\t ('Burke thought religion was beneficial to what besides souls?', 1.260706901550293)\n",
            "\t ('Who converted into Catholicism?', 1.264814019203186)\n"
          ]
        }
      ]
    },
    {
      "cell_type": "code",
      "source": [
        "query = ['What other traditions are considered to be within the realm of Hindu philosophy?']\n",
        "top_k_ques(query)"
      ],
      "metadata": {
        "id": "cp649cORGuBR",
        "colab": {
          "base_uri": "https://localhost:8080/"
        },
        "outputId": "53b364c9-d1c8-4d34-f4b6-c13d593554d0"
      },
      "execution_count": null,
      "outputs": [
        {
          "output_type": "stream",
          "name": "stdout",
          "text": [
            "\t ('Whose principles did L. Bol imitate?', 1.1656644344329834)\n",
            "\t ('What philosophy did Price support?', 1.1719157695770264)\n",
            "\t ('Burke thought religion was beneficial to what besides souls?', 1.2155579328536987)\n",
            "\t ('What did Burke call corporate tyranny in India?', 1.2161716222763062)\n",
            "\t ('What did Burke believe was the foundation of religion?', 1.2186309099197388)\n"
          ]
        }
      ]
    },
    {
      "cell_type": "code",
      "source": [
        "query = ['How accessible are the primary sources of knowledge on Indian philosophy?']\n",
        "top_k_ques(query)"
      ],
      "metadata": {
        "id": "gBjKkrIAGuBS",
        "colab": {
          "base_uri": "https://localhost:8080/"
        },
        "outputId": "c70753c1-d629-444e-a5c6-f23a2952b8c4"
      },
      "execution_count": null,
      "outputs": [
        {
          "output_type": "stream",
          "name": "stdout",
          "text": [
            "\t ('What vice-filled book did Hume publish?', 1.1971913576126099)\n",
            "\t ('What did Rousseau say Burke had in regards to understanding human nature?', 1.1989880800247192)\n",
            "\t (\"When was Hume's history of England published?\", 1.2055028676986694)\n",
            "\t ('What philosophy did Price support?', 1.210242748260498)\n",
            "\t ('What publication did Burke found?', 1.215851068496704)\n"
          ]
        }
      ]
    },
    {
      "cell_type": "code",
      "source": [
        "query = ['What are the key differences between the various sibling traditions within Indian philosophy?']\n",
        "top_k_ques(query)"
      ],
      "metadata": {
        "id": "BR_U2ci0GuBS",
        "colab": {
          "base_uri": "https://localhost:8080/"
        },
        "outputId": "455dac69-2629-4f0f-ef57-885a5abe10b8"
      },
      "execution_count": null,
      "outputs": [
        {
          "output_type": "stream",
          "name": "stdout",
          "text": [
            "\t ('What did Rousseau say Burke had in regards to understanding human nature?', 1.1929458379745483)\n",
            "\t ('Whose principles did L. Bol imitate?', 1.195361852645874)\n",
            "\t ('What philosophy did Price support?', 1.2086570262908936)\n",
            "\t ('What did Burke think a social hierarchy should be based on?', 1.2359619140625)\n",
            "\t ('What did Burke think had disgraced Britain in India?', 1.244188904762268)\n"
          ]
        }
      ]
    },
    {
      "cell_type": "code",
      "source": [
        "query = ['What points of agreement exist within the Astika and Nastika philosophical systems?']\n",
        "top_k_ques(query)"
      ],
      "metadata": {
        "id": "QhdYBKvvGuBS",
        "colab": {
          "base_uri": "https://localhost:8080/"
        },
        "outputId": "d7f626ef-648e-454b-ef8d-a56b6c8aafe6"
      },
      "execution_count": null,
      "outputs": [
        {
          "output_type": "stream",
          "name": "stdout",
          "text": [
            "\t ('What did Rousseau say Burke had in regards to understanding human nature?', 1.1017093658447266)\n",
            "\t ('What philosophy did Price support?', 1.1136760711669922)\n",
            "\t ('What did Burke think a social hierarchy should be based on?', 1.1336159706115723)\n",
            "\t ('What type of doctrine did Burke propose?', 1.1389844417572021)\n",
            "\t (\"What did Lord Chesterfield believe Bolingbroke's arguments could also apply to?\", 1.1404283046722412)\n"
          ]
        }
      ]
    },
    {
      "cell_type": "code",
      "source": [
        "query = ['Which two named philosophical systems are considered to be identical?']\n",
        "top_k_ques(query)"
      ],
      "metadata": {
        "id": "KZO3omQ9GuBT",
        "colab": {
          "base_uri": "https://localhost:8080/"
        },
        "outputId": "9c843bbe-ef93-41b2-cdda-6b981caed969"
      },
      "execution_count": null,
      "outputs": [
        {
          "output_type": "stream",
          "name": "stdout",
          "text": [
            "\t ('What philosophy did Price support?', 1.1051099300384521)\n",
            "\t ('What type of doctrine did Burke propose?', 1.1466470956802368)\n",
            "\t ('Whose principles did Burke imitate?', 1.147693157196045)\n",
            "\t ('What did Rousseau say Burke had in regards to understanding human nature?', 1.1576658487319946)\n",
            "\t ('Which French philosopher did Burke attack?', 1.1591163873672485)\n"
          ]
        }
      ]
    },
    {
      "cell_type": "code",
      "source": [
        "query = ['How many traditionally recognized systems of philosophy exist within Hinduism?']\n",
        "top_k_ques(query)"
      ],
      "metadata": {
        "id": "cyRF9f41GuBT",
        "colab": {
          "base_uri": "https://localhost:8080/"
        },
        "outputId": "56c3bf07-7970-42b0-9be5-371eca646c5d"
      },
      "execution_count": null,
      "outputs": [
        {
          "output_type": "stream",
          "name": "stdout",
          "text": [
            "\t ('What philosophy did Price support?', 1.156436800956726)\n",
            "\t ('What did Burke call corporate tyranny in India?', 1.1957658529281616)\n",
            "\t ('Who converted into Catholicism?', 1.206263542175293)\n",
            "\t ('When was Trinity College Dublin established?', 1.2090113162994385)\n",
            "\t ('Which French philosopher did Burke attack?', 1.2162872552871704)\n"
          ]
        }
      ]
    },
    {
      "cell_type": "markdown",
      "source": [
        "Disimilar"
      ],
      "metadata": {
        "id": "6PoAbcTfMKwN"
      }
    },
    {
      "cell_type": "code",
      "source": [
        "query = ['What was not the origin of Hindu philosophy?']\n",
        "top_k_ques(query)"
      ],
      "metadata": {
        "id": "nvhjmZ0SGuBT",
        "colab": {
          "base_uri": "https://localhost:8080/"
        },
        "outputId": "52b98569-dacc-4aec-97f6-d003d65963da"
      },
      "execution_count": null,
      "outputs": [
        {
          "output_type": "stream",
          "name": "stdout",
          "text": [
            "\t ('What philosophy did Price support?', 1.1098543405532837)\n",
            "\t ('What did Burke believe was the foundation of religion?', 1.1200270652770996)\n",
            "\t ('Whose principles did L. Bol imitate?', 1.131596565246582)\n",
            "\t ('What did Burke call corporate tyranny in India?', 1.161873698234558)\n",
            "\t (\"Who wrote 'The Rights of Man'?\", 1.1630444526672363)\n"
          ]
        }
      ]
    },
    {
      "cell_type": "code",
      "source": [
        "query = ['How many main systems of Hindu philosophy are not there?']\n",
        "top_k_ques(query)"
      ],
      "metadata": {
        "id": "yLyUO0AtGuBT",
        "colab": {
          "base_uri": "https://localhost:8080/"
        },
        "outputId": "4f400db8-d7a4-4c0a-be06-d3a6f12b11a6"
      },
      "execution_count": null,
      "outputs": [
        {
          "output_type": "stream",
          "name": "stdout",
          "text": [
            "\t ('What did Burke call corporate tyranny in India?', 1.1768474578857422)\n",
            "\t ('What philosophy did Price support?', 1.1982718706130981)\n",
            "\t ('How many books did Lord Acton publish on Burke?', 1.2093274593353271)\n",
            "\t ('What did Burke believe was the foundation of religion?', 1.2293974161148071)\n",
            "\t ('What vice-filled book did Hume publish?', 1.229662299156189)\n"
          ]
        }
      ]
    },
    {
      "cell_type": "code",
      "source": [
        "query = ['What are not the main orthodox systems of Hindu philosophy called?']\n",
        "top_k_ques(query)"
      ],
      "metadata": {
        "id": "9UChj9KrGuBT",
        "colab": {
          "base_uri": "https://localhost:8080/"
        },
        "outputId": "10b51092-74d0-4a3b-cc14-a96c224d1a9b"
      },
      "execution_count": null,
      "outputs": [
        {
          "output_type": "stream",
          "name": "stdout",
          "text": [
            "\t ('What did Burke call corporate tyranny in India?', 1.0597339868545532)\n",
            "\t ('What philosophy did Price support?', 1.1456793546676636)\n",
            "\t ('What did Burke nickname his paternalistic doctrine?', 1.168890118598938)\n",
            "\t ('What type of doctrine did Burke propose?', 1.1690785884857178)\n",
            "\t ('Whose principles did L. Bol imitate?', 1.1864662170410156)\n"
          ]
        }
      ]
    },
    {
      "cell_type": "code",
      "source": [
        "query = ['What is not the accepted source of knowledge in the Astika system?']\n",
        "top_k_ques(query)"
      ],
      "metadata": {
        "id": "CaqHqN7zGuBT",
        "colab": {
          "base_uri": "https://localhost:8080/"
        },
        "outputId": "f1d4cf81-462c-4540-81d3-d9b22f9b46a1"
      },
      "execution_count": null,
      "outputs": [
        {
          "output_type": "stream",
          "name": "stdout",
          "text": [
            "\t ('What did Rousseau say Burke had in regards to understanding human nature?', 1.1756504774093628)\n",
            "\t ('What did Burke believe was against the natural order of events?', 1.1814168691635132)\n",
            "\t ('What did Burke believe was the foundation of religion?', 1.1819347143173218)\n",
            "\t ('What publication did Burke found?', 1.18936026096344)\n",
            "\t ('What did Burke think was the foundation of society?', 1.1987594366073608)\n"
          ]
        }
      ]
    },
    {
      "cell_type": "code",
      "source": [
        "query = ['How many darsanas are not there?']\n",
        "top_k_ques(query)"
      ],
      "metadata": {
        "id": "ZtHozaHXGuBU",
        "colab": {
          "base_uri": "https://localhost:8080/"
        },
        "outputId": "1f5fdf93-32a6-4921-b7a9-aad770bfae5f"
      },
      "execution_count": null,
      "outputs": [
        {
          "output_type": "stream",
          "name": "stdout",
          "text": [
            "\t ('Who wanted the argument to go public?', 0.815747857093811)\n",
            "\t (\"What did Burke say 'envenoms everything it touches'?\", 1.0077152252197266)\n",
            "\t (\"Who said he 'perfectly differed from Mr. Fox'?\", 1.0310702323913574)\n",
            "\t (\"Fox quoted Burke's speeches from how long ago?\", 1.1442654132843018)\n",
            "\t ('Fox quoted his own speeches from how long ago?', 1.1492787599563599)\n"
          ]
        }
      ]
    },
    {
      "cell_type": "code",
      "source": [
        "query = ['What does Carvaka not mean?']\n",
        "top_k_ques(query)"
      ],
      "metadata": {
        "id": "CBroEToKGuBU",
        "colab": {
          "base_uri": "https://localhost:8080/"
        },
        "outputId": "6a665b5a-3c18-400e-f35d-ecb92f0c179d"
      },
      "execution_count": null,
      "outputs": [
        {
          "output_type": "stream",
          "name": "stdout",
          "text": [
            "\t (\"Who said he 'perfectly differed from Mr. Fox'?\", 1.1553152799606323)\n",
            "\t (\"What did Burke say 'envenoms everything it touches'?\", 1.1712241172790527)\n",
            "\t ('What did Charles James Fox translate?', 1.172196388244629)\n",
            "\t ('Who wanted the argument to go public?', 1.175680160522461)\n",
            "\t ('Who claimed to be similar to Mr. Fox?', 1.2473191022872925)\n"
          ]
        }
      ]
    },
    {
      "cell_type": "code",
      "source": [
        "query = ['In what centuries the writings of scholars not been used to debate the philosophies?']\n",
        "top_k_ques(query)"
      ],
      "metadata": {
        "id": "RWuqoiJZGuBU",
        "colab": {
          "base_uri": "https://localhost:8080/"
        },
        "outputId": "e8a07f90-06de-4581-8b31-e5fb550f4966"
      },
      "execution_count": null,
      "outputs": [
        {
          "output_type": "stream",
          "name": "stdout",
          "text": [
            "\t (\"When was Hume's history of England published?\", 1.0950448513031006)\n",
            "\t ('When did Edmund Burke start a debate club?', 1.0954574346542358)\n",
            "\t (\"When did Marie-Antoinette read Burke's writings?\", 1.1011003255844116)\n",
            "\t (\"When was the tenth printing of the French translation of 'Reflections on the Revolution in France'?\", 1.1090126037597656)\n",
            "\t ('When did Burke publish his Reflections on the Revolution in France?', 1.1155263185501099)\n"
          ]
        }
      ]
    },
    {
      "cell_type": "code",
      "source": [
        "query = ['What are Buddhism and Jainism not regarded as in relation to religion and philosophy?']\n",
        "top_k_ques(query)"
      ],
      "metadata": {
        "id": "liuUAxVKGuBU",
        "colab": {
          "base_uri": "https://localhost:8080/"
        },
        "outputId": "8b83293f-981a-451a-87a8-b11d5d524e31"
      },
      "execution_count": null,
      "outputs": [
        {
          "output_type": "stream",
          "name": "stdout",
          "text": [
            "\t ('What philosophy did Price support?', 1.1927310228347778)\n",
            "\t ('What did Burke believe was the foundation of religion?', 1.2030457258224487)\n",
            "\t ('Burke thought religion was beneficial to what besides souls?', 1.2296305894851685)\n",
            "\t ('What did Burke call corporate tyranny in India?', 1.231122612953186)\n",
            "\t ('What did Christopher Hitchens believe was essential to human life?', 1.2388882637023926)\n"
          ]
        }
      ]
    },
    {
      "cell_type": "code",
      "source": [
        "query = ['What are not other schools regarded as within Hindu philosophy?']\n",
        "top_k_ques(query)"
      ],
      "metadata": {
        "id": "qh5aDR1GGuBU",
        "colab": {
          "base_uri": "https://localhost:8080/"
        },
        "outputId": "0adced19-31f2-4ce1-a19e-b4cc722e4cf8"
      },
      "execution_count": null,
      "outputs": [
        {
          "output_type": "stream",
          "name": "stdout",
          "text": [
            "\t ('What type of people did Trinity College Dublin not allow to earn degrees there?', 1.1779128313064575)\n",
            "\t ('What did Burke call corporate tyranny in India?', 1.1811903715133667)\n",
            "\t ('What philosophy did Price support?', 1.2016308307647705)\n",
            "\t ('Whose principles did L. Bol imitate?', 1.205251932144165)\n",
            "\t ('Burke thought religion was beneficial to what besides souls?', 1.2162137031555176)\n"
          ]
        }
      ]
    },
    {
      "cell_type": "code",
      "source": [
        "query = ['How not available are the sources of knowledge on Indian philosophy?']\n",
        "top_k_ques(query)"
      ],
      "metadata": {
        "id": "uK2YRqeXGuBU",
        "colab": {
          "base_uri": "https://localhost:8080/"
        },
        "outputId": "9014750b-3a5c-4042-f9ea-03d0ad5a458c"
      },
      "execution_count": null,
      "outputs": [
        {
          "output_type": "stream",
          "name": "stdout",
          "text": [
            "\t ('What did Rousseau say Burke had in regards to understanding human nature?', 1.1964689493179321)\n",
            "\t ('What vice-filled book did Hume publish?', 1.2149263620376587)\n",
            "\t (\"When was Hume's history of England published?\", 1.2246191501617432)\n",
            "\t (\"Why did a few scholars think Burke hadn't intended his book as a satire yet later claimed it was a satire?\", 1.2448720932006836)\n",
            "\t (\"How long before Hastings's trial had Britain been dealing with Indian unrest?\", 1.2473376989364624)\n"
          ]
        }
      ]
    },
    {
      "cell_type": "code",
      "source": [
        "query = ['What does not differentiate the various sibling traditions?']\n",
        "top_k_ques(query)"
      ],
      "metadata": {
        "id": "dxBYkcCEGuBU",
        "colab": {
          "base_uri": "https://localhost:8080/"
        },
        "outputId": "af0e7cf3-8508-4764-df89-9222ee5adcfe"
      },
      "execution_count": null,
      "outputs": [
        {
          "output_type": "stream",
          "name": "stdout",
          "text": [
            "\t ('Whose principles did L. Bol imitate?', 1.199721336364746)\n",
            "\t ('Whose principles did Burke imitate?', 1.213470220565796)\n",
            "\t ('What did Burke think a social hierarchy should be based on?', 1.215052604675293)\n",
            "\t ('What did Burke believe was against the natural order of events?', 1.2285244464874268)\n",
            "\t ('How did Burke say we look towards nobility?', 1.249155044555664)\n"
          ]
        }
      ]
    },
    {
      "cell_type": "code",
      "source": [
        "query = ['What do scholars not agree on within the astika and nastika philosophies?']\n",
        "top_k_ques(query)"
      ],
      "metadata": {
        "id": "ePzqZ077GuBU",
        "colab": {
          "base_uri": "https://localhost:8080/"
        },
        "outputId": "515707ad-4045-4516-81d7-800342d31b1a"
      },
      "execution_count": null,
      "outputs": [
        {
          "output_type": "stream",
          "name": "stdout",
          "text": [
            "\t (\"What did Lord Chesterfield believe Bolingbroke's arguments could also apply to?\", 1.0995430946350098)\n",
            "\t ('What did Rousseau say Burke had in regards to understanding human nature?', 1.1206274032592773)\n",
            "\t ('What did Burke believe was against the natural order of events?', 1.1477584838867188)\n",
            "\t ('What did Burke believe was the foundation of religion?', 1.1555795669555664)\n",
            "\t ('What did the Whig party want Burke to condemn?', 1.160893440246582)\n"
          ]
        }
      ]
    },
    {
      "cell_type": "code",
      "source": [
        "query = ['Which two named philosophies are not considered to be the same?']\n",
        "top_k_ques(query)"
      ],
      "metadata": {
        "id": "C4kkbF38GuBU",
        "colab": {
          "base_uri": "https://localhost:8080/"
        },
        "outputId": "772bafd4-068f-4c0c-d29f-fbb2607e8fc0"
      },
      "execution_count": null,
      "outputs": [
        {
          "output_type": "stream",
          "name": "stdout",
          "text": [
            "\t ('What philosophy did Price support?', 1.1078741550445557)\n",
            "\t ('What type of doctrine did Burke propose?', 1.122483730316162)\n",
            "\t ('Whose principles did Burke imitate?', 1.124170184135437)\n",
            "\t ('Who did Thomas Paine compare Burke to?', 1.139926791191101)\n",
            "\t ('Burke thought the French Revolution was against whose principles?', 1.1454613208770752)\n"
          ]
        }
      ]
    },
    {
      "cell_type": "code",
      "source": [
        "query = ['How many not orthodox philosophies are in Hindu?']\n",
        "top_k_ques(query)"
      ],
      "metadata": {
        "id": "-_NKL8P1NASk",
        "colab": {
          "base_uri": "https://localhost:8080/"
        },
        "outputId": "7f33d9f2-92c7-406e-a01a-2562e8b4f415"
      },
      "execution_count": null,
      "outputs": [
        {
          "output_type": "stream",
          "name": "stdout",
          "text": [
            "\t ('How many books did Lord Acton publish on Burke?', 1.2027277946472168)\n",
            "\t (\"How many words was Lord Acton's commentary?\", 1.2058309316635132)\n",
            "\t ('Who converted into Catholicism?', 1.2104698419570923)\n",
            "\t ('What did Burke call corporate tyranny in India?', 1.2144889831542969)\n",
            "\t ('Who practiced Protestant ascendency?', 1.2204737663269043)\n"
          ]
        }
      ]
    },
    {
      "cell_type": "markdown",
      "source": [
        "#Theme 13 - YouTube"
      ],
      "metadata": {
        "id": "NYqop5mgNbp5"
      }
    },
    {
      "cell_type": "code",
      "source": [
        "theme = 'YouTube'"
      ],
      "metadata": {
        "id": "-6lq_dcZNbp5"
      },
      "execution_count": null,
      "outputs": []
    },
    {
      "cell_type": "markdown",
      "source": [
        "##Analysis"
      ],
      "metadata": {
        "id": "03zeT5OyNbp5"
      }
    },
    {
      "cell_type": "markdown",
      "source": [
        "Similar"
      ],
      "metadata": {
        "id": "BgklCFKpNbp6"
      }
    },
    {
      "cell_type": "code",
      "source": [
        "query = ['What was the date when Youtube started of?']\n",
        "top_k_ques(query)"
      ],
      "metadata": {
        "colab": {
          "base_uri": "https://localhost:8080/"
        },
        "outputId": "2a391394-9003-43e3-9b90-4b9fc7884a6e",
        "id": "wLzsETtxNbp6"
      },
      "execution_count": null,
      "outputs": [
        {
          "output_type": "stream",
          "name": "stdout",
          "text": [
            "\t ('What was founded the year before the contract?', 0.9539806246757507)\n",
            "\t ('When was the Revolution Society founded?', 1.0081782341003418)\n",
            "\t ('When was the American Declaration of Independence issued?', 1.0411734580993652)\n",
            "\t ('When was Trinity College Dublin established?', 1.0530281066894531)\n",
            "\t ('Dodsley was the only writer for the register until what year?', 1.0714589357376099)\n"
          ]
        }
      ]
    },
    {
      "cell_type": "code",
      "source": [
        "query = ['When did the idea of Youtube emerge in the mind of the creators?']\n",
        "top_k_ques(query)"
      ],
      "metadata": {
        "colab": {
          "base_uri": "https://localhost:8080/"
        },
        "outputId": "1e7ff617-6d8f-4522-b186-a4ed11ddd0d4",
        "id": "RhzZ1_mZNbp6"
      },
      "execution_count": null,
      "outputs": [
        {
          "output_type": "stream",
          "name": "stdout",
          "text": [
            "\t ('What was founded the year before the contract?', 1.0729528665542603)\n",
            "\t ('When was the Revolution Society founded?', 1.0799319744110107)\n",
            "\t ('When did Paymasters begin to get money directly from the HM treasury?', 1.1095572710037231)\n",
            "\t ('When was Trinity College Dublin established?', 1.1261759996414185)\n",
            "\t ('When did Burke become the chief editor?', 1.1278623342514038)\n"
          ]
        }
      ]
    },
    {
      "cell_type": "code",
      "source": [
        "query = ['In 2006, how much did Google pay for Youtube?']\n",
        "top_k_ques(query)"
      ],
      "metadata": {
        "colab": {
          "base_uri": "https://localhost:8080/"
        },
        "outputId": "e9269b37-2610-4b1d-815d-5d14f0e83a80",
        "id": "EuiEza7tNbp6"
      },
      "execution_count": null,
      "outputs": [
        {
          "output_type": "stream",
          "name": "stdout",
          "text": [
            "\t ('How much did most pamphlets cost at the time?', 1.074819564819336)\n",
            "\t ('How much money did Burke accept instead of the Earlship?', 1.0951895713806152)\n",
            "\t ('What was founded the year before the contract?', 1.1075825691223145)\n",
            "\t ('When did Paymasters begin to get money directly from the HM treasury?', 1.1895380020141602)\n",
            "\t ('Where had Paymasters been able to get money from directly until 1782?', 1.204347848892212)\n"
          ]
        }
      ]
    },
    {
      "cell_type": "code",
      "source": [
        "query = ['What other content is on YouTube, besides video blogging and instructional videos?']\n",
        "top_k_ques(query)"
      ],
      "metadata": {
        "colab": {
          "base_uri": "https://localhost:8080/"
        },
        "outputId": "b156f6bc-904d-422c-a261-1b48e6d2ddb2",
        "id": "YOp0Gu2TNbp7"
      },
      "execution_count": null,
      "outputs": [
        {
          "output_type": "stream",
          "name": "stdout",
          "text": [
            "\t ('What was published in 1775?', 1.2377465963363647)\n",
            "\t ('What did François-Louis-Thibault de Menonville publish in April 1791?', 1.2530878782272339)\n",
            "\t ('What pamphlet did Fox publish in 3 August 1791?', 1.2542049884796143)\n",
            "\t (\"What was Pitt's last publication?\", 1.26946222782135)\n",
            "\t ('What publication did Burke found?', 1.274274468421936)\n"
          ]
        }
      ]
    },
    {
      "cell_type": "code",
      "source": [
        "query = ['Who gave US$1.65 billion for YouTube in 2005?']\n",
        "top_k_ques(query)"
      ],
      "metadata": {
        "id": "oXhN7GMFNbp7",
        "colab": {
          "base_uri": "https://localhost:8080/"
        },
        "outputId": "e51c5f6d-ab28-428c-ff57-22b38be75cae"
      },
      "execution_count": null,
      "outputs": [
        {
          "output_type": "stream",
          "name": "stdout",
          "text": [
            "\t ('What was founded the year before the contract?', 1.1633059978485107)\n",
            "\t ('Who could no longer make withdrawal requests to the Bank of England after 1782?', 1.1803767681121826)\n",
            "\t ('Where had Paymasters been able to get money from directly until 1782?', 1.1818119287490845)\n",
            "\t ('When did Paymasters begin to get money directly from the HM treasury?', 1.187896490097046)\n",
            "\t (\"Who wrote 'The Rights of Man'?\", 1.192306637763977)\n"
          ]
        }
      ]
    },
    {
      "cell_type": "code",
      "source": [
        "query = ['Who invented youtube, mention their first names']\n",
        "top_k_ques(query)"
      ],
      "metadata": {
        "id": "upnrcYZzNbp7",
        "colab": {
          "base_uri": "https://localhost:8080/"
        },
        "outputId": "67b9dc45-76e4-4e3d-c2ef-3acde7076588"
      },
      "execution_count": null,
      "outputs": [
        {
          "output_type": "stream",
          "name": "stdout",
          "text": [
            "\t (\"Who wrote 'The Rights of Man'?\", 1.0712089538574219)\n",
            "\t (\"Who wrote Dodsley's biography?\", 1.1002025604248047)\n",
            "\t ('Who introduced a bill in 1795 about minimum wage?', 1.1314343214035034)\n",
            "\t ('Dodsley was the only writer for the register until what year?', 1.1478828191757202)\n",
            "\t ('Who wrote a biography of Burke?', 1.1505300998687744)\n"
          ]
        }
      ]
    },
    {
      "cell_type": "code",
      "source": [
        "query = ['What was the resaon behind website?']\n",
        "top_k_ques(query)"
      ],
      "metadata": {
        "id": "4Fyihn-3Nbp7",
        "colab": {
          "base_uri": "https://localhost:8080/"
        },
        "outputId": "a3774f6b-f710-428f-d1cb-d63c55638183"
      },
      "execution_count": null,
      "outputs": [
        {
          "output_type": "stream",
          "name": "stdout",
          "text": [
            "\t ('Who wanted the argument to go public?', 1.0493507385253906)\n",
            "\t (\"What did Burke say 'envenoms everything it touches'?\", 1.0772327184677124)\n",
            "\t ('What did Charles James Fox translate?', 1.1461759805679321)\n",
            "\t ('What was founded the year before the contract?', 1.1580289602279663)\n",
            "\t ('Where had Paymasters been able to get money from directly until 1782?', 1.1626241207122803)\n"
          ]
        }
      ]
    },
    {
      "cell_type": "code",
      "source": [
        "query = ['When did the idea of Google come up in the minds of creators? ']\n",
        "top_k_ques(query)"
      ],
      "metadata": {
        "id": "Q0YAKfeHNbp8",
        "colab": {
          "base_uri": "https://localhost:8080/"
        },
        "outputId": "fae50a9c-b907-4f82-a8f4-cce99cd9a678"
      },
      "execution_count": null,
      "outputs": [
        {
          "output_type": "stream",
          "name": "stdout",
          "text": [
            "\t ('When was the Revolution Society founded?', 1.0669958591461182)\n",
            "\t ('What was founded the year before the contract?', 1.0689945220947266)\n",
            "\t ('When was Trinity College Dublin established?', 1.1091278791427612)\n",
            "\t ('When did Burke become the chief editor?', 1.1174492835998535)\n",
            "\t ('When did Paymasters begin to get money directly from the HM treasury?', 1.12501859664917)\n"
          ]
        }
      ]
    },
    {
      "cell_type": "code",
      "source": [
        "query = ['What was not the initial motivation for developing the website ?']\n",
        "top_k_ques(query)"
      ],
      "metadata": {
        "id": "nAbq_1v5Nbp8",
        "colab": {
          "base_uri": "https://localhost:8080/"
        },
        "outputId": "1c361988-8af7-4066-9f4b-dd32f416e2b7"
      },
      "execution_count": null,
      "outputs": [
        {
          "output_type": "stream",
          "name": "stdout",
          "text": [
            "\t ('What was founded the year before the contract?', 1.139086365699768)\n",
            "\t ('What did Hitchens appeal to?', 1.196720004081726)\n",
            "\t ('What philosophy did Price support?', 1.1971840858459473)\n",
            "\t (\"What did critics particularly protest of Burke's work?\", 1.198240876197815)\n",
            "\t ('Where had Paymasters been able to get money from directly until 1782?', 1.2096439599990845)\n"
          ]
        }
      ]
    },
    {
      "cell_type": "code",
      "source": [
        "query = ['Who was involved in selling youtube?']\n",
        "top_k_ques(query)"
      ],
      "metadata": {
        "id": "4b7lQX5SNbp8",
        "colab": {
          "base_uri": "https://localhost:8080/"
        },
        "outputId": "b87f1bca-1bad-4600-f4ff-84997c382893"
      },
      "execution_count": null,
      "outputs": [
        {
          "output_type": "stream",
          "name": "stdout",
          "text": [
            "\t ('Where had Paymasters been able to get money from directly until 1782?', 1.112015962600708)\n",
            "\t (\"Who wrote 'The Rights of Man'?\", 1.1593741178512573)\n",
            "\t ('What was founded the year before the contract?', 1.1621078252792358)\n",
            "\t ('Who converted into Catholicism?', 1.1739400625228882)\n",
            "\t ('Who practiced Protestant ascendency?', 1.1769808530807495)\n"
          ]
        }
      ]
    },
    {
      "cell_type": "code",
      "source": [
        "query = ['When was the idea for youtube developed?']\n",
        "top_k_ques(query)"
      ],
      "metadata": {
        "id": "lLgBclSZNbp9",
        "colab": {
          "base_uri": "https://localhost:8080/"
        },
        "outputId": "ced1fdc1-8e73-427c-e8ef-c396d21ee97c"
      },
      "execution_count": null,
      "outputs": [
        {
          "output_type": "stream",
          "name": "stdout",
          "text": [
            "\t ('What was founded the year before the contract?', 1.010378122329712)\n",
            "\t ('When was the Revolution Society founded?', 1.0367299318313599)\n",
            "\t ('When was Trinity College Dublin established?', 1.0691953897476196)\n",
            "\t ('When was trade with Ireland originally restricted?', 1.100154161453247)\n",
            "\t ('Dodsley was the only writer for the register until what year?', 1.1320488452911377)\n"
          ]
        }
      ]
    },
    {
      "cell_type": "code",
      "source": [
        "query = ['When did the first youtube beta testing take place>']\n",
        "top_k_ques(query)"
      ],
      "metadata": {
        "id": "73TtrPJBNbp9",
        "colab": {
          "base_uri": "https://localhost:8080/"
        },
        "outputId": "d3aeeb16-e33e-4cb5-9e0c-bf53bee68e0b"
      },
      "execution_count": null,
      "outputs": [
        {
          "output_type": "stream",
          "name": "stdout",
          "text": [
            "\t (\"How long before Hastings's trial had Britain been dealing with Indian unrest?\", 1.1226402521133423)\n",
            "\t ('What was founded the year before the contract?', 1.136035442352295)\n",
            "\t ('When did Paymasters begin to get money directly from the HM treasury?', 1.1420449018478394)\n",
            "\t ('Dodsley was the only writer for the register until what year?', 1.1436516046524048)\n",
            "\t ('When did Wordsworth initially attack Burke?', 1.1493841409683228)\n"
          ]
        }
      ]
    },
    {
      "cell_type": "code",
      "source": [
        "query = ['How much was invested by Sequoia Capital invest in youtube in November of 2005?']\n",
        "top_k_ques(query)"
      ],
      "metadata": {
        "id": "c9JCEm3kNbp9",
        "colab": {
          "base_uri": "https://localhost:8080/"
        },
        "outputId": "22024162-e5b9-4f2b-8df7-6e159d3c2988"
      },
      "execution_count": null,
      "outputs": [
        {
          "output_type": "stream",
          "name": "stdout",
          "text": [
            "\t ('How much money did Burke accept instead of the Earlship?', 1.1707218885421753)\n",
            "\t ('What was founded the year before the contract?', 1.170929193496704)\n",
            "\t ('How much did most pamphlets cost at the time?', 1.1727559566497803)\n",
            "\t (\"How many words was Lord Acton's commentary?\", 1.198289155960083)\n",
            "\t ('How long was the book Robert Dodsley wrote?', 1.20188307762146)\n"
          ]
        }
      ]
    },
    {
      "cell_type": "code",
      "source": [
        "query = ['By the end of May 2010 how many views did Youtube achive?']\n",
        "top_k_ques(query)"
      ],
      "metadata": {
        "id": "3uuAOSbZNbp9",
        "colab": {
          "base_uri": "https://localhost:8080/"
        },
        "outputId": "f5d7d312-d2ba-450b-8b82-412da3b67061"
      },
      "execution_count": null,
      "outputs": [
        {
          "output_type": "stream",
          "name": "stdout",
          "text": [
            "\t ('How much did most pamphlets cost at the time?', 1.186821460723877)\n",
            "\t ('What pamphlet did Fox publish in 3 August 1791?', 1.2039427757263184)\n",
            "\t ('How many books did Lord Acton publish on Burke?', 1.2063720226287842)\n",
            "\t (\"How many words was Lord Acton's commentary?\", 1.2148282527923584)\n",
            "\t ('What was founded the year before the contract?', 1.2267709970474243)\n"
          ]
        }
      ]
    },
    {
      "cell_type": "code",
      "source": [
        "query = ['Which event took place in March 2005?']\n",
        "top_k_ques(query)"
      ],
      "metadata": {
        "id": "xVches9nNbp9",
        "colab": {
          "base_uri": "https://localhost:8080/"
        },
        "outputId": "fdf31cb6-991f-4129-fd2b-88ab642bc009"
      },
      "execution_count": null,
      "outputs": [
        {
          "output_type": "stream",
          "name": "stdout",
          "text": [
            "\t ('What was the Revolution Society commemorating?', 1.142948031425476)\n",
            "\t ('When did Burke make a motion to restrict Irish trade?', 1.1803275346755981)\n",
            "\t ('Which victories against the Americans did the British celebrate?', 1.1810097694396973)\n",
            "\t ('What was founded the year before the contract?', 1.185823678970337)\n",
            "\t ('When did Mary meet Burke?', 1.1866611242294312)\n"
          ]
        }
      ]
    },
    {
      "cell_type": "code",
      "source": [
        "query = ['Which video became youtube second video to reach a million views?']\n",
        "top_k_ques(query)"
      ],
      "metadata": {
        "id": "f-7Jl_YXPUp2",
        "colab": {
          "base_uri": "https://localhost:8080/"
        },
        "outputId": "e8c929c1-f5b3-4548-a6ed-2aea8508ad82"
      },
      "execution_count": null,
      "outputs": [
        {
          "output_type": "stream",
          "name": "stdout",
          "text": [
            "\t ('What pamphlet did Fox publish in 3 August 1791?', 1.2071688175201416)\n",
            "\t ('What pamphlet was published on 13 February 1790?', 1.2326191663742065)\n",
            "\t (\"What was Pitt's last publication?\", 1.2434806823730469)\n",
            "\t ('What was published in 1775?', 1.2478512525558472)\n",
            "\t ('What did François-Louis-Thibault de Menonville publish in April 1791?', 1.2510991096496582)\n"
          ]
        }
      ]
    },
    {
      "cell_type": "code",
      "source": [
        "query = ['On May 2006 what public test was offered ?']\n",
        "top_k_ques(query)"
      ],
      "metadata": {
        "id": "Opwkv4L6PV7j",
        "colab": {
          "base_uri": "https://localhost:8080/"
        },
        "outputId": "1ea89b64-a2ca-43ee-c491-9ff0c5e8bbcd"
      },
      "execution_count": null,
      "outputs": [
        {
          "output_type": "stream",
          "name": "stdout",
          "text": [
            "\t ('What pamphlet was published on 13 February 1790?', 1.100520372390747)\n",
            "\t ('What pamphlet did Fox publish in 3 August 1791?', 1.1005884408950806)\n",
            "\t ('What was published in 1775?', 1.1288021802902222)\n",
            "\t (\"What was Burke's final publication?\", 1.132952094078064)\n",
            "\t ('Which administration proposed the Paymaster act?', 1.1347852945327759)\n"
          ]
        }
      ]
    },
    {
      "cell_type": "markdown",
      "source": [
        "For annoy and universal encoder:- \\\n",
        "When senseless negation of questions are compared, similarity score is seen as low as 0.18739761412143707 \\\n",
        "  For similar questions lowest threshold below which it is always right = 0.2109205573797226\\\n",
        "  For similar questions highest threshold for first wrong = 0.9498804807662964\n",
        "\n"
      ],
      "metadata": {
        "id": "3tK8jDhKYJ4c"
      }
    }
  ]
}