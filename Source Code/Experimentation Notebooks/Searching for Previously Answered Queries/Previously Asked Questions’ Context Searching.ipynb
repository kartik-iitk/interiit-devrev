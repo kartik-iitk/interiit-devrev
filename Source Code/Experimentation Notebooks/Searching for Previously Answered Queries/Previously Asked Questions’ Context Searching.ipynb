{
  "cells": [
    {
      "cell_type": "markdown",
      "source": [
        "#Installing and Importing Libraries\n"
      ],
      "metadata": {
        "id": "8yVFy-4WOXCU"
      }
    },
    {
      "cell_type": "code",
      "execution_count": null,
      "metadata": {
        "id": "mOdyUWEjXnuw",
        "colab": {
          "base_uri": "https://localhost:8080/"
        },
        "outputId": "6dbcf79f-55bc-41fd-873d-022d222ae180"
      },
      "outputs": [
        {
          "output_type": "stream",
          "name": "stdout",
          "text": [
            "Looking in indexes: https://pypi.org/simple, https://us-python.pkg.dev/colab-wheels/public/simple/\n",
            "Requirement already satisfied: transformers in /usr/local/lib/python3.8/dist-packages (4.26.0)\n",
            "Requirement already satisfied: regex!=2019.12.17 in /usr/local/lib/python3.8/dist-packages (from transformers) (2022.6.2)\n",
            "Requirement already satisfied: packaging>=20.0 in /usr/local/lib/python3.8/dist-packages (from transformers) (23.0)\n",
            "Requirement already satisfied: huggingface-hub<1.0,>=0.11.0 in /usr/local/lib/python3.8/dist-packages (from transformers) (0.12.0)\n",
            "Requirement already satisfied: filelock in /usr/local/lib/python3.8/dist-packages (from transformers) (3.9.0)\n",
            "Requirement already satisfied: numpy>=1.17 in /usr/local/lib/python3.8/dist-packages (from transformers) (1.21.6)\n",
            "Requirement already satisfied: tqdm>=4.27 in /usr/local/lib/python3.8/dist-packages (from transformers) (4.64.1)\n",
            "Requirement already satisfied: tokenizers!=0.11.3,<0.14,>=0.11.1 in /usr/local/lib/python3.8/dist-packages (from transformers) (0.13.2)\n",
            "Requirement already satisfied: pyyaml>=5.1 in /usr/local/lib/python3.8/dist-packages (from transformers) (6.0)\n",
            "Requirement already satisfied: requests in /usr/local/lib/python3.8/dist-packages (from transformers) (2.25.1)\n",
            "Requirement already satisfied: typing-extensions>=3.7.4.3 in /usr/local/lib/python3.8/dist-packages (from huggingface-hub<1.0,>=0.11.0->transformers) (4.4.0)\n",
            "Requirement already satisfied: idna<3,>=2.5 in /usr/local/lib/python3.8/dist-packages (from requests->transformers) (2.10)\n",
            "Requirement already satisfied: urllib3<1.27,>=1.21.1 in /usr/local/lib/python3.8/dist-packages (from requests->transformers) (1.24.3)\n",
            "Requirement already satisfied: certifi>=2017.4.17 in /usr/local/lib/python3.8/dist-packages (from requests->transformers) (2022.12.7)\n",
            "Requirement already satisfied: chardet<5,>=3.0.2 in /usr/local/lib/python3.8/dist-packages (from requests->transformers) (4.0.0)\n"
          ]
        }
      ],
      "source": [
        "! pip install transformers"
      ]
    },
    {
      "cell_type": "code",
      "execution_count": null,
      "metadata": {
        "id": "5WoXiMPliH2j",
        "colab": {
          "base_uri": "https://localhost:8080/"
        },
        "outputId": "32a6f168-ef0f-43e9-e61f-264e7e354b3e"
      },
      "outputs": [
        {
          "output_type": "stream",
          "name": "stdout",
          "text": [
            "Looking in indexes: https://pypi.org/simple, https://us-python.pkg.dev/colab-wheels/public/simple/\n",
            "Requirement already satisfied: transformers in /usr/local/lib/python3.8/dist-packages (4.26.0)\n",
            "Requirement already satisfied: faiss-cpu in /usr/local/lib/python3.8/dist-packages (1.7.3)\n",
            "Requirement already satisfied: regex!=2019.12.17 in /usr/local/lib/python3.8/dist-packages (from transformers) (2022.6.2)\n",
            "Requirement already satisfied: tqdm>=4.27 in /usr/local/lib/python3.8/dist-packages (from transformers) (4.64.1)\n",
            "Requirement already satisfied: huggingface-hub<1.0,>=0.11.0 in /usr/local/lib/python3.8/dist-packages (from transformers) (0.12.0)\n",
            "Requirement already satisfied: numpy>=1.17 in /usr/local/lib/python3.8/dist-packages (from transformers) (1.21.6)\n",
            "Requirement already satisfied: requests in /usr/local/lib/python3.8/dist-packages (from transformers) (2.25.1)\n",
            "Requirement already satisfied: packaging>=20.0 in /usr/local/lib/python3.8/dist-packages (from transformers) (23.0)\n",
            "Requirement already satisfied: pyyaml>=5.1 in /usr/local/lib/python3.8/dist-packages (from transformers) (6.0)\n",
            "Requirement already satisfied: filelock in /usr/local/lib/python3.8/dist-packages (from transformers) (3.9.0)\n",
            "Requirement already satisfied: tokenizers!=0.11.3,<0.14,>=0.11.1 in /usr/local/lib/python3.8/dist-packages (from transformers) (0.13.2)\n",
            "Requirement already satisfied: typing-extensions>=3.7.4.3 in /usr/local/lib/python3.8/dist-packages (from huggingface-hub<1.0,>=0.11.0->transformers) (4.4.0)\n",
            "Requirement already satisfied: chardet<5,>=3.0.2 in /usr/local/lib/python3.8/dist-packages (from requests->transformers) (4.0.0)\n",
            "Requirement already satisfied: certifi>=2017.4.17 in /usr/local/lib/python3.8/dist-packages (from requests->transformers) (2022.12.7)\n",
            "Requirement already satisfied: idna<3,>=2.5 in /usr/local/lib/python3.8/dist-packages (from requests->transformers) (2.10)\n",
            "Requirement already satisfied: urllib3<1.27,>=1.21.1 in /usr/local/lib/python3.8/dist-packages (from requests->transformers) (1.24.3)\n"
          ]
        }
      ],
      "source": [
        "!pip install transformers faiss-cpu"
      ]
    },
    {
      "cell_type": "code",
      "execution_count": null,
      "metadata": {
        "id": "s9e7ifPtX4oU"
      },
      "outputs": [],
      "source": [
        "import csv\n",
        "import requests\n",
        "import pandas as pd\n",
        "from transformers import AutoModel, AutoTokenizer\n",
        "from pprint import pprint\n",
        "import matplotlib.pyplot as plt\n",
        "import tensorflow as tf\n",
        "import tensorflow_hub as hub\n",
        "import torch\n",
        "import numpy as np\n",
        "import faiss"
      ]
    },
    {
      "cell_type": "markdown",
      "source": [
        "#Load the dataset"
      ],
      "metadata": {
        "id": "3jvk2DFEOjuD"
      }
    },
    {
      "cell_type": "code",
      "execution_count": null,
      "metadata": {
        "id": "91QpZpsqX5WL"
      },
      "outputs": [],
      "source": [
        "# load training dataset\n",
        "def load_data():\n",
        "    CSV_URL = 'https://drive.google.com/u/0/uc?id=1Z-yb752A3o7b9dqrGt24XU0sl53FVqya&export=download'\n",
        "\n",
        "    with requests.Session() as s:\n",
        "        download = s.get(CSV_URL)\n",
        "        decoded_content = download.content.decode('utf-8')\n",
        "        cr = csv.reader(decoded_content.splitlines(), delimiter=',')\n",
        "        train_data = list(cr)\n",
        "\n",
        "    print(f\"Number of examples = {len(train_data)}\")\n",
        "    ans, noans = 0, 0\n",
        "    for x in train_data:\n",
        "        if x[4] == 'False':\n",
        "            noans += 1\n",
        "        else:\n",
        "            ans += 1\n",
        "    print(f\"\\tAnswerable questions = {ans}\")\n",
        "    print(f\"\\tNon-Answerable questions = {noans}\\n\")\n",
        "    print(\"Examples:\")\n",
        "    for i in [0, 1000, 1300]:\n",
        "        print(' | '.join(train_data[i][:2]), ' | ', train_data[i][2][:20] + '...', ' | ', ' | '.join(train_data[i][3:]))\n",
        "    return train_data"
      ]
    },
    {
      "cell_type": "code",
      "execution_count": null,
      "metadata": {
        "id": "hkzf0BviX8Fw"
      },
      "outputs": [],
      "source": [
        "def load_theme_wise_data(train_data):\n",
        "    theme_wise_data = {}\n",
        "    for x in train_data[1:]:\n",
        "        if x[1] not in theme_wise_data:\n",
        "            theme_wise_data[x[1]] = {\n",
        "                'para': [],\n",
        "                'ques': [],\n",
        "                'ans': []\n",
        "            }\n",
        "        if x[2] not in theme_wise_data[x[1]]['para']:\n",
        "            theme_wise_data[x[1]]['para'].append(x[2])\n",
        "        theme_wise_data[x[1]]['ques'].append(x[3])\n",
        "        # ans contains a list -> [Para_Number, Answer_possible, Answer_text, Answer_start]\n",
        "        theme_wise_data[x[1]]['ans'].append([theme_wise_data[x[1]]['para'].index(x[2])] + x[4:])\n",
        "    print(f'\\nTotal {len(theme_wise_data)} themes present.')\n",
        "    return theme_wise_data"
      ]
    },
    {
      "cell_type": "code",
      "execution_count": null,
      "metadata": {
        "colab": {
          "base_uri": "https://localhost:8080/"
        },
        "id": "nDPWiDyeX9n7",
        "outputId": "12af02c2-6625-4327-df51-ab0ddbc468ae"
      },
      "outputs": [
        {
          "output_type": "stream",
          "name": "stdout",
          "text": [
            "Number of examples = 75056\n",
            "\tAnswerable questions = 50126\n",
            "\tNon-Answerable questions = 24930\n",
            "\n",
            "Examples:\n",
            " | Theme  |  Paragraph...  |  Question | Answer_possible | Answer_text | Answer_start\n",
            "1430 | Frédéric_Chopin  |  Some modern commenta...  |  Who said Chopin's works were modeled after Bach, Beethoven, Schubert and Field? | True | ['Richard Taruskin'] | [543]\n",
            "2196 | The_Legend_of_Zelda:_Twilight_Princess  |  Twilight Princess ta...  |  Who releases Bulbins from the Realm of Twilight? | False | [] | []\n",
            "\n",
            "Total 361 themes present.\n"
          ]
        }
      ],
      "source": [
        "train_data = load_data()\n",
        "theme_wise_data = load_theme_wise_data(train_data)"
      ]
    },
    {
      "cell_type": "code",
      "source": [
        "theme = 'Adolescence'"
      ],
      "metadata": {
        "id": "ZXUZGg7jQJr6"
      },
      "execution_count": null,
      "outputs": []
    },
    {
      "cell_type": "code",
      "source": [
        "thresholds = [0.1, 0.2, 0.3, 0.4]"
      ],
      "metadata": {
        "id": "Z5IpU-Kiau6P"
      },
      "execution_count": null,
      "outputs": []
    },
    {
      "cell_type": "code",
      "source": [
        "t_ques = list(theme_wise_data[theme]['ques'])\n",
        "t_ans = list(theme_wise_data[theme]['ans'])\n",
        "t_ans = [i[2][2:-2] for i in t_ans]\n",
        "t = [[i, j] for i,j in zip(t_ques , t_ans )]\n",
        "new_t = {idx:[t[idx][0],t[idx][1]] for idx in range(len(t))}"
      ],
      "metadata": {
        "id": "bQCzjVJkYN6X"
      },
      "execution_count": null,
      "outputs": []
    },
    {
      "cell_type": "code",
      "source": [
        "!gdown 1rly8PEMoyq8CBGIwcPxeFoezgW7TQ7fS"
      ],
      "metadata": {
        "colab": {
          "base_uri": "https://localhost:8080/"
        },
        "id": "qgw5_VcdMKSA",
        "outputId": "d25a5372-cb4d-440d-dfb0-cbc9a80a4172"
      },
      "execution_count": null,
      "outputs": [
        {
          "output_type": "stream",
          "name": "stdout",
          "text": [
            "Downloading...\n",
            "From: https://drive.google.com/uc?id=1rly8PEMoyq8CBGIwcPxeFoezgW7TQ7fS\n",
            "To: /content/Question Generation - Sheet1 (2).csv\n",
            "\r  0% 0.00/41.6k [00:00<?, ?B/s]\r100% 41.6k/41.6k [00:00<00:00, 45.1MB/s]\n"
          ]
        }
      ]
    },
    {
      "cell_type": "code",
      "execution_count": null,
      "metadata": {
        "id": "YfHVzZtEBTZI"
      },
      "outputs": [],
      "source": [
        "df = pd.read_csv('Question Generation - Sheet1 (2).csv')"
      ]
    },
    {
      "cell_type": "code",
      "source": [
        "query = df[df['Theme']==theme]['Similar Question']"
      ],
      "metadata": {
        "id": "d0cHdP-BLGCT"
      },
      "execution_count": null,
      "outputs": []
    },
    {
      "cell_type": "code",
      "source": [
        "actual_ques = df[df['Theme']==theme]['Question']"
      ],
      "metadata": {
        "id": "IkCoaLShLZfb"
      },
      "execution_count": null,
      "outputs": []
    },
    {
      "cell_type": "code",
      "source": [
        "qid=[]\n",
        "for i in range(len(new_t)):\n",
        "  for j in range(len(actual_ques)):\n",
        "    if actual_ques[j]==new_t[i][0]:\n",
        "      qid.append(i)"
      ],
      "metadata": {
        "id": "_rVcDv_XLekq"
      },
      "execution_count": null,
      "outputs": []
    },
    {
      "cell_type": "code",
      "execution_count": null,
      "metadata": {
        "id": "JlAoO5LSiZnk"
      },
      "outputs": [],
      "source": [
        "metric = faiss.METRIC_INNER_PRODUCT"
      ]
    },
    {
      "cell_type": "code",
      "execution_count": null,
      "metadata": {
        "id": "FbhGMFeLX9DN"
      },
      "outputs": [],
      "source": [
        "module_url = \"https://tfhub.dev/google/universal-sentence-encoder-large/5\"\n",
        "model = hub.load(module_url)"
      ]
    },
    {
      "cell_type": "markdown",
      "source": [
        "#Creating Embeddings and Index for FAISS Similarity Search"
      ],
      "metadata": {
        "id": "JtOvBkfAOtjF"
      }
    },
    {
      "cell_type": "code",
      "source": [
        "encoded_data=model(t_ques)\n",
        "encoded_data=encoded_data.numpy()\n",
        "encoded_data = np.array(encoded_data)"
      ],
      "metadata": {
        "id": "xT5ARzcgYQOG"
      },
      "execution_count": null,
      "outputs": []
    },
    {
      "cell_type": "code",
      "source": [
        "def fetch_question_info(dataframe_idx):\n",
        "    id = dataframe_idx[0]\n",
        "    score =  dataframe_idx[1] \n",
        "    info = new_t[id]\n",
        "    #print(info)\n",
        "    meta_dict = {}\n",
        "    meta_dict['question'] = info[0] \n",
        "    meta_dict['score'] = score\n",
        "    return meta_dict"
      ],
      "metadata": {
        "id": "jduiSOtNjhXQ"
      },
      "execution_count": null,
      "outputs": []
    },
    {
      "cell_type": "code",
      "source": [
        "import numpy as np\n",
        "\n",
        "def get_k_nearest_neighbours(query_embed, given_query_embed, k):\n",
        "    index = faiss.IndexFlatL2(query_embed.shape[1])\n",
        "    index.add(np.array(query_embed))\n",
        "    return index.search(np.array(given_query_embed), k)"
      ],
      "metadata": {
        "id": "QqA9UWnPkvqJ"
      },
      "execution_count": null,
      "outputs": []
    },
    {
      "cell_type": "markdown",
      "source": [
        "#Accuracy by Context ID"
      ],
      "metadata": {
        "id": "t9NUuVpXQky4"
      }
    },
    {
      "cell_type": "code",
      "source": [
        "def search(query, top_k, model, actual_ques, i, theme, qid):\n",
        "    query_vector = model(query)\n",
        "    query_vector =  query_vector.numpy()\n",
        "    D, I = get_k_nearest_neighbours(encoded_data, query_vector, 7)\n",
        "    for q in range(len(theme_wise_data[theme]['ques'])):\n",
        "      if(t_ques[I[0][0]]==theme_wise_data[theme]['ques'][q]):\n",
        "         break\n",
        "    if(D[0][0]<threshold):\n",
        "      if(theme_wise_data[theme]['ans'][q][0]==theme_wise_data[theme]['ans'][qid][0]):\n",
        "        return 1\n",
        "      else:\n",
        "        return 0\n",
        "    else:\n",
        "      return 0"
      ],
      "metadata": {
        "id": "uqalYKqtOlEJ"
      },
      "execution_count": null,
      "outputs": []
    },
    {
      "cell_type": "code",
      "source": [
        "def accuracy(query, model, ac_ques, theme, qid):\n",
        "  sum = 0\n",
        "  for i in range(len(query)):\n",
        "    if(search([query[i]], 1, model, [ac_ques[i]], i, theme, qid[i])):\n",
        "      sum+=1\n",
        "  Accuracy = sum/len(query)*100\n",
        "  print('For a threshold = '+ str(threshold) + ', the accuracy comes at ' + str(Accuracy)+' %')"
      ],
      "metadata": {
        "id": "5lcX_mghTJnO"
      },
      "execution_count": null,
      "outputs": []
    },
    {
      "cell_type": "code",
      "source": [
        "for threshold in thresholds:\n",
        "  accuracy(query, model, actual_ques, theme, qid)"
      ],
      "metadata": {
        "colab": {
          "base_uri": "https://localhost:8080/"
        },
        "id": "znkEeIpZbGTp",
        "outputId": "0b3440e7-6273-4985-b43c-399ee185ef6f"
      },
      "execution_count": null,
      "outputs": [
        {
          "output_type": "stream",
          "name": "stdout",
          "text": [
            "For a threshold = 0.1, the accuracy comes at 10.9375 %\n",
            "For a threshold = 0.2, the accuracy comes at 34.375 %\n"
          ]
        }
      ]
    }
  ],
  "metadata": {
    "colab": {
      "provenance": [],
      "collapsed_sections": [
        "8yVFy-4WOXCU",
        "3jvk2DFEOjuD",
        "JtOvBkfAOtjF"
      ]
    },
    "kernelspec": {
      "display_name": "Python 3",
      "name": "python3"
    },
    "language_info": {
      "name": "python"
    }
  },
  "nbformat": 4,
  "nbformat_minor": 0
}