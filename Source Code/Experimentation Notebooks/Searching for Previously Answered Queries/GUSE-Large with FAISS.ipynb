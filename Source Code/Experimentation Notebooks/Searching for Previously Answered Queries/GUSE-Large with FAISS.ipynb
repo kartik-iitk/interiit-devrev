{
  "nbformat": 4,
  "nbformat_minor": 0,
  "metadata": {
    "colab": {
      "provenance": [],
      "collapsed_sections": [
        "934igWyFiccv",
        "QvacjnwPiiot",
        "7oPGF2_Mi6N-",
        "sh-xbmyCmr9t"
      ]
    },
    "kernelspec": {
      "name": "python3",
      "display_name": "Python 3"
    },
    "language_info": {
      "name": "python"
    }
  },
  "cells": [
    {
      "cell_type": "markdown",
      "source": [
        "#Installing and Importing Libraries"
      ],
      "metadata": {
        "id": "934igWyFiccv"
      }
    },
    {
      "cell_type": "code",
      "execution_count": null,
      "metadata": {
        "id": "mOdyUWEjXnuw",
        "colab": {
          "base_uri": "https://localhost:8080/"
        },
        "outputId": "eb85ccc1-07e9-4ad0-ceb8-9656f8f72e28"
      },
      "outputs": [
        {
          "output_type": "stream",
          "name": "stdout",
          "text": [
            "Looking in indexes: https://pypi.org/simple, https://us-python.pkg.dev/colab-wheels/public/simple/\n",
            "Collecting transformers\n",
            "  Downloading transformers-4.26.0-py3-none-any.whl (6.3 MB)\n",
            "\u001b[2K     \u001b[90m━━━━━━━━━━━━━━━━━━━━━━━━━━━━━━━━━━━━━━━━\u001b[0m \u001b[32m6.3/6.3 MB\u001b[0m \u001b[31m50.8 MB/s\u001b[0m eta \u001b[36m0:00:00\u001b[0m\n",
            "\u001b[?25hCollecting tokenizers!=0.11.3,<0.14,>=0.11.1\n",
            "  Downloading tokenizers-0.13.2-cp38-cp38-manylinux_2_17_x86_64.manylinux2014_x86_64.whl (7.6 MB)\n",
            "\u001b[2K     \u001b[90m━━━━━━━━━━━━━━━━━━━━━━━━━━━━━━━━━━━━━━━━\u001b[0m \u001b[32m7.6/7.6 MB\u001b[0m \u001b[31m92.1 MB/s\u001b[0m eta \u001b[36m0:00:00\u001b[0m\n",
            "\u001b[?25hRequirement already satisfied: tqdm>=4.27 in /usr/local/lib/python3.8/dist-packages (from transformers) (4.64.1)\n",
            "Collecting huggingface-hub<1.0,>=0.11.0\n",
            "  Downloading huggingface_hub-0.12.0-py3-none-any.whl (190 kB)\n",
            "\u001b[2K     \u001b[90m━━━━━━━━━━━━━━━━━━━━━━━━━━━━━━━━━━━━━━\u001b[0m \u001b[32m190.3/190.3 KB\u001b[0m \u001b[31m20.5 MB/s\u001b[0m eta \u001b[36m0:00:00\u001b[0m\n",
            "\u001b[?25hRequirement already satisfied: regex!=2019.12.17 in /usr/local/lib/python3.8/dist-packages (from transformers) (2022.6.2)\n",
            "Requirement already satisfied: pyyaml>=5.1 in /usr/local/lib/python3.8/dist-packages (from transformers) (6.0)\n",
            "Requirement already satisfied: numpy>=1.17 in /usr/local/lib/python3.8/dist-packages (from transformers) (1.21.6)\n",
            "Requirement already satisfied: filelock in /usr/local/lib/python3.8/dist-packages (from transformers) (3.9.0)\n",
            "Requirement already satisfied: requests in /usr/local/lib/python3.8/dist-packages (from transformers) (2.25.1)\n",
            "Requirement already satisfied: packaging>=20.0 in /usr/local/lib/python3.8/dist-packages (from transformers) (23.0)\n",
            "Requirement already satisfied: typing-extensions>=3.7.4.3 in /usr/local/lib/python3.8/dist-packages (from huggingface-hub<1.0,>=0.11.0->transformers) (4.4.0)\n",
            "Requirement already satisfied: idna<3,>=2.5 in /usr/local/lib/python3.8/dist-packages (from requests->transformers) (2.10)\n",
            "Requirement already satisfied: chardet<5,>=3.0.2 in /usr/local/lib/python3.8/dist-packages (from requests->transformers) (4.0.0)\n",
            "Requirement already satisfied: certifi>=2017.4.17 in /usr/local/lib/python3.8/dist-packages (from requests->transformers) (2022.12.7)\n",
            "Requirement already satisfied: urllib3<1.27,>=1.21.1 in /usr/local/lib/python3.8/dist-packages (from requests->transformers) (1.24.3)\n",
            "Installing collected packages: tokenizers, huggingface-hub, transformers\n",
            "Successfully installed huggingface-hub-0.12.0 tokenizers-0.13.2 transformers-4.26.0\n"
          ]
        }
      ],
      "source": [
        "! pip install transformers"
      ]
    },
    {
      "cell_type": "code",
      "source": [
        "!pip install transformers faiss-cpu"
      ],
      "metadata": {
        "id": "5WoXiMPliH2j",
        "colab": {
          "base_uri": "https://localhost:8080/"
        },
        "outputId": "b07f2553-4e19-43d8-dc05-0f0a6d734db1"
      },
      "execution_count": null,
      "outputs": [
        {
          "output_type": "stream",
          "name": "stdout",
          "text": [
            "Looking in indexes: https://pypi.org/simple, https://us-python.pkg.dev/colab-wheels/public/simple/\n",
            "Requirement already satisfied: transformers in /usr/local/lib/python3.8/dist-packages (4.26.0)\n",
            "Collecting faiss-cpu\n",
            "  Downloading faiss_cpu-1.7.3-cp38-cp38-manylinux_2_17_x86_64.manylinux2014_x86_64.whl (17.0 MB)\n",
            "\u001b[2K     \u001b[90m━━━━━━━━━━━━━━━━━━━━━━━━━━━━━━━━━━━━━━━━\u001b[0m \u001b[32m17.0/17.0 MB\u001b[0m \u001b[31m58.7 MB/s\u001b[0m eta \u001b[36m0:00:00\u001b[0m\n",
            "\u001b[?25hRequirement already satisfied: tokenizers!=0.11.3,<0.14,>=0.11.1 in /usr/local/lib/python3.8/dist-packages (from transformers) (0.13.2)\n",
            "Requirement already satisfied: regex!=2019.12.17 in /usr/local/lib/python3.8/dist-packages (from transformers) (2022.6.2)\n",
            "Requirement already satisfied: pyyaml>=5.1 in /usr/local/lib/python3.8/dist-packages (from transformers) (6.0)\n",
            "Requirement already satisfied: filelock in /usr/local/lib/python3.8/dist-packages (from transformers) (3.9.0)\n",
            "Requirement already satisfied: numpy>=1.17 in /usr/local/lib/python3.8/dist-packages (from transformers) (1.21.6)\n",
            "Requirement already satisfied: packaging>=20.0 in /usr/local/lib/python3.8/dist-packages (from transformers) (23.0)\n",
            "Requirement already satisfied: huggingface-hub<1.0,>=0.11.0 in /usr/local/lib/python3.8/dist-packages (from transformers) (0.12.0)\n",
            "Requirement already satisfied: requests in /usr/local/lib/python3.8/dist-packages (from transformers) (2.25.1)\n",
            "Requirement already satisfied: tqdm>=4.27 in /usr/local/lib/python3.8/dist-packages (from transformers) (4.64.1)\n",
            "Requirement already satisfied: typing-extensions>=3.7.4.3 in /usr/local/lib/python3.8/dist-packages (from huggingface-hub<1.0,>=0.11.0->transformers) (4.4.0)\n",
            "Requirement already satisfied: idna<3,>=2.5 in /usr/local/lib/python3.8/dist-packages (from requests->transformers) (2.10)\n",
            "Requirement already satisfied: certifi>=2017.4.17 in /usr/local/lib/python3.8/dist-packages (from requests->transformers) (2022.12.7)\n",
            "Requirement already satisfied: chardet<5,>=3.0.2 in /usr/local/lib/python3.8/dist-packages (from requests->transformers) (4.0.0)\n",
            "Requirement already satisfied: urllib3<1.27,>=1.21.1 in /usr/local/lib/python3.8/dist-packages (from requests->transformers) (1.24.3)\n",
            "Installing collected packages: faiss-cpu\n",
            "Successfully installed faiss-cpu-1.7.3\n"
          ]
        }
      ]
    },
    {
      "cell_type": "code",
      "source": [
        "import csv\n",
        "import requests\n",
        "import pandas as pd\n",
        "from transformers import AutoModel, AutoTokenizer\n",
        "from pprint import pprint\n",
        "import matplotlib.pyplot as plt\n",
        "import tensorflow as tf\n",
        "import tensorflow_hub as hub\n",
        "import torch\n",
        "import numpy as np\n",
        "import faiss"
      ],
      "metadata": {
        "id": "s9e7ifPtX4oU"
      },
      "execution_count": null,
      "outputs": []
    },
    {
      "cell_type": "markdown",
      "source": [
        "#Load the dataset"
      ],
      "metadata": {
        "id": "QvacjnwPiiot"
      }
    },
    {
      "cell_type": "code",
      "source": [
        "# load training dataset\n",
        "def load_data():\n",
        "    CSV_URL = 'https://drive.google.com/u/0/uc?id=1Z-yb752A3o7b9dqrGt24XU0sl53FVqya&export=download'\n",
        "\n",
        "    with requests.Session() as s:\n",
        "        download = s.get(CSV_URL)\n",
        "        decoded_content = download.content.decode('utf-8')\n",
        "        cr = csv.reader(decoded_content.splitlines(), delimiter=',')\n",
        "        train_data = list(cr)\n",
        "\n",
        "    print(f\"Number of examples = {len(train_data)}\")\n",
        "    ans, noans = 0, 0\n",
        "    for x in train_data:\n",
        "        if x[4] == 'False':\n",
        "            noans += 1\n",
        "        else:\n",
        "            ans += 1\n",
        "    print(f\"\\tAnswerable questions = {ans}\")\n",
        "    print(f\"\\tNon-Answerable questions = {noans}\\n\")\n",
        "    print(\"Examples:\")\n",
        "    for i in [0, 1000, 1300]:\n",
        "        print(' | '.join(train_data[i][:2]), ' | ', train_data[i][2][:20] + '...', ' | ', ' | '.join(train_data[i][3:]))\n",
        "    return train_data"
      ],
      "metadata": {
        "id": "91QpZpsqX5WL"
      },
      "execution_count": null,
      "outputs": []
    },
    {
      "cell_type": "code",
      "source": [
        "def load_theme_wise_data(train_data):\n",
        "    theme_wise_data = {}\n",
        "    for x in train_data[1:]:\n",
        "        if x[1] not in theme_wise_data:\n",
        "            theme_wise_data[x[1]] = {\n",
        "                'para': [],\n",
        "                'ques': [],\n",
        "                'ans': []\n",
        "            }\n",
        "        if x[2] not in theme_wise_data[x[1]]['para']:\n",
        "            theme_wise_data[x[1]]['para'].append(x[2])\n",
        "        theme_wise_data[x[1]]['ques'].append(x[3])\n",
        "        # ans contains a list -> [Para_Number, Answer_possible, Answer_text, Answer_start]\n",
        "        theme_wise_data[x[1]]['ans'].append([theme_wise_data[x[1]]['para'].index(x[2])] + x[4:])\n",
        "    print(f'\\nTotal {len(theme_wise_data)} themes present.')\n",
        "    return theme_wise_data"
      ],
      "metadata": {
        "id": "hkzf0BviX8Fw"
      },
      "execution_count": null,
      "outputs": []
    },
    {
      "cell_type": "code",
      "source": [
        "module_url = \"https://tfhub.dev/google/universal-sentence-encoder-large/5\"\n",
        "model = hub.load(module_url)"
      ],
      "metadata": {
        "id": "FbhGMFeLX9DN"
      },
      "execution_count": null,
      "outputs": []
    },
    {
      "cell_type": "code",
      "source": [
        "metric = faiss.METRIC_INNER_PRODUCT"
      ],
      "metadata": {
        "id": "JlAoO5LSiZnk"
      },
      "execution_count": null,
      "outputs": []
    },
    {
      "cell_type": "code",
      "source": [
        "train_data = load_data()\n",
        "theme_wise_data = load_theme_wise_data(train_data)"
      ],
      "metadata": {
        "colab": {
          "base_uri": "https://localhost:8080/"
        },
        "id": "nDPWiDyeX9n7",
        "outputId": "2240aaf4-57f1-47a9-90ab-48f0e3b1a2f0"
      },
      "execution_count": null,
      "outputs": [
        {
          "output_type": "stream",
          "name": "stdout",
          "text": [
            "Number of examples = 75056\n",
            "\tAnswerable questions = 50126\n",
            "\tNon-Answerable questions = 24930\n",
            "\n",
            "Examples:\n",
            " | Theme  |  Paragraph...  |  Question | Answer_possible | Answer_text | Answer_start\n",
            "1430 | Frédéric_Chopin  |  Some modern commenta...  |  Who said Chopin's works were modeled after Bach, Beethoven, Schubert and Field? | True | ['Richard Taruskin'] | [543]\n",
            "2196 | The_Legend_of_Zelda:_Twilight_Princess  |  Twilight Princess ta...  |  Who releases Bulbins from the Realm of Twilight? | False | [] | []\n",
            "\n",
            "Total 361 themes present.\n"
          ]
        }
      ]
    },
    {
      "cell_type": "code",
      "source": [
        "thresholds = [0.1, 0.2, 0.3, 0.4]"
      ],
      "metadata": {
        "id": "vW1eIn3NjFtP"
      },
      "execution_count": null,
      "outputs": []
    },
    {
      "cell_type": "code",
      "source": [
        "td_ques1 = list(theme_wise_data['YouTube']['ques'])\n",
        "td_ques2 = list(theme_wise_data['Adolescence']['ques'])\n",
        "td_ques3 = list(theme_wise_data['National_Archives_and_Records_Administration']['ques'])\n",
        "td_ques4 = list(theme_wise_data['Hindu_philosophy']['ques'])\n",
        "td_ques = td_ques1+td_ques2+td_ques3+td_ques4\n",
        "td_ans1 = list(theme_wise_data['YouTube']['ans'])\n",
        "td_ans2 = list(theme_wise_data['Adolescence']['ans'])\n",
        "td_ans3 = list(theme_wise_data['National_Archives_and_Records_Administration']['ans'])\n",
        "td_ans4 = list(theme_wise_data['Hindu_philosophy']['ans'])\n",
        "td_ans = td_ans1+td_ans2+td_ans3+td_ans4\n",
        "td_ans = [i[2][2:-2] for i in td_ans]\n",
        "td = [[i, j] for i,j in zip(td_ques , td_ans )]\n",
        "new_td = {idx:[td[idx][0],td[idx][1]] for idx in range(len(td))}"
      ],
      "metadata": {
        "id": "qYF01B7evacq"
      },
      "execution_count": null,
      "outputs": []
    },
    {
      "cell_type": "code",
      "source": [
        "td_ques2"
      ],
      "metadata": {
        "colab": {
          "base_uri": "https://localhost:8080/"
        },
        "id": "1YDO4mO0K5wJ",
        "outputId": "c9efd62d-9761-4947-8e54-65f3e8627b9a"
      },
      "execution_count": null,
      "outputs": [
        {
          "output_type": "execute_result",
          "data": {
            "text/plain": [
              "['A surge in hormone production triggers a number of physical changes during what stage of life?',\n",
              " 'Which part of the body releases testosterone in males?',\n",
              " 'Which part of the body relesases estrogen in females?',\n",
              " 'What is the transitional period between childhood and adulthood viewed as?',\n",
              " 'What transitions occur during puberty in addition to living circumstances?',\n",
              " \"How do a person's heart and lungs change during puberty?\",\n",
              " 'Increased size and capacity of the heart and lungs result in what changes to the body?',\n",
              " 'Which sex tends to have more red blood cells than the other?',\n",
              " \"Which body system are a person's lungs a major proponent of?\",\n",
              " \"Is a person's brain fully developed by the time they reach puberty?\",\n",
              " 'The brain reaches what percentage of its adult size by the time a person is six years old?',\n",
              " 'The biggest changes in the brain during puberty occur in the parts of the cortex that process what kinds of information?',\n",
              " 'What parts of the brain continue to become more complex into the late teens?',\n",
              " 'Which two neurotransmitters cause adolescents to be more emotional and more responsive to rewards and stresses?',\n",
              " 'Deductive reasoning leads to the development of what type of thinking?',\n",
              " 'Adolescents develop a more sophisticated understanding of what mathematical concept thanks to their increased hypothetical thinking abilties?',\n",
              " 'Increased aggresiveness and early sexual maturation in adolescent boys are due to a surge of what?',\n",
              " 'What is one reason a late maturing boy may be less confident when comparing himself to others?',\n",
              " 'Wisdom increases between age fourteen and what?',\n",
              " 'Is wisdom the same thing as intelligence?',\n",
              " 'What word is defined as the capacity for insight and judgement that is developed through experience?',\n",
              " 'How is adolescence defined biologically?',\n",
              " 'How is adolescence defined cognitively?',\n",
              " \"Who founded the University of California, Berkeley's Institude of Human Development?\",\n",
              " \"What year was the University of California, Berkeley's Instutute of Human Development founded?\",\n",
              " 'What year was the Oakland Growth Study initiated?',\n",
              " 'What year did data for the Oakland Growth Study stop being collected?',\n",
              " \"What is a male's major landmark of puberty?\",\n",
              " \"At what average age does a male's first ejaculation occur?\",\n",
              " \"What is a female's major landmark of puberty?\",\n",
              " 'Do girls who are malnourished start menustrating earlier or later than those with high-fat diets?',\n",
              " 'How can the ideal self be described in terms of the adolescent?',\n",
              " 'How can the feared self be described in terms of the adolescent?',\n",
              " 'Do adolescents demonstrate intended behavior moving towards the ideal or feared self?',\n",
              " 'How many years does regular ovulation follow menarche?',\n",
              " \"What activity often results in a boy's first ejaculation?\",\n",
              " 'What does the first stage of puberty involve for males?',\n",
              " 'Which male body parts enlarge and develop at the same time as the penis?',\n",
              " 'At what stage do parents see their children as equals?',\n",
              " 'During what stage of development is there increased parent-child conflict and a less cohesive familial bond?',\n",
              " 'During puberty and adolescence, do most children share the same or different attitudes and values as their parents?',\n",
              " 'Which are the first areas to be pruned during puberty?',\n",
              " 'Motor and sensory skills are examples of what kind of brain function?',\n",
              " 'What are some of the negative experiences that peer pressure can influence during adolescence?',\n",
              " 'At what age does succeptability to peer pressure peak?',\n",
              " 'What are some social skills that peer groups offer members the opportunity to develop?',\n",
              " 'Did Piaget believe that cognitive improvement was sudden and drastic or slow and steadied?',\n",
              " 'Besides the information-processing perspective, what is the other major approach to understanding cognitive change during adolescence?',\n",
              " 'Do most sexual experiences during adolescence take place within or seperate from romantic relationships?',\n",
              " 'Where do some adolescents feel is a safe place to seek out romantic relationships, try out dating and indentity exploration?',\n",
              " 'What seperates \"heavy\" sexual activity from other forms of affection?',\n",
              " 'For older adolescents, is sexual activity in a romantic relationship associated with lower or higher levels of deviant behavior?',\n",
              " 'What is the term used to describe thinking about thinking itself?',\n",
              " 'Are adolescents or children better able to understand that people do not have complete control over their thoughts?',\n",
              " 'The imaginary audience and personal fable peak at what age?',\n",
              " 'At what age does self-consciousness in general peak?',\n",
              " 'What has the teen timetable questionnaire been used to guage?',\n",
              " 'Are higher or lower levels of parental support associated with risky sexual behavior?',\n",
              " 'Is exploratory sexual behavior seen as similar or seperate to other aspects of identity?',\n",
              " 'Does having unprotected sex, multiple sexual partners, and poor communication increase or decrease individual and social risk?',\n",
              " 'When does the search for identity begin for most individuals?',\n",
              " 'What are some factors that make developing and maintaining an identity during the adolescent years a difficult task?',\n",
              " 'Do adolescents with a less privileged upbringing have a more or less difficult time developing their identity?',\n",
              " 'Is there a final endpoint in identity development?',\n",
              " \"Evidence has supported which theorist's idea concerning stages of development?\",\n",
              " 'Does self-examination begin early or late in adolescence?',\n",
              " 'How do adolescents initially define themselves?',\n",
              " 'How is Moratorium defined?',\n",
              " \"Which term is defined as one's thoughts and feelings about one's self-concept and identity?\",\n",
              " 'Is there evidence to support a drop in self-esteem during adolescence?',\n",
              " 'Which type of self-esteem fluctuates rapidly and can cause severe distress and anxiety?',\n",
              " 'Which type of self-esteem remains stable throughout adolescence?',\n",
              " 'What is the most important function of friendship?',\n",
              " \"At what age does coming out to one's peers occur on average?\",\n",
              " 'At what age does coming out to adults occur on average?',\n",
              " 'How many times higher is the suicide rate amongst LGBT adolescents than their heterosexual peers?',\n",
              " 'Are adolescents with authoritative parents more or less likely to complete secondary education by age 22?',\n",
              " 'Which researchers conducted a 2009 study that concerned adolescents, their parents, and secondary education completion?',\n",
              " 'Are modern day teenagers exposed to more or less media than other generations?',\n",
              " 'How many hours of television does the average teenager watch per year?',\n",
              " 'Does divorce usually result in more or less contact with the noncustodial parent?',\n",
              " 'Does a parental divorce during childhood or adulthood have a positive or negative effect on a person during early adulthood?',\n",
              " 'What are a few examples of social and religious transition ceremonies?',\n",
              " 'What are some physical ways that some cultures mark the transition into adulthood?',\n",
              " 'At what average age did American males report their first sexual intercourse took place?',\n",
              " 'Does the typical duration of relationships increase or decrease throughout the teenage years?',\n",
              " \"Does culture affect all, some, or none of the aspects of an individual's life?\",\n",
              " 'Should culture be directly connected to a nation or ethnicity?',\n",
              " 'How do adolescents use online technology?',\n",
              " 'To what does \"channel\" refer in terms if adolescent communication?',\n",
              " 'What is a potential negative effect of using newer online channels of communication?',\n",
              " 'What percentage of sexually active teenagers will contract an STI?',\n",
              " 'What percent of the teenage population is affected by herpes and HPV?',\n",
              " 'What ratio of all new HIV cases occur in those under age 21?',\n",
              " 'What two countries have not legally committed to advancing an anti-discriminaory stance towards young people?',\n",
              " 'What is legally different for an individual who has reached the age of majority?',\n",
              " 'In developing countries, is it common for children to attend fewer or greater years of formal schooling?',\n",
              " 'Why, in developting countries, do children often attend fewer years of formal schooling?',\n",
              " 'According to family economic and financial education specialists, how do adolescents develop sound money management skills?',\n",
              " 'What word refers to the first ejactulation of a male?',\n",
              " 'What word refers to the first menstrual period in females?',\n",
              " 'What is the term for a culture that discourages sexual activity in unmarried adolescents?',\n",
              " 'What is the term for cultures that perceive sexual behavior among unmarried teens as acceptable or even encouraged?',\n",
              " 'Which of the Five-Factor Model dimensions does not demonstrate an association with drinking motives?',\n",
              " 'Is alcohol use a positive or negative emotion control mechanism?',\n",
              " 'Drinking to cope with negative emotional states correlates strongly with what behavioral qualities?',\n",
              " 'What is the most commonly abused substance during adolescent years in the U.S.?',\n",
              " 'The heightened usage of what drug is most likely due at least in some part to the rising popularity of rave culture?',\n",
              " 'From the late 1990s to mid 2000s, was drug use in teens on the rise or decline?',\n",
              " 'During what ages do reasons for alcohol consumption between males and females begin to diverge?',\n",
              " 'Do boys or girls view drinking in a more social light?',\n",
              " 'Which gender reports most frequently using alcohol as a coping mechanism?',\n",
              " 'Does age bring a greater or smaller desire to drink for pleasure rather than coping?',\n",
              " 'From which language does the word \"adolescence\" originate?',\n",
              " 'What is another term for legal adulthood?',\n",
              " 'Physical growth and cognitive development generally observed in adolescents can extend to what age?',\n",
              " 'What percentage of 12-17 year olds claim to have at least one social networking profile?',\n",
              " 'What percentage of teens say they text every day?',\n",
              " 'What percentage of teens report visiting social netorking sites daily?',\n",
              " 'What ratio of teens are \"heavy\" social media users, using two types of media daily?',\n",
              " 'Are girls reaching sexual maturation early more or less likely to develop eating disorers?',\n",
              " 'Nearly half of Americam high school girls hope to achieve what goal with their diet?',\n",
              " 'Are early or late maturing girls more exposed to alcohol and drug abuse?',\n",
              " 'Do early or late maturing girls have more unwanted pregnancies?',\n",
              " 'Who performs better in school: sexually experienced or inexperienced teen females?',\n",
              " 'Do boys or girls experience a more significant increase in body fat?',\n",
              " 'What is the ratio between muscle and fat among post-pubertal boys?',\n",
              " 'What is the ratio between muscle and fat amoung post-pubertal girls?',\n",
              " 'What is a secondary sex characteristic change?',\n",
              " 'How many Tanner stages are there?',\n",
              " 'What was the occupation of the person who devised the Tanner categorization system?',\n",
              " 'Elevation of the breasts, development of pubic hair, and elevation of the nippes are examples of what type of changes?',\n",
              " 'Is not dating until a certain age a common sense or culturally-relative standard?',\n",
              " 'Is refraining from touching a hot stoce a common sense or culturally-relative standard?',\n",
              " 'Who was the first president of the American Psychological Association?',\n",
              " 'What was the title of the publication that started the formal study of adolescent psychology?',\n",
              " 'Which theorist is known for his beliefs on evolution?',\n",
              " 'How do children tend to define themselves?',\n",
              " 'Do children or adolescents define themselves based on values, thoughts, and opinions?',\n",
              " 'Which idea is known as the ability of a person to have opinions and beliefs that are defined confidently, consistent, and stable?',\n",
              " 'Which adolescent ethninticy is most often studied?',\n",
              " 'What social class of adolescents is most often studied?',\n",
              " \"The period of one's life that spans late adolescence and early adulthood is known as what?\",\n",
              " \"Is an inner city or crime-driven neighborhood more or less likely to be detrimental to one's development?\",\n",
              " 'Why are children from suburban communities more likely to participate in activies that benefit their identity?',\n",
              " \"What has the largest affect over one's social development?\",\n",
              " \"Do a teen's friends have a large or small impact on their social development?\",\n",
              " 'Does communication with peers increase or decrease during adolescence?',\n",
              " 'Do children or adolescents tend to associae with friends of the opposite sex more?',\n",
              " 'How is adolescence defined socially?',\n",
              " 'Did adolescents report more sexual or social events to researchers?',\n",
              " 'Why do researchers believe the social event reporting by adolescents (rather than sexual activity) is important?',\n",
              " \"Holding hands with one's partner and telling others about a relationship are examples of what kind of adolescent event?\",\n",
              " 'What are the three main types of autonomy?',\n",
              " 'How is behavioral autonomy defined?',\n",
              " 'How is cognitive autonomy defined?',\n",
              " \"Is an adolescent's mental health at its best when their feelings of autonomy match closely with their parents or when they are at odds?\",\n",
              " 'Do American teenagers spend more or less time on leisure activities than adolescents in other countries?',\n",
              " 'Does the amount of time adolescents spend on work and leisure vary from culture to culture or reman relatively constant?',\n",
              " 'What are two potential reasons that adolescents in different cultures spend varying time on work and leisure activities?',\n",
              " 'Is teenage alcohol drug use at al all-time high or low?',\n",
              " 'Do teens smoke marijuana or cigarettes more commonly?',\n",
              " 'Are male or female late adolescents more likely to smoke cigarettes?',\n",
              " 'What is one possible explanation for the shift towards marijuana and away from cigarettes?',\n",
              " 'Are motives behind teen alcohol use varied or uniform across different cultures?',\n",
              " 'What two reasons for adolescent drinking are shared across cultural contexts?',\n",
              " 'What is the most common reason for drinking among adolescents according to surveys in Argentina, Hong Kong, and Canada?',\n",
              " 'What percentage of Argentenian teens reported drinking to improve a bad mood?',\n",
              " 'In Hong Kong, did males or females most frequently report drinking to feel the effects of the alcohol?',\n",
              " 'Does the time frame of adolescence vary from culture to culture or remain universally agreed upon?',\n",
              " 'Is adolescence usually accompanied by increased parental supervision or increased independence?',\n",
              " 'Is the end of adolescence and beginning of adulthood easily agreed upon or does it vary by country?',\n",
              " 'Do milestones such as driving a vechile, serving on a jury, voting, and marriage all have a common age of responsibility?',\n",
              " 'When do the first facial hairs present in pubescent males?',\n",
              " 'For how long does facial hair continue to get darker, coarser, and thicker?',\n",
              " 'Where does facial hair first present during puberty?',\n",
              " 'What is the growth rate during peak height velocity for a female adolescent?',\n",
              " 'Growth rates during adolescent are comparible to those of what other life stage?',\n",
              " 'Does the amount of white matter in the brain increase or decrease over the course of adolescence?',\n",
              " 'During which process are unnecessary neuronal connections in the brain eliminated?',\n",
              " 'Does the brain become more or less efficient as a result of synaptic pruning?',\n",
              " \"Who describes adolescence as the stage of life in which the individual's thoughts start taking more of an abstract form?\",\n",
              " 'Which cortex is commonly associated with the coordination of thoughts and behavior?',\n",
              " 'Does Piaget believe that egocentric thoughts decrease or increase during adolescence?',\n",
              " 'Do adolescents or children understand puns, proverbs, metaphors, and analogies most effectively?',\n",
              " 'Children under what age often cannot comprehend sarcasm?',\n",
              " 'Are puns, proverbs, metaphors, and analogies lower-order or higher-order logic?',\n",
              " 'The appearance of more systematic, abstract thinking is a notable aspect of what type of development during adolescence?',\n",
              " 'Most injuries sustained by adolescents are related to what?',\n",
              " 'Do adolescents or adults seem to give more weight to rewards?',\n",
              " 'Do adolescents, adults, or both weight the potential rewards and consequences of an action?',\n",
              " 'When does differentiation appear fully developed?',\n",
              " 'When adolescents begin to qualify their traits, what are they demonstrating?',\n",
              " 'In what year did Troiden propose a four-stage model for the development of homosexual sexual identity?',\n",
              " \"What is Troiden's first stage of development known as?\",\n",
              " 'When does sensitization usually start?',\n",
              " \"Troiden's second stage is referred to as what?\",\n",
              " 'At what stage to mixed-sex siblings generally experience an increase in intimacy?',\n",
              " 'Do adolescents associate with \"cliques\" on a large or small scale?',\n",
              " 'How are cliques defined?',\n",
              " 'Do adolescents associate with \"crowds\" on a large or small scale?',\n",
              " 'What percentage of adolescents reporting having experienced physical violence in a relationship?',\n",
              " 'What percentage of adolescents reported experiencing psychological aggression?',\n",
              " 'Hitting, throwing objects, and slaps are examples of what type of aggression?',\n",
              " 'In heterosexual adolescent couples, is there a significant difference in the rates of male and female aggressors?',\n",
              " 'Does adolescent participation in family work and routines have a positive or negative influence on feelings of self-worth, care, and concern for others?',\n",
              " 'How are household chores frequently divided?',\n",
              " 'The active seeking of new ideas rather than the unquestioning acceptance of adult authority is known as what stage of development?',\n",
              " 'What percentage of adolescents use the internet at least occasionally?',\n",
              " 'In the last decade, has the amount oftime adolescents spend on the computer increased or dereased?',\n",
              " 'What percentage of adolescents report using social networking sites?',\n",
              " 'What online activity has the largest number of reported adolescent particpation?',\n",
              " 'What is DIS?',\n",
              " 'What does the DIS focus on in adolescents?',\n",
              " 'Is the age that peope are allowed to marry universally decided upon?']"
            ]
          },
          "metadata": {},
          "execution_count": 20
        }
      ]
    },
    {
      "cell_type": "code",
      "source": [
        "!gdown 1li7y86DCuZKuYfYtN6fddPUtXfSfW_Z5\n",
        "df1 = pd.read_csv('Question Generation - Sheet1 (1).csv')"
      ],
      "metadata": {
        "colab": {
          "base_uri": "https://localhost:8080/"
        },
        "id": "oyzSbgmhgJWS",
        "outputId": "41502c0e-a203-4111-fa01-2b79a240aa3e"
      },
      "execution_count": null,
      "outputs": [
        {
          "output_type": "stream",
          "name": "stdout",
          "text": [
            "Downloading...\n",
            "From: https://drive.google.com/uc?id=1li7y86DCuZKuYfYtN6fddPUtXfSfW_Z5\n",
            "To: /content/Question Generation - Sheet1 (1).csv\n",
            "\r  0% 0.00/41.6k [00:00<?, ?B/s]\r100% 41.6k/41.6k [00:00<00:00, 47.6MB/s]\n"
          ]
        }
      ]
    },
    {
      "cell_type": "code",
      "source": [
        "df1['Theme'].value_counts()"
      ],
      "metadata": {
        "colab": {
          "base_uri": "https://localhost:8080/"
        },
        "id": "I-i0fjwT_6qA",
        "outputId": "3b23203e-0ba2-4840-ba1e-8422c0c5f82b"
      },
      "execution_count": null,
      "outputs": [
        {
          "output_type": "execute_result",
          "data": {
            "text/plain": [
              "YouTube                                         68\n",
              "National_Archives_and_Records_Administration    67\n",
              "Hindu_philosophy                                65\n",
              "Adolescence                                     64\n",
              "Name: Theme, dtype: int64"
            ]
          },
          "metadata": {},
          "execution_count": 12
        }
      ]
    },
    {
      "cell_type": "code",
      "source": [
        "sim_query = df1['Similar Question']\n",
        "actual_ques_large = df1['Question']"
      ],
      "metadata": {
        "id": "4foCd70c6qY8"
      },
      "execution_count": null,
      "outputs": []
    },
    {
      "cell_type": "markdown",
      "source": [
        "#Creating Embeddings and Index for FAISS Similarity Search"
      ],
      "metadata": {
        "id": "7oPGF2_Mi6N-"
      }
    },
    {
      "cell_type": "code",
      "source": [
        "encoded_data=model(td_ques)\n",
        "encoded_data=encoded_data.numpy()\n",
        "encoded_data = np.array(encoded_data)"
      ],
      "metadata": {
        "id": "HFmIPDSqGGPQ"
      },
      "execution_count": null,
      "outputs": []
    },
    {
      "cell_type": "code",
      "source": [
        "def fetch_question_info(dataframe_idx):\n",
        "    id = dataframe_idx[0]\n",
        "    score =  dataframe_idx[1] \n",
        "    info = new_td[id]\n",
        "    #print(info)\n",
        "    meta_dict = {}\n",
        "    meta_dict['question'] = info[0] \n",
        "    meta_dict['score'] = score\n",
        "    return meta_dict"
      ],
      "metadata": {
        "id": "BLKqOvneGGPW"
      },
      "execution_count": null,
      "outputs": []
    },
    {
      "cell_type": "code",
      "source": [
        "import numpy as np\n",
        "\n",
        "def get_k_nearest_neighbours(query_embed, given_query_embed, k):\n",
        "    index = faiss.IndexFlatL2(query_embed.shape[1])\n",
        "    index.add(np.array(query_embed))\n",
        "    return index.search(np.array(given_query_embed), k)"
      ],
      "metadata": {
        "id": "FPBgnD2OGGPW"
      },
      "execution_count": null,
      "outputs": []
    },
    {
      "cell_type": "markdown",
      "source": [
        "#Accuracy Calculation"
      ],
      "metadata": {
        "id": "sh-xbmyCmr9t"
      }
    },
    {
      "cell_type": "code",
      "source": [
        "def search(sim_query, top_k, model, actual_ques_large):\n",
        "    query_vector = model(sim_query)\n",
        "    query_vector =  query_vector.numpy()\n",
        "    D, I = get_k_nearest_neighbours(encoded_data, query_vector, 7)\n",
        "    if(D[0][0]<threshold):\n",
        "      if(td_ques[I[0][0]]==actual_ques_large[0]):\n",
        "        return 1\n",
        "      else:\n",
        "        return 0\n",
        "    else:\n",
        "      return 0"
      ],
      "metadata": {
        "id": "lcwNEqsV7AbY"
      },
      "execution_count": null,
      "outputs": []
    },
    {
      "cell_type": "code",
      "source": [
        "def accuracy(sim_query, model, ac_ques_large):\n",
        "  sum = 0\n",
        "  for i in range(len(sim_query)):\n",
        "    sum += search([sim_query[i]], 1, model, [actual_ques_large[i]])\n",
        "\n",
        "  Accuracy = sum/len(sim_query)*100\n",
        "  print('For a threshold = '+ str(threshold) + ', the accuracy comes at ' + str(Accuracy)+' %')"
      ],
      "metadata": {
        "id": "XlkXOjBajBVa"
      },
      "execution_count": null,
      "outputs": []
    },
    {
      "cell_type": "code",
      "source": [
        "for threshold in thresholds:\n",
        "  accuracy(sim_query, model, actual_ques_large)"
      ],
      "metadata": {
        "colab": {
          "base_uri": "https://localhost:8080/"
        },
        "id": "RtT8jvtwkVQJ",
        "outputId": "6a5085e0-d3e8-4de9-d6a6-28eb50c3552f"
      },
      "execution_count": null,
      "outputs": [
        {
          "output_type": "stream",
          "name": "stdout",
          "text": [
            "For a threshold = 0.1, the accuracy comes at 18.939393939393938 %\n",
            "For a threshold = 0.2, the accuracy comes at 42.42424242424242 %\n",
            "For a threshold = 0.3, the accuracy comes at 64.39393939393939 %\n",
            "For a threshold = 0.4, the accuracy comes at 79.92424242424242 %\n"
          ]
        }
      ]
    }
  ]
}