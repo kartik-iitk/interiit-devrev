{
  "cells": [
    {
      "cell_type": "markdown",
      "metadata": {
        "id": "SeLEtl22zRG6"
      },
      "source": [
        "### Test: FAISS v/s BM25 + FAISS\n"
      ]
    },
    {
      "cell_type": "markdown",
      "metadata": {
        "id": "APhlBAlK2-Aa"
      },
      "source": [
        "## Load Data"
      ]
    },
    {
      "cell_type": "markdown",
      "metadata": {
        "id": "O0zouMSUjLPM"
      },
      "source": [
        "### Load Train Dataset"
      ]
    },
    {
      "cell_type": "code",
      "execution_count": null,
      "metadata": {
        "id": "EouaXrxN3uCu"
      },
      "outputs": [],
      "source": [
        "import csv\n",
        "import requests\n",
        "\n",
        "# load training dataset\n",
        "def load_data():\n",
        "    CSV_URL = 'https://drive.google.com/u/0/uc?id=1Z-yb752A3o7b9dqrGt24XU0sl53FVqya&export=download'\n",
        "\n",
        "    with requests.Session() as s:\n",
        "        download = s.get(CSV_URL)\n",
        "        decoded_content = download.content.decode('utf-8')\n",
        "        cr = csv.reader(decoded_content.splitlines(), delimiter=',')\n",
        "        train_data = list(cr)\n",
        "\n",
        "    print(f\"Number of examples = {len(train_data)}\")\n",
        "    ans, noans = 0, 0\n",
        "    for x in train_data:\n",
        "        if x[4] == 'False':\n",
        "            noans += 1\n",
        "        else:\n",
        "            ans += 1\n",
        "    print(f\"\\tAnswerable questions = {ans}\")\n",
        "    print(f\"\\tNon-Answerable questions = {noans}\\n\")\n",
        "    print(\"Examples:\")\n",
        "    for i in [0, 1000, 1300]:\n",
        "        print(' | '.join(train_data[i][:2]), ' | ', train_data[i][2][:20] + '...', ' | ', ' | '.join(train_data[i][3:]))\n",
        "    return train_data"
      ]
    },
    {
      "cell_type": "code",
      "execution_count": null,
      "metadata": {
        "id": "TzgNTXeZjV6M"
      },
      "outputs": [],
      "source": [
        "def load_theme_wise_data(train_data):\n",
        "    theme_wise_data = {}\n",
        "    for x in train_data[1:]:\n",
        "        if x[1] not in theme_wise_data:\n",
        "            theme_wise_data[x[1]] = {\n",
        "                'para': [],\n",
        "                'ques': [],\n",
        "                'ans': []\n",
        "            }\n",
        "        if x[2] not in theme_wise_data[x[1]]['para']:\n",
        "            theme_wise_data[x[1]]['para'].append(x[2])\n",
        "        theme_wise_data[x[1]]['ques'].append(x[3])\n",
        "        # ans contains a list -> [Para_Number, Answer_possible, Answer_text, Answer_start]\n",
        "        theme_wise_data[x[1]]['ans'].append([theme_wise_data[x[1]]['para'].index(x[2])] + x[4:])\n",
        "    print(f'\\nTotal {len(theme_wise_data)} themes present.')\n",
        "    return theme_wise_data"
      ]
    },
    {
      "cell_type": "code",
      "execution_count": null,
      "metadata": {
        "colab": {
          "base_uri": "https://localhost:8080/"
        },
        "id": "EQiBh_e-qOyt",
        "outputId": "68bae18c-abf3-457d-d432-7b3ea58f4081"
      },
      "outputs": [
        {
          "name": "stdout",
          "output_type": "stream",
          "text": [
            "--2023-01-30 17:14:56--  https://juggernautjha.gitlab.io/assets/interiit/train_data.csv\n",
            "Resolving juggernautjha.gitlab.io (juggernautjha.gitlab.io)... 35.185.44.232\n",
            "Connecting to juggernautjha.gitlab.io (juggernautjha.gitlab.io)|35.185.44.232|:443... connected.\n",
            "HTTP request sent, awaiting response... 200 OK\n",
            "Length: 65646492 (63M) [text/csv]\n",
            "Saving to: ‘train_data.csv’\n",
            "\n",
            "train_data.csv      100%[===================>]  62.60M  13.0MB/s    in 6.6s    \n",
            "\n",
            "2023-01-30 17:15:03 (9.51 MB/s) - ‘train_data.csv’ saved [65646492/65646492]\n",
            "\n"
          ]
        }
      ],
      "source": [
        "! wget  'https://juggernautjha.gitlab.io/assets/interiit/train_data.csv'"
      ]
    },
    {
      "cell_type": "code",
      "execution_count": null,
      "metadata": {
        "id": "YGLVjQHNrSYt"
      },
      "outputs": [],
      "source": []
    },
    {
      "cell_type": "code",
      "execution_count": null,
      "metadata": {
        "colab": {
          "base_uri": "https://localhost:8080/"
        },
        "id": "UJkiZaHvqmjJ",
        "outputId": "11c63e0e-2474-4ab0-b1da-558740f9ab65"
      },
      "outputs": [
        {
          "name": "stdout",
          "output_type": "stream",
          "text": [
            "--2023-01-30 17:13:31--  https://juggernautjha.gitlab.io/assets/interiit-utils/train-data.csv\n",
            "Resolving juggernautjha.gitlab.io (juggernautjha.gitlab.io)... 35.185.44.232\n",
            "Connecting to juggernautjha.gitlab.io (juggernautjha.gitlab.io)|35.185.44.232|:443... connected.\n",
            "HTTP request sent, awaiting response... 302 Found\n",
            "Location: https://projects.gitlab.io/auth?domain=https://juggernautjha.gitlab.io&state=EFUSHL0BJHIaC5-9EEZX9w== [following]\n",
            "--2023-01-30 17:13:32--  https://projects.gitlab.io/auth?domain=https://juggernautjha.gitlab.io&state=EFUSHL0BJHIaC5-9EEZX9w==\n",
            "Resolving projects.gitlab.io (projects.gitlab.io)... 35.185.44.232\n",
            "Connecting to projects.gitlab.io (projects.gitlab.io)|35.185.44.232|:443... connected.\n",
            "HTTP request sent, awaiting response... 302 Found\n",
            "Location: https://gitlab.com/oauth/authorize?client_id=5059a88907e1b093c23df47d996183b101a862a5e53e099b563120d1308db2c1&redirect_uri=https://projects.gitlab.io/auth&response_type=code&state=EFUSHL0BJHIaC5-9EEZX9w==&scope=api [following]\n",
            "--2023-01-30 17:13:32--  https://gitlab.com/oauth/authorize?client_id=5059a88907e1b093c23df47d996183b101a862a5e53e099b563120d1308db2c1&redirect_uri=https://projects.gitlab.io/auth&response_type=code&state=EFUSHL0BJHIaC5-9EEZX9w==&scope=api\n",
            "Resolving gitlab.com (gitlab.com)... 172.65.251.78, 2606:4700:90:0:f22e:fbec:5bed:a9b9\n",
            "Connecting to gitlab.com (gitlab.com)|172.65.251.78|:443... connected.\n",
            "HTTP request sent, awaiting response... 302 Found\n",
            "Location: https://gitlab.com/users/sign_in [following]\n",
            "--2023-01-30 17:13:33--  https://gitlab.com/users/sign_in\n",
            "Reusing existing connection to gitlab.com:443.\n",
            "HTTP request sent, awaiting response... 503 Service Temporarily Unavailable\n",
            "2023-01-30 17:13:33 ERROR 503: Service Temporarily Unavailable.\n",
            "\n"
          ]
        }
      ],
      "source": [
        "! wget 'https://juggernautjha.gitlab.io/assets/interiit-utils/train-data.csv'"
      ]
    },
    {
      "cell_type": "code",
      "execution_count": null,
      "metadata": {
        "id": "VaDY9v50rafT"
      },
      "outputs": [],
      "source": [
        "import pandas as pd"
      ]
    },
    {
      "cell_type": "code",
      "execution_count": null,
      "metadata": {
        "id": "tRRloHL6rWbk"
      },
      "outputs": [],
      "source": [
        "df = pd.read_csv('train_data.csv')"
      ]
    },
    {
      "cell_type": "code",
      "execution_count": null,
      "metadata": {
        "id": "8nza0UYyrdSv"
      },
      "outputs": [],
      "source": [
        "themes = clusters[2][20]"
      ]
    },
    {
      "cell_type": "code",
      "execution_count": null,
      "metadata": {
        "id": "7Okmc26WrgAG"
      },
      "outputs": [],
      "source": [
        "my_df = df[df['Theme'].isin(themes)]"
      ]
    },
    {
      "cell_type": "code",
      "execution_count": null,
      "metadata": {
        "colab": {
          "base_uri": "https://localhost:8080/",
          "height": 833
        },
        "id": "PJFkBBfirvCA",
        "outputId": "a8b91061-5e5a-4dcd-87b3-ef93fbd4ef92"
      },
      "outputs": [
        {
          "data": {
            "text/html": [
              "\n",
              "  <div id=\"df-4f9e45a8-c8ba-486a-b6fa-09da0785530a\">\n",
              "    <div class=\"colab-df-container\">\n",
              "      <div>\n",
              "<style scoped>\n",
              "    .dataframe tbody tr th:only-of-type {\n",
              "        vertical-align: middle;\n",
              "    }\n",
              "\n",
              "    .dataframe tbody tr th {\n",
              "        vertical-align: top;\n",
              "    }\n",
              "\n",
              "    .dataframe thead th {\n",
              "        text-align: right;\n",
              "    }\n",
              "</style>\n",
              "<table border=\"1\" class=\"dataframe\">\n",
              "  <thead>\n",
              "    <tr style=\"text-align: right;\">\n",
              "      <th></th>\n",
              "      <th>Unnamed: 0</th>\n",
              "      <th>Theme</th>\n",
              "      <th>Paragraph</th>\n",
              "      <th>Question</th>\n",
              "      <th>Answer_possible</th>\n",
              "      <th>Answer_text</th>\n",
              "      <th>Answer_start</th>\n",
              "    </tr>\n",
              "  </thead>\n",
              "  <tbody>\n",
              "    <tr>\n",
              "      <th>11371</th>\n",
              "      <td>21074</td>\n",
              "      <td>Bern</td>\n",
              "      <td>The city of Bern or Berne (German: Bern, prono...</td>\n",
              "      <td>Where is Bern located?</td>\n",
              "      <td>True</td>\n",
              "      <td>['Switzerland']</td>\n",
              "      <td>[213]</td>\n",
              "    </tr>\n",
              "    <tr>\n",
              "      <th>11372</th>\n",
              "      <td>21075</td>\n",
              "      <td>Bern</td>\n",
              "      <td>The city of Bern or Berne (German: Bern, prono...</td>\n",
              "      <td>How many municiplaities are in Bern?</td>\n",
              "      <td>True</td>\n",
              "      <td>['36']</td>\n",
              "      <td>[455]</td>\n",
              "    </tr>\n",
              "    <tr>\n",
              "      <th>11373</th>\n",
              "      <td>21076</td>\n",
              "      <td>Bern</td>\n",
              "      <td>The city of Bern or Berne (German: Bern, prono...</td>\n",
              "      <td>Bern is the capitol of which canton?</td>\n",
              "      <td>True</td>\n",
              "      <td>['Canton of Bern']</td>\n",
              "      <td>[602]</td>\n",
              "    </tr>\n",
              "    <tr>\n",
              "      <th>11374</th>\n",
              "      <td>21078</td>\n",
              "      <td>Bern</td>\n",
              "      <td>The official language of Bern is (the Swiss va...</td>\n",
              "      <td>What is the official language of Bern?</td>\n",
              "      <td>True</td>\n",
              "      <td>['German']</td>\n",
              "      <td>[65]</td>\n",
              "    </tr>\n",
              "    <tr>\n",
              "      <th>11375</th>\n",
              "      <td>21080</td>\n",
              "      <td>Bern</td>\n",
              "      <td>In 1983 the historic old town in the centre of...</td>\n",
              "      <td>Where does Bern rank for top cities for the be...</td>\n",
              "      <td>True</td>\n",
              "      <td>['top ten']</td>\n",
              "      <td>[122]</td>\n",
              "    </tr>\n",
              "    <tr>\n",
              "      <th>...</th>\n",
              "      <td>...</td>\n",
              "      <td>...</td>\n",
              "      <td>...</td>\n",
              "      <td>...</td>\n",
              "      <td>...</td>\n",
              "      <td>...</td>\n",
              "      <td>...</td>\n",
              "    </tr>\n",
              "    <tr>\n",
              "      <th>68843</th>\n",
              "      <td>120614</td>\n",
              "      <td>Red</td>\n",
              "      <td>After the Communist Party of China took power ...</td>\n",
              "      <td>What does the red color in the Nepalese flag r...</td>\n",
              "      <td>True</td>\n",
              "      <td>['the national flower']</td>\n",
              "      <td>[665]</td>\n",
              "    </tr>\n",
              "    <tr>\n",
              "      <th>68844</th>\n",
              "      <td>120615</td>\n",
              "      <td>Red</td>\n",
              "      <td>After the Communist Party of China took power ...</td>\n",
              "      <td>In what year during the 20th century did the C...</td>\n",
              "      <td>True</td>\n",
              "      <td>['1949']</td>\n",
              "      <td>[49]</td>\n",
              "    </tr>\n",
              "    <tr>\n",
              "      <th>68845</th>\n",
              "      <td>120616</td>\n",
              "      <td>Red</td>\n",
              "      <td>After the Communist Party of China took power ...</td>\n",
              "      <td>Which group gained power in China in 1949?</td>\n",
              "      <td>True</td>\n",
              "      <td>['the Communist Party of China']</td>\n",
              "      <td>[6]</td>\n",
              "    </tr>\n",
              "    <tr>\n",
              "      <th>68846</th>\n",
              "      <td>120618</td>\n",
              "      <td>Red</td>\n",
              "      <td>After the Communist Party of China took power ...</td>\n",
              "      <td>What flag symbolizing China was displayed in 1...</td>\n",
              "      <td>False</td>\n",
              "      <td>[]</td>\n",
              "      <td>[]</td>\n",
              "    </tr>\n",
              "    <tr>\n",
              "      <th>68847</th>\n",
              "      <td>120619</td>\n",
              "      <td>Red</td>\n",
              "      <td>After the Communist Party of China took power ...</td>\n",
              "      <td>What happened in 1950?</td>\n",
              "      <td>False</td>\n",
              "      <td>[]</td>\n",
              "      <td>[]</td>\n",
              "    </tr>\n",
              "  </tbody>\n",
              "</table>\n",
              "<p>2261 rows × 7 columns</p>\n",
              "</div>\n",
              "      <button class=\"colab-df-convert\" onclick=\"convertToInteractive('df-4f9e45a8-c8ba-486a-b6fa-09da0785530a')\"\n",
              "              title=\"Convert this dataframe to an interactive table.\"\n",
              "              style=\"display:none;\">\n",
              "        \n",
              "  <svg xmlns=\"http://www.w3.org/2000/svg\" height=\"24px\"viewBox=\"0 0 24 24\"\n",
              "       width=\"24px\">\n",
              "    <path d=\"M0 0h24v24H0V0z\" fill=\"none\"/>\n",
              "    <path d=\"M18.56 5.44l.94 2.06.94-2.06 2.06-.94-2.06-.94-.94-2.06-.94 2.06-2.06.94zm-11 1L8.5 8.5l.94-2.06 2.06-.94-2.06-.94L8.5 2.5l-.94 2.06-2.06.94zm10 10l.94 2.06.94-2.06 2.06-.94-2.06-.94-.94-2.06-.94 2.06-2.06.94z\"/><path d=\"M17.41 7.96l-1.37-1.37c-.4-.4-.92-.59-1.43-.59-.52 0-1.04.2-1.43.59L10.3 9.45l-7.72 7.72c-.78.78-.78 2.05 0 2.83L4 21.41c.39.39.9.59 1.41.59.51 0 1.02-.2 1.41-.59l7.78-7.78 2.81-2.81c.8-.78.8-2.07 0-2.86zM5.41 20L4 18.59l7.72-7.72 1.47 1.35L5.41 20z\"/>\n",
              "  </svg>\n",
              "      </button>\n",
              "      \n",
              "  <style>\n",
              "    .colab-df-container {\n",
              "      display:flex;\n",
              "      flex-wrap:wrap;\n",
              "      gap: 12px;\n",
              "    }\n",
              "\n",
              "    .colab-df-convert {\n",
              "      background-color: #E8F0FE;\n",
              "      border: none;\n",
              "      border-radius: 50%;\n",
              "      cursor: pointer;\n",
              "      display: none;\n",
              "      fill: #1967D2;\n",
              "      height: 32px;\n",
              "      padding: 0 0 0 0;\n",
              "      width: 32px;\n",
              "    }\n",
              "\n",
              "    .colab-df-convert:hover {\n",
              "      background-color: #E2EBFA;\n",
              "      box-shadow: 0px 1px 2px rgba(60, 64, 67, 0.3), 0px 1px 3px 1px rgba(60, 64, 67, 0.15);\n",
              "      fill: #174EA6;\n",
              "    }\n",
              "\n",
              "    [theme=dark] .colab-df-convert {\n",
              "      background-color: #3B4455;\n",
              "      fill: #D2E3FC;\n",
              "    }\n",
              "\n",
              "    [theme=dark] .colab-df-convert:hover {\n",
              "      background-color: #434B5C;\n",
              "      box-shadow: 0px 1px 3px 1px rgba(0, 0, 0, 0.15);\n",
              "      filter: drop-shadow(0px 1px 2px rgba(0, 0, 0, 0.3));\n",
              "      fill: #FFFFFF;\n",
              "    }\n",
              "  </style>\n",
              "\n",
              "      <script>\n",
              "        const buttonEl =\n",
              "          document.querySelector('#df-4f9e45a8-c8ba-486a-b6fa-09da0785530a button.colab-df-convert');\n",
              "        buttonEl.style.display =\n",
              "          google.colab.kernel.accessAllowed ? 'block' : 'none';\n",
              "\n",
              "        async function convertToInteractive(key) {\n",
              "          const element = document.querySelector('#df-4f9e45a8-c8ba-486a-b6fa-09da0785530a');\n",
              "          const dataTable =\n",
              "            await google.colab.kernel.invokeFunction('convertToInteractive',\n",
              "                                                     [key], {});\n",
              "          if (!dataTable) return;\n",
              "\n",
              "          const docLinkHtml = 'Like what you see? Visit the ' +\n",
              "            '<a target=\"_blank\" href=https://colab.research.google.com/notebooks/data_table.ipynb>data table notebook</a>'\n",
              "            + ' to learn more about interactive tables.';\n",
              "          element.innerHTML = '';\n",
              "          dataTable['output_type'] = 'display_data';\n",
              "          await google.colab.output.renderOutput(dataTable, element);\n",
              "          const docLink = document.createElement('div');\n",
              "          docLink.innerHTML = docLinkHtml;\n",
              "          element.appendChild(docLink);\n",
              "        }\n",
              "      </script>\n",
              "    </div>\n",
              "  </div>\n",
              "  "
            ],
            "text/plain": [
              "       Unnamed: 0 Theme                                          Paragraph  \\\n",
              "11371       21074  Bern  The city of Bern or Berne (German: Bern, prono...   \n",
              "11372       21075  Bern  The city of Bern or Berne (German: Bern, prono...   \n",
              "11373       21076  Bern  The city of Bern or Berne (German: Bern, prono...   \n",
              "11374       21078  Bern  The official language of Bern is (the Swiss va...   \n",
              "11375       21080  Bern  In 1983 the historic old town in the centre of...   \n",
              "...           ...   ...                                                ...   \n",
              "68843      120614   Red  After the Communist Party of China took power ...   \n",
              "68844      120615   Red  After the Communist Party of China took power ...   \n",
              "68845      120616   Red  After the Communist Party of China took power ...   \n",
              "68846      120618   Red  After the Communist Party of China took power ...   \n",
              "68847      120619   Red  After the Communist Party of China took power ...   \n",
              "\n",
              "                                                Question  Answer_possible  \\\n",
              "11371                            Where is Bern located?              True   \n",
              "11372               How many municiplaities are in Bern?             True   \n",
              "11373               Bern is the capitol of which canton?             True   \n",
              "11374             What is the official language of Bern?             True   \n",
              "11375  Where does Bern rank for top cities for the be...             True   \n",
              "...                                                  ...              ...   \n",
              "68843  What does the red color in the Nepalese flag r...             True   \n",
              "68844  In what year during the 20th century did the C...             True   \n",
              "68845         Which group gained power in China in 1949?             True   \n",
              "68846  What flag symbolizing China was displayed in 1...            False   \n",
              "68847                             What happened in 1950?            False   \n",
              "\n",
              "                            Answer_text Answer_start  \n",
              "11371                   ['Switzerland']        [213]  \n",
              "11372                            ['36']        [455]  \n",
              "11373                ['Canton of Bern']        [602]  \n",
              "11374                        ['German']         [65]  \n",
              "11375                       ['top ten']        [122]  \n",
              "...                                 ...          ...  \n",
              "68843           ['the national flower']        [665]  \n",
              "68844                          ['1949']         [49]  \n",
              "68845  ['the Communist Party of China']          [6]  \n",
              "68846                                []           []  \n",
              "68847                                []           []  \n",
              "\n",
              "[2261 rows x 7 columns]"
            ]
          },
          "execution_count": 29,
          "metadata": {},
          "output_type": "execute_result"
        }
      ],
      "source": [
        "my_df"
      ]
    },
    {
      "cell_type": "code",
      "execution_count": null,
      "metadata": {
        "id": "Belk5aWhsYdk"
      },
      "outputs": [],
      "source": [
        "paras = list(my_df['Paragraph'].unique())"
      ]
    },
    {
      "cell_type": "code",
      "execution_count": null,
      "metadata": {
        "id": "bEVgvoGhsdZZ"
      },
      "outputs": [],
      "source": [
        "ques = list(my_df['Question'])"
      ]
    },
    {
      "cell_type": "code",
      "execution_count": null,
      "metadata": {
        "id": "0a001n3_sntX"
      },
      "outputs": [],
      "source": [
        "all_paras = list(my_df['Paragraph'])"
      ]
    },
    {
      "cell_type": "code",
      "execution_count": null,
      "metadata": {
        "id": "J9vpfEsUssVp"
      },
      "outputs": [],
      "source": [
        "gold_para = [paras.index(all_paras[i]) for i in range(len(ques))]"
      ]
    },
    {
      "cell_type": "markdown",
      "metadata": {
        "id": "ecsInjmdhs75"
      },
      "source": [
        "## Task 1: Paragraph Retrieval"
      ]
    },
    {
      "cell_type": "markdown",
      "metadata": {
        "id": "YUWiAAYL05A3"
      },
      "source": [
        "### Common Pipeline"
      ]
    },
    {
      "cell_type": "code",
      "execution_count": null,
      "metadata": {
        "id": "t2U_MrGDB5p-"
      },
      "outputs": [],
      "source": [
        "%%capture\n",
        "!pip install transformers faiss-cpu\n",
        "!pip install -U sentence-transformers"
      ]
    },
    {
      "cell_type": "code",
      "execution_count": null,
      "metadata": {
        "colab": {
          "base_uri": "https://localhost:8080/"
        },
        "id": "p1yKv4VAB8F3",
        "outputId": "badb52aa-8e44-4dff-a4a6-78d2a1917124"
      },
      "outputs": [
        {
          "name": "stderr",
          "output_type": "stream",
          "text": [
            "[nltk_data] Downloading package punkt to /root/nltk_data...\n",
            "[nltk_data]   Unzipping tokenizers/punkt.zip.\n"
          ]
        },
        {
          "data": {
            "text/plain": [
              "True"
            ]
          },
          "execution_count": 6,
          "metadata": {},
          "output_type": "execute_result"
        }
      ],
      "source": [
        "from nltk import sent_tokenize\n",
        "from transformers import AutoModel, AutoTokenizer\n",
        "from sentence_transformers import SentenceTransformer\n",
        "\n",
        "import faiss\n",
        "import matplotlib.pyplot as plt\n",
        "import nltk\n",
        "import tensorflow as tf\n",
        "import tensorflow_hub as hub\n",
        "import torch\n",
        "\n",
        "nltk.download('punkt')"
      ]
    },
    {
      "cell_type": "code",
      "execution_count": null,
      "metadata": {
        "id": "Si0txAbrRS43"
      },
      "outputs": [],
      "source": [
        "def para_to_sentences(para):\n",
        "    \"\"\"Splits a para into sentences.\"\"\"\n",
        "    para = para.replace('\\n', ' ').replace('\\t', ' ').replace('\\x00', ' ')\n",
        "    return sent_tokenize(para)\n",
        "\n",
        "def load_sents_from_para(paras):\n",
        "    sents = []\n",
        "    para_id = []\n",
        "    for id, x in enumerate(paras):\n",
        "        new_sents = para_to_sentences(x)\n",
        "        sents += new_sents\n",
        "        para_id += [id]*len(new_sents)\n",
        "    return sents, para_id"
      ]
    },
    {
      "cell_type": "code",
      "execution_count": null,
      "metadata": {
        "id": "MjRvDNJLAKTw"
      },
      "outputs": [],
      "source": [
        "def load_encoder(encoder=\"universal-sentence-encoder-qa-v3\"):\n",
        "    \"\"\"Load Google's Universal Sentence Encoder for QA\"\"\"\n",
        "    if encoder == \"universal-sentence-encoder-qa-v3\":\n",
        "        module_url = \"https://tfhub.dev/google/universal-sentence-encoder-qa/3\"\n",
        "        model = hub.load(module_url)\n",
        "    elif encoder == \"mpnet-base-v2\":\n",
        "        model = SentenceTransformer('sentence-transformers/all-mpnet-base-v2')\n",
        "    elif encoder == \"distilroberta-v1\":\n",
        "        model = SentenceTransformer('sentence-transformers/all-distilroberta-v1')\n",
        "    elif encoder == \"minilm-l12-v2\":\n",
        "        model = SentenceTransformer('sentence-transformers/all-MiniLM-L12-v2')\n",
        "    else:\n",
        "        raise \"Unknown sentence encoder\"\n",
        "    return model\n",
        "\n",
        "\n",
        "def get_embeddings_st(sents, model):\n",
        "    return model.encode(sents)\n",
        "\n",
        "\n",
        "def get_embeddings_guse(sents, paras, para_id, model, sents_type=\"Context\"):\n",
        "    \"\"\"Calculate embeddings for given list of sentences based on its type\n",
        "    i.e. either its a Question or a Context\"\"\"\n",
        "    if sents_type == \"Question\":\n",
        "        return model.signatures['question_encoder'](\n",
        "            tf.constant(sents)\n",
        "        )['outputs']\n",
        "    else:\n",
        "        contexts = [\n",
        "            paras[para_id[i]]['paragraph'] for i in range(len(sents))\n",
        "        ]\n",
        "        return model.signatures['response_encoder'](\n",
        "            input = tf.constant(sents),\n",
        "            context = tf.constant(contexts)             # can play with this\n",
        "        )['outputs']\n",
        "\n",
        "\n",
        "\n",
        "def get_embeddings(encoder_name, sents, paras, para_id, model, sents_type=\"Context\"):\n",
        "    if encoder_name == \"universal-sentence-encoder-qa-v3\":\n",
        "        return get_embeddings_guse(sents, paras, para_id, model, sents_type)\n",
        "    elif encoder_name in [\"mpnet-base-v2\", \"distilroberta-v1\", \"minilm-l12-v2\"]:\n",
        "        return get_embeddings_st(sents, model)\n",
        "    else:\n",
        "        raise \"Unknown Sentence Encoder\"\n",
        "# def get_embeddings(sents, encoder, tokenizer, model, sents_type=\"default\"):\n",
        "#     if encoder == 'Universal Sentence Encoder':\n",
        "#         return model(sents)\n",
        "#     elif encoder == 'Universal Sentence Encoder for QA':\n",
        "#         if sents_type == \"Question\":\n",
        "#             return model.signatures['question_encoder'](tf.constant(sents))['outputs']\n",
        "#         return model.signatures['response_encoder'](\n",
        "#             input = tf.constant(sents),\n",
        "#             context = tf.constant(sents)\n",
        "#         )['outputs']\n",
        "#     elif encoder == 'SimCSE':\n",
        "#         tokens = tokenizer(sents, padding=True, truncation=True, return_tensors=\"pt\")\n",
        "#         with torch.no_grad():\n",
        "#             embeds = model(**tokens, output_hidden_states=True, return_dict=True).pooler_output\n",
        "#         return embeds\n",
        "#     print(\"Encoder not found. Please choose one from - 1. Universal Sentence Encoder, 2. Universal Sentence Encoder for QA, 3. SimCSE\")"
      ]
    },
    {
      "cell_type": "code",
      "execution_count": null,
      "metadata": {
        "id": "U5ab95PbR3jz"
      },
      "outputs": [],
      "source": [
        "def get_k_nearest_neighbours(sents_embed, ques_embed, k = 10):\n",
        "    index = faiss.IndexFlatL2(sents_embed.shape[1])\n",
        "    index.add(sents_embed)\n",
        "    return index.search(ques_embed, k)\n",
        "\n",
        "def sent_id_to_para_id(I, para_id):\n",
        "    return [[para_id[sent_idx] for sent_idx in I[i]] for i in range(len(I))]"
      ]
    },
    {
      "cell_type": "code",
      "execution_count": null,
      "metadata": {
        "id": "6MMSN-PWUZsn"
      },
      "outputs": [],
      "source": [
        "def print_example(i, sents, ques, pred_para, I, D):\n",
        "    cur_ques = ques[i]\n",
        "    print('question:', cur_ques)\n",
        "    print('similar sentences:')\n",
        "    print('\\tTarget sentence | Predicted Para ID | Distance between target sentence and query')\n",
        "    for j in range(D.shape[1]):\n",
        "        target_sent = sents[I[i,j]]\n",
        "        print('\\t', target_sent, '|', pred_para[i][j], '|', D[i, j])"
      ]
    },
    {
      "cell_type": "code",
      "execution_count": null,
      "metadata": {
        "id": "TQKoS427aVfD"
      },
      "outputs": [],
      "source": [
        "def load_corpus_by_cluster(cluster, round):\n",
        "  themes = clusters[round][cluster]\n",
        "  paras = []; ques = []; gold_para = []; ans = [];\n",
        "  for theme in themes:\n",
        "    p, q, g, a = load_ques_by_theme(theme, theme_wise_data)\n",
        "    paras.append(p)\n",
        "    ques.append(q)\n",
        "    gold_para.append(g)\n",
        "    ans.append(a)\n",
        "  return paras, ques, gold_para, ans\n",
        "\n",
        "def return_coordinates(query, paras):\n",
        "  for i in paras:\n",
        "    if query in i:\n",
        "      return paras.index(i), i.index(query)\n",
        "  return (-1,-1)"
      ]
    },
    {
      "cell_type": "code",
      "execution_count": null,
      "metadata": {
        "id": "oe_YN3o_CuxL"
      },
      "outputs": [],
      "source": [
        "def getRank(pred, gold):\n",
        "    i = 1\n",
        "    for p in pred:\n",
        "        if p == gold:\n",
        "            return i\n",
        "        i += 1\n",
        "    return i\n",
        "\n",
        "# Mean Rank of most relevant passage\n",
        "def getMeanRank(preds, gold):\n",
        "    k = len(preds[0])\n",
        "    rankSum = 0\n",
        "    notInTopK = 0\n",
        "    for i, g in zip(preds, gold):\n",
        "        rank = getRank(i, g)\n",
        "        if rank > k:\n",
        "            notInTopK += 1\n",
        "        else:\n",
        "            rankSum += rank\n",
        "    avg = k+1\n",
        "    if len(gold) > notInTopK:\n",
        "        avg = rankSum / (len(gold) - notInTopK)\n",
        "    return notInTopK, avg\n",
        "\n",
        "\n",
        "# Histogram of ranks of the most relevant passage\n",
        "def showHistogram(preds, gold):\n",
        "    k = len(preds[0])\n",
        "    ranks = []\n",
        "    for i, g in zip(preds, gold):\n",
        "        rank = getRank(i, g)\n",
        "        if rank <= k:\n",
        "            ranks.append(rank)\n",
        "    plt.hist(ranks)\n",
        "    plt.xlabel(\"Rank of the most relevant passage\")\n",
        "    plt.ylabel(\"Count\")\n",
        "    plt.show() "
      ]
    },
    {
      "cell_type": "code",
      "execution_count": null,
      "metadata": {
        "id": "aoRcov1ZTrAh"
      },
      "outputs": [],
      "source": [
        "def evaluate_results(pred_para, gold_para):\n",
        "    notInTopK, meanRank = getMeanRank(pred_para, gold_para)\n",
        "    print(\"Total queries:\", len(pred_para))\n",
        "    print(f\"In top {len(pred_para[0])} results, number of queries for which -\")\n",
        "    print(f\"\\tRelevant paragraph found: {len(pred_para) - notInTopK} ({100 - round(100.*notInTopK / len(pred_para))} %)\")\n",
        "    print(f\"\\tRelevant paragraph NOT found: {notInTopK} ({round(100.*notInTopK / len(pred_para))} %)\")\n",
        "    print(f\"Mean Rank for which relevant paragraph found: {round(meanRank, 2)}\\n\")\n",
        "\n",
        "    showHistogram(pred_para, gold_para)"
      ]
    },
    {
      "cell_type": "code",
      "execution_count": null,
      "metadata": {
        "colab": {
          "base_uri": "https://localhost:8080/"
        },
        "id": "zfpNkAjB3OsK",
        "outputId": "7d1ba9c7-0ddd-4230-d88c-a89d39d6a0d0"
      },
      "outputs": [
        {
          "name": "stdout",
          "output_type": "stream",
          "text": [
            "Number of examples = 75056\n",
            "\tAnswerable questions = 50126\n",
            "\tNon-Answerable questions = 24930\n",
            "\n",
            "Examples:\n",
            " | Theme  |  Paragraph...  |  Question | Answer_possible | Answer_text | Answer_start\n",
            "1430 | Frédéric_Chopin  |  Some modern commenta...  |  Who said Chopin's works were modeled after Bach, Beethoven, Schubert and Field? | True | ['Richard Taruskin'] | [543]\n",
            "2196 | The_Legend_of_Zelda:_Twilight_Princess  |  Twilight Princess ta...  |  Who releases Bulbins from the Realm of Twilight? | False | [] | []\n",
            "\n",
            "Total 361 themes present.\n"
          ]
        }
      ],
      "source": [
        "train_data = load_data()\n",
        "theme_wise_data = load_theme_wise_data(train_data)"
      ]
    },
    {
      "cell_type": "markdown",
      "metadata": {
        "id": "PhXWSARZiuMd"
      },
      "source": [
        "### Approach 1: Using FAISS Alone"
      ]
    },
    {
      "cell_type": "markdown",
      "metadata": {
        "id": "6rdL6ZeeOlkX"
      },
      "source": [
        "##### Clusters"
      ]
    },
    {
      "cell_type": "code",
      "execution_count": null,
      "metadata": {
        "id": "obBwfvMZa6UD"
      },
      "outputs": [],
      "source": [
        "clusters = {\n",
        "1 : \n",
        "{24: ['IPod', 'Web_browser'],\n",
        " 34: ['2008_Sichuan_earthquake', 'Nanjing', 'Tibet', 'Yuan_dynasty'],\n",
        " 1: ['Wayback_Machine', 'Sky_(United_Kingdom)', 'Packet_switching'],\n",
        " 29: ['Canadian_Armed_Forces', 'Anti-aircraft_warfare'],\n",
        " 18: ['Cardinal_(Catholicism)',\n",
        "  'Heresy',\n",
        "  'Mary_(mother_of_Jesus)',\n",
        "  'Freemasonry',\n",
        "  'Protestantism'],\n",
        " 20: ['Human_Development_Index',\n",
        "  'Endangered_Species_Act',\n",
        "  '51st_state',\n",
        "  'Egypt',\n",
        "  'Black_Death',\n",
        "  'Intergovernmental_Panel_on_Climate_Change'],\n",
        " 5: ['Warsaw_Pact', 'Central_Intelligence_Agency'],\n",
        " 17: ['Materialism',\n",
        "  'Age_of_Enlightenment',\n",
        "  'Group_(mathematics)',\n",
        "  'God',\n",
        "  'Karl_Popper',\n",
        "  'Muslim_world'],\n",
        " 7: ['Pub',\n",
        "  'Washington_University_in_St._Louis',\n",
        "  'Harvard_University',\n",
        "  'University_of_Chicago'],\n",
        " 16: ['Catalan_language', 'Dialect', 'Sanskrit', 'Chinese_characters'],\n",
        " 15: ['Paper',\n",
        "  'Alloy',\n",
        "  'Electric_motor',\n",
        "  'Capacitor',\n",
        "  'Zinc',\n",
        "  'Transistor',\n",
        "  'Antenna_(radio)',\n",
        "  'Steam_engine'],\n",
        " 9: ['Adult_contemporary_music', 'Hard_rock', 'Marvel_Comics'],\n",
        " 11: ['Southampton',\n",
        "  'Department_store',\n",
        "  'North_Carolina',\n",
        "  'Oklahoma',\n",
        "  'Richmond,_Virginia',\n",
        "  'Southern_California',\n",
        "  'Fresno,_California',\n",
        "  'Jacksonville,_Florida'],\n",
        " 35: ['The_Times',\n",
        "  'Federal_Bureau_of_Investigation',\n",
        "  'Political_party',\n",
        "  'Scottish_Parliament'],\n",
        " 10: ['Immunology',\n",
        "  'Biodiversity',\n",
        "  'Poultry',\n",
        "  'Nutrition',\n",
        "  'Tuberculosis',\n",
        "  'Ctenophora',\n",
        "  'Immune_system'],\n",
        " 23: ['Imamah_(Shia_doctrine)', 'Immaculate_Conception'],\n",
        " 26: ['Grape', 'Clothing', 'Geology'],\n",
        " 6: ['United_States_dollar',\n",
        "  'Great_Plains',\n",
        "  'Appalachian_Mountains',\n",
        "  'Neptune',\n",
        "  'Amazon_rainforest'],\n",
        " 13: ['Everton_F.C.'],\n",
        " 14: ['Order_of_the_British_Empire', 'Elizabeth_II'],\n",
        " 30: ['Capital_punishment_in_the_United_States',\n",
        "  'European_Union_law',\n",
        "  'Civil_disobedience'],\n",
        " 39: ['Athanasius_of_Alexandria'],\n",
        " 19: ['Montevideo', 'Utrecht', 'Rhine', 'Warsaw'],\n",
        " 21: ['Bermuda', 'Victoria_(Australia)'],\n",
        " 33: ['Comcast'],\n",
        " 8: ['Heian_period',\n",
        "  'Han_dynasty',\n",
        "  'Kievan_Rus%27',\n",
        "  'Normans',\n",
        "  'Huguenot',\n",
        "  'Imperialism'],\n",
        " 3: ['On_the_Origin_of_Species'],\n",
        " 28: ['European_Central_Bank', 'Armenia'],\n",
        " 27: ['Planck_constant',\n",
        "  'Richard_Feynman',\n",
        "  'Computational_complexity_theory',\n",
        "  'Force'],\n",
        " 2: ['Post-punk'],\n",
        " 0: ['Muammar_Gaddafi', '1973_oil_crisis', 'Islamism'],\n",
        " 36: ['Oxygen'],\n",
        " 25: ['Pharmacy', 'Private_school'],\n",
        " 22: ['Construction'],\n",
        " 4: ['Economic_inequality'],\n",
        " 37: ['Prime_number'],\n",
        " 32: ['French_and_Indian_War']},\n",
        "   \n",
        "2: {0: ['2008_Summer_Olympics_torch_relay',\n",
        "  'Dissolution_of_the_Soviet_Union',\n",
        "  'Gamal_Abdel_Nasser',\n",
        "  'Josip_Broz_Tito',\n",
        "  'Police',\n",
        "  'Russian_Soviet_Federative_Socialist_Republic',\n",
        "  'Tajikistan'],\n",
        " 1: ['ASCII',\n",
        "  'Compact_disc',\n",
        "  'Computer',\n",
        "  'Computer_security',\n",
        "  'Copyright_infringement',\n",
        "  'Data_compression',\n",
        "  'Database',\n",
        "  'Dell',\n",
        "  'Film_speed',\n",
        "  'Gramophone_record',\n",
        "  'High-definition_television',\n",
        "  'IBM',\n",
        "  'LaserDisc',\n",
        "  'MP3',\n",
        "  'Macintosh',\n",
        "  'Nintendo_Entertainment_System',\n",
        "  'PlayStation_3',\n",
        "  'Software_testing',\n",
        "  'Super_Nintendo_Entertainment_System',\n",
        "  'USB',\n",
        "  'Videoconferencing',\n",
        "  'Windows_8',\n",
        "  'Xbox_360'],\n",
        " 2: ['A_cappella', 'Classical_music', 'Frédéric_Chopin', 'Mandolin'],\n",
        " 3: ['Adolescence',\n",
        "  'Brain',\n",
        "  'Circadian_rhythm',\n",
        "  'Communication',\n",
        "  'Daylight_saving_time',\n",
        "  'Emotion',\n",
        "  'Identity_(social_science)',\n",
        "  'Memory',\n",
        "  'Myocardial_infarction',\n",
        "  'Pain',\n",
        "  'Sexual_orientation'],\n",
        " 4: ['Affirmative_action_in_the_United_States',\n",
        "  'Black_people',\n",
        "  'Indigenous_peoples_of_the_Americas',\n",
        "  'Multiracial_American',\n",
        "  'Race_(human_categorization)',\n",
        "  'Race_and_ethnicity_in_the_United_States_Census'],\n",
        " 5: ['Aircraft_carrier',\n",
        "  'Airport',\n",
        "  'Dwight_D._Eisenhower',\n",
        "  'Elevator',\n",
        "  'Federal_Aviation_Administration',\n",
        "  'Korean_War',\n",
        "  'Military_history_of_the_United_States',\n",
        "  'Ministry_of_Defence_(United_Kingdom)',\n",
        "  'Pacific_War',\n",
        "  'Space_Race',\n",
        "  'The_Blitz',\n",
        "  'United_States_Air_Force',\n",
        "  'United_States_Army',\n",
        "  'War_on_Terror'],\n",
        " 6: ['Alaska',\n",
        "  'Alps',\n",
        "  'Antarctica',\n",
        "  'Florida',\n",
        "  'Geography_of_the_United_States',\n",
        "  'Geological_history_of_Earth',\n",
        "  'Glacier',\n",
        "  'Montana',\n",
        "  'Sahara',\n",
        "  'Spanish_language_in_the_United_States',\n",
        "  'Tennessee'],\n",
        " 7: ['Alexander_Graham_Bell',\n",
        "  'Brigham_Young_University',\n",
        "  'Eton_College',\n",
        "  'Imperial_College_London',\n",
        "  'National_Archives_and_Records_Administration',\n",
        "  'Northwestern_University',\n",
        "  'University_of_Kansas',\n",
        "  'University_of_Notre_Dame',\n",
        "  'Yale_University'],\n",
        " 8: ['Alfred_North_Whitehead',\n",
        "  'Anthropology',\n",
        "  'Avicenna',\n",
        "  'Buddhism',\n",
        "  'Culture',\n",
        "  'Empiricism',\n",
        "  'Energy',\n",
        "  'Friedrich_Hayek',\n",
        "  'Hindu_philosophy',\n",
        "  'History_of_science',\n",
        "  'Humanism',\n",
        "  'Idealism',\n",
        "  'John_von_Neumann',\n",
        "  'Matter',\n",
        "  'Philosophy_of_space_and_time',\n",
        "  'Political_philosophy',\n",
        "  'Time',\n",
        "  'Vacuum'],\n",
        " 9: ['Alsace',\n",
        "  'British_Empire',\n",
        "  'Crimean_War',\n",
        "  'Dutch_Republic',\n",
        "  'East_India_Company',\n",
        "  'East_Prussia',\n",
        "  'Franco-Prussian_War',\n",
        "  'Germans',\n",
        "  'Great_power',\n",
        "  'John,_King_of_England',\n",
        "  'Late_Middle_Ages',\n",
        "  'Modern_history',\n",
        "  'Napoleon',\n",
        "  'Seven_Years%27_War',\n",
        "  'States_of_Germany',\n",
        "  'Szlachta'],\n",
        " 10: ['American_Idol',\n",
        "  'Beyoncé',\n",
        "  'Digimon',\n",
        "  'House_music',\n",
        "  'Kanye_West',\n",
        "  'Madonna_(entertainer)',\n",
        "  'Queen_(band)',\n",
        "  'Sony_Music_Entertainment',\n",
        "  'Spectre_(2015_film)',\n",
        "  'Steven_Spielberg',\n",
        "  'The_Legend_of_Zelda:_Twilight_Princess',\n",
        "  'Turner_Classic_Movies',\n",
        "  'Universal_Studios'],\n",
        " 11: ['Animal',\n",
        "  'Annelid',\n",
        "  'Antibiotics',\n",
        "  'Asthma',\n",
        "  'Bacteria',\n",
        "  'Bird',\n",
        "  'Botany',\n",
        "  'Diarrhea',\n",
        "  'Digestion',\n",
        "  'Dog',\n",
        "  'Flowering_plant',\n",
        "  'Gene',\n",
        "  'Genome',\n",
        "  'Infection',\n",
        "  'Insect',\n",
        "  'Mammal',\n",
        "  'Pesticide',\n",
        "  'Predation',\n",
        "  'Symbiosis'],\n",
        " 12: ['Ann_Arbor,_Michigan',\n",
        "  'Atlantic_City,_New_Jersey',\n",
        "  'Boston',\n",
        "  'Bras%C3%ADlia',\n",
        "  'Charleston,_South_Carolina',\n",
        "  'Cork_(city)',\n",
        "  'Detroit',\n",
        "  'Houston',\n",
        "  'Lancashire',\n",
        "  'List_of_numbered_streets_in_Manhattan',\n",
        "  'London',\n",
        "  'Melbourne',\n",
        "  'Mexico_City',\n",
        "  'Miami',\n",
        "  'New_Haven,_Connecticut',\n",
        "  'New_York_City',\n",
        "  'Oklahoma_City',\n",
        "  'Philadelphia',\n",
        "  'Plymouth',\n",
        "  'Raleigh,_North_Carolina',\n",
        "  'San_Diego',\n",
        "  'Santa_Monica,_California',\n",
        "  'Seattle',\n",
        "  'Somerset',\n",
        "  'St._John%27s,_Newfoundland_and_Labrador',\n",
        "  'The_Bronx',\n",
        "  'Tucson,_Arizona'],\n",
        " 13: ['Apollo',\n",
        "  'Ashkenazi_Jews',\n",
        "  'Christian',\n",
        "  'Crucifixion_of_Jesus',\n",
        "  'Jews',\n",
        "  'Orthodox_Judaism',\n",
        "  'Sumer',\n",
        "  'Virgil'],\n",
        " 22: ['Architecture',\n",
        "  'Buckingham_Palace',\n",
        "  'Cubism',\n",
        "  'Georgian_architecture',\n",
        "  'Gothic_architecture',\n",
        "  'Mosaic',\n",
        "  'Neoclassical_architecture',\n",
        "  'Royal_Institute_of_British_Architects',\n",
        "  'Westminster_Abbey'],\n",
        " 14: ['Arena_Football_League',\n",
        "  'Arsenal_F.C.',\n",
        "  'Association_football',\n",
        "  'Canadian_football',\n",
        "  'Chicago_Cubs',\n",
        "  'England_national_football_team',\n",
        "  'Exhibition_game',\n",
        "  'FA_Cup',\n",
        "  'FC_Barcelona',\n",
        "  'Gymnastics',\n",
        "  'Premier_League',\n",
        "  'Professional_wrestling'],\n",
        " 27: ['Armenians',\n",
        "  'Cyprus',\n",
        "  'Economy_of_Greece',\n",
        "  'Estonia',\n",
        "  'Greece',\n",
        "  'Greeks',\n",
        "  'Hellenistic_period',\n",
        "  'Iran',\n",
        "  'Israel',\n",
        "  'Near_East',\n",
        "  'Ottoman_Empire',\n",
        "  'Southern_Europe'],\n",
        " 15: ['Arnold_Schwarzenegger',\n",
        "  'John_Kerry',\n",
        "  'Labour_Party_(UK)',\n",
        "  'Liberal_Party_of_Australia',\n",
        "  'Molotov%E2%80%93Ribbentrop_Pact',\n",
        "  'Party_leaders_of_the_United_States_House_of_Representatives',\n",
        "  'The_Sun_(United_Kingdom)',\n",
        "  'United_States_presidential_election,_2004'],\n",
        " 16: ['Asphalt',\n",
        "  'Beer',\n",
        "  'Copper',\n",
        "  'Glass',\n",
        "  'Green',\n",
        "  'Hydrogen',\n",
        "  'Incandescent_light_bulb',\n",
        "  'Infrared',\n",
        "  'Light-emitting_diode',\n",
        "  'Lighting',\n",
        "  'Printed_circuit_board',\n",
        "  'Railway_electrification_system',\n",
        "  'Renewable_energy_commercialization',\n",
        "  'Solar_energy',\n",
        "  'Uranium',\n",
        "  'Wood'],\n",
        " 17: ['Aspirated_consonant',\n",
        "  'Czech_language',\n",
        "  'Dutch_language',\n",
        "  'Estonian_language',\n",
        "  'Hokkien',\n",
        "  'Iranian_languages',\n",
        "  'Letter_case',\n",
        "  'Old_English',\n",
        "  'Phonology',\n",
        "  'Pitch_(music)',\n",
        "  'Russian_language',\n",
        "  'Serbo-Croatian',\n",
        "  'Slavs',\n",
        "  'Unicode'],\n",
        " 19: ['BBC_Television',\n",
        "  'BeiDou_Navigation_Satellite_System',\n",
        "  'CBC_Television',\n",
        "  'Communications_in_Somalia',\n",
        "  'Intellectual_property',\n",
        "  'Internet_service_provider',\n",
        "  'YouTube'],\n",
        " 18: ['Baptists',\n",
        "  'Dominican_Order',\n",
        "  'Gregorian_calendar',\n",
        "  'Jehovah%27s_Witnesses',\n",
        "  'Middle_Ages',\n",
        "  'Pope_John_XXIII',\n",
        "  'Pope_Paul_VI',\n",
        "  'Presbyterianism',\n",
        "  'Religion_in_ancient_Rome',\n",
        "  'Roman_Republic'],\n",
        " 20: ['Bern',\n",
        "  'Carnival',\n",
        "  'Chihuahua_(state)',\n",
        "  'Galicia_(Spain)',\n",
        "  'Hanover',\n",
        "  'Palermo',\n",
        "  'Paris',\n",
        "  'Red',\n",
        "  'Strasbourg',\n",
        "  'Switzerland',\n",
        "  'Thuringia',\n",
        "  'Valencia'],\n",
        " 21: ['Bill_%26_Melinda_Gates_Foundation',\n",
        "  'Central_African_Republic',\n",
        "  'Child_labour',\n",
        "  'Eritrea',\n",
        "  'Genocide',\n",
        "  'Guinea-Bissau',\n",
        "  'Liberia',\n",
        "  'Mali',\n",
        "  'Myanmar',\n",
        "  'Namibia',\n",
        "  'Nigeria',\n",
        "  'Nonprofit_organization',\n",
        "  'Political_corruption',\n",
        "  'Portugal',\n",
        "  'Republic_of_the_Congo',\n",
        "  'Somalis',\n",
        "  'Swaziland',\n",
        "  'United_Nations_Population_Fund'],\n",
        " 31: ['Bird_migration', 'Hunter-gatherer', 'Hunting', 'Mesozoic', 'Neolithic'],\n",
        " 32: ['British_Isles',\n",
        "  'Guam',\n",
        "  'Marshall_Islands',\n",
        "  'Norfolk_Island',\n",
        "  'Saint_Barth%C3%A9lemy',\n",
        "  'Saint_Helena',\n",
        "  'Samoa',\n",
        "  'Tristan_da_Cunha',\n",
        "  'Tuvalu'],\n",
        " 23: ['Canon_law',\n",
        "  'Edmund_Burke',\n",
        "  'Federalism',\n",
        "  'George_VI',\n",
        "  'Law_of_the_United_States',\n",
        "  'Prime_minister',\n",
        "  'Queen_Victoria',\n",
        "  'Royal_assent',\n",
        "  'Rule_of_law',\n",
        "  'Separation_of_church_and_state_in_the_United_States',\n",
        "  'Separation_of_powers_under_the_United_States_Constitution',\n",
        "  'Supreme_court',\n",
        "  'To_Kill_a_Mockingbird',\n",
        "  'Treaty'],\n",
        " 26: ['Comics', 'Literature', 'Quran', 'Textual_criticism', 'Translation'],\n",
        " 24: ['Comprehensive_school',\n",
        "  'Education',\n",
        "  'Institute_of_technology',\n",
        "  'Madrasa',\n",
        "  'University'],\n",
        " 25: ['Cotton'],\n",
        " 28: ['Financial_crisis_of_2007%E2%80%9308', 'Pharmaceutical_industry'],\n",
        " 29: ['General_Electric', 'Royal_Dutch_Shell'],\n",
        " 30: ['Himachal_Pradesh',\n",
        "  'Hyderabad',\n",
        "  'Kathmandu',\n",
        "  'New_Delhi',\n",
        "  'Punjab,_Pakistan',\n",
        "  'Rajasthan',\n",
        "  'Sichuan',\n",
        "  'Southeast_Asia',\n",
        "  'Zhejiang'],\n",
        " 33: ['History_of_India',\n",
        "  'Qing_dynasty',\n",
        "  'Samurai',\n",
        "  'Sino-Tibetan_relations_during_the_Ming_dynasty',\n",
        "  'Umayyad_Caliphate']}}\n",
        "\n"
      ]
    },
    {
      "cell_type": "markdown",
      "metadata": {
        "id": "iEpZ9Py-p3NO"
      },
      "source": [
        "#### Code"
      ]
    },
    {
      "cell_type": "code",
      "execution_count": null,
      "metadata": {
        "id": "E83rYNIJpk9P"
      },
      "outputs": [],
      "source": [
        "# paras, ques, gold_para, _ = load_ques_by_cluster(12, theme_wise_data, answerable_only=True)\n",
        "sents, para_id = load_sents_from_para(paras)"
      ]
    },
    {
      "cell_type": "code",
      "execution_count": null,
      "metadata": {
        "colab": {
          "background_save": true,
          "referenced_widgets": [
            "90a4eba718844c549d2e6aa967a4ac0d",
            "4682417508184a74ad07a4aecc4918b7",
            "f2ddec6672784961b8e529a19be9eb7c",
            "392e7c4e1a344cc2af34ef6cdb3abf8f",
            "d96e4114894e4f13bf7012a6046b8f2e",
            "ebb5dbf0cf034888a08d373d03bfdc56",
            "6bf1374a324a4a7a8d2c9d7ea8a3a208",
            "2feae3b1bfe044108d551f7bfbca230b",
            "9fbde916f8a84790a2c591663cc06bd1",
            "7bc98a29576749e88c543d57d08cac4c",
            "ba6f56e5a1a0479ba02e5b7f9aed9462",
            "3e952cb41b194ebaacb005cf18ce7105",
            "645a7cbf26474d408ad205f1915f95f6",
            "7d23df851bc94687af8e604d883052e7"
          ]
        },
        "id": "Zs8bLPOop7BP",
        "outputId": "e1a9a9b9-4db1-4bb7-f3d9-2d99ce4385f4"
      },
      "outputs": [
        {
          "data": {
            "application/vnd.jupyter.widget-view+json": {
              "model_id": "90a4eba718844c549d2e6aa967a4ac0d",
              "version_major": 2,
              "version_minor": 0
            },
            "text/plain": [
              "Downloading (…)a8e1d/.gitattributes:   0%|          | 0.00/1.18k [00:00<?, ?B/s]"
            ]
          },
          "metadata": {},
          "output_type": "display_data"
        },
        {
          "data": {
            "application/vnd.jupyter.widget-view+json": {
              "model_id": "4682417508184a74ad07a4aecc4918b7",
              "version_major": 2,
              "version_minor": 0
            },
            "text/plain": [
              "Downloading (…)_Pooling/config.json:   0%|          | 0.00/190 [00:00<?, ?B/s]"
            ]
          },
          "metadata": {},
          "output_type": "display_data"
        },
        {
          "data": {
            "application/vnd.jupyter.widget-view+json": {
              "model_id": "f2ddec6672784961b8e529a19be9eb7c",
              "version_major": 2,
              "version_minor": 0
            },
            "text/plain": [
              "Downloading (…)b20bca8e1d/README.md:   0%|          | 0.00/10.6k [00:00<?, ?B/s]"
            ]
          },
          "metadata": {},
          "output_type": "display_data"
        },
        {
          "data": {
            "application/vnd.jupyter.widget-view+json": {
              "model_id": "392e7c4e1a344cc2af34ef6cdb3abf8f",
              "version_major": 2,
              "version_minor": 0
            },
            "text/plain": [
              "Downloading (…)0bca8e1d/config.json:   0%|          | 0.00/571 [00:00<?, ?B/s]"
            ]
          },
          "metadata": {},
          "output_type": "display_data"
        },
        {
          "data": {
            "application/vnd.jupyter.widget-view+json": {
              "model_id": "d96e4114894e4f13bf7012a6046b8f2e",
              "version_major": 2,
              "version_minor": 0
            },
            "text/plain": [
              "Downloading (…)ce_transformers.json:   0%|          | 0.00/116 [00:00<?, ?B/s]"
            ]
          },
          "metadata": {},
          "output_type": "display_data"
        },
        {
          "data": {
            "application/vnd.jupyter.widget-view+json": {
              "model_id": "ebb5dbf0cf034888a08d373d03bfdc56",
              "version_major": 2,
              "version_minor": 0
            },
            "text/plain": [
              "Downloading (…)e1d/data_config.json:   0%|          | 0.00/39.3k [00:00<?, ?B/s]"
            ]
          },
          "metadata": {},
          "output_type": "display_data"
        },
        {
          "data": {
            "application/vnd.jupyter.widget-view+json": {
              "model_id": "6bf1374a324a4a7a8d2c9d7ea8a3a208",
              "version_major": 2,
              "version_minor": 0
            },
            "text/plain": [
              "Downloading (…)\"pytorch_model.bin\";:   0%|          | 0.00/438M [00:00<?, ?B/s]"
            ]
          },
          "metadata": {},
          "output_type": "display_data"
        },
        {
          "data": {
            "application/vnd.jupyter.widget-view+json": {
              "model_id": "2feae3b1bfe044108d551f7bfbca230b",
              "version_major": 2,
              "version_minor": 0
            },
            "text/plain": [
              "Downloading (…)nce_bert_config.json:   0%|          | 0.00/53.0 [00:00<?, ?B/s]"
            ]
          },
          "metadata": {},
          "output_type": "display_data"
        },
        {
          "data": {
            "application/vnd.jupyter.widget-view+json": {
              "model_id": "9fbde916f8a84790a2c591663cc06bd1",
              "version_major": 2,
              "version_minor": 0
            },
            "text/plain": [
              "Downloading (…)cial_tokens_map.json:   0%|          | 0.00/239 [00:00<?, ?B/s]"
            ]
          },
          "metadata": {},
          "output_type": "display_data"
        },
        {
          "data": {
            "application/vnd.jupyter.widget-view+json": {
              "model_id": "7bc98a29576749e88c543d57d08cac4c",
              "version_major": 2,
              "version_minor": 0
            },
            "text/plain": [
              "Downloading (…)a8e1d/tokenizer.json:   0%|          | 0.00/466k [00:00<?, ?B/s]"
            ]
          },
          "metadata": {},
          "output_type": "display_data"
        },
        {
          "data": {
            "application/vnd.jupyter.widget-view+json": {
              "model_id": "ba6f56e5a1a0479ba02e5b7f9aed9462",
              "version_major": 2,
              "version_minor": 0
            },
            "text/plain": [
              "Downloading (…)okenizer_config.json:   0%|          | 0.00/363 [00:00<?, ?B/s]"
            ]
          },
          "metadata": {},
          "output_type": "display_data"
        },
        {
          "data": {
            "application/vnd.jupyter.widget-view+json": {
              "model_id": "3e952cb41b194ebaacb005cf18ce7105",
              "version_major": 2,
              "version_minor": 0
            },
            "text/plain": [
              "Downloading (…)8e1d/train_script.py:   0%|          | 0.00/13.1k [00:00<?, ?B/s]"
            ]
          },
          "metadata": {},
          "output_type": "display_data"
        },
        {
          "data": {
            "application/vnd.jupyter.widget-view+json": {
              "model_id": "645a7cbf26474d408ad205f1915f95f6",
              "version_major": 2,
              "version_minor": 0
            },
            "text/plain": [
              "Downloading (…)b20bca8e1d/vocab.txt:   0%|          | 0.00/232k [00:00<?, ?B/s]"
            ]
          },
          "metadata": {},
          "output_type": "display_data"
        },
        {
          "data": {
            "application/vnd.jupyter.widget-view+json": {
              "model_id": "7d23df851bc94687af8e604d883052e7",
              "version_major": 2,
              "version_minor": 0
            },
            "text/plain": [
              "Downloading (…)bca8e1d/modules.json:   0%|          | 0.00/349 [00:00<?, ?B/s]"
            ]
          },
          "metadata": {},
          "output_type": "display_data"
        },
        {
          "data": {
            "text/plain": [
              "SentenceTransformer(\n",
              "  (0): Transformer({'max_seq_length': 384, 'do_lower_case': False}) with Transformer model: MPNetModel \n",
              "  (1): Pooling({'word_embedding_dimension': 768, 'pooling_mode_cls_token': False, 'pooling_mode_mean_tokens': True, 'pooling_mode_max_tokens': False, 'pooling_mode_mean_sqrt_len_tokens': False})\n",
              "  (2): Normalize()\n",
              ")"
            ]
          },
          "execution_count": 37,
          "metadata": {},
          "output_type": "execute_result"
        }
      ],
      "source": [
        "encoder = 'mpnet-base-v2'\n",
        "model = load_encoder(encoder)\n",
        "model.to('cuda')"
      ]
    },
    {
      "cell_type": "code",
      "execution_count": null,
      "metadata": {
        "id": "mbGoHlhns4OF"
      },
      "outputs": [],
      "source": [
        "sents_embed = model.encode(sents)\n",
        "ques_embed = model.encode(ques)"
      ]
    },
    {
      "cell_type": "code",
      "execution_count": null,
      "metadata": {
        "id": "0Ti7eduUs9P9"
      },
      "outputs": [],
      "source": [
        "k = 10\n",
        "D, I = get_k_nearest_neighbours(sents_embed, ques_embed, k)\n",
        "pred_para = sent_id_to_para_id(I, para_id)"
      ]
    },
    {
      "cell_type": "code",
      "execution_count": null,
      "metadata": {
        "id": "5rrH6b76s_9b",
        "colab": {
          "base_uri": "https://localhost:8080/",
          "height": 383
        },
        "outputId": "0d893b59-dfb6-42e1-eb78-0ef186c3a15b"
      },
      "outputs": [
        {
          "output_type": "stream",
          "name": "stdout",
          "text": [
            "Total queries: 2261\n",
            "In top 10 results, number of queries for which -\n",
            "\tRelevant paragraph found: 2166 (96 %)\n",
            "\tRelevant paragraph NOT found: 95 (4 %)\n",
            "Mean Rank for which relevant paragraph found: 1.52\n",
            "\n"
          ]
        },
        {
          "output_type": "display_data",
          "data": {
            "text/plain": [
              "<Figure size 432x288 with 1 Axes>"
            ],
            "image/png": "[encoded data removed]"
          },
          "metadata": {
            "needs_background": "light"
          }
        }
      ],
      "source": [
        "evaluate_results(pred_para, gold_para)"
      ]
    },
    {
      "cell_type": "markdown",
      "source": [
        "### USING BM25"
      ],
      "metadata": {
        "id": "52Pyb0rTudNz"
      }
    },
    {
      "cell_type": "code",
      "source": [
        "! pip install rank_bm25"
      ],
      "metadata": {
        "colab": {
          "base_uri": "https://localhost:8080/"
        },
        "id": "dOSkLUpqukXW",
        "outputId": "ddbcd3e8-9312-4b3c-e183-be6bd198e284"
      },
      "execution_count": null,
      "outputs": [
        {
          "output_type": "stream",
          "name": "stdout",
          "text": [
            "Looking in indexes: https://pypi.org/simple, https://us-python.pkg.dev/colab-wheels/public/simple/\n",
            "Collecting rank_bm25\n",
            "  Downloading rank_bm25-0.2.2-py3-none-any.whl (8.6 kB)\n",
            "Requirement already satisfied: numpy in /usr/local/lib/python3.8/dist-packages (from rank_bm25) (1.21.6)\n",
            "Installing collected packages: rank_bm25\n",
            "Successfully installed rank_bm25-0.2.2\n"
          ]
        }
      ]
    },
    {
      "cell_type": "code",
      "source": [
        "from rank_bm25 import BM25Okapi\n"
      ],
      "metadata": {
        "id": "vpzGfJ4dvVW-"
      },
      "execution_count": null,
      "outputs": []
    },
    {
      "cell_type": "code",
      "source": [
        "tokenized_para = [i.split(\" \") for i in paras]"
      ],
      "metadata": {
        "id": "RyKRUnMKuzG0"
      },
      "execution_count": null,
      "outputs": []
    },
    {
      "cell_type": "code",
      "source": [
        "# %%timeit\n",
        "bm25 = BM25Okapi(tokenized_para)\n"
      ],
      "metadata": {
        "id": "z--IojwHvM7E"
      },
      "execution_count": null,
      "outputs": []
    },
    {
      "cell_type": "code",
      "source": [
        "preds = []\n",
        "# gold = []\n",
        "for i in ques:\n",
        "  tokenized_ques = i.split(\" \")\n",
        "  pred = bm25.get_top_n(tokenized_ques, paras, n = 20)\n",
        "  pred = [paras.index(i) for i in pred]\n",
        "  preds.append(pred)"
      ],
      "metadata": {
        "id": "hNoV83afu66c"
      },
      "execution_count": null,
      "outputs": []
    },
    {
      "cell_type": "code",
      "source": [
        "evaluate_results(preds, gold_para)"
      ],
      "metadata": {
        "colab": {
          "base_uri": "https://localhost:8080/",
          "height": 383
        },
        "id": "BRMngNmrvop7",
        "outputId": "91b73b26-dd3a-4dff-fe27-6bc3c4df1536"
      },
      "execution_count": null,
      "outputs": [
        {
          "output_type": "stream",
          "name": "stdout",
          "text": [
            "Total queries: 2261\n",
            "In top 20 results, number of queries for which -\n",
            "\tRelevant paragraph found: 1992 (88 %)\n",
            "\tRelevant paragraph NOT found: 269 (12 %)\n",
            "Mean Rank for which relevant paragraph found: 2.28\n",
            "\n"
          ]
        },
        {
          "output_type": "display_data",
          "data": {
            "text/plain": [
              "<Figure size 432x288 with 1 Axes>"
            ],
            "image/png": "[encoded data removed]"
          },
          "metadata": {
            "needs_background": "light"
          }
        }
      ]
    },
    {
      "cell_type": "markdown",
      "source": [
        "Now applying FAISS to this, the final accuracy is bounded above by 0.88"
      ],
      "metadata": {
        "id": "1KSqki6fxMOf"
      }
    }
  ],
  "metadata": {
    "accelerator": "GPU",
    "colab": {
      "collapsed_sections": [
        "X09KpIhKxg5u",
        "IhtknNSOxov1",
        "8ex-yoSVxxAB",
        "Y8iXFe0qzjS4",
        "YNqBAAW30bqv",
        "k9UEcB-e1GLX",
        "umj6FUki1xbX",
        "Q99Cc__W2djn",
        "ZMcLSris3iYo",
        "zQDl8wvpj63h",
        "E-IXE0rNkBGN",
        "O0zouMSUjLPM",
        "TMAE9ftF1S6h",
        "lFDwNSB-20gU",
        "ecsInjmdhs75",
        "YUWiAAYL05A3",
        "dwyy9cNQGAvO",
        "JNT7uxNNjCEs",
        "4-MjbAQYlvsG",
        "O4D8Xx5ipGzd",
        "Alr1OJ8DGNwW",
        "pfJHs6rkjXwy",
        "sAbNo9yu1zWf",
        "KM5jpE-4h4kn",
        "vbESJ9kgIlrC",
        "CX6MgopNJ_BD",
        "o_4cG6nIlVIA",
        "ZEZlBhXBC1LX",
        "I9ggAUvU7Pqg",
        "Lkh_7SBR3ZyH",
        "yIuVn33uuC6m",
        "g4TjuF_s8eDl"
      ],
      "provenance": []
    },
    "gpuClass": "standard",
    "kernelspec": {
      "display_name": "Python 3",
      "name": "python3"
    },
    "language_info": {
      "name": "python"
    }
  },
  "nbformat": 4,
  "nbformat_minor": 0
}