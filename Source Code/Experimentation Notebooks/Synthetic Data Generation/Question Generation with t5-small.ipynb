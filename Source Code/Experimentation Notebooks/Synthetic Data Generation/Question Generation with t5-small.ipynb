{
  "nbformat": 4,
  "nbformat_minor": 0,
  "metadata": {
    "colab": {
      "provenance": [],
      "collapsed_sections": [
        "fKwKXD-BKJBJ",
        "OgiES4LNC3Eg",
        "HpclkT6nC5kZ",
        "QIAfLwIsKcvf",
        "en4JbMgkNNd7",
        "9BQI8EpLNP_L"
      ]
    },
    "kernelspec": {
      "name": "python3",
      "display_name": "Python 3"
    },
    "language_info": {
      "name": "python"
    }
  },
  "cells": [
    {
      "cell_type": "markdown",
      "source": [
        "# Question Generation Using T5\n",
        "\n",
        "Implements a Synthetic Question Generation Pipeline based on the `valhalla/t5-small-qg-prepend` model."
      ],
      "metadata": {
        "id": "Mspw6kn1-zee"
      }
    },
    {
      "cell_type": "markdown",
      "source": [
        "# Initialize Setup"
      ],
      "metadata": {
        "id": "fKwKXD-BKJBJ"
      }
    },
    {
      "cell_type": "code",
      "execution_count": null,
      "metadata": {
        "colab": {
          "base_uri": "https://localhost:8080/"
        },
        "id": "6h2_xi3bCm4p",
        "outputId": "eee7baeb-0b96-48eb-f5e7-b54a7f2e3557"
      },
      "outputs": [
        {
          "output_type": "stream",
          "name": "stdout",
          "text": [
            "Looking in indexes: https://pypi.org/simple, https://us-python.pkg.dev/colab-wheels/public/simple/\n",
            "Requirement already satisfied: transformers==3.0.0 in /usr/local/lib/python3.8/dist-packages (3.0.0)\n",
            "Requirement already satisfied: packaging in /usr/local/lib/python3.8/dist-packages (from transformers==3.0.0) (21.3)\n",
            "Requirement already satisfied: requests in /usr/local/lib/python3.8/dist-packages (from transformers==3.0.0) (2.25.1)\n",
            "Requirement already satisfied: tokenizers==0.8.0-rc4 in /usr/local/lib/python3.8/dist-packages (from transformers==3.0.0) (0.8.0rc4)\n",
            "Requirement already satisfied: tqdm>=4.27 in /usr/local/lib/python3.8/dist-packages (from transformers==3.0.0) (4.64.1)\n",
            "Requirement already satisfied: regex!=2019.12.17 in /usr/local/lib/python3.8/dist-packages (from transformers==3.0.0) (2022.6.2)\n",
            "Requirement already satisfied: filelock in /usr/local/lib/python3.8/dist-packages (from transformers==3.0.0) (3.9.0)\n",
            "Requirement already satisfied: sentencepiece in /usr/local/lib/python3.8/dist-packages (from transformers==3.0.0) (0.1.97)\n",
            "Requirement already satisfied: numpy in /usr/local/lib/python3.8/dist-packages (from transformers==3.0.0) (1.21.6)\n",
            "Requirement already satisfied: sacremoses in /usr/local/lib/python3.8/dist-packages (from transformers==3.0.0) (0.0.53)\n",
            "Requirement already satisfied: pyparsing!=3.0.5,>=2.0.2 in /usr/local/lib/python3.8/dist-packages (from packaging->transformers==3.0.0) (3.0.9)\n",
            "Requirement already satisfied: chardet<5,>=3.0.2 in /usr/local/lib/python3.8/dist-packages (from requests->transformers==3.0.0) (4.0.0)\n",
            "Requirement already satisfied: urllib3<1.27,>=1.21.1 in /usr/local/lib/python3.8/dist-packages (from requests->transformers==3.0.0) (1.24.3)\n",
            "Requirement already satisfied: idna<3,>=2.5 in /usr/local/lib/python3.8/dist-packages (from requests->transformers==3.0.0) (2.10)\n",
            "Requirement already satisfied: certifi>=2017.4.17 in /usr/local/lib/python3.8/dist-packages (from requests->transformers==3.0.0) (2022.12.7)\n",
            "Requirement already satisfied: joblib in /usr/local/lib/python3.8/dist-packages (from sacremoses->transformers==3.0.0) (1.2.0)\n",
            "Requirement already satisfied: click in /usr/local/lib/python3.8/dist-packages (from sacremoses->transformers==3.0.0) (7.1.2)\n",
            "Requirement already satisfied: six in /usr/local/lib/python3.8/dist-packages (from sacremoses->transformers==3.0.0) (1.15.0)\n"
          ]
        }
      ],
      "source": [
        "!pip install -U transformers==3.0.0"
      ]
    },
    {
      "cell_type": "code",
      "source": [
        "!python -m nltk.downloader punkt"
      ],
      "metadata": {
        "colab": {
          "base_uri": "https://localhost:8080/"
        },
        "id": "wIEA3ShECr7E",
        "outputId": "9c545054-9c53-426b-b581-ee0de6c53111"
      },
      "execution_count": null,
      "outputs": [
        {
          "output_type": "stream",
          "name": "stdout",
          "text": [
            "/usr/lib/python3.8/runpy.py:127: RuntimeWarning: 'nltk.downloader' found in sys.modules after import of package 'nltk', but prior to execution of 'nltk.downloader'; this may result in unpredictable behaviour\n",
            "  warn(RuntimeWarning(msg))\n",
            "[nltk_data] Downloading package punkt to /root/nltk_data...\n",
            "[nltk_data]   Package punkt is already up-to-date!\n"
          ]
        }
      ]
    },
    {
      "cell_type": "code",
      "source": [
        "!git clone https://github.com/patil-suraj/question_generation.git"
      ],
      "metadata": {
        "colab": {
          "base_uri": "https://localhost:8080/"
        },
        "id": "5ia_LAywCtVL",
        "outputId": "336554f1-f967-4f49-f31a-261fbe31fbd4"
      },
      "execution_count": null,
      "outputs": [
        {
          "output_type": "stream",
          "name": "stdout",
          "text": [
            "fatal: destination path 'question_generation' already exists and is not an empty directory.\n"
          ]
        }
      ]
    },
    {
      "cell_type": "markdown",
      "source": [
        "# Train Data Loading"
      ],
      "metadata": {
        "id": "OgiES4LNC3Eg"
      }
    },
    {
      "cell_type": "code",
      "execution_count": null,
      "metadata": {
        "id": "_HMFKQOcd9i8"
      },
      "outputs": [],
      "source": [
        "import csv\n",
        "import requests\n",
        "\n",
        "# load training dataset\n",
        "def load_data():\n",
        "    CSV_URL = 'https://drive.google.com/u/0/uc?id=1Z-yb752A3o7b9dqrGt24XU0sl53FVqya&export=download'\n",
        "\n",
        "    with requests.Session() as s:\n",
        "        download = s.get(CSV_URL)\n",
        "        decoded_content = download.content.decode('utf-8')\n",
        "        cr = csv.reader(decoded_content.splitlines(), delimiter=',')\n",
        "        train_data = list(cr)\n",
        "\n",
        "    print(f\"Number of examples = {len(train_data)}\")\n",
        "    ans, noans = 0, 0\n",
        "    for x in train_data:\n",
        "        if x[4] == 'False':\n",
        "            noans += 1\n",
        "        else:\n",
        "            ans += 1\n",
        "    print(f\"\\tAnswerable questions = {ans}\")\n",
        "    print(f\"\\tNon-Answerable questions = {noans}\\n\")\n",
        "    print(\"Examples:\")\n",
        "    for i in [0, 1000, 1300]:\n",
        "        print(' | '.join(train_data[i][:2]), ' | ', train_data[i][2][:20] + '...', ' | ', ' | '.join(train_data[i][3:]))\n",
        "    return train_data"
      ]
    },
    {
      "cell_type": "code",
      "execution_count": null,
      "metadata": {
        "id": "vmj13QWGeAOG"
      },
      "outputs": [],
      "source": [
        "def load_theme_wise_data(train_data):\n",
        "    theme_wise_data = {}\n",
        "    for x in train_data[1:]:\n",
        "        if x[1] not in theme_wise_data:\n",
        "            theme_wise_data[x[1]] = {\n",
        "                'para': [],\n",
        "                'ques': [],\n",
        "                'ans': []\n",
        "            }\n",
        "        if x[2] not in theme_wise_data[x[1]]['para']:\n",
        "            theme_wise_data[x[1]]['para'].append(x[2])\n",
        "        theme_wise_data[x[1]]['ques'].append(x[3])\n",
        "        # ans contains a list -> [Para_Number, Answer_possible, Answer_text, Answer_start]\n",
        "        theme_wise_data[x[1]]['ans'].append([theme_wise_data[x[1]]['para'].index(x[2])] + x[4:])\n",
        "    print(f'\\nTotal {len(theme_wise_data)} themes present.')\n",
        "    return theme_wise_data"
      ]
    },
    {
      "cell_type": "code",
      "execution_count": null,
      "metadata": {
        "colab": {
          "base_uri": "https://localhost:8080/"
        },
        "id": "SNXNX3YfeEfS",
        "outputId": "5d401c5b-e9da-4076-a300-0953d99b1f14"
      },
      "outputs": [
        {
          "output_type": "stream",
          "name": "stdout",
          "text": [
            "Number of examples = 75056\n",
            "\tAnswerable questions = 50126\n",
            "\tNon-Answerable questions = 24930\n",
            "\n",
            "Examples:\n",
            " | Theme  |  Paragraph...  |  Question | Answer_possible | Answer_text | Answer_start\n",
            "1430 | Frédéric_Chopin  |  Some modern commenta...  |  Who said Chopin's works were modeled after Bach, Beethoven, Schubert and Field? | True | ['Richard Taruskin'] | [543]\n",
            "2196 | The_Legend_of_Zelda:_Twilight_Princess  |  Twilight Princess ta...  |  Who releases Bulbins from the Realm of Twilight? | False | [] | []\n",
            "\n",
            "Total 361 themes present.\n"
          ]
        }
      ],
      "source": [
        "train_data = load_data()\n",
        "theme_wise_data = load_theme_wise_data(train_data)"
      ]
    },
    {
      "cell_type": "markdown",
      "source": [
        "# Test Data Loading"
      ],
      "metadata": {
        "id": "HpclkT6nC5kZ"
      }
    },
    {
      "cell_type": "code",
      "source": [
        "!gdown 15WPYOD3ZLShFq_NRtiBHbpz3RTvc8ZWR\n",
        "!gdown 15yxIF27NvEa3l12yNy6F5h8lGCJ2n7rf\n",
        "!gdown 1Ilpxyj_0T-1KzQMdVSEbSmc1ybxOv69G\n",
        "!gdown 1nkEDQZJY6_cAEVw3JlaKCgz0C6mDSYiv"
      ],
      "metadata": {
        "colab": {
          "base_uri": "https://localhost:8080/"
        },
        "id": "OJ_9JK4sC4ws",
        "outputId": "3c1d48bf-1220-4373-d723-0d8499ecb4fc"
      },
      "execution_count": null,
      "outputs": [
        {
          "output_type": "stream",
          "name": "stdout",
          "text": [
            "Downloading...\n",
            "From: https://drive.google.com/uc?id=15WPYOD3ZLShFq_NRtiBHbpz3RTvc8ZWR\n",
            "To: /content/ground_truth.csv\n",
            "100% 1.35M/1.35M [00:00<00:00, 136MB/s]\n",
            "Downloading...\n",
            "From: https://drive.google.com/uc?id=15yxIF27NvEa3l12yNy6F5h8lGCJ2n7rf\n",
            "To: /content/input_question.csv\n",
            "100% 2.89M/2.89M [00:00<00:00, 202MB/s]\n",
            "Downloading...\n",
            "From: https://drive.google.com/uc?id=1Ilpxyj_0T-1KzQMdVSEbSmc1ybxOv69G\n",
            "To: /content/theme_interval.csv\n",
            "100% 3.21k/3.21k [00:00<00:00, 5.20MB/s]\n",
            "Downloading...\n",
            "From: https://drive.google.com/uc?id=1nkEDQZJY6_cAEVw3JlaKCgz0C6mDSYiv\n",
            "To: /content/input_paragraph.csv\n",
            "100% 3.45M/3.45M [00:00<00:00, 196MB/s]\n"
          ]
        }
      ]
    },
    {
      "cell_type": "code",
      "source": [
        "import json\n",
        "import pandas as pd\n",
        "paragraphs = json.loads(pd.read_csv(\"input_paragraph.csv\").to_json(orient=\"records\"))"
      ],
      "metadata": {
        "id": "pwpA6DzOC8oO"
      },
      "execution_count": null,
      "outputs": []
    },
    {
      "cell_type": "code",
      "source": [
        "paragraphs[:5]"
      ],
      "metadata": {
        "colab": {
          "base_uri": "https://localhost:8080/"
        },
        "id": "162tDTD9C_tf",
        "outputId": "677eb830-80fa-4109-cf47-fc1f14a5445b"
      },
      "execution_count": null,
      "outputs": [
        {
          "output_type": "execute_result",
          "data": {
            "text/plain": [
              "[{'id': 1,\n",
              "  'paragraph': 'The iPod is a line of portable media players and multi-purpose pocket computers designed and marketed by Apple Inc. The first line was released on October 23, 2001, about 8½ months after iTunes (Macintosh version) was released. The most recent iPod redesigns were announced on July 15, 2015. There are three current versions of the iPod: the ultra-compact iPod Shuffle, the compact iPod Nano and the touchscreen iPod Touch.',\n",
              "  'theme': 'IPod'},\n",
              " {'id': 2,\n",
              "  'paragraph': 'Like other digital music players, iPods can serve as external data storage devices. Storage capacity varies by model, ranging from 2 GB for the iPod Shuffle to 128 GB for the iPod Touch (previously 160 GB for the iPod Classic, which is now discontinued).',\n",
              "  'theme': 'IPod'},\n",
              " {'id': 3,\n",
              "  'paragraph': \"Apple's iTunes software (and other alternative software) can be used to transfer music, photos, videos, games, contact information, e-mail settings, Web bookmarks, and calendars, to the devices supporting these features from computers using certain versions of Apple Macintosh and Microsoft Windows operating systems.\",\n",
              "  'theme': 'IPod'},\n",
              " {'id': 4,\n",
              "  'paragraph': 'Before the release of iOS 5, the iPod branding was used for the media player included with the iPhone and iPad, a combination of the Music and Videos apps on the iPod Touch. As of iOS 5, separate apps named \"Music\" and \"Videos\" are standardized across all iOS-powered products. While the iPhone and iPad have essentially the same media player capabilities as the iPod line, they are generally treated as separate products. During the middle of 2010, iPhone sales overtook those of the iPod.',\n",
              "  'theme': 'IPod'},\n",
              " {'id': 5,\n",
              "  'paragraph': 'In mid-2015, a new model of the iPod Touch was announced by Apple, and was officially released on the Apple store on July 15, 2015. The sixth generation iPod Touch includes a wide variety of spec improvements such as the upgraded A8 processor and higher-quality screen. The core is over 5 times faster than previous models and is built to be roughly on par with the iPhone 5S. It is available in 5 different colors: Space grey, pink, gold, silver and Product (red).',\n",
              "  'theme': 'IPod'}]"
            ]
          },
          "metadata": {},
          "execution_count": 9
        }
      ]
    },
    {
      "cell_type": "markdown",
      "source": [
        "## Test Data Preprocessing"
      ],
      "metadata": {
        "id": "x5Cj6kLHKY8l"
      }
    },
    {
      "cell_type": "code",
      "source": [
        "def test_to_theme_wise(test_paragraphs):\n",
        "  theme_wise_para = {}\n",
        "  for item in test_paragraphs:\n",
        "    if item['theme'] not in theme_wise_para.keys():\n",
        "      theme_wise_para[item['theme']] = [[item['id'],item['paragraph']],]\n",
        "    else:\n",
        "      theme_wise_para[item['theme']].append([item['id'],item['paragraph']])\n",
        "  return theme_wise_para\n",
        "\n",
        "theme_wise_para = test_to_theme_wise(paragraphs)"
      ],
      "metadata": {
        "id": "VKcQyOP8DAxc"
      },
      "execution_count": null,
      "outputs": []
    },
    {
      "cell_type": "code",
      "source": [
        "theme_wise_para.keys()"
      ],
      "metadata": {
        "colab": {
          "base_uri": "https://localhost:8080/"
        },
        "id": "bJBYw57GDxU-",
        "outputId": "14c1ae11-7013-4f57-ce59-cf8651b2534f"
      },
      "execution_count": null,
      "outputs": [
        {
          "output_type": "execute_result",
          "data": {
            "text/plain": [
              "dict_keys(['IPod', '2008_Sichuan_earthquake', 'Wayback_Machine', 'Canadian_Armed_Forces', 'Cardinal_(Catholicism)', 'Human_Development_Index', 'Heresy', 'Warsaw_Pact', 'Materialism', 'Pub', 'Web_browser', 'Catalan_language', 'Paper', 'Adult_contemporary_music', 'Nanjing', 'Dialect', 'Southampton', 'The_Times', 'Immunology', 'Imamah_(Shia_doctrine)', 'Grape', 'United_States_dollar', 'Everton_F.C.', 'Hard_rock', 'Great_Plains', 'Biodiversity', 'Federal_Bureau_of_Investigation', 'Mary_(mother_of_Jesus)', 'Anti-aircraft_warfare', 'Sanskrit', 'Order_of_the_British_Empire', 'Elizabeth_II', 'Capital_punishment_in_the_United_States', 'Age_of_Enlightenment', 'Athanasius_of_Alexandria', 'Freemasonry', 'Montevideo', 'Poultry', 'Clothing', 'Department_store', 'Marvel_Comics', 'Alloy', 'Electric_motor', 'Nutrition', 'Chinese_characters', 'Bermuda', 'Utrecht', 'Capacitor', 'Comcast', 'Tuberculosis', 'North_Carolina', 'Heian_period', 'On_the_Origin_of_Species', 'Political_party', 'Tibet', 'Oklahoma', 'European_Central_Bank', 'Group_(mathematics)', 'God', 'Karl_Popper', 'Planck_constant', 'Zinc', 'Appalachian_Mountains', 'Post-punk', 'Richard_Feynman', 'Muammar_Gaddafi', 'Neptune', 'Endangered_Species_Act', 'Han_dynasty', 'Transistor', '51st_state', 'Antenna_(radio)', 'Washington_University_in_St._Louis', 'Central_Intelligence_Agency', 'Armenia', 'Muslim_world', 'Kievan_Rus%27', 'Immaculate_Conception', 'Egypt', 'Protestantism', 'Richmond,_Virginia', 'Normans', 'Computational_complexity_theory', 'Southern_California', 'Sky_(United_Kingdom)', 'Victoria_(Australia)', 'Huguenot', 'Steam_engine', 'Oxygen', '1973_oil_crisis', 'European_Union_law', 'Amazon_rainforest', 'Ctenophora', 'Fresno,_California', 'Packet_switching', 'Black_Death', 'Geology', 'Pharmacy', 'Civil_disobedience', 'Construction', 'Private_school', 'Harvard_University', 'Jacksonville,_Florida', 'Economic_inequality', 'University_of_Chicago', 'Yuan_dynasty', 'Immune_system', 'Intergovernmental_Panel_on_Climate_Change', 'Prime_number', 'Rhine', 'Scottish_Parliament', 'Islamism', 'Imperialism', 'Warsaw', 'French_and_Indian_War', 'Force'])"
            ]
          },
          "metadata": {},
          "execution_count": 11
        }
      ]
    },
    {
      "cell_type": "markdown",
      "source": [
        "# Initialize pipeline"
      ],
      "metadata": {
        "id": "QIAfLwIsKcvf"
      }
    },
    {
      "cell_type": "code",
      "source": [
        "%cd question_generation"
      ],
      "metadata": {
        "colab": {
          "base_uri": "https://localhost:8080/"
        },
        "id": "2VTAi7pQElcx",
        "outputId": "412cd31d-f86e-4fe7-b9c1-09c84558e54d"
      },
      "execution_count": null,
      "outputs": [
        {
          "output_type": "stream",
          "name": "stdout",
          "text": [
            "/content/question_generation\n"
          ]
        }
      ]
    },
    {
      "cell_type": "code",
      "source": [
        "from pipelines import pipeline"
      ],
      "metadata": {
        "id": "e_dzbRuTD4wu"
      },
      "execution_count": null,
      "outputs": []
    },
    {
      "cell_type": "code",
      "source": [
        "nlp = pipeline(\"question-generation\", model=\"valhalla/t5-small-qg-prepend\", qg_format=\"prepend\")"
      ],
      "metadata": {
        "id": "b3g-FIvrEgXl"
      },
      "execution_count": null,
      "outputs": []
    },
    {
      "cell_type": "markdown",
      "source": [
        "# Subset the Data"
      ],
      "metadata": {
        "id": "L4xEJaXDKjEV"
      }
    },
    {
      "cell_type": "code",
      "source": [
        "print(f'Number of themes available: {len(theme_wise_para.keys())}')"
      ],
      "metadata": {
        "colab": {
          "base_uri": "https://localhost:8080/"
        },
        "id": "gCdS1J3aMjuV",
        "outputId": "103bec07-a8ef-4974-fa7e-91786f82f2d8"
      },
      "execution_count": null,
      "outputs": [
        {
          "output_type": "stream",
          "name": "stdout",
          "text": [
            "Number of themes available: 116\n"
          ]
        }
      ]
    },
    {
      "cell_type": "code",
      "source": [
        "#@title Set Hyperparameters\n",
        "import random\n",
        "random.seed(10)\n",
        "keys_available = len(theme_wise_para.keys())\n",
        "\n",
        "num_keys = 3       #@param {type:'number'}\n",
        "num_paras = 3      #@param {type:'number'}\n",
        "\n",
        "keys = random.sample(theme_wise_para.keys(),num_keys)\n",
        "input_data = {k:theme_wise_para[k][:num_paras] for k in keys}"
      ],
      "metadata": {
        "id": "QUkYWkIlG8gS"
      },
      "execution_count": null,
      "outputs": []
    },
    {
      "cell_type": "markdown",
      "source": [
        "### Peeking the Context"
      ],
      "metadata": {
        "id": "la5US_nz81Ek"
      }
    },
    {
      "cell_type": "code",
      "source": [
        "for theme in input_data:\n",
        "  print(f'Theme: {theme}')\n",
        "  print('Paragraphs:')\n",
        "  for para in input_data[theme]:\n",
        "    print(f'Doc ID: {para[0]}')\n",
        "    print(para[1])"
      ],
      "metadata": {
        "colab": {
          "base_uri": "https://localhost:8080/"
        },
        "id": "HvBwJCVD80Pb",
        "outputId": "bde0b377-66fb-4905-fe47-652491c73468"
      },
      "execution_count": null,
      "outputs": [
        {
          "output_type": "stream",
          "name": "stdout",
          "text": [
            "Theme: Central_Intelligence_Agency\n",
            "Paragraphs:\n",
            "Doc ID: 2964\n",
            "Unlike the Federal Bureau of Investigation (FBI), which is a domestic security service, CIA has no law enforcement function and is mainly focused on overseas intelligence gathering, with only limited domestic collection. Though it is not the only U.S. government agency specializing in HUMINT, CIA serves as the national manager for coordination and deconfliction of HUMINT activities across the entire intelligence community. Moreover, CIA is the only agency authorized by law to carry out and oversee covert action on behalf of the President, unless the President determines that another agency is better suited for carrying out such action. It can, for example, exert foreign political influence through its tactical divisions, such as the Special Activities Division.\n",
            "Doc ID: 2965\n",
            "The Executive Office also supports the U.S. military by providing it with information it gathers, receiving information from military intelligence organizations, and cooperating on field activities. The Executive Director is in charge of the day to day operation of the CIA, and each branch of the service has its own Director. The Associate Director of military affairs, a senior military officer, manages the relationship between the CIA and the Unified Combatant Commands, who produce regional/operational intelligence and consume national intelligence.\n",
            "Doc ID: 2966\n",
            "The Directorate of Analysis produces all-source intelligence investigation on key foreign and intercontinental issues relating to powerful and sometimes anti-government sensitive topics. It has four regional analytic groups, six groups for transnational issues, and three focus on policy, collection, and staff support. There is an office dedicated to Iraq, and regional analytical Offices covering the Near Eastern and South Asian Analysis, the Office of Russian and European Analysis, and the Office of Asian Pacific, Asian Pacific, Latin American, and African Analysis and African Analysis.\n",
            "Theme: Cardinal_(Catholicism)\n",
            "Paragraphs:\n",
            "Doc ID: 210\n",
            "In 1059, the right of electing the pope was reserved to the principal clergy of Rome and the bishops of the seven suburbicarian sees. In the 12th century the practice of appointing ecclesiastics from outside Rome as cardinals began, with each of them assigned a church in Rome as his titular church or linked with one of the suburbicarian dioceses, while still being incardinated in a diocese other than that of Rome.[citation needed]\n",
            "Doc ID: 211\n",
            "The term cardinal at one time applied to any priest permanently assigned or incardinated to a church, or specifically to the senior priest of an important church, based on the Latin cardo (hinge), meaning \"principal\" or \"chief\". The term was applied in this sense as early as the ninth century to the priests of the tituli (parishes) of the diocese of Rome. The Church of England retains an instance of this origin of the title, which is held by the two senior members of the College of Minor Canons of St Paul's Cathedral.\n",
            "Doc ID: 212\n",
            "There is disagreement about the origin of the term, but general consensus that \"cardinalis\" from the word cardo (meaning 'pivot' or 'hinge') was first used in late antiquity to designate a bishop or priest who was incorporated into a church for which he had not originally been ordained. In Rome the first persons to be called cardinals were the deacons of the seven regions of the city at the beginning of the 6th century, when the word began to mean “principal,” “eminent,” or \"superior.\" The name was also given to the senior priest in each of the \"title\" churches (the parish churches) of Rome and to the bishops of the seven sees surrounding the city. By the 8th century the Roman cardinals constituted a privileged class among the Roman clergy. They took part in the administration of the church of Rome and in the papal liturgy. By decree of a synod of 769, only a cardinal was eligible to become pope. In 1059, during the pontificate of Nicholas II, cardinals were given the right to elect the pope under the Papal Bull In nomine Domini. For a time this power was assigned exclusively to the cardinal bishops, but the Third Lateran Council in 1179 gave back the right to the whole body of cardinals. Cardinals were granted the privilege of wearing the red hat by Pope Innocent IV in 1244.\n",
            "Theme: Tibet\n",
            "Paragraphs:\n",
            "Doc ID: 2222\n",
            "Tibet (i/tᵻˈbɛt/; Wylie: Bod, pronounced [pʰø̀ʔ]; Chinese: 西藏; pinyin: Xīzàng) is a region on the Tibetan Plateau in Asia. It is the traditional homeland of the Tibetan people as well as some other ethnic groups such as Monpa, Qiang and Lhoba peoples and is now also inhabited by considerable numbers of Han Chinese and Hui people. Tibet is the highest region on Earth, with an average elevation of 4,900 metres (16,000 ft). The highest elevation in Tibet is Mount Everest, earth's highest mountain rising 8,848 m (29,029 ft) above sea level.\n",
            "Doc ID: 2223\n",
            "The Tibetan Empire emerged in the 7th century, but with the fall of the empire the region soon divided into a variety of territories. The bulk of western and central Tibet (Ü-Tsang) was often at least nominally unified under a series of Tibetan governments in Lhasa, Shigatse, or nearby locations; these governments were at various times under Mongol and Chinese overlordship. The eastern regions of Kham and Amdo often maintained a more decentralized indigenous political structure, being divided among a number of small principalities and tribal groups, while also often falling more directly under Chinese rule after the Battle of Chamdo; most of this area was eventually incorporated into the Chinese provinces of Sichuan and Qinghai. The current borders of Tibet were generally established in the 18th century.\n",
            "Doc ID: 2224\n",
            "Following the Xinhai Revolution against the Qing dynasty in 1912, Qing soldiers were disarmed and escorted out of Tibet Area (Ü-Tsang). The region subsequently declared its independence in 1913 without recognition by the subsequent Chinese Republican government. Later, Lhasa took control of the western part of Xikang, China. The region maintained its autonomy until 1951 when, following the Battle of Chamdo, Tibet became incorporated into the People's Republic of China, and the previous Tibetan government was abolished in 1959 after a failed uprising. Today, China governs western and central Tibet as the Tibet Autonomous Region while the eastern areas are now mostly ethnic autonomous prefectures within Sichuan, Qinghai and other neighbouring provinces. There are tensions regarding Tibet's political status and dissident groups that are active in exile. It is also said that Tibetan activists in Tibet have been arrested or tortured.\n"
          ]
        }
      ]
    },
    {
      "cell_type": "markdown",
      "source": [
        "# Main Loop"
      ],
      "metadata": {
        "id": "en4JbMgkNNd7"
      }
    },
    {
      "cell_type": "code",
      "source": [
        "def generate_qa(input_data):\n",
        "  s_ans = []\n",
        "  s_ques = []\n",
        "  for theme in input_data:\n",
        "    obj = input_data[theme]\n",
        "    for id, para in obj:\n",
        "      try:\n",
        "        result = nlp(para)\n",
        "      except:\n",
        "        pass\n",
        "      q_obj = [[id,pair['question'],theme] for pair in result]\n",
        "      a_obj = [[id,'True',pair['answer'].rstrip(),[para.find(pair['answer'].rstrip()),]] for pair in result]\n",
        "      s_ans.extend(a_obj)\n",
        "      s_ques.extend(q_obj)\n",
        "  return s_ques, s_ans"
      ],
      "metadata": {
        "id": "1VOXgESfPitc"
      },
      "execution_count": null,
      "outputs": []
    },
    {
      "cell_type": "code",
      "source": [
        "out_ques, out_ans = generate_qa(input_data)"
      ],
      "metadata": {
        "id": "qgNr7_Q0PxiG"
      },
      "execution_count": null,
      "outputs": []
    },
    {
      "cell_type": "markdown",
      "source": [
        "# Output Processing"
      ],
      "metadata": {
        "id": "9BQI8EpLNP_L"
      }
    },
    {
      "cell_type": "code",
      "source": [
        "# Display Pairs:\n",
        "def display_pairs(s_ques,s_ans):\n",
        "  print('Q: [<Para_ID>,<Question>,<Theme>]')\n",
        "  print(\"A: [<Para_ID>,'True',<Answer String>, <Start Index>]\")\n",
        "  for i in range(len(s_ans)):\n",
        "    print(f'Q: {s_ques[i]}\\nA: {s_ans[i]}\\n')"
      ],
      "metadata": {
        "id": "-lxZ9uOiNATk"
      },
      "execution_count": null,
      "outputs": []
    },
    {
      "cell_type": "code",
      "source": [
        "display_pairs(out_ques,out_ans)"
      ],
      "metadata": {
        "colab": {
          "base_uri": "https://localhost:8080/"
        },
        "id": "gQqZ7PwoNcI0",
        "outputId": "663b4c0a-ba60-4d23-c901-b3a330e48e7c"
      },
      "execution_count": null,
      "outputs": [
        {
          "output_type": "stream",
          "name": "stdout",
          "text": [
            "Q: [<Para_ID>,<Question>,<Theme>]\n",
            "A: [<Para_ID>,'True',<Answer String>, <Start Index>]\n",
            "Q: [2964, 'What is the Federal Bureau of Investigation?', 'Central_Intelligence_Agency']\n",
            "A: [2964, 'True', 'domestic security', [61]]\n",
            "\n",
            "Q: [2964, 'Who is the only agency authorized by law to carry out and oversee covert action on behalf of the President?', 'Central_Intelligence_Agency']\n",
            "A: [2964, 'True', 'CIA', [88]]\n",
            "\n",
            "Q: [2964, 'Who is the only agency authorized by law to carry out and oversee covert action on behalf of the President?', 'Central_Intelligence_Agency']\n",
            "A: [2964, 'True', 'CIA', [88]]\n",
            "\n",
            "Q: [2964, 'What division can CIA exert foreign political influence through its tactical divisions?', 'Central_Intelligence_Agency']\n",
            "A: [2964, 'True', 'Special Activities Division', [743]]\n",
            "\n",
            "Q: [2965, 'How does the Executive Office support the U.S. military?', 'Central_Intelligence_Agency']\n",
            "A: [2965, 'True', 'providing it with information it gathers, receiving information from military intelligence organizations, and cooperating on field activities', [56]]\n",
            "\n",
            "Q: [2965, 'Who is responsible for the day to day operation of the CIA?', 'Central_Intelligence_Agency']\n",
            "A: [2965, 'True', 'The Executive Director', [199]]\n",
            "\n",
            "Q: [2965, 'Who manages the relationship between the CIA and the Unified Combatant Commands?', 'Central_Intelligence_Agency']\n",
            "A: [2965, 'True', 'The Associate Director of military affairs', [328]]\n",
            "\n",
            "Q: [2966, 'Who produces all-source intelligence investigation on key foreign and intercontinental issues relating to powerful and sometimes anti-government sensitive topics?', 'Central_Intelligence_Agency']\n",
            "A: [2966, 'True', 'The Directorate of Analysis', [0]]\n",
            "\n",
            "Q: [2966, 'How many regional analytic groups does the Directorate of Analysis have?', 'Central_Intelligence_Agency']\n",
            "A: [2966, 'True', 'four', [194]]\n",
            "\n",
            "Q: [2966, 'How many groups are there for transnational issues?', 'Central_Intelligence_Agency']\n",
            "A: [2966, 'True', ' six', [224]]\n",
            "\n",
            "Q: [2966, 'What are the regional analytical offices covering?', 'Central_Intelligence_Agency']\n",
            "A: [2966, 'True', 'Near Eastern and South Asian Analysis', [403]]\n",
            "\n",
            "Q: [210, 'When was the right of electing the pope reserved to the principal clergy of Rome?', 'Cardinal_(Catholicism)']\n",
            "A: [210, 'True', '1059', [3]]\n",
            "\n",
            "Q: [210, 'When did the practice of appointing ecclesiastics from outside Rome begin?', 'Cardinal_(Catholicism)']\n",
            "A: [210, 'True', '12th', [141]]\n",
            "\n",
            "Q: [210, 'What did the bishops of the seven suburbicarian sees do?', 'Cardinal_(Catholicism)']\n",
            "A: [210, 'True', '[citation needed]', [417]]\n",
            "\n",
            "Q: [211, 'What term was applied to any priest permanently assigned or incardinated to a church?', 'Cardinal_(Catholicism)']\n",
            "A: [211, 'True', 'cardinal', [9]]\n",
            "\n",
            "Q: [211, 'When was the term cardinal applied to the priests of the tituli?', 'Cardinal_(Catholicism)']\n",
            "A: [211, 'True', 'ninth century', [280]]\n",
            "\n",
            "Q: [211, 'What church holds the title of cardinal?', 'Cardinal_(Catholicism)']\n",
            "A: [211, 'True', \"College of Minor Canons of St Paul's Cathedral\", [476]]\n",
            "\n",
            "Q: [212, 'What word was first used in late antiquity to designate a bishop or priest who was incorporated into a church for which he had', 'Cardinal_(Catholicism)']\n",
            "A: [212, 'True', 'cardo', [106]]\n",
            "\n",
            "Q: [212, 'Who were the first people to be called cardinals in Rome?', 'Cardinal_(Catholicism)']\n",
            "A: [212, 'True', 'deacons', [346]]\n",
            "\n",
            "Q: [212, 'Who was the first person to be called cardinals?', 'Cardinal_(Catholicism)']\n",
            "A: [212, 'True', 'the bishops of the seven', [605]]\n",
            "\n",
            "Q: [212, 'When did the Roman cardinals constitute a privileged class among the Roman clergy?', 'Cardinal_(Catholicism)']\n",
            "A: [212, 'True', '8th century', [664]]\n",
            "\n",
            "Q: [212, 'What did the Roman cardinals take part in?', 'Cardinal_(Catholicism)']\n",
            "A: [212, 'True', 'papal liturgy', [821]]\n",
            "\n",
            "Q: [212, 'In what year was only a cardinal eligible to become pope?', 'Cardinal_(Catholicism)']\n",
            "A: [212, 'True', '769', [860]]\n",
            "\n",
            "Q: [212, 'When were cardinals given the right to elect the pope under the Papal Bull In nomine Domini?', 'Cardinal_(Catholicism)']\n",
            "A: [212, 'True', '1059', [913]]\n",
            "\n",
            "Q: [212, 'When did the Third Lateran Council give back the right to the whole body of cardinals?', 'Cardinal_(Catholicism)']\n",
            "A: [212, 'True', '1179', [1151]]\n",
            "\n",
            "Q: [212, 'When did Pope Innocent IV grant Cardinals the privilege of wearing the red hat?', 'Cardinal_(Catholicism)']\n",
            "A: [212, 'True', '1244', [1291]]\n",
            "\n",
            "Q: [2222, 'Where is Tibet located?', 'Tibet']\n",
            "A: [2222, 'True', 'Tibetan Plateau', [98]]\n",
            "\n",
            "Q: [2222, 'What ethnic groups live in Tibet?', 'Tibet']\n",
            "A: [2222, 'True', 'Han Chinese and Hui', [304]]\n",
            "\n",
            "Q: [2222, 'How high is the average elevation of Tibet?', 'Tibet']\n",
            "A: [2222, 'True', '4,900 metres', [399]]\n",
            "\n",
            "Q: [2222, 'What is the highest elevation in Tibet?', 'Tibet']\n",
            "A: [2222, 'True', 'Mount Everest', [459]]\n",
            "\n",
            "Q: [2223, 'When did the Tibetan Empire emerge?', 'Tibet']\n",
            "A: [2223, 'True', '7th century', [34]]\n",
            "\n",
            "Q: [2223, 'What were the governments of western and central Tibet under?', 'Tibet']\n",
            "A: [2223, 'True', 'Mongol and Chinese overlordship', [344]]\n",
            "\n",
            "Q: [2223, 'When did the eastern regions of Kham and Amdo fall more directly under Chinese rule?', 'Tibet']\n",
            "A: [2223, 'True', 'the Battle of Chamdo', [620]]\n",
            "\n",
            "Q: [2223, 'When were the current borders of Tibet established?', 'Tibet']\n",
            "A: [2223, 'True', '18th century', [802]]\n",
            "\n",
            "Q: [2224, 'What was the name of the rebellion against the Qing dynasty?', 'Tibet']\n",
            "A: [2224, 'True', 'Xinhai Revolution', [14]]\n",
            "\n",
            "Q: [2224, 'When did the region declare its independence?', 'Tibet']\n",
            "A: [2224, 'True', '1913', [189]]\n",
            "\n",
            "Q: [2224, 'Who took control of the western part of Xikang, China?', 'Tibet']\n",
            "A: [2224, 'True', 'Lhasa', [270]]\n",
            "\n",
            "Q: [2224, \"When did Tibet become incorporated into the People's Republic of China?\", 'Tibet']\n",
            "A: [2224, 'True', '1951', [368]]\n",
            "\n",
            "Q: [2224, 'Where are the eastern areas now mostly ethnic autonomous prefectures?', 'Tibet']\n",
            "A: [2224, 'True', 'Sichuan, Qinghai and other neighbouring provinces', [711]]\n",
            "\n",
            "Q: [2224, \"What is a concern about Tibet's political status and dissident groups that are active in exile?\", 'Tibet']\n",
            "A: [2224, 'True', 'tensions', [772]]\n",
            "\n",
            "Q: [2224, 'Who has been arrested or tortured in Tibet?', 'Tibet']\n",
            "A: [2224, 'True', 'Tibetan activists', [884]]\n",
            "\n"
          ]
        }
      ]
    }
  ]
}