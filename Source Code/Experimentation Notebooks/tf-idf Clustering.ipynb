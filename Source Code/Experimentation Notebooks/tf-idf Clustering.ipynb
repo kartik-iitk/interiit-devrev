{
 "cells": [
  {
   "cell_type": "code",
   "execution_count": 1,
   "id": "9299cf0b",
   "metadata": {
    "execution": {
     "iopub.execute_input": "2023-01-25T19:16:40.014553Z",
     "iopub.status.busy": "2023-01-25T19:16:40.013702Z",
     "iopub.status.idle": "2023-01-25T19:16:41.909722Z",
     "shell.execute_reply": "2023-01-25T19:16:41.908423Z"
    },
    "id": "o7dVZXdUvgXI",
    "papermill": {
     "duration": 1.90732,
     "end_time": "2023-01-25T19:16:41.912650",
     "exception": false,
     "start_time": "2023-01-25T19:16:40.005330",
     "status": "completed"
    },
    "tags": []
   },
   "outputs": [],
   "source": [
    "import os\n",
    "import random\n",
    "import nltk\n",
    "import re\n",
    "from nltk.stem.snowball import SnowballStemmer\n",
    "from sklearn.feature_extraction.text import TfidfVectorizer, CountVectorizer, TfidfTransformer\n",
    "from sklearn.cluster import KMeans\n",
    "from sklearn import metrics\n",
    "import matplotlib.pyplot as plt\n",
    "import pandas as pd\n",
    "# import CountVectorizer"
   ]
  },
  {
   "cell_type": "code",
   "execution_count": 2,
   "id": "0625f96a",
   "metadata": {
    "execution": {
     "iopub.execute_input": "2023-01-25T19:16:41.925221Z",
     "iopub.status.busy": "2023-01-25T19:16:41.923797Z",
     "iopub.status.idle": "2023-01-25T19:16:55.752073Z",
     "shell.execute_reply": "2023-01-25T19:16:55.750594Z"
    },
    "papermill": {
     "duration": 13.837391,
     "end_time": "2023-01-25T19:16:55.755064",
     "exception": false,
     "start_time": "2023-01-25T19:16:41.917673",
     "status": "completed"
    },
    "tags": []
   },
   "outputs": [
    {
     "name": "stdout",
     "output_type": "stream",
     "text": [
      "Collecting gdown\r\n",
      "  Downloading gdown-4.6.0-py3-none-any.whl (14 kB)\r\n",
      "Requirement already satisfied: six in /opt/conda/lib/python3.7/site-packages (from gdown) (1.15.0)\r\n",
      "Requirement already satisfied: filelock in /opt/conda/lib/python3.7/site-packages (from gdown) (3.7.1)\r\n",
      "Requirement already satisfied: tqdm in /opt/conda/lib/python3.7/site-packages (from gdown) (4.64.0)\r\n",
      "Requirement already satisfied: beautifulsoup4 in /opt/conda/lib/python3.7/site-packages (from gdown) (4.11.1)\r\n",
      "Requirement already satisfied: requests[socks] in /opt/conda/lib/python3.7/site-packages (from gdown) (2.28.1)\r\n",
      "Requirement already satisfied: soupsieve>1.2 in /opt/conda/lib/python3.7/site-packages (from beautifulsoup4->gdown) (2.3.1)\r\n",
      "Requirement already satisfied: urllib3<1.27,>=1.21.1 in /opt/conda/lib/python3.7/site-packages (from requests[socks]->gdown) (1.26.14)\r\n",
      "Requirement already satisfied: certifi>=2017.4.17 in /opt/conda/lib/python3.7/site-packages (from requests[socks]->gdown) (2022.12.7)\r\n",
      "Requirement already satisfied: idna<4,>=2.5 in /opt/conda/lib/python3.7/site-packages (from requests[socks]->gdown) (3.3)\r\n",
      "Requirement already satisfied: charset-normalizer<3,>=2 in /opt/conda/lib/python3.7/site-packages (from requests[socks]->gdown) (2.1.0)\r\n",
      "Requirement already satisfied: PySocks!=1.5.7,>=1.5.6 in /opt/conda/lib/python3.7/site-packages (from requests[socks]->gdown) (1.7.1)\r\n",
      "Installing collected packages: gdown\r\n",
      "Successfully installed gdown-4.6.0\r\n",
      "\u001b[33mWARNING: Running pip as the 'root' user can result in broken permissions and conflicting behaviour with the system package manager. It is recommended to use a virtual environment instead: https://pip.pypa.io/warnings/venv\u001b[0m\u001b[33m\r\n",
      "\u001b[0m"
     ]
    }
   ],
   "source": [
    "!pip install gdown"
   ]
  },
  {
   "cell_type": "code",
   "execution_count": 3,
   "id": "24f9b27a",
   "metadata": {
    "execution": {
     "iopub.execute_input": "2023-01-25T19:16:55.767460Z",
     "iopub.status.busy": "2023-01-25T19:16:55.767013Z",
     "iopub.status.idle": "2023-01-25T19:17:02.169096Z",
     "shell.execute_reply": "2023-01-25T19:17:02.167532Z"
    },
    "id": "kdE1E9vdvw6V",
    "outputId": "768674ce-2fc2-48a2-e4df-e3af48baf856",
    "papermill": {
     "duration": 6.411806,
     "end_time": "2023-01-25T19:17:02.172198",
     "exception": false,
     "start_time": "2023-01-25T19:16:55.760392",
     "status": "completed"
    },
    "tags": []
   },
   "outputs": [
    {
     "name": "stdout",
     "output_type": "stream",
     "text": [
      "Downloading...\r\n",
      "From: https://drive.google.com/uc?id=1W-GGNPVxHD4bEgEZSLVMHOTpfrVy2o60\r\n",
      "To: /kaggle/working/input_paragraphs.csv\r\n",
      "100%|██████████████████████████████████████| 12.0M/12.0M [00:00<00:00, 90.0MB/s]\r\n"
     ]
    }
   ],
   "source": [
    "!gdown 1W-GGNPVxHD4bEgEZSLVMHOTpfrVy2o60"
   ]
  },
  {
   "cell_type": "code",
   "execution_count": 4,
   "id": "859d095a",
   "metadata": {
    "execution": {
     "iopub.execute_input": "2023-01-25T19:17:02.185062Z",
     "iopub.status.busy": "2023-01-25T19:17:02.184577Z",
     "iopub.status.idle": "2023-01-25T19:17:02.387877Z",
     "shell.execute_reply": "2023-01-25T19:17:02.386678Z"
    },
    "id": "KIj-DjQIv_qN",
    "outputId": "141b3897-46bb-4878-a205-c38316e05e73",
    "papermill": {
     "duration": 0.212926,
     "end_time": "2023-01-25T19:17:02.390436",
     "exception": false,
     "start_time": "2023-01-25T19:17:02.177510",
     "status": "completed"
    },
    "tags": []
   },
   "outputs": [
    {
     "data": {
      "text/html": [
       "<div>\n",
       "<style scoped>\n",
       "    .dataframe tbody tr th:only-of-type {\n",
       "        vertical-align: middle;\n",
       "    }\n",
       "\n",
       "    .dataframe tbody tr th {\n",
       "        vertical-align: top;\n",
       "    }\n",
       "\n",
       "    .dataframe thead th {\n",
       "        text-align: right;\n",
       "    }\n",
       "</style>\n",
       "<table border=\"1\" class=\"dataframe\">\n",
       "  <thead>\n",
       "    <tr style=\"text-align: right;\">\n",
       "      <th></th>\n",
       "      <th>id</th>\n",
       "      <th>paragraph</th>\n",
       "      <th>theme</th>\n",
       "    </tr>\n",
       "  </thead>\n",
       "  <tbody>\n",
       "    <tr>\n",
       "      <th>0</th>\n",
       "      <td>1</td>\n",
       "      <td>The 2008 Summer Olympics torch relay was run f...</td>\n",
       "      <td>2008_Summer_Olympics_torch_relay</td>\n",
       "    </tr>\n",
       "    <tr>\n",
       "      <th>1</th>\n",
       "      <td>2</td>\n",
       "      <td>After being lit at the birthplace of the Olymp...</td>\n",
       "      <td>2008_Summer_Olympics_torch_relay</td>\n",
       "    </tr>\n",
       "    <tr>\n",
       "      <th>2</th>\n",
       "      <td>3</td>\n",
       "      <td>In many cities along the North American and Eu...</td>\n",
       "      <td>2008_Summer_Olympics_torch_relay</td>\n",
       "    </tr>\n",
       "    <tr>\n",
       "      <th>3</th>\n",
       "      <td>4</td>\n",
       "      <td>The attacks on the torch in London and Paris w...</td>\n",
       "      <td>2008_Summer_Olympics_torch_relay</td>\n",
       "    </tr>\n",
       "    <tr>\n",
       "      <th>4</th>\n",
       "      <td>5</td>\n",
       "      <td>Prompted by the chaotic torch relays in Wester...</td>\n",
       "      <td>2008_Summer_Olympics_torch_relay</td>\n",
       "    </tr>\n",
       "    <tr>\n",
       "      <th>5</th>\n",
       "      <td>6</td>\n",
       "      <td>In June 2008, the Beijing Games' Organizing Co...</td>\n",
       "      <td>2008_Summer_Olympics_torch_relay</td>\n",
       "    </tr>\n",
       "  </tbody>\n",
       "</table>\n",
       "</div>"
      ],
      "text/plain": [
       "   id                                          paragraph  \\\n",
       "0   1  The 2008 Summer Olympics torch relay was run f...   \n",
       "1   2  After being lit at the birthplace of the Olymp...   \n",
       "2   3  In many cities along the North American and Eu...   \n",
       "3   4  The attacks on the torch in London and Paris w...   \n",
       "4   5  Prompted by the chaotic torch relays in Wester...   \n",
       "5   6  In June 2008, the Beijing Games' Organizing Co...   \n",
       "\n",
       "                              theme  \n",
       "0  2008_Summer_Olympics_torch_relay  \n",
       "1  2008_Summer_Olympics_torch_relay  \n",
       "2  2008_Summer_Olympics_torch_relay  \n",
       "3  2008_Summer_Olympics_torch_relay  \n",
       "4  2008_Summer_Olympics_torch_relay  \n",
       "5  2008_Summer_Olympics_torch_relay  "
      ]
     },
     "execution_count": 4,
     "metadata": {},
     "output_type": "execute_result"
    }
   ],
   "source": [
    "#Concating all paragraphs in a theme, before vectorizing them. W Rizz\n",
    "input_paragraphs = pd.read_csv('input_paragraphs.csv')\n",
    "input_paragraphs.head(6)"
   ]
  },
  {
   "cell_type": "code",
   "execution_count": 5,
   "id": "7cb85ff4",
   "metadata": {
    "execution": {
     "iopub.execute_input": "2023-01-25T19:17:02.403382Z",
     "iopub.status.busy": "2023-01-25T19:17:02.402959Z",
     "iopub.status.idle": "2023-01-25T19:17:02.982708Z",
     "shell.execute_reply": "2023-01-25T19:17:02.981304Z"
    },
    "id": "_KH7G7pfwaQz",
    "papermill": {
     "duration": 0.589478,
     "end_time": "2023-01-25T19:17:02.985408",
     "exception": false,
     "start_time": "2023-01-25T19:17:02.395930",
     "status": "completed"
    },
    "tags": []
   },
   "outputs": [],
   "source": [
    "theme_wise_paras  = {\n",
    "    theme : list(input_paragraphs[input_paragraphs[\"theme\"] == theme][\"paragraph\"]) for theme in input_paragraphs[\"theme\"].unique()\n",
    "}"
   ]
  },
  {
   "cell_type": "code",
   "execution_count": 6,
   "id": "c4e787fb",
   "metadata": {
    "execution": {
     "iopub.execute_input": "2023-01-25T19:17:02.998680Z",
     "iopub.status.busy": "2023-01-25T19:17:02.998236Z",
     "iopub.status.idle": "2023-01-25T19:17:03.031859Z",
     "shell.execute_reply": "2023-01-25T19:17:03.030836Z"
    },
    "id": "ZjSE0w7awpBr",
    "papermill": {
     "duration": 0.043638,
     "end_time": "2023-01-25T19:17:03.034565",
     "exception": false,
     "start_time": "2023-01-25T19:17:02.990927",
     "status": "completed"
    },
    "tags": []
   },
   "outputs": [],
   "source": [
    "# \"\".join([i for i in theme_wise_paras['ASCII']])\n",
    "concated = {\n",
    "    theme : \"\".join([i for i in theme_wise_paras[theme]]) for theme in theme_wise_paras\n",
    "}"
   ]
  },
  {
   "cell_type": "code",
   "execution_count": 7,
   "id": "8117f37a",
   "metadata": {
    "execution": {
     "iopub.execute_input": "2023-01-25T19:17:03.047903Z",
     "iopub.status.busy": "2023-01-25T19:17:03.047245Z",
     "iopub.status.idle": "2023-01-25T19:17:03.053401Z",
     "shell.execute_reply": "2023-01-25T19:17:03.052233Z"
    },
    "id": "VU_H-ZXwxdNy",
    "papermill": {
     "duration": 0.015622,
     "end_time": "2023-01-25T19:17:03.055759",
     "exception": false,
     "start_time": "2023-01-25T19:17:03.040137",
     "status": "completed"
    },
    "tags": []
   },
   "outputs": [],
   "source": [
    "corpus = [[concated[i] for i in concated], [i for i in concated]] #for easy mapping, don't sue me"
   ]
  },
  {
   "cell_type": "code",
   "execution_count": 8,
   "id": "1df80a8a",
   "metadata": {
    "execution": {
     "iopub.execute_input": "2023-01-25T19:17:03.068569Z",
     "iopub.status.busy": "2023-01-25T19:17:03.068135Z",
     "iopub.status.idle": "2023-01-25T19:17:25.355123Z",
     "shell.execute_reply": "2023-01-25T19:17:25.353730Z"
    },
    "id": "5gs_Sy7YyB3t",
    "papermill": {
     "duration": 22.29706,
     "end_time": "2023-01-25T19:17:25.358282",
     "exception": false,
     "start_time": "2023-01-25T19:17:03.061222",
     "status": "completed"
    },
    "tags": []
   },
   "outputs": [],
   "source": [
    "tfidf_vectorizer=TfidfVectorizer(use_idf=True,  stop_words = \"english\", ngram_range=(1,3))\n",
    "# just send in all your docs here\n",
    "fitted_vectorizer=tfidf_vectorizer.fit(corpus[0])\n",
    "tfidf_vectorizer_vectors=fitted_vectorizer.transform(corpus[0])"
   ]
  },
  {
   "cell_type": "code",
   "execution_count": 9,
   "id": "36866fe2",
   "metadata": {
    "execution": {
     "iopub.execute_input": "2023-01-25T19:17:25.372068Z",
     "iopub.status.busy": "2023-01-25T19:17:25.371327Z",
     "iopub.status.idle": "2023-01-25T19:17:28.148911Z",
     "shell.execute_reply": "2023-01-25T19:17:28.147634Z"
    },
    "id": "LnIli_H4z_cN",
    "outputId": "ed1c7ca9-819d-4fe4-b3f1-ef9f7ffb0dba",
    "papermill": {
     "duration": 2.787908,
     "end_time": "2023-01-25T19:17:28.151853",
     "exception": false,
     "start_time": "2023-01-25T19:17:25.363945",
     "status": "completed"
    },
    "tags": []
   },
   "outputs": [
    {
     "name": "stderr",
     "output_type": "stream",
     "text": [
      "/opt/conda/lib/python3.7/site-packages/sklearn/utils/deprecation.py:87: FutureWarning: Function get_feature_names is deprecated; get_feature_names is deprecated in 1.0 and will be removed in 1.2. Please use get_feature_names_out instead.\n",
      "  warnings.warn(msg, category=FutureWarning)\n"
     ]
    }
   ],
   "source": [
    "themess = corpus[1]\n",
    "feature_names = fitted_vectorizer.get_feature_names() "
   ]
  },
  {
   "cell_type": "code",
   "execution_count": 10,
   "id": "33f05cb5",
   "metadata": {
    "execution": {
     "iopub.execute_input": "2023-01-25T19:17:28.165354Z",
     "iopub.status.busy": "2023-01-25T19:17:28.164844Z",
     "iopub.status.idle": "2023-01-25T19:17:28.320513Z",
     "shell.execute_reply": "2023-01-25T19:17:28.319056Z"
    },
    "id": "RkDb4rQdSbA8",
    "papermill": {
     "duration": 0.165939,
     "end_time": "2023-01-25T19:17:28.323541",
     "exception": false,
     "start_time": "2023-01-25T19:17:28.157602",
     "status": "completed"
    },
    "tags": []
   },
   "outputs": [],
   "source": [
    "vectorized = {\n",
    "    themess[i] :  tfidf_vectorizer_vectors[i] for i in range(len(themess))\n",
    "}"
   ]
  },
  {
   "cell_type": "code",
   "execution_count": 11,
   "id": "39acceab",
   "metadata": {
    "execution": {
     "iopub.execute_input": "2023-01-25T19:17:28.338785Z",
     "iopub.status.busy": "2023-01-25T19:17:28.337458Z",
     "iopub.status.idle": "2023-01-25T19:20:01.244157Z",
     "shell.execute_reply": "2023-01-25T19:20:01.242612Z"
    },
    "id": "8UXsvtIfM7xW",
    "papermill": {
     "duration": 152.917457,
     "end_time": "2023-01-25T19:20:01.247218",
     "exception": false,
     "start_time": "2023-01-25T19:17:28.329761",
     "status": "completed"
    },
    "tags": []
   },
   "outputs": [],
   "source": [
    "vectorized_df = {\n",
    "    i :  pd.DataFrame(vectorized[i].T.todense(), index=feature_names, columns=[\"tfidf\"]).reset_index() for i in vectorized \n",
    "}\n"
   ]
  },
  {
   "cell_type": "code",
   "execution_count": 12,
   "id": "58f3a370",
   "metadata": {
    "execution": {
     "iopub.execute_input": "2023-01-25T19:20:01.261081Z",
     "iopub.status.busy": "2023-01-25T19:20:01.260648Z",
     "iopub.status.idle": "2023-01-25T19:20:01.265848Z",
     "shell.execute_reply": "2023-01-25T19:20:01.264522Z"
    },
    "id": "zoDgpUiBOWUE",
    "papermill": {
     "duration": 0.014882,
     "end_time": "2023-01-25T19:20:01.268409",
     "exception": false,
     "start_time": "2023-01-25T19:20:01.253527",
     "status": "completed"
    },
    "tags": []
   },
   "outputs": [],
   "source": [
    "n = 20"
   ]
  },
  {
   "cell_type": "code",
   "execution_count": 13,
   "id": "4fa4035f",
   "metadata": {
    "execution": {
     "iopub.execute_input": "2023-01-25T19:20:01.281940Z",
     "iopub.status.busy": "2023-01-25T19:20:01.281488Z",
     "iopub.status.idle": "2023-01-25T19:21:53.116983Z",
     "shell.execute_reply": "2023-01-25T19:21:53.115529Z"
    },
    "id": "Si3oohFHNcEF",
    "papermill": {
     "duration": 111.845939,
     "end_time": "2023-01-25T19:21:53.120231",
     "exception": false,
     "start_time": "2023-01-25T19:20:01.274292",
     "status": "completed"
    },
    "tags": []
   },
   "outputs": [],
   "source": [
    "key_words = {\n",
    "    i : vectorized_df[i].sort_values(by = [\"tfidf\"], ascending = False).index[:n] for i in vectorized_df\n",
    "}"
   ]
  },
  {
   "cell_type": "code",
   "execution_count": 14,
   "id": "ac66d51f",
   "metadata": {
    "execution": {
     "iopub.execute_input": "2023-01-25T19:21:53.134746Z",
     "iopub.status.busy": "2023-01-25T19:21:53.134275Z",
     "iopub.status.idle": "2023-01-25T19:22:08.744554Z",
     "shell.execute_reply": "2023-01-25T19:22:08.743293Z"
    },
    "id": "5Jm25QJtOiPD",
    "outputId": "b0be682b-20b2-4159-eb05-b4fb1b64503d",
    "papermill": {
     "duration": 15.621349,
     "end_time": "2023-01-25T19:22:08.747908",
     "exception": false,
     "start_time": "2023-01-25T19:21:53.126559",
     "status": "completed"
    },
    "tags": []
   },
   "outputs": [
    {
     "name": "stderr",
     "output_type": "stream",
     "text": [
      "/opt/conda/lib/python3.7/site-packages/ipykernel_launcher.py:3: FutureWarning: Index.__and__ operating as a set operation is deprecated, in the future this will be a logical operation matching Series.__and__.  Use index.intersection(other) instead\n",
      "  This is separate from the ipykernel package so we can avoid doing imports until\n"
     ]
    }
   ],
   "source": [
    "common_words_by_theme = {\n",
    "    i : {\n",
    "        j : len(key_words[j] & key_words[i]) for j in key_words\n",
    "    } for i in key_words\n",
    "}"
   ]
  },
  {
   "cell_type": "code",
   "execution_count": 15,
   "id": "7dd01b67",
   "metadata": {
    "execution": {
     "iopub.execute_input": "2023-01-25T19:22:08.761646Z",
     "iopub.status.busy": "2023-01-25T19:22:08.761196Z",
     "iopub.status.idle": "2023-01-25T19:22:08.768208Z",
     "shell.execute_reply": "2023-01-25T19:22:08.766802Z"
    },
    "id": "Ua78uFHHO5tk",
    "outputId": "086d6fb7-b256-4f96-d93d-0b5f354bddbf",
    "papermill": {
     "duration": 0.017459,
     "end_time": "2023-01-25T19:22:08.771227",
     "exception": false,
     "start_time": "2023-01-25T19:22:08.753768",
     "status": "completed"
    },
    "tags": []
   },
   "outputs": [],
   "source": [
    "def find_similar_themes(theme, threshold = 2, corpus = common_words_by_theme):\n",
    "    sim_theme = []\n",
    "    for i in corpus[theme]:\n",
    "#         print(corpus[theme][i])\n",
    "        if corpus[theme][i] >= threshold:\n",
    "            sim_theme.append((i, corpus[theme][i]))\n",
    "    return sim_theme\n"
   ]
  },
  {
   "cell_type": "code",
   "execution_count": 16,
   "id": "9f49e8c5",
   "metadata": {
    "execution": {
     "iopub.execute_input": "2023-01-25T19:22:08.784836Z",
     "iopub.status.busy": "2023-01-25T19:22:08.784380Z",
     "iopub.status.idle": "2023-01-25T19:22:08.861481Z",
     "shell.execute_reply": "2023-01-25T19:22:08.860046Z"
    },
    "papermill": {
     "duration": 0.087082,
     "end_time": "2023-01-25T19:22:08.864192",
     "exception": false,
     "start_time": "2023-01-25T19:22:08.777110",
     "status": "completed"
    },
    "tags": []
   },
   "outputs": [
    {
     "name": "stdout",
     "output_type": "stream",
     "text": [
      "Average number of 'similar' themes 5.750692520775623 at threshold: 2\n",
      "Average number of 'similar' themes 2.038781163434903 at threshold: 3\n",
      "Average number of 'similar' themes 0.8642659279778393 at threshold: 4\n",
      "Average number of 'similar' themes 0.38227146814404434 at threshold: 5\n"
     ]
    }
   ],
   "source": [
    "\n",
    "for k in range(2,6):\n",
    "    n_similarity = []\n",
    "    for i in themess:\n",
    "        sim_themes = find_similar_themes(i, k)\n",
    "#         print(\"{} {}\".format(i, len(sim_themes)))\n",
    "        n_similarity.append(len(sim_themes) - 1)\n",
    "    #     print(sim_themes)\n",
    "    print(\"Average number of \\'similar\\' themes {} at threshold: {}\".format(sum(n_similarity)/len(n_similarity), k))"
   ]
  }
 ],
 "metadata": {
  "kernelspec": {
   "display_name": "Python 3",
   "language": "python",
   "name": "python3"
  },
  "language_info": {
   "codemirror_mode": {
    "name": "ipython",
    "version": 3
   },
   "file_extension": ".py",
   "mimetype": "text/x-python",
   "name": "python",
   "nbconvert_exporter": "python",
   "pygments_lexer": "ipython3",
   "version": "3.7.12"
  },
  "papermill": {
   "default_parameters": {},
   "duration": 341.048544,
   "end_time": "2023-01-25T19:22:11.993726",
   "environment_variables": {},
   "exception": null,
   "input_path": "__notebook__.ipynb",
   "output_path": "__notebook__.ipynb",
   "parameters": {},
   "start_time": "2023-01-25T19:16:30.945182",
   "version": "2.3.4"
  }
 },
 "nbformat": 4,
 "nbformat_minor": 5
}
