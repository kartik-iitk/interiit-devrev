{
  "cells": [
    {
      "cell_type": "markdown",
      "metadata": {
        "id": "4Z6C19dzsD12"
      },
      "source": [
        "### Prelimniraries\n",
        "1. Mounting Google Drive\n",
        "2. Importing required libraries, I don't really know what I need so I'll add as I go.\n"
      ]
    },
    {
      "cell_type": "code",
      "execution_count": null,
      "metadata": {
        "colab": {
          "base_uri": "https://localhost:8080/"
        },
        "id": "nmdMGU0zpMp1",
        "outputId": "c95edb83-bebb-4655-9193-16f70f08e7fb"
      },
      "outputs": [
        {
          "output_type": "stream",
          "name": "stdout",
          "text": [
            "Drive already mounted at /content/drive; to attempt to forcibly remount, call drive.mount(\"/content/drive\", force_remount=True).\n",
            "ln: failed to create symbolic link '/content/InterIIT/InterIIT': File exists\n"
          ]
        }
      ],
      "source": [
        "#mounting google drive\n",
        "from google.colab import drive\n",
        "drive.mount('/content/drive')\n",
        "!ln -s '/content/drive/My Drive/InterIIT' '/content/InterIIT'"
      ]
    },
    {
      "cell_type": "markdown",
      "metadata": {
        "id": "-imJ_vub0pv5"
      },
      "source": [
        "Downloading Facebook's InferSent"
      ]
    },
    {
      "cell_type": "code",
      "execution_count": null,
      "metadata": {
        "id": "XQVKJj73rKpE",
        "colab": {
          "base_uri": "https://localhost:8080/"
        },
        "outputId": "17c48d6b-a622-45a4-d32b-e3c833e20fc8"
      },
      "outputs": [
        {
          "output_type": "stream",
          "name": "stdout",
          "text": [
            "Looking in indexes: https://pypi.org/simple, https://us-python.pkg.dev/colab-wheels/public/simple/\n",
            "Requirement already satisfied: annoy in /usr/local/lib/python3.8/dist-packages (1.17.1)\n"
          ]
        }
      ],
      "source": [
        "import nltk\n",
        "import pandas as pd\n",
        "from textblob import TextBlob\n",
        "import torch\n",
        "import numpy as np\n",
        "import copy\n",
        "import datetime\n",
        "import os\n",
        "import sys\n",
        "import pickle\n",
        "from collections import namedtuple\n",
        "import datetime\n",
        "import numpy as np\n",
        "!pip install annoy\n",
        "import tensorflow as tf\n",
        "import tensorflow_hub as hub\n",
        "import annoy\n",
        "from sklearn.random_projection import GaussianRandomProjection\n",
        "import torch\n",
        "import pandas as pd"
      ]
    },
    {
      "cell_type": "code",
      "source": [
        "datetime.datetime.now()"
      ],
      "metadata": {
        "colab": {
          "base_uri": "https://localhost:8080/"
        },
        "id": "YdE2JcEydS6c",
        "outputId": "e15b2713-bfaf-4a87-b25e-f698dbeb6b4a"
      },
      "execution_count": null,
      "outputs": [
        {
          "output_type": "execute_result",
          "data": {
            "text/plain": [
              "datetime.datetime(2022, 12, 25, 9, 36, 36, 30013)"
            ]
          },
          "metadata": {},
          "execution_count": 7
        }
      ]
    },
    {
      "cell_type": "code",
      "execution_count": null,
      "metadata": {
        "id": "2uMKWxII0v4R"
      },
      "outputs": [],
      "source": [
        "# !mkdir GloVe\n",
        "# !curl -Lo GloVe/glove.840B.300d.zip http://nlp.stanford.edu/data/glove.840B.300d.zip\n",
        "# !unzip GloVe/glove.840B.300d.zip -d GloVe/\n",
        "# !mkdir fastText\n",
        "# !curl -Lo fastText/crawl-300d-2M.vec.zip https://dl.fbaipublicfiles.com/fasttext/vectors-english/crawl-300d-2M.vec.zip\n",
        "# !unzip fastText/crawl-300d-2M.vec.zip -d fastText/"
      ]
    },
    {
      "cell_type": "code",
      "execution_count": null,
      "metadata": {
        "id": "d3pI1R3s03Ao"
      },
      "outputs": [],
      "source": [
        "# !mkdir encoder\n",
        "# !curl -Lo encoder/infersent1.pkl https://dl.fbaipublicfiles.com/infersent/infersent1.pkl\n",
        "# !curl -Lo encoder/infersent2.pkl https://dl.fbaipublicfiles.com/infersent/infersent2.pkl"
      ]
    },
    {
      "cell_type": "code",
      "execution_count": null,
      "metadata": {
        "colab": {
          "base_uri": "https://localhost:8080/"
        },
        "id": "iTvCYYjj31cT",
        "outputId": "17ec117a-421d-4ed7-92eb-492ea98293cf"
      },
      "outputs": [
        {
          "output_type": "stream",
          "name": "stdout",
          "text": [
            "--2022-12-25 10:10:58--  https://raw.githubusercontent.com/facebookresearch/InferSent/main/models.py\n",
            "Resolving raw.githubusercontent.com (raw.githubusercontent.com)... 185.199.108.133, 185.199.109.133, 185.199.110.133, ...\n",
            "Connecting to raw.githubusercontent.com (raw.githubusercontent.com)|185.199.108.133|:443... connected.\n",
            "HTTP request sent, awaiting response... 200 OK\n",
            "Length: 9875 (9.6K) [text/plain]\n",
            "Saving to: ‘models.py.3’\n",
            "\n",
            "\rmodels.py.3           0%[                    ]       0  --.-KB/s               \rmodels.py.3         100%[===================>]   9.64K  --.-KB/s    in 0s      \n",
            "\n",
            "2022-12-25 10:10:58 (65.0 MB/s) - ‘models.py.3’ saved [9875/9875]\n",
            "\n"
          ]
        }
      ],
      "source": [
        "!wget https://raw.githubusercontent.com/facebookresearch/InferSent/main/models.py"
      ]
    },
    {
      "cell_type": "code",
      "execution_count": null,
      "metadata": {
        "colab": {
          "base_uri": "https://localhost:8080/"
        },
        "id": "aCS9qXC_YT21",
        "outputId": "f88a409d-7836-44ae-a403-d56888fca2cb"
      },
      "outputs": [
        {
          "output_type": "stream",
          "name": "stdout",
          "text": [
            "[nltk_data] Downloading package brown to /root/nltk_data...\n",
            "[nltk_data]   Package brown is already up-to-date!\n",
            "[nltk_data] Downloading package punkt to /root/nltk_data...\n",
            "[nltk_data]   Package punkt is already up-to-date!\n",
            "[nltk_data] Downloading package wordnet to /root/nltk_data...\n",
            "[nltk_data]   Package wordnet is already up-to-date!\n",
            "[nltk_data] Downloading package averaged_perceptron_tagger to\n",
            "[nltk_data]     /root/nltk_data...\n",
            "[nltk_data]   Package averaged_perceptron_tagger is already up-to-\n",
            "[nltk_data]       date!\n",
            "[nltk_data] Downloading package conll2000 to /root/nltk_data...\n",
            "[nltk_data]   Package conll2000 is already up-to-date!\n",
            "[nltk_data] Downloading package movie_reviews to /root/nltk_data...\n",
            "[nltk_data]   Package movie_reviews is already up-to-date!\n",
            "Finished.\n"
          ]
        }
      ],
      "source": [
        "!python -m textblob.download_corpora"
      ]
    },
    {
      "cell_type": "code",
      "execution_count": null,
      "metadata": {
        "id": "6eV_0tDYayXa"
      },
      "outputs": [],
      "source": [
        "# !unzip '/content/drive/MyDrive/InterIIT/fastText/crawl-300d-2M.vec.zip'"
      ]
    },
    {
      "cell_type": "code",
      "execution_count": null,
      "metadata": {
        "id": "8A_zL2Tpa_lV"
      },
      "outputs": [],
      "source": [
        "# !cp -r '/content/crawl-300d-2M.vec' '/content/drive/MyDrive/InterIIT/fastText/crawl-300d-2M.vec'"
      ]
    },
    {
      "cell_type": "markdown",
      "metadata": {
        "id": "MsQ8w_Nq1sSX"
      },
      "source": [
        "InferSent Model Setup"
      ]
    },
    {
      "cell_type": "code",
      "execution_count": null,
      "metadata": {
        "colab": {
          "base_uri": "https://localhost:8080/"
        },
        "id": "nRWPZ5eI1qLT",
        "outputId": "55632ea9-c060-44b0-fcbf-e46207e12991"
      },
      "outputs": [
        {
          "output_type": "execute_result",
          "data": {
            "text/plain": [
              "<All keys matched successfully>"
            ]
          },
          "metadata": {},
          "execution_count": 6
        }
      ],
      "source": [
        "from models import InferSent\n",
        "V = 2\n",
        "MODEL_PATH = '/content/InterIIT/encoder/infersent2.pkl'\n",
        "params_model = {'bsize': 64, 'word_emb_dim': 300, 'enc_lstm_dim': 2048,\n",
        "                'pool_type': 'max', 'dpout_model': 0.0, 'version': V}\n",
        "infersent = InferSent(params_model)\n",
        "infersent.load_state_dict(torch.load(MODEL_PATH))"
      ]
    },
    {
      "cell_type": "code",
      "execution_count": null,
      "metadata": {
        "id": "58-Y9L3y4A9I"
      },
      "outputs": [],
      "source": [
        "W2V_PATH = '/content/InterIIT/fastText/crawl-300d-2M.vec'\n",
        "infersent.set_w2v_path(W2V_PATH)"
      ]
    },
    {
      "cell_type": "code",
      "source": [
        "infersent = infersent.cuda()"
      ],
      "metadata": {
        "id": "QhraqtkI6ocZ"
      },
      "execution_count": null,
      "outputs": []
    },
    {
      "cell_type": "markdown",
      "metadata": {
        "id": "H_ue_bvZsU4a"
      },
      "source": [
        "### Basic EDA"
      ]
    },
    {
      "cell_type": "code",
      "execution_count": null,
      "metadata": {
        "id": "pvv9lJ3hp4MB"
      },
      "outputs": [],
      "source": [
        "basic_dataframe = pd.read_csv('/content/InterIIT/train_data.csv')"
      ]
    },
    {
      "cell_type": "code",
      "execution_count": null,
      "metadata": {
        "id": "KVwAK6N4p7wM"
      },
      "outputs": [],
      "source": [
        "def break_into_sentences(text):\n",
        "  blob = TextBlob(text)\n",
        "  sent = [str(i) for i in blob.sentences]\n",
        "  return sent"
      ]
    },
    {
      "cell_type": "code",
      "execution_count": null,
      "metadata": {
        "colab": {
          "base_uri": "https://localhost:8080/"
        },
        "id": "_VLz9fLWtjYn",
        "outputId": "5d00c3a3-4390-4640-abaa-d4632c3d9969"
      },
      "outputs": [
        {
          "output_type": "execute_result",
          "data": {
            "text/plain": [
              "Index(['Unnamed: 0', 'Theme', 'Paragraph', 'Question', 'Answer_possible',\n",
              "       'Answer_text', 'Answer_start'],\n",
              "      dtype='object')"
            ]
          },
          "metadata": {},
          "execution_count": 11
        }
      ],
      "source": [
        "basic_dataframe.columns"
      ]
    },
    {
      "cell_type": "code",
      "execution_count": null,
      "metadata": {
        "id": "1FoHgNt2tndk"
      },
      "outputs": [],
      "source": [
        "# basic_dataframe[\"tokenized\"] = basic_dataframe.apply(lambda x: break_into_sentences(x['Paragraph']), axis = 1)"
      ]
    },
    {
      "cell_type": "code",
      "source": [
        "unique_para = basic_dataframe[\"Paragraph\"].unique()"
      ],
      "metadata": {
        "id": "mcIrp1dnYXRE"
      },
      "execution_count": null,
      "outputs": []
    },
    {
      "cell_type": "code",
      "source": [
        "len(unique_para)"
      ],
      "metadata": {
        "colab": {
          "base_uri": "https://localhost:8080/"
        },
        "id": "_m2USpfZivN7",
        "outputId": "74372fbe-e41f-4a47-ff5a-2f10b0d59799"
      },
      "execution_count": null,
      "outputs": [
        {
          "output_type": "execute_result",
          "data": {
            "text/plain": [
              "15555"
            ]
          },
          "metadata": {},
          "execution_count": 22
        }
      ]
    },
    {
      "cell_type": "code",
      "source": [
        "t1 = datetime.datetime.now()\n",
        "sentences = []\n",
        "questions = []\n",
        "for i in range(len(unique_para)):\n",
        "  sent = break_into_sentences(unique_para[i])\n",
        "  if i%5000 == 0:\n",
        "    print(i, \"done\")\n",
        "    # print(sent)\n",
        "  sentences += sent\n",
        "for i in range(len(basic_dataframe)):\n",
        "  ques = str(basic_dataframe[\"Question\"].iloc[i])\n",
        "  # if i%50 == 0:\n",
        "    # print(ques)\n",
        "  questions += [ques]\n",
        "t2 = datetime.datetime.now()\n",
        "print(t2 - t1)"
      ],
      "metadata": {
        "colab": {
          "base_uri": "https://localhost:8080/"
        },
        "id": "6JzvmVNRYc9M",
        "outputId": "e5e98097-da0e-4350-c027-b1af06673dab"
      },
      "execution_count": null,
      "outputs": [
        {
          "output_type": "stream",
          "name": "stdout",
          "text": [
            "0 done\n",
            "5000 done\n",
            "10000 done\n",
            "15000 done\n",
            "0:00:08.974595\n"
          ]
        }
      ]
    },
    {
      "cell_type": "code",
      "source": [
        "len(sentences)"
      ],
      "metadata": {
        "colab": {
          "base_uri": "https://localhost:8080/"
        },
        "id": "Ag0Wwp1hYJf1",
        "outputId": "395a6e71-c721-45c9-a4c5-c1bde22c31cb"
      },
      "execution_count": null,
      "outputs": [
        {
          "output_type": "execute_result",
          "data": {
            "text/plain": [
              "77838"
            ]
          },
          "metadata": {},
          "execution_count": 14
        }
      ]
    },
    {
      "cell_type": "code",
      "source": [
        "t1 = datetime.datetime.now()\n",
        "infersent.build_vocab(sentences + questions, tokenize = True)\n",
        "t2 = datetime.datetime.now()\n",
        "print(t2 - t1)"
      ],
      "metadata": {
        "colab": {
          "base_uri": "https://localhost:8080/"
        },
        "id": "LEFoMgCVZJQU",
        "outputId": "95fcc644-808e-4f87-c4dd-6a99855991fc"
      },
      "execution_count": null,
      "outputs": [
        {
          "output_type": "stream",
          "name": "stdout",
          "text": [
            "Found 84735(/103964) words with w2v vectors\n",
            "Vocab size : 84735\n",
            "0:00:46.114807\n"
          ]
        }
      ]
    },
    {
      "cell_type": "code",
      "source": [
        "sent_embeddings = []"
      ],
      "metadata": {
        "id": "wTRZxp4IhFJw"
      },
      "execution_count": null,
      "outputs": []
    },
    {
      "cell_type": "code",
      "source": [
        "len(sentences)/128"
      ],
      "metadata": {
        "colab": {
          "base_uri": "https://localhost:8080/"
        },
        "id": "IS23k8um50t4",
        "outputId": "6091b445-f4e9-44a3-996b-b35016232cff"
      },
      "execution_count": null,
      "outputs": [
        {
          "output_type": "execute_result",
          "data": {
            "text/plain": [
              "608.109375"
            ]
          },
          "metadata": {},
          "execution_count": 17
        }
      ]
    },
    {
      "cell_type": "code",
      "source": [
        "for i in range(0, len(sentences), 128):\n",
        "  sent_embeddings += [infersent.encode(sentences[i:i+128], bsize = 128 ,tokenize = True, verbose = True)]"
      ],
      "metadata": {
        "colab": {
          "base_uri": "https://localhost:8080/"
        },
        "id": "tZ-19FNT5ICG",
        "outputId": "8ba1cbdd-0939-4990-dcd5-1e54cc3f4137"
      },
      "execution_count": null,
      "outputs": [
        {
          "output_type": "stream",
          "name": "stdout",
          "text": [
            "Nb words kept : 3757/3894 (96.5%)\n"
          ]
        },
        {
          "output_type": "stream",
          "name": "stderr",
          "text": [
            "/content/models.py:207: VisibleDeprecationWarning: Creating an ndarray from ragged nested sequences (which is a list-or-tuple of lists-or-tuples-or ndarrays with different lengths or shapes) is deprecated. If you meant to do this, you must specify 'dtype=object' when creating the ndarray.\n",
            "  sentences = np.array(sentences)[idx_sort]\n"
          ]
        },
        {
          "output_type": "stream",
          "name": "stdout",
          "text": [
            "Speed : 141.6 sentences/s (gpu mode, bsize=128)\n",
            "Nb words kept : 3653/3793 (96.3%)\n",
            "Speed : 722.0 sentences/s (gpu mode, bsize=128)\n",
            "Nb words kept : 3996/4140 (96.5%)\n",
            "Speed : 721.2 sentences/s (gpu mode, bsize=128)\n",
            "Nb words kept : 3545/3645 (97.3%)\n",
            "Speed : 878.2 sentences/s (gpu mode, bsize=128)\n",
            "Nb words kept : 3332/3408 (97.8%)\n",
            "Speed : 807.3 sentences/s (gpu mode, bsize=128)\n",
            "Nb words kept : 2942/3008 (97.8%)\n",
            "Speed : 989.1 sentences/s (gpu mode, bsize=128)\n",
            "Nb words kept : 4511/4711 (95.8%)\n",
            "Speed : 662.6 sentences/s (gpu mode, bsize=128)\n",
            "Nb words kept : 4555/4780 (95.3%)\n",
            "Speed : 675.7 sentences/s (gpu mode, bsize=128)\n",
            "Nb words kept : 4129/4290 (96.2%)\n",
            "Speed : 726.0 sentences/s (gpu mode, bsize=128)\n",
            "Nb words kept : 3449/3504 (98.4%)\n",
            "Speed : 974.4 sentences/s (gpu mode, bsize=128)\n",
            "Nb words kept : 3702/3736 (99.1%)\n",
            "Speed : 854.4 sentences/s (gpu mode, bsize=128)\n",
            "Nb words kept : 4081/4164 (98.0%)\n",
            "Speed : 690.2 sentences/s (gpu mode, bsize=128)\n",
            "Nb words kept : 3904/3930 (99.3%)\n",
            "Speed : 674.6 sentences/s (gpu mode, bsize=128)\n",
            "Nb words kept : 4443/4515 (98.4%)\n",
            "Speed : 551.6 sentences/s (gpu mode, bsize=128)\n",
            "Nb words kept : 4064/4083 (99.5%)\n",
            "Speed : 608.7 sentences/s (gpu mode, bsize=128)\n",
            "Nb words kept : 4173/4215 (99.0%)\n",
            "Speed : 700.9 sentences/s (gpu mode, bsize=128)\n",
            "Nb words kept : 3303/3356 (98.4%)\n",
            "Speed : 1003.1 sentences/s (gpu mode, bsize=128)\n",
            "Nb words kept : 4151/4249 (97.7%)\n",
            "Speed : 731.2 sentences/s (gpu mode, bsize=128)\n",
            "Nb words kept : 3734/3843 (97.2%)\n",
            "Speed : 762.8 sentences/s (gpu mode, bsize=128)\n",
            "Nb words kept : 3355/3399 (98.7%)\n",
            "Speed : 893.3 sentences/s (gpu mode, bsize=128)\n",
            "Nb words kept : 3385/3429 (98.7%)\n",
            "Speed : 959.4 sentences/s (gpu mode, bsize=128)\n",
            "Nb words kept : 3917/4019 (97.5%)\n",
            "Speed : 761.7 sentences/s (gpu mode, bsize=128)\n",
            "Nb words kept : 3832/3936 (97.4%)\n",
            "Speed : 765.4 sentences/s (gpu mode, bsize=128)\n",
            "Nb words kept : 3686/3825 (96.4%)\n",
            "Speed : 742.7 sentences/s (gpu mode, bsize=128)\n",
            "Nb words kept : 3514/3624 (97.0%)\n",
            "Speed : 820.6 sentences/s (gpu mode, bsize=128)\n",
            "Nb words kept : 3335/3479 (95.9%)\n",
            "Speed : 871.4 sentences/s (gpu mode, bsize=128)\n",
            "Nb words kept : 3416/3528 (96.8%)\n",
            "Speed : 797.2 sentences/s (gpu mode, bsize=128)\n",
            "Nb words kept : 3295/3378 (97.5%)\n",
            "Speed : 865.8 sentences/s (gpu mode, bsize=128)\n",
            "Nb words kept : 3635/3693 (98.4%)\n",
            "Speed : 675.8 sentences/s (gpu mode, bsize=128)\n",
            "Nb words kept : 3370/3420 (98.5%)\n",
            "Speed : 938.5 sentences/s (gpu mode, bsize=128)\n",
            "Nb words kept : 3073/3134 (98.1%)\n",
            "Speed : 984.7 sentences/s (gpu mode, bsize=128)\n",
            "Nb words kept : 4278/4370 (97.9%)\n",
            "Speed : 618.2 sentences/s (gpu mode, bsize=128)\n",
            "Nb words kept : 3459/3535 (97.9%)\n",
            "Speed : 791.2 sentences/s (gpu mode, bsize=128)\n",
            "Nb words kept : 3700/3757 (98.5%)\n",
            "Speed : 746.7 sentences/s (gpu mode, bsize=128)\n",
            "Nb words kept : 3523/3567 (98.8%)\n",
            "Speed : 889.8 sentences/s (gpu mode, bsize=128)\n",
            "Nb words kept : 3666/3784 (96.9%)\n",
            "Speed : 897.1 sentences/s (gpu mode, bsize=128)\n",
            "Nb words kept : 3341/3420 (97.7%)\n",
            "Speed : 871.6 sentences/s (gpu mode, bsize=128)\n",
            "Nb words kept : 3645/3778 (96.5%)\n",
            "Speed : 854.8 sentences/s (gpu mode, bsize=128)\n",
            "Nb words kept : 3436/3497 (98.3%)\n",
            "Speed : 869.0 sentences/s (gpu mode, bsize=128)\n",
            "Nb words kept : 3417/3487 (98.0%)\n",
            "Speed : 937.9 sentences/s (gpu mode, bsize=128)\n",
            "Nb words kept : 3708/3801 (97.6%)\n",
            "Speed : 647.4 sentences/s (gpu mode, bsize=128)\n",
            "Nb words kept : 2853/2891 (98.7%)\n",
            "Speed : 819.3 sentences/s (gpu mode, bsize=128)\n",
            "Nb words kept : 3525/3605 (97.8%)\n",
            "Speed : 892.8 sentences/s (gpu mode, bsize=128)\n",
            "Nb words kept : 3382/3454 (97.9%)\n",
            "Speed : 965.3 sentences/s (gpu mode, bsize=128)\n",
            "Nb words kept : 3320/3398 (97.7%)\n",
            "Speed : 939.5 sentences/s (gpu mode, bsize=128)\n",
            "Nb words kept : 3074/3095 (99.3%)\n",
            "Speed : 963.6 sentences/s (gpu mode, bsize=128)\n",
            "Nb words kept : 3278/3331 (98.4%)\n",
            "Speed : 831.5 sentences/s (gpu mode, bsize=128)\n",
            "Nb words kept : 3397/3457 (98.3%)\n",
            "Speed : 935.5 sentences/s (gpu mode, bsize=128)\n",
            "Nb words kept : 3583/3601 (99.5%)\n",
            "Speed : 867.1 sentences/s (gpu mode, bsize=128)\n",
            "Nb words kept : 3749/3815 (98.3%)\n",
            "Speed : 814.6 sentences/s (gpu mode, bsize=128)\n",
            "Nb words kept : 3296/3334 (98.9%)\n",
            "Speed : 868.5 sentences/s (gpu mode, bsize=128)\n",
            "Nb words kept : 3406/3465 (98.3%)\n",
            "Speed : 842.3 sentences/s (gpu mode, bsize=128)\n",
            "Nb words kept : 3577/3632 (98.5%)\n",
            "Speed : 853.5 sentences/s (gpu mode, bsize=128)\n",
            "Nb words kept : 3685/3744 (98.4%)\n",
            "Speed : 790.0 sentences/s (gpu mode, bsize=128)\n",
            "Nb words kept : 3255/3285 (99.1%)\n",
            "Speed : 942.7 sentences/s (gpu mode, bsize=128)\n",
            "Nb words kept : 3514/3691 (95.2%)\n",
            "Speed : 791.0 sentences/s (gpu mode, bsize=128)\n",
            "Nb words kept : 3578/3619 (98.9%)\n",
            "Speed : 902.9 sentences/s (gpu mode, bsize=128)\n",
            "Nb words kept : 3743/3824 (97.9%)\n",
            "Speed : 802.2 sentences/s (gpu mode, bsize=128)\n",
            "Nb words kept : 3569/3606 (99.0%)\n",
            "Speed : 571.7 sentences/s (gpu mode, bsize=128)\n",
            "Nb words kept : 3761/3831 (98.2%)\n",
            "Speed : 736.6 sentences/s (gpu mode, bsize=128)\n",
            "Nb words kept : 3729/3805 (98.0%)\n",
            "Speed : 862.3 sentences/s (gpu mode, bsize=128)\n",
            "Nb words kept : 3859/3941 (97.9%)\n",
            "Speed : 762.4 sentences/s (gpu mode, bsize=128)\n",
            "Nb words kept : 3687/3743 (98.5%)\n",
            "Speed : 608.3 sentences/s (gpu mode, bsize=128)\n",
            "Nb words kept : 3763/3808 (98.8%)\n",
            "Speed : 823.6 sentences/s (gpu mode, bsize=128)\n",
            "Nb words kept : 3484/3577 (97.4%)\n",
            "Speed : 783.8 sentences/s (gpu mode, bsize=128)\n",
            "Nb words kept : 3817/3866 (98.7%)\n",
            "Speed : 639.7 sentences/s (gpu mode, bsize=128)\n",
            "Nb words kept : 3372/3429 (98.3%)\n",
            "Speed : 818.8 sentences/s (gpu mode, bsize=128)\n",
            "Nb words kept : 3253/3425 (95.0%)\n",
            "Speed : 968.9 sentences/s (gpu mode, bsize=128)\n",
            "Nb words kept : 3475/3543 (98.1%)\n",
            "Speed : 775.8 sentences/s (gpu mode, bsize=128)\n",
            "Nb words kept : 3742/3805 (98.3%)\n",
            "Speed : 778.5 sentences/s (gpu mode, bsize=128)\n",
            "Nb words kept : 4009/4059 (98.8%)\n",
            "Speed : 731.2 sentences/s (gpu mode, bsize=128)\n",
            "Nb words kept : 3403/3510 (97.0%)\n",
            "Speed : 908.9 sentences/s (gpu mode, bsize=128)\n",
            "Nb words kept : 3838/3935 (97.5%)\n",
            "Speed : 661.9 sentences/s (gpu mode, bsize=128)\n",
            "Nb words kept : 3537/3585 (98.7%)\n",
            "Speed : 778.9 sentences/s (gpu mode, bsize=128)\n",
            "Nb words kept : 3770/3846 (98.0%)\n",
            "Speed : 662.2 sentences/s (gpu mode, bsize=128)\n",
            "Nb words kept : 3761/3799 (99.0%)\n",
            "Speed : 780.9 sentences/s (gpu mode, bsize=128)\n",
            "Nb words kept : 3600/3664 (98.3%)\n",
            "Speed : 849.7 sentences/s (gpu mode, bsize=128)\n",
            "Nb words kept : 3726/3778 (98.6%)\n",
            "Speed : 669.4 sentences/s (gpu mode, bsize=128)\n",
            "Nb words kept : 3726/3856 (96.6%)\n",
            "Speed : 698.7 sentences/s (gpu mode, bsize=128)\n",
            "Nb words kept : 3763/3803 (98.9%)\n",
            "Speed : 856.9 sentences/s (gpu mode, bsize=128)\n",
            "Nb words kept : 3829/3909 (98.0%)\n",
            "Speed : 690.3 sentences/s (gpu mode, bsize=128)\n",
            "Nb words kept : 3510/3543 (99.1%)\n",
            "Speed : 783.4 sentences/s (gpu mode, bsize=128)\n",
            "Nb words kept : 3565/3612 (98.7%)\n",
            "Speed : 807.4 sentences/s (gpu mode, bsize=128)\n",
            "Nb words kept : 3593/3653 (98.4%)\n",
            "Speed : 761.6 sentences/s (gpu mode, bsize=128)\n",
            "Nb words kept : 3547/3589 (98.8%)\n",
            "Speed : 838.1 sentences/s (gpu mode, bsize=128)\n",
            "Nb words kept : 3460/3543 (97.7%)\n",
            "Speed : 745.9 sentences/s (gpu mode, bsize=128)\n",
            "Nb words kept : 3702/3771 (98.2%)\n",
            "Speed : 671.6 sentences/s (gpu mode, bsize=128)\n",
            "Nb words kept : 3462/3485 (99.3%)\n",
            "Speed : 807.7 sentences/s (gpu mode, bsize=128)\n",
            "Nb words kept : 3976/4030 (98.7%)\n",
            "Speed : 552.7 sentences/s (gpu mode, bsize=128)\n",
            "Nb words kept : 3944/4003 (98.5%)\n",
            "Speed : 685.0 sentences/s (gpu mode, bsize=128)\n",
            "Nb words kept : 3689/3759 (98.1%)\n",
            "Speed : 815.2 sentences/s (gpu mode, bsize=128)\n",
            "Nb words kept : 3875/3988 (97.2%)\n",
            "Speed : 666.2 sentences/s (gpu mode, bsize=128)\n",
            "Nb words kept : 3382/3524 (96.0%)\n",
            "Speed : 532.1 sentences/s (gpu mode, bsize=128)\n",
            "Nb words kept : 3627/3666 (98.9%)\n",
            "Speed : 770.6 sentences/s (gpu mode, bsize=128)\n",
            "Nb words kept : 3360/3426 (98.1%)\n",
            "Speed : 905.7 sentences/s (gpu mode, bsize=128)\n",
            "Nb words kept : 3699/3762 (98.3%)\n",
            "Speed : 579.8 sentences/s (gpu mode, bsize=128)\n",
            "Nb words kept : 3551/3637 (97.6%)\n",
            "Speed : 496.5 sentences/s (gpu mode, bsize=128)\n",
            "Nb words kept : 3249/3326 (97.7%)\n",
            "Speed : 981.0 sentences/s (gpu mode, bsize=128)\n",
            "Nb words kept : 3237/3399 (95.2%)\n",
            "Speed : 676.2 sentences/s (gpu mode, bsize=128)\n",
            "Nb words kept : 3784/3962 (95.5%)\n",
            "Speed : 754.6 sentences/s (gpu mode, bsize=128)\n",
            "Nb words kept : 3807/3894 (97.8%)\n",
            "Speed : 797.7 sentences/s (gpu mode, bsize=128)\n",
            "Nb words kept : 3725/3806 (97.9%)\n",
            "Speed : 787.9 sentences/s (gpu mode, bsize=128)\n",
            "Nb words kept : 3821/3844 (99.4%)\n",
            "Speed : 821.0 sentences/s (gpu mode, bsize=128)\n",
            "Nb words kept : 3959/4021 (98.5%)\n",
            "Speed : 785.8 sentences/s (gpu mode, bsize=128)\n",
            "Nb words kept : 2971/3020 (98.4%)\n",
            "Speed : 1147.7 sentences/s (gpu mode, bsize=128)\n",
            "Nb words kept : 3366/3409 (98.7%)\n",
            "Speed : 908.3 sentences/s (gpu mode, bsize=128)\n",
            "Nb words kept : 2895/2964 (97.7%)\n",
            "Speed : 1052.1 sentences/s (gpu mode, bsize=128)\n",
            "Nb words kept : 3042/3103 (98.0%)\n",
            "Speed : 1048.8 sentences/s (gpu mode, bsize=128)\n",
            "Nb words kept : 3638/3660 (99.4%)\n",
            "Speed : 848.7 sentences/s (gpu mode, bsize=128)\n",
            "Nb words kept : 3875/3905 (99.2%)\n",
            "Speed : 772.5 sentences/s (gpu mode, bsize=128)\n",
            "Nb words kept : 3573/3642 (98.1%)\n",
            "Speed : 820.9 sentences/s (gpu mode, bsize=128)\n",
            "Nb words kept : 3049/3143 (97.0%)\n",
            "Speed : 990.1 sentences/s (gpu mode, bsize=128)\n",
            "Nb words kept : 3462/3536 (97.9%)\n",
            "Speed : 834.6 sentences/s (gpu mode, bsize=128)\n",
            "Nb words kept : 3366/3451 (97.5%)\n",
            "Speed : 835.7 sentences/s (gpu mode, bsize=128)\n",
            "Nb words kept : 4006/4103 (97.6%)\n",
            "Speed : 713.8 sentences/s (gpu mode, bsize=128)\n",
            "Nb words kept : 3869/3932 (98.4%)\n",
            "Speed : 724.0 sentences/s (gpu mode, bsize=128)\n",
            "Nb words kept : 3559/3596 (99.0%)\n",
            "Speed : 875.3 sentences/s (gpu mode, bsize=128)\n",
            "Nb words kept : 3369/3422 (98.5%)\n",
            "Speed : 759.1 sentences/s (gpu mode, bsize=128)\n",
            "Nb words kept : 3600/3668 (98.1%)\n",
            "Speed : 753.5 sentences/s (gpu mode, bsize=128)\n",
            "Nb words kept : 3161/3214 (98.4%)\n",
            "Speed : 975.9 sentences/s (gpu mode, bsize=128)\n",
            "Nb words kept : 3484/3524 (98.9%)\n",
            "Speed : 848.4 sentences/s (gpu mode, bsize=128)\n",
            "Nb words kept : 3574/3608 (99.1%)\n",
            "Speed : 941.1 sentences/s (gpu mode, bsize=128)\n",
            "Nb words kept : 3672/3702 (99.2%)\n",
            "Speed : 881.5 sentences/s (gpu mode, bsize=128)\n",
            "Nb words kept : 3616/3645 (99.2%)\n",
            "Speed : 859.4 sentences/s (gpu mode, bsize=128)\n",
            "Nb words kept : 3773/3831 (98.5%)\n",
            "Speed : 778.0 sentences/s (gpu mode, bsize=128)\n",
            "Nb words kept : 3372/3421 (98.6%)\n",
            "Speed : 832.7 sentences/s (gpu mode, bsize=128)\n",
            "Nb words kept : 3424/3456 (99.1%)\n",
            "Speed : 929.2 sentences/s (gpu mode, bsize=128)\n",
            "Nb words kept : 3317/3416 (97.1%)\n",
            "Speed : 946.2 sentences/s (gpu mode, bsize=128)\n",
            "Nb words kept : 3900/4039 (96.6%)\n",
            "Speed : 777.3 sentences/s (gpu mode, bsize=128)\n",
            "Nb words kept : 3821/3870 (98.7%)\n",
            "Speed : 757.8 sentences/s (gpu mode, bsize=128)\n",
            "Nb words kept : 3343/3389 (98.6%)\n",
            "Speed : 805.2 sentences/s (gpu mode, bsize=128)\n",
            "Nb words kept : 3158/3206 (98.5%)\n",
            "Speed : 1033.7 sentences/s (gpu mode, bsize=128)\n",
            "Nb words kept : 3374/3417 (98.7%)\n",
            "Speed : 641.9 sentences/s (gpu mode, bsize=128)\n",
            "Nb words kept : 3751/3830 (97.9%)\n",
            "Speed : 743.7 sentences/s (gpu mode, bsize=128)\n",
            "Nb words kept : 3571/3656 (97.7%)\n",
            "Speed : 797.2 sentences/s (gpu mode, bsize=128)\n",
            "Nb words kept : 3936/4040 (97.4%)\n",
            "Speed : 727.1 sentences/s (gpu mode, bsize=128)\n",
            "Nb words kept : 3806/3988 (95.4%)\n",
            "Speed : 632.7 sentences/s (gpu mode, bsize=128)\n",
            "Nb words kept : 3816/3887 (98.2%)\n",
            "Speed : 593.1 sentences/s (gpu mode, bsize=128)\n",
            "Nb words kept : 3593/3633 (98.9%)\n",
            "Speed : 864.7 sentences/s (gpu mode, bsize=128)\n",
            "Nb words kept : 3416/3465 (98.6%)\n",
            "Speed : 993.3 sentences/s (gpu mode, bsize=128)\n",
            "Nb words kept : 3499/3559 (98.3%)\n",
            "Speed : 749.6 sentences/s (gpu mode, bsize=128)\n",
            "Nb words kept : 3497/3545 (98.6%)\n",
            "Speed : 800.8 sentences/s (gpu mode, bsize=128)\n",
            "Nb words kept : 3243/3295 (98.4%)\n",
            "Speed : 926.5 sentences/s (gpu mode, bsize=128)\n",
            "Nb words kept : 3461/3510 (98.6%)\n",
            "Speed : 925.4 sentences/s (gpu mode, bsize=128)\n",
            "Nb words kept : 3563/3602 (98.9%)\n",
            "Speed : 846.6 sentences/s (gpu mode, bsize=128)\n",
            "Nb words kept : 3777/3847 (98.2%)\n",
            "Speed : 639.8 sentences/s (gpu mode, bsize=128)\n",
            "Nb words kept : 3222/3284 (98.1%)\n",
            "Speed : 804.9 sentences/s (gpu mode, bsize=128)\n",
            "Nb words kept : 3106/3152 (98.5%)\n",
            "Speed : 725.2 sentences/s (gpu mode, bsize=128)\n",
            "Nb words kept : 4021/4097 (98.1%)\n",
            "Speed : 771.0 sentences/s (gpu mode, bsize=128)\n",
            "Nb words kept : 3947/4030 (97.9%)\n",
            "Speed : 672.2 sentences/s (gpu mode, bsize=128)\n",
            "Nb words kept : 3408/3460 (98.5%)\n",
            "Speed : 792.1 sentences/s (gpu mode, bsize=128)\n",
            "Nb words kept : 3539/3615 (97.9%)\n",
            "Speed : 870.6 sentences/s (gpu mode, bsize=128)\n",
            "Nb words kept : 4215/4356 (96.8%)\n",
            "Speed : 636.1 sentences/s (gpu mode, bsize=128)\n",
            "Nb words kept : 3143/3203 (98.1%)\n",
            "Speed : 719.7 sentences/s (gpu mode, bsize=128)\n",
            "Nb words kept : 3297/3356 (98.2%)\n",
            "Speed : 897.7 sentences/s (gpu mode, bsize=128)\n",
            "Nb words kept : 3376/3414 (98.9%)\n",
            "Speed : 699.4 sentences/s (gpu mode, bsize=128)\n",
            "Nb words kept : 3915/3987 (98.2%)\n",
            "Speed : 700.0 sentences/s (gpu mode, bsize=128)\n",
            "Nb words kept : 3671/3720 (98.7%)\n",
            "Speed : 840.0 sentences/s (gpu mode, bsize=128)\n",
            "Nb words kept : 3724/3773 (98.7%)\n",
            "Speed : 815.2 sentences/s (gpu mode, bsize=128)\n",
            "Nb words kept : 3703/3754 (98.6%)\n",
            "Speed : 767.4 sentences/s (gpu mode, bsize=128)\n",
            "Nb words kept : 3375/3410 (99.0%)\n",
            "Speed : 904.4 sentences/s (gpu mode, bsize=128)\n",
            "Nb words kept : 3766/3804 (99.0%)\n",
            "Speed : 801.5 sentences/s (gpu mode, bsize=128)\n",
            "Nb words kept : 3929/3993 (98.4%)\n",
            "Speed : 800.3 sentences/s (gpu mode, bsize=128)\n",
            "Nb words kept : 3828/3860 (99.2%)\n",
            "Speed : 809.7 sentences/s (gpu mode, bsize=128)\n",
            "Nb words kept : 3896/3924 (99.3%)\n",
            "Speed : 782.7 sentences/s (gpu mode, bsize=128)\n",
            "Nb words kept : 3662/3719 (98.5%)\n",
            "Speed : 848.9 sentences/s (gpu mode, bsize=128)\n",
            "Nb words kept : 3529/3641 (96.9%)\n",
            "Speed : 902.3 sentences/s (gpu mode, bsize=128)\n",
            "Nb words kept : 3021/3041 (99.3%)\n",
            "Speed : 1058.2 sentences/s (gpu mode, bsize=128)\n",
            "Nb words kept : 3100/3148 (98.5%)\n",
            "Speed : 866.7 sentences/s (gpu mode, bsize=128)\n",
            "Nb words kept : 3689/3759 (98.1%)\n",
            "Speed : 838.3 sentences/s (gpu mode, bsize=128)\n",
            "Nb words kept : 3782/3839 (98.5%)\n",
            "Speed : 888.1 sentences/s (gpu mode, bsize=128)\n",
            "Nb words kept : 3758/3798 (98.9%)\n",
            "Speed : 752.0 sentences/s (gpu mode, bsize=128)\n",
            "Nb words kept : 3942/3965 (99.4%)\n",
            "Speed : 629.3 sentences/s (gpu mode, bsize=128)\n",
            "Nb words kept : 3822/3845 (99.4%)\n",
            "Speed : 629.9 sentences/s (gpu mode, bsize=128)\n",
            "Nb words kept : 3673/3720 (98.7%)\n",
            "Speed : 877.8 sentences/s (gpu mode, bsize=128)\n",
            "Nb words kept : 4126/4184 (98.6%)\n",
            "Speed : 743.0 sentences/s (gpu mode, bsize=128)\n",
            "Nb words kept : 3748/3782 (99.1%)\n",
            "Speed : 848.5 sentences/s (gpu mode, bsize=128)\n",
            "Nb words kept : 3894/3965 (98.2%)\n",
            "Speed : 872.2 sentences/s (gpu mode, bsize=128)\n",
            "Nb words kept : 3796/3871 (98.1%)\n",
            "Speed : 846.1 sentences/s (gpu mode, bsize=128)\n",
            "Nb words kept : 4127/4172 (98.9%)\n",
            "Speed : 710.3 sentences/s (gpu mode, bsize=128)\n",
            "Nb words kept : 4110/4188 (98.1%)\n",
            "Speed : 488.1 sentences/s (gpu mode, bsize=128)\n",
            "Nb words kept : 4060/4120 (98.5%)\n",
            "Speed : 719.7 sentences/s (gpu mode, bsize=128)\n",
            "Nb words kept : 3893/3935 (98.9%)\n",
            "Speed : 672.2 sentences/s (gpu mode, bsize=128)\n",
            "Nb words kept : 3717/3756 (99.0%)\n",
            "Speed : 815.7 sentences/s (gpu mode, bsize=128)\n",
            "Nb words kept : 3589/3636 (98.7%)\n",
            "Speed : 914.0 sentences/s (gpu mode, bsize=128)\n",
            "Nb words kept : 3821/3859 (99.0%)\n",
            "Speed : 841.2 sentences/s (gpu mode, bsize=128)\n",
            "Nb words kept : 3471/3490 (99.5%)\n",
            "Speed : 925.4 sentences/s (gpu mode, bsize=128)\n",
            "Nb words kept : 3383/3406 (99.3%)\n",
            "Speed : 916.7 sentences/s (gpu mode, bsize=128)\n",
            "Nb words kept : 3620/3652 (99.1%)\n",
            "Speed : 901.9 sentences/s (gpu mode, bsize=128)\n",
            "Nb words kept : 3525/3556 (99.1%)\n",
            "Speed : 954.2 sentences/s (gpu mode, bsize=128)\n",
            "Nb words kept : 3623/3685 (98.3%)\n",
            "Speed : 843.4 sentences/s (gpu mode, bsize=128)\n",
            "Nb words kept : 3567/3622 (98.5%)\n",
            "Speed : 849.2 sentences/s (gpu mode, bsize=128)\n",
            "Nb words kept : 3319/3407 (97.4%)\n",
            "Speed : 944.8 sentences/s (gpu mode, bsize=128)\n",
            "Nb words kept : 3269/3326 (98.3%)\n",
            "Speed : 998.1 sentences/s (gpu mode, bsize=128)\n",
            "Nb words kept : 3941/4010 (98.3%)\n",
            "Speed : 738.9 sentences/s (gpu mode, bsize=128)\n",
            "Nb words kept : 3440/3484 (98.7%)\n",
            "Speed : 877.2 sentences/s (gpu mode, bsize=128)\n",
            "Nb words kept : 3917/3973 (98.6%)\n",
            "Speed : 757.0 sentences/s (gpu mode, bsize=128)\n",
            "Nb words kept : 3917/3974 (98.6%)\n",
            "Speed : 766.3 sentences/s (gpu mode, bsize=128)\n",
            "Nb words kept : 3906/3959 (98.7%)\n",
            "Speed : 747.9 sentences/s (gpu mode, bsize=128)\n",
            "Nb words kept : 4044/4111 (98.4%)\n",
            "Speed : 652.2 sentences/s (gpu mode, bsize=128)\n",
            "Nb words kept : 3689/3752 (98.3%)\n",
            "Speed : 719.8 sentences/s (gpu mode, bsize=128)\n",
            "Nb words kept : 3580/3654 (98.0%)\n",
            "Speed : 912.3 sentences/s (gpu mode, bsize=128)\n",
            "Nb words kept : 3862/3917 (98.6%)\n",
            "Speed : 680.3 sentences/s (gpu mode, bsize=128)\n",
            "Nb words kept : 4029/4092 (98.5%)\n",
            "Speed : 682.9 sentences/s (gpu mode, bsize=128)\n",
            "Nb words kept : 3462/3498 (99.0%)\n",
            "Speed : 796.8 sentences/s (gpu mode, bsize=128)\n",
            "Nb words kept : 3482/3509 (99.2%)\n",
            "Speed : 903.7 sentences/s (gpu mode, bsize=128)\n",
            "Nb words kept : 3568/3631 (98.3%)\n",
            "Speed : 970.6 sentences/s (gpu mode, bsize=128)\n",
            "Nb words kept : 3822/3893 (98.2%)\n",
            "Speed : 693.4 sentences/s (gpu mode, bsize=128)\n",
            "Nb words kept : 4369/4431 (98.6%)\n",
            "Speed : 529.2 sentences/s (gpu mode, bsize=128)\n",
            "Nb words kept : 4124/4185 (98.5%)\n",
            "Speed : 712.6 sentences/s (gpu mode, bsize=128)\n",
            "Nb words kept : 4019/4048 (99.3%)\n",
            "Speed : 773.7 sentences/s (gpu mode, bsize=128)\n",
            "Nb words kept : 3454/3518 (98.2%)\n",
            "Speed : 779.7 sentences/s (gpu mode, bsize=128)\n",
            "Nb words kept : 3371/3438 (98.1%)\n",
            "Speed : 993.6 sentences/s (gpu mode, bsize=128)\n",
            "Nb words kept : 3838/3978 (96.5%)\n",
            "Speed : 778.6 sentences/s (gpu mode, bsize=128)\n",
            "Nb words kept : 3501/3579 (97.8%)\n",
            "Speed : 946.3 sentences/s (gpu mode, bsize=128)\n",
            "Nb words kept : 3516/3571 (98.5%)\n",
            "Speed : 900.7 sentences/s (gpu mode, bsize=128)\n",
            "Nb words kept : 3397/3490 (97.3%)\n",
            "Speed : 956.7 sentences/s (gpu mode, bsize=128)\n",
            "Nb words kept : 3786/3842 (98.5%)\n",
            "Speed : 876.1 sentences/s (gpu mode, bsize=128)\n",
            "Nb words kept : 3661/3684 (99.4%)\n",
            "Speed : 841.4 sentences/s (gpu mode, bsize=128)\n",
            "Nb words kept : 3455/3500 (98.7%)\n",
            "Speed : 963.0 sentences/s (gpu mode, bsize=128)\n",
            "Nb words kept : 3424/3449 (99.3%)\n",
            "Speed : 905.4 sentences/s (gpu mode, bsize=128)\n",
            "Nb words kept : 3626/3679 (98.6%)\n",
            "Speed : 895.6 sentences/s (gpu mode, bsize=128)\n",
            "Nb words kept : 3640/3690 (98.6%)\n",
            "Speed : 1033.7 sentences/s (gpu mode, bsize=128)\n",
            "Nb words kept : 3310/3371 (98.2%)\n",
            "Speed : 878.9 sentences/s (gpu mode, bsize=128)\n",
            "Nb words kept : 3653/3687 (99.1%)\n",
            "Speed : 845.5 sentences/s (gpu mode, bsize=128)\n",
            "Nb words kept : 3829/3898 (98.2%)\n",
            "Speed : 728.8 sentences/s (gpu mode, bsize=128)\n",
            "Nb words kept : 3667/3770 (97.3%)\n",
            "Speed : 878.1 sentences/s (gpu mode, bsize=128)\n",
            "Nb words kept : 3693/3809 (97.0%)\n",
            "Speed : 875.5 sentences/s (gpu mode, bsize=128)\n",
            "Nb words kept : 3295/3390 (97.2%)\n",
            "Speed : 983.5 sentences/s (gpu mode, bsize=128)\n",
            "Nb words kept : 3598/3634 (99.0%)\n",
            "Speed : 945.9 sentences/s (gpu mode, bsize=128)\n",
            "Nb words kept : 3464/3516 (98.5%)\n",
            "Speed : 961.6 sentences/s (gpu mode, bsize=128)\n",
            "Nb words kept : 3256/3314 (98.2%)\n",
            "Speed : 959.2 sentences/s (gpu mode, bsize=128)\n",
            "Nb words kept : 3987/4053 (98.4%)\n",
            "Speed : 812.7 sentences/s (gpu mode, bsize=128)\n",
            "Nb words kept : 3614/3691 (97.9%)\n",
            "Speed : 922.5 sentences/s (gpu mode, bsize=128)\n",
            "Nb words kept : 4025/4076 (98.7%)\n",
            "Speed : 708.3 sentences/s (gpu mode, bsize=128)\n",
            "Nb words kept : 3656/3765 (97.1%)\n",
            "Speed : 730.6 sentences/s (gpu mode, bsize=128)\n",
            "Nb words kept : 3412/3498 (97.5%)\n",
            "Speed : 873.9 sentences/s (gpu mode, bsize=128)\n",
            "Nb words kept : 4010/4069 (98.6%)\n",
            "Speed : 727.0 sentences/s (gpu mode, bsize=128)\n",
            "Nb words kept : 3794/3862 (98.2%)\n",
            "Speed : 635.3 sentences/s (gpu mode, bsize=128)\n",
            "Nb words kept : 4153/4217 (98.5%)\n",
            "Speed : 655.0 sentences/s (gpu mode, bsize=128)\n",
            "Nb words kept : 4309/4348 (99.1%)\n",
            "Speed : 756.6 sentences/s (gpu mode, bsize=128)\n",
            "Nb words kept : 3851/3895 (98.9%)\n",
            "Speed : 715.5 sentences/s (gpu mode, bsize=128)\n",
            "Nb words kept : 3812/3911 (97.5%)\n",
            "Speed : 631.9 sentences/s (gpu mode, bsize=128)\n",
            "Nb words kept : 4052/4120 (98.3%)\n",
            "Speed : 741.9 sentences/s (gpu mode, bsize=128)\n",
            "Nb words kept : 4022/4120 (97.6%)\n",
            "Speed : 688.2 sentences/s (gpu mode, bsize=128)\n",
            "Nb words kept : 3512/3544 (99.1%)\n",
            "Speed : 943.6 sentences/s (gpu mode, bsize=128)\n",
            "Nb words kept : 3552/3666 (96.9%)\n",
            "Speed : 764.9 sentences/s (gpu mode, bsize=128)\n",
            "Nb words kept : 3902/4012 (97.3%)\n",
            "Speed : 655.6 sentences/s (gpu mode, bsize=128)\n",
            "Nb words kept : 4378/4430 (98.8%)\n",
            "Speed : 686.2 sentences/s (gpu mode, bsize=128)\n",
            "Nb words kept : 3685/3789 (97.3%)\n",
            "Speed : 822.2 sentences/s (gpu mode, bsize=128)\n",
            "Nb words kept : 3853/3946 (97.6%)\n",
            "Speed : 792.0 sentences/s (gpu mode, bsize=128)\n",
            "Nb words kept : 3878/3939 (98.5%)\n",
            "Speed : 831.1 sentences/s (gpu mode, bsize=128)\n",
            "Nb words kept : 4068/4129 (98.5%)\n",
            "Speed : 611.7 sentences/s (gpu mode, bsize=128)\n",
            "Nb words kept : 3788/3848 (98.4%)\n",
            "Speed : 682.7 sentences/s (gpu mode, bsize=128)\n",
            "Nb words kept : 3230/3265 (98.9%)\n",
            "Speed : 964.5 sentences/s (gpu mode, bsize=128)\n",
            "Nb words kept : 3343/3369 (99.2%)\n",
            "Speed : 1056.3 sentences/s (gpu mode, bsize=128)\n",
            "Nb words kept : 3140/3162 (99.3%)\n",
            "Speed : 1079.5 sentences/s (gpu mode, bsize=128)\n",
            "Nb words kept : 3222/3273 (98.4%)\n",
            "Speed : 888.0 sentences/s (gpu mode, bsize=128)\n",
            "Nb words kept : 3824/3886 (98.4%)\n",
            "Speed : 687.2 sentences/s (gpu mode, bsize=128)\n",
            "Nb words kept : 3398/3452 (98.4%)\n",
            "Speed : 963.5 sentences/s (gpu mode, bsize=128)\n",
            "Nb words kept : 3460/3491 (99.1%)\n",
            "Speed : 950.3 sentences/s (gpu mode, bsize=128)\n",
            "Nb words kept : 2985/3016 (99.0%)\n",
            "Speed : 912.8 sentences/s (gpu mode, bsize=128)\n",
            "Nb words kept : 3580/3667 (97.6%)\n",
            "Speed : 826.2 sentences/s (gpu mode, bsize=128)\n",
            "Nb words kept : 3799/3857 (98.5%)\n",
            "Speed : 815.9 sentences/s (gpu mode, bsize=128)\n",
            "Nb words kept : 3423/3481 (98.3%)\n",
            "Speed : 919.9 sentences/s (gpu mode, bsize=128)\n",
            "Nb words kept : 3638/3774 (96.4%)\n",
            "Speed : 870.9 sentences/s (gpu mode, bsize=128)\n",
            "Nb words kept : 3841/3947 (97.3%)\n",
            "Speed : 788.9 sentences/s (gpu mode, bsize=128)\n",
            "Nb words kept : 3883/4024 (96.5%)\n",
            "Speed : 544.0 sentences/s (gpu mode, bsize=128)\n",
            "Nb words kept : 3784/3840 (98.5%)\n",
            "Speed : 760.3 sentences/s (gpu mode, bsize=128)\n",
            "Nb words kept : 3506/3576 (98.0%)\n",
            "Speed : 939.6 sentences/s (gpu mode, bsize=128)\n",
            "Nb words kept : 3502/3571 (98.1%)\n",
            "Speed : 932.7 sentences/s (gpu mode, bsize=128)\n",
            "Nb words kept : 3478/3495 (99.5%)\n",
            "Speed : 852.8 sentences/s (gpu mode, bsize=128)\n",
            "Nb words kept : 4148/4179 (99.3%)\n",
            "Speed : 789.5 sentences/s (gpu mode, bsize=128)\n",
            "Nb words kept : 4129/4173 (98.9%)\n",
            "Speed : 852.7 sentences/s (gpu mode, bsize=128)\n",
            "Nb words kept : 3986/4047 (98.5%)\n",
            "Speed : 879.2 sentences/s (gpu mode, bsize=128)\n",
            "Nb words kept : 3731/3767 (99.0%)\n",
            "Speed : 905.4 sentences/s (gpu mode, bsize=128)\n",
            "Nb words kept : 3207/3243 (98.9%)\n",
            "Speed : 1025.9 sentences/s (gpu mode, bsize=128)\n",
            "Nb words kept : 3138/3253 (96.5%)\n",
            "Speed : 1066.4 sentences/s (gpu mode, bsize=128)\n",
            "Nb words kept : 3025/3141 (96.3%)\n",
            "Speed : 1101.5 sentences/s (gpu mode, bsize=128)\n",
            "Nb words kept : 3121/3208 (97.3%)\n",
            "Speed : 1066.5 sentences/s (gpu mode, bsize=128)\n",
            "Nb words kept : 3574/3707 (96.4%)\n",
            "Speed : 867.4 sentences/s (gpu mode, bsize=128)\n",
            "Nb words kept : 4554/4616 (98.7%)\n",
            "Speed : 686.9 sentences/s (gpu mode, bsize=128)\n",
            "Nb words kept : 3457/3512 (98.4%)\n",
            "Speed : 927.9 sentences/s (gpu mode, bsize=128)\n",
            "Nb words kept : 4075/4142 (98.4%)\n",
            "Speed : 630.0 sentences/s (gpu mode, bsize=128)\n",
            "Nb words kept : 3238/3317 (97.6%)\n",
            "Speed : 944.0 sentences/s (gpu mode, bsize=128)\n",
            "Nb words kept : 4194/4255 (98.6%)\n",
            "Speed : 694.1 sentences/s (gpu mode, bsize=128)\n",
            "Nb words kept : 3861/3906 (98.8%)\n",
            "Speed : 476.4 sentences/s (gpu mode, bsize=128)\n",
            "Nb words kept : 3260/3298 (98.8%)\n",
            "Speed : 651.3 sentences/s (gpu mode, bsize=128)\n",
            "Nb words kept : 3663/3713 (98.7%)\n",
            "Speed : 882.6 sentences/s (gpu mode, bsize=128)\n",
            "Nb words kept : 4377/4524 (96.8%)\n",
            "Speed : 692.3 sentences/s (gpu mode, bsize=128)\n",
            "Nb words kept : 3497/3586 (97.5%)\n",
            "Speed : 734.3 sentences/s (gpu mode, bsize=128)\n",
            "Nb words kept : 3385/3436 (98.5%)\n",
            "Speed : 412.1 sentences/s (gpu mode, bsize=128)\n",
            "Nb words kept : 3449/3475 (99.3%)\n",
            "Speed : 856.7 sentences/s (gpu mode, bsize=128)\n",
            "Nb words kept : 3877/3901 (99.4%)\n",
            "Speed : 781.2 sentences/s (gpu mode, bsize=128)\n",
            "Nb words kept : 3892/3963 (98.2%)\n",
            "Speed : 739.4 sentences/s (gpu mode, bsize=128)\n",
            "Nb words kept : 4029/4099 (98.3%)\n",
            "Speed : 299.6 sentences/s (gpu mode, bsize=128)\n",
            "Nb words kept : 3590/3605 (99.6%)\n",
            "Speed : 675.4 sentences/s (gpu mode, bsize=128)\n",
            "Nb words kept : 3586/3674 (97.6%)\n",
            "Speed : 765.4 sentences/s (gpu mode, bsize=128)\n",
            "Nb words kept : 3726/3757 (99.2%)\n",
            "Speed : 478.9 sentences/s (gpu mode, bsize=128)\n",
            "Nb words kept : 3728/3754 (99.3%)\n",
            "Speed : 815.9 sentences/s (gpu mode, bsize=128)\n",
            "Nb words kept : 4275/4384 (97.5%)\n",
            "Speed : 629.0 sentences/s (gpu mode, bsize=128)\n",
            "Nb words kept : 3698/3807 (97.1%)\n",
            "Speed : 894.6 sentences/s (gpu mode, bsize=128)\n",
            "Nb words kept : 3664/3712 (98.7%)\n",
            "Speed : 479.0 sentences/s (gpu mode, bsize=128)\n",
            "Nb words kept : 3667/3727 (98.4%)\n",
            "Speed : 759.5 sentences/s (gpu mode, bsize=128)\n",
            "Nb words kept : 3693/3821 (96.7%)\n",
            "Speed : 756.7 sentences/s (gpu mode, bsize=128)\n",
            "Nb words kept : 3653/3757 (97.2%)\n",
            "Speed : 835.3 sentences/s (gpu mode, bsize=128)\n",
            "Nb words kept : 3305/3385 (97.6%)\n",
            "Speed : 776.4 sentences/s (gpu mode, bsize=128)\n",
            "Nb words kept : 3683/3727 (98.8%)\n",
            "Speed : 446.3 sentences/s (gpu mode, bsize=128)\n",
            "Nb words kept : 3490/3535 (98.7%)\n",
            "Speed : 985.9 sentences/s (gpu mode, bsize=128)\n",
            "Nb words kept : 3950/4017 (98.3%)\n",
            "Speed : 905.7 sentences/s (gpu mode, bsize=128)\n",
            "Nb words kept : 3509/3538 (99.2%)\n",
            "Speed : 881.7 sentences/s (gpu mode, bsize=128)\n",
            "Nb words kept : 3450/3491 (98.8%)\n",
            "Speed : 729.4 sentences/s (gpu mode, bsize=128)\n",
            "Nb words kept : 3186/3217 (99.0%)\n",
            "Speed : 1104.4 sentences/s (gpu mode, bsize=128)\n",
            "Nb words kept : 3653/3690 (99.0%)\n",
            "Speed : 742.7 sentences/s (gpu mode, bsize=128)\n",
            "Nb words kept : 3527/3571 (98.8%)\n",
            "Speed : 892.1 sentences/s (gpu mode, bsize=128)\n",
            "Nb words kept : 3054/3107 (98.3%)\n",
            "Speed : 1068.6 sentences/s (gpu mode, bsize=128)\n",
            "Nb words kept : 3039/3093 (98.3%)\n",
            "Speed : 998.8 sentences/s (gpu mode, bsize=128)\n",
            "Nb words kept : 3508/3538 (99.2%)\n",
            "Speed : 925.0 sentences/s (gpu mode, bsize=128)\n",
            "Nb words kept : 3947/4010 (98.4%)\n",
            "Speed : 695.4 sentences/s (gpu mode, bsize=128)\n",
            "Nb words kept : 3715/3804 (97.7%)\n",
            "Speed : 783.7 sentences/s (gpu mode, bsize=128)\n",
            "Nb words kept : 3620/3702 (97.8%)\n",
            "Speed : 796.8 sentences/s (gpu mode, bsize=128)\n",
            "Nb words kept : 3406/3459 (98.5%)\n",
            "Speed : 802.3 sentences/s (gpu mode, bsize=128)\n",
            "Nb words kept : 4113/4174 (98.5%)\n",
            "Speed : 627.3 sentences/s (gpu mode, bsize=128)\n",
            "Nb words kept : 3964/4053 (97.8%)\n",
            "Speed : 805.9 sentences/s (gpu mode, bsize=128)\n",
            "Nb words kept : 3962/4032 (98.3%)\n",
            "Speed : 718.3 sentences/s (gpu mode, bsize=128)\n",
            "Nb words kept : 4103/4166 (98.5%)\n",
            "Speed : 623.6 sentences/s (gpu mode, bsize=128)\n",
            "Nb words kept : 3651/3717 (98.2%)\n",
            "Speed : 941.8 sentences/s (gpu mode, bsize=128)\n",
            "Nb words kept : 3961/4078 (97.1%)\n",
            "Speed : 835.8 sentences/s (gpu mode, bsize=128)\n",
            "Nb words kept : 3226/3263 (98.9%)\n",
            "Speed : 919.5 sentences/s (gpu mode, bsize=128)\n",
            "Nb words kept : 3183/3296 (96.6%)\n",
            "Speed : 1041.6 sentences/s (gpu mode, bsize=128)\n",
            "Nb words kept : 3434/3494 (98.3%)\n",
            "Speed : 657.7 sentences/s (gpu mode, bsize=128)\n",
            "Nb words kept : 4006/4082 (98.1%)\n",
            "Speed : 636.4 sentences/s (gpu mode, bsize=128)\n",
            "Nb words kept : 4188/4230 (99.0%)\n",
            "Speed : 636.7 sentences/s (gpu mode, bsize=128)\n",
            "Nb words kept : 3986/4040 (98.7%)\n",
            "Speed : 611.7 sentences/s (gpu mode, bsize=128)\n",
            "Nb words kept : 4103/4146 (99.0%)\n",
            "Speed : 742.3 sentences/s (gpu mode, bsize=128)\n",
            "Nb words kept : 3759/3805 (98.8%)\n",
            "Speed : 806.9 sentences/s (gpu mode, bsize=128)\n",
            "Nb words kept : 3637/3715 (97.9%)\n",
            "Speed : 851.0 sentences/s (gpu mode, bsize=128)\n",
            "Nb words kept : 3343/3497 (95.6%)\n",
            "Speed : 635.1 sentences/s (gpu mode, bsize=128)\n",
            "Nb words kept : 2859/2956 (96.7%)\n",
            "Speed : 1116.5 sentences/s (gpu mode, bsize=128)\n",
            "Nb words kept : 3378/3450 (97.9%)\n",
            "Speed : 777.1 sentences/s (gpu mode, bsize=128)\n",
            "Nb words kept : 3236/3262 (99.2%)\n",
            "Speed : 959.5 sentences/s (gpu mode, bsize=128)\n",
            "Nb words kept : 3708/3731 (99.4%)\n",
            "Speed : 859.2 sentences/s (gpu mode, bsize=128)\n",
            "Nb words kept : 3558/3621 (98.3%)\n",
            "Speed : 928.2 sentences/s (gpu mode, bsize=128)\n",
            "Nb words kept : 4061/4141 (98.1%)\n",
            "Speed : 856.0 sentences/s (gpu mode, bsize=128)\n",
            "Nb words kept : 3478/3549 (98.0%)\n",
            "Speed : 982.0 sentences/s (gpu mode, bsize=128)\n",
            "Nb words kept : 3868/3953 (97.8%)\n",
            "Speed : 755.6 sentences/s (gpu mode, bsize=128)\n",
            "Nb words kept : 3935/4001 (98.4%)\n",
            "Speed : 811.2 sentences/s (gpu mode, bsize=128)\n",
            "Nb words kept : 3566/3643 (97.9%)\n",
            "Speed : 886.6 sentences/s (gpu mode, bsize=128)\n",
            "Nb words kept : 3913/4004 (97.7%)\n",
            "Speed : 712.8 sentences/s (gpu mode, bsize=128)\n",
            "Nb words kept : 4149/4246 (97.7%)\n",
            "Speed : 732.7 sentences/s (gpu mode, bsize=128)\n",
            "Nb words kept : 3898/4035 (96.6%)\n",
            "Speed : 699.1 sentences/s (gpu mode, bsize=128)\n",
            "Nb words kept : 3401/3473 (97.9%)\n",
            "Speed : 1034.1 sentences/s (gpu mode, bsize=128)\n",
            "Nb words kept : 4771/4872 (97.9%)\n",
            "Speed : 652.9 sentences/s (gpu mode, bsize=128)\n",
            "Nb words kept : 3355/3481 (96.4%)\n",
            "Speed : 918.7 sentences/s (gpu mode, bsize=128)\n",
            "Nb words kept : 4054/4115 (98.5%)\n",
            "Speed : 598.6 sentences/s (gpu mode, bsize=128)\n",
            "Nb words kept : 3334/3385 (98.5%)\n",
            "Speed : 963.8 sentences/s (gpu mode, bsize=128)\n",
            "Nb words kept : 3518/3555 (99.0%)\n",
            "Speed : 768.2 sentences/s (gpu mode, bsize=128)\n",
            "Nb words kept : 3900/3990 (97.7%)\n",
            "Speed : 589.4 sentences/s (gpu mode, bsize=128)\n",
            "Nb words kept : 3994/4054 (98.5%)\n",
            "Speed : 606.9 sentences/s (gpu mode, bsize=128)\n",
            "Nb words kept : 3415/3487 (97.9%)\n",
            "Speed : 814.8 sentences/s (gpu mode, bsize=128)\n",
            "Nb words kept : 4407/4535 (97.2%)\n",
            "Speed : 614.4 sentences/s (gpu mode, bsize=128)\n",
            "Nb words kept : 3535/3638 (97.2%)\n",
            "Speed : 887.3 sentences/s (gpu mode, bsize=128)\n",
            "Nb words kept : 3773/3869 (97.5%)\n",
            "Speed : 791.9 sentences/s (gpu mode, bsize=128)\n",
            "Nb words kept : 3610/3680 (98.1%)\n",
            "Speed : 779.6 sentences/s (gpu mode, bsize=128)\n",
            "Nb words kept : 3456/3534 (97.8%)\n",
            "Speed : 866.4 sentences/s (gpu mode, bsize=128)\n",
            "Nb words kept : 3992/4073 (98.0%)\n",
            "Speed : 802.7 sentences/s (gpu mode, bsize=128)\n",
            "Nb words kept : 3434/3481 (98.6%)\n",
            "Speed : 953.5 sentences/s (gpu mode, bsize=128)\n",
            "Nb words kept : 3641/3672 (99.2%)\n",
            "Speed : 808.7 sentences/s (gpu mode, bsize=128)\n",
            "Nb words kept : 3526/3558 (99.1%)\n",
            "Speed : 908.1 sentences/s (gpu mode, bsize=128)\n",
            "Nb words kept : 3354/3399 (98.7%)\n",
            "Speed : 883.1 sentences/s (gpu mode, bsize=128)\n",
            "Nb words kept : 3645/3672 (99.3%)\n",
            "Speed : 871.3 sentences/s (gpu mode, bsize=128)\n",
            "Nb words kept : 4474/4523 (98.9%)\n",
            "Speed : 626.1 sentences/s (gpu mode, bsize=128)\n",
            "Nb words kept : 3687/3791 (97.3%)\n",
            "Speed : 888.8 sentences/s (gpu mode, bsize=128)\n",
            "Nb words kept : 3618/3685 (98.2%)\n",
            "Speed : 833.5 sentences/s (gpu mode, bsize=128)\n",
            "Nb words kept : 4396/4476 (98.2%)\n",
            "Speed : 630.8 sentences/s (gpu mode, bsize=128)\n",
            "Nb words kept : 4247/4270 (99.5%)\n",
            "Speed : 640.7 sentences/s (gpu mode, bsize=128)\n",
            "Nb words kept : 3506/3547 (98.8%)\n",
            "Speed : 833.3 sentences/s (gpu mode, bsize=128)\n",
            "Nb words kept : 4457/4547 (98.0%)\n",
            "Speed : 294.8 sentences/s (gpu mode, bsize=128)\n",
            "Nb words kept : 4289/4370 (98.1%)\n",
            "Speed : 588.3 sentences/s (gpu mode, bsize=128)\n",
            "Nb words kept : 3331/3410 (97.7%)\n",
            "Speed : 1009.5 sentences/s (gpu mode, bsize=128)\n",
            "Nb words kept : 3502/3594 (97.4%)\n",
            "Speed : 842.3 sentences/s (gpu mode, bsize=128)\n",
            "Nb words kept : 3257/3301 (98.7%)\n",
            "Speed : 988.8 sentences/s (gpu mode, bsize=128)\n",
            "Nb words kept : 3612/3676 (98.3%)\n",
            "Speed : 949.0 sentences/s (gpu mode, bsize=128)\n",
            "Nb words kept : 3601/3664 (98.3%)\n",
            "Speed : 876.6 sentences/s (gpu mode, bsize=128)\n",
            "Nb words kept : 3518/3592 (97.9%)\n",
            "Speed : 934.6 sentences/s (gpu mode, bsize=128)\n",
            "Nb words kept : 3445/3491 (98.7%)\n",
            "Speed : 999.3 sentences/s (gpu mode, bsize=128)\n",
            "Nb words kept : 3848/3911 (98.4%)\n",
            "Speed : 825.3 sentences/s (gpu mode, bsize=128)\n",
            "Nb words kept : 3551/3609 (98.4%)\n",
            "Speed : 850.2 sentences/s (gpu mode, bsize=128)\n",
            "Nb words kept : 4208/4246 (99.1%)\n",
            "Speed : 795.0 sentences/s (gpu mode, bsize=128)\n",
            "Nb words kept : 3535/3588 (98.5%)\n",
            "Speed : 873.2 sentences/s (gpu mode, bsize=128)\n",
            "Nb words kept : 3639/3704 (98.2%)\n",
            "Speed : 800.9 sentences/s (gpu mode, bsize=128)\n",
            "Nb words kept : 3868/3958 (97.7%)\n",
            "Speed : 787.4 sentences/s (gpu mode, bsize=128)\n",
            "Nb words kept : 3726/3778 (98.6%)\n",
            "Speed : 826.6 sentences/s (gpu mode, bsize=128)\n",
            "Nb words kept : 4032/4123 (97.8%)\n",
            "Speed : 742.2 sentences/s (gpu mode, bsize=128)\n",
            "Nb words kept : 4447/4495 (98.9%)\n",
            "Speed : 702.6 sentences/s (gpu mode, bsize=128)\n",
            "Nb words kept : 4219/4314 (97.8%)\n",
            "Speed : 597.9 sentences/s (gpu mode, bsize=128)\n",
            "Nb words kept : 3050/3066 (99.5%)\n",
            "Speed : 1023.8 sentences/s (gpu mode, bsize=128)\n",
            "Nb words kept : 3825/3933 (97.3%)\n",
            "Speed : 894.1 sentences/s (gpu mode, bsize=128)\n",
            "Nb words kept : 3909/3979 (98.2%)\n",
            "Speed : 793.7 sentences/s (gpu mode, bsize=128)\n",
            "Nb words kept : 3479/3541 (98.2%)\n",
            "Speed : 929.8 sentences/s (gpu mode, bsize=128)\n",
            "Nb words kept : 3880/3945 (98.4%)\n",
            "Speed : 797.9 sentences/s (gpu mode, bsize=128)\n",
            "Nb words kept : 3828/3909 (97.9%)\n",
            "Speed : 885.3 sentences/s (gpu mode, bsize=128)\n",
            "Nb words kept : 3872/3959 (97.8%)\n",
            "Speed : 811.1 sentences/s (gpu mode, bsize=128)\n",
            "Nb words kept : 3762/3850 (97.7%)\n",
            "Speed : 751.3 sentences/s (gpu mode, bsize=128)\n",
            "Nb words kept : 4327/4389 (98.6%)\n",
            "Speed : 707.0 sentences/s (gpu mode, bsize=128)\n",
            "Nb words kept : 3893/4003 (97.3%)\n",
            "Speed : 817.5 sentences/s (gpu mode, bsize=128)\n",
            "Nb words kept : 3405/3455 (98.6%)\n",
            "Speed : 932.0 sentences/s (gpu mode, bsize=128)\n",
            "Nb words kept : 3478/3517 (98.9%)\n",
            "Speed : 870.6 sentences/s (gpu mode, bsize=128)\n",
            "Nb words kept : 3029/3076 (98.5%)\n",
            "Speed : 1145.8 sentences/s (gpu mode, bsize=128)\n",
            "Nb words kept : 3628/3666 (99.0%)\n",
            "Speed : 852.7 sentences/s (gpu mode, bsize=128)\n",
            "Nb words kept : 3198/3303 (96.8%)\n",
            "Speed : 1050.7 sentences/s (gpu mode, bsize=128)\n",
            "Nb words kept : 3629/3710 (97.8%)\n",
            "Speed : 854.9 sentences/s (gpu mode, bsize=128)\n",
            "Nb words kept : 3150/3290 (95.7%)\n",
            "Speed : 1058.3 sentences/s (gpu mode, bsize=128)\n",
            "Nb words kept : 2999/3054 (98.2%)\n",
            "Speed : 1187.9 sentences/s (gpu mode, bsize=128)\n",
            "Nb words kept : 3108/3167 (98.1%)\n",
            "Speed : 1051.9 sentences/s (gpu mode, bsize=128)\n",
            "Nb words kept : 3614/3651 (99.0%)\n",
            "Speed : 818.1 sentences/s (gpu mode, bsize=128)\n",
            "Nb words kept : 4372/4475 (97.7%)\n",
            "Speed : 661.0 sentences/s (gpu mode, bsize=128)\n",
            "Nb words kept : 3791/3914 (96.9%)\n",
            "Speed : 660.3 sentences/s (gpu mode, bsize=128)\n",
            "Nb words kept : 4019/4076 (98.6%)\n",
            "Speed : 706.3 sentences/s (gpu mode, bsize=128)\n",
            "Nb words kept : 4118/4204 (98.0%)\n",
            "Speed : 596.2 sentences/s (gpu mode, bsize=128)\n",
            "Nb words kept : 3844/3898 (98.6%)\n",
            "Speed : 853.4 sentences/s (gpu mode, bsize=128)\n",
            "Nb words kept : 4176/4711 (88.6%)\n",
            "Speed : 612.1 sentences/s (gpu mode, bsize=128)\n",
            "Nb words kept : 3273/3366 (97.2%)\n",
            "Speed : 1022.4 sentences/s (gpu mode, bsize=128)\n",
            "Nb words kept : 3800/3862 (98.4%)\n",
            "Speed : 899.8 sentences/s (gpu mode, bsize=128)\n",
            "Nb words kept : 3756/3819 (98.4%)\n",
            "Speed : 783.7 sentences/s (gpu mode, bsize=128)\n",
            "Nb words kept : 3925/3996 (98.2%)\n",
            "Speed : 648.6 sentences/s (gpu mode, bsize=128)\n",
            "Nb words kept : 3892/3981 (97.8%)\n",
            "Speed : 551.6 sentences/s (gpu mode, bsize=128)\n",
            "Nb words kept : 3414/3483 (98.0%)\n",
            "Speed : 797.6 sentences/s (gpu mode, bsize=128)\n",
            "Nb words kept : 3510/3547 (99.0%)\n",
            "Speed : 867.9 sentences/s (gpu mode, bsize=128)\n",
            "Nb words kept : 3864/3930 (98.3%)\n",
            "Speed : 742.1 sentences/s (gpu mode, bsize=128)\n",
            "Nb words kept : 3319/3360 (98.8%)\n",
            "Speed : 912.3 sentences/s (gpu mode, bsize=128)\n",
            "Nb words kept : 3784/3839 (98.6%)\n",
            "Speed : 587.2 sentences/s (gpu mode, bsize=128)\n",
            "Nb words kept : 3497/3560 (98.2%)\n",
            "Speed : 815.0 sentences/s (gpu mode, bsize=128)\n",
            "Nb words kept : 3166/3233 (97.9%)\n",
            "Speed : 1025.3 sentences/s (gpu mode, bsize=128)\n",
            "Nb words kept : 3575/3654 (97.8%)\n",
            "Speed : 866.4 sentences/s (gpu mode, bsize=128)\n",
            "Nb words kept : 3868/3981 (97.2%)\n",
            "Speed : 873.7 sentences/s (gpu mode, bsize=128)\n",
            "Nb words kept : 4016/4173 (96.2%)\n",
            "Speed : 781.9 sentences/s (gpu mode, bsize=128)\n",
            "Nb words kept : 4196/4279 (98.1%)\n",
            "Speed : 738.5 sentences/s (gpu mode, bsize=128)\n",
            "Nb words kept : 3674/3712 (99.0%)\n",
            "Speed : 705.5 sentences/s (gpu mode, bsize=128)\n",
            "Nb words kept : 4095/4130 (99.2%)\n",
            "Speed : 779.5 sentences/s (gpu mode, bsize=128)\n",
            "Nb words kept : 3467/3571 (97.1%)\n",
            "Speed : 962.1 sentences/s (gpu mode, bsize=128)\n",
            "Nb words kept : 3854/3921 (98.3%)\n",
            "Speed : 806.9 sentences/s (gpu mode, bsize=128)\n",
            "Nb words kept : 3579/3624 (98.8%)\n",
            "Speed : 889.8 sentences/s (gpu mode, bsize=128)\n",
            "Nb words kept : 4256/4367 (97.5%)\n",
            "Speed : 750.6 sentences/s (gpu mode, bsize=128)\n",
            "Nb words kept : 3822/3881 (98.5%)\n",
            "Speed : 771.0 sentences/s (gpu mode, bsize=128)\n",
            "Nb words kept : 3669/3725 (98.5%)\n",
            "Speed : 907.7 sentences/s (gpu mode, bsize=128)\n",
            "Nb words kept : 4214/4321 (97.5%)\n",
            "Speed : 718.6 sentences/s (gpu mode, bsize=128)\n",
            "Nb words kept : 3367/3412 (98.7%)\n",
            "Speed : 955.5 sentences/s (gpu mode, bsize=128)\n",
            "Nb words kept : 3846/4008 (96.0%)\n",
            "Speed : 619.1 sentences/s (gpu mode, bsize=128)\n",
            "Nb words kept : 3774/3908 (96.6%)\n",
            "Speed : 822.6 sentences/s (gpu mode, bsize=128)\n",
            "Nb words kept : 4118/4184 (98.4%)\n",
            "Speed : 613.2 sentences/s (gpu mode, bsize=128)\n",
            "Nb words kept : 3487/3520 (99.1%)\n",
            "Speed : 899.7 sentences/s (gpu mode, bsize=128)\n",
            "Nb words kept : 3866/3931 (98.3%)\n",
            "Speed : 693.8 sentences/s (gpu mode, bsize=128)\n",
            "Nb words kept : 3435/3464 (99.2%)\n",
            "Speed : 801.0 sentences/s (gpu mode, bsize=128)\n",
            "Nb words kept : 3760/3813 (98.6%)\n",
            "Speed : 750.0 sentences/s (gpu mode, bsize=128)\n",
            "Nb words kept : 3862/3950 (97.8%)\n",
            "Speed : 831.0 sentences/s (gpu mode, bsize=128)\n",
            "Nb words kept : 3283/3356 (97.8%)\n",
            "Speed : 997.6 sentences/s (gpu mode, bsize=128)\n",
            "Nb words kept : 2790/2882 (96.8%)\n",
            "Speed : 1116.1 sentences/s (gpu mode, bsize=128)\n",
            "Nb words kept : 3263/3352 (97.3%)\n",
            "Speed : 956.2 sentences/s (gpu mode, bsize=128)\n",
            "Nb words kept : 3575/3669 (97.4%)\n",
            "Speed : 837.1 sentences/s (gpu mode, bsize=128)\n",
            "Nb words kept : 3825/3950 (96.8%)\n",
            "Speed : 825.4 sentences/s (gpu mode, bsize=128)\n",
            "Nb words kept : 3950/4097 (96.4%)\n",
            "Speed : 848.8 sentences/s (gpu mode, bsize=128)\n",
            "Nb words kept : 3272/3365 (97.2%)\n",
            "Speed : 926.9 sentences/s (gpu mode, bsize=128)\n",
            "Nb words kept : 3410/3441 (99.1%)\n",
            "Speed : 868.2 sentences/s (gpu mode, bsize=128)\n",
            "Nb words kept : 3861/3926 (98.3%)\n",
            "Speed : 609.8 sentences/s (gpu mode, bsize=128)\n",
            "Nb words kept : 3369/3404 (99.0%)\n",
            "Speed : 917.0 sentences/s (gpu mode, bsize=128)\n",
            "Nb words kept : 4042/4083 (99.0%)\n",
            "Speed : 686.1 sentences/s (gpu mode, bsize=128)\n",
            "Nb words kept : 3670/3690 (99.5%)\n",
            "Speed : 962.0 sentences/s (gpu mode, bsize=128)\n",
            "Nb words kept : 3309/3342 (99.0%)\n",
            "Speed : 997.4 sentences/s (gpu mode, bsize=128)\n",
            "Nb words kept : 3830/3857 (99.3%)\n",
            "Speed : 712.8 sentences/s (gpu mode, bsize=128)\n",
            "Nb words kept : 4018/4158 (96.6%)\n",
            "Speed : 690.2 sentences/s (gpu mode, bsize=128)\n",
            "Nb words kept : 3480/3577 (97.3%)\n",
            "Speed : 940.6 sentences/s (gpu mode, bsize=128)\n",
            "Nb words kept : 3570/3596 (99.3%)\n",
            "Speed : 834.5 sentences/s (gpu mode, bsize=128)\n",
            "Nb words kept : 3632/3656 (99.3%)\n",
            "Speed : 695.5 sentences/s (gpu mode, bsize=128)\n",
            "Nb words kept : 3594/3643 (98.7%)\n",
            "Speed : 596.7 sentences/s (gpu mode, bsize=128)\n",
            "Nb words kept : 3536/3589 (98.5%)\n",
            "Speed : 861.4 sentences/s (gpu mode, bsize=128)\n",
            "Nb words kept : 3749/3795 (98.8%)\n",
            "Speed : 770.7 sentences/s (gpu mode, bsize=128)\n",
            "Nb words kept : 4106/4139 (99.2%)\n",
            "Speed : 781.9 sentences/s (gpu mode, bsize=128)\n",
            "Nb words kept : 3827/3884 (98.5%)\n",
            "Speed : 711.4 sentences/s (gpu mode, bsize=128)\n",
            "Nb words kept : 3315/3369 (98.4%)\n",
            "Speed : 849.0 sentences/s (gpu mode, bsize=128)\n",
            "Nb words kept : 3703/3739 (99.0%)\n",
            "Speed : 890.0 sentences/s (gpu mode, bsize=128)\n",
            "Nb words kept : 3465/3510 (98.7%)\n",
            "Speed : 879.9 sentences/s (gpu mode, bsize=128)\n",
            "Nb words kept : 2966/3007 (98.6%)\n",
            "Speed : 992.4 sentences/s (gpu mode, bsize=128)\n",
            "Nb words kept : 2942/3008 (97.8%)\n",
            "Speed : 958.1 sentences/s (gpu mode, bsize=128)\n",
            "Nb words kept : 2867/2899 (98.9%)\n",
            "Speed : 1238.5 sentences/s (gpu mode, bsize=128)\n",
            "Nb words kept : 3527/3580 (98.5%)\n",
            "Speed : 916.7 sentences/s (gpu mode, bsize=128)\n",
            "Nb words kept : 3443/3554 (96.9%)\n",
            "Speed : 943.7 sentences/s (gpu mode, bsize=128)\n",
            "Nb words kept : 3525/3641 (96.8%)\n",
            "Speed : 852.9 sentences/s (gpu mode, bsize=128)\n",
            "Nb words kept : 3638/3707 (98.1%)\n",
            "Speed : 866.7 sentences/s (gpu mode, bsize=128)\n",
            "Nb words kept : 3390/3412 (99.4%)\n",
            "Speed : 982.5 sentences/s (gpu mode, bsize=128)\n",
            "Nb words kept : 3577/3619 (98.8%)\n",
            "Speed : 824.2 sentences/s (gpu mode, bsize=128)\n",
            "Nb words kept : 3803/3834 (99.2%)\n",
            "Speed : 785.3 sentences/s (gpu mode, bsize=128)\n",
            "Nb words kept : 3724/3753 (99.2%)\n",
            "Speed : 888.8 sentences/s (gpu mode, bsize=128)\n",
            "Nb words kept : 3481/3545 (98.2%)\n",
            "Speed : 935.3 sentences/s (gpu mode, bsize=128)\n",
            "Nb words kept : 3577/3648 (98.1%)\n",
            "Speed : 867.6 sentences/s (gpu mode, bsize=128)\n",
            "Nb words kept : 4033/4146 (97.3%)\n",
            "Speed : 718.2 sentences/s (gpu mode, bsize=128)\n",
            "Nb words kept : 3677/3745 (98.2%)\n",
            "Speed : 713.4 sentences/s (gpu mode, bsize=128)\n",
            "Nb words kept : 3739/3799 (98.4%)\n",
            "Speed : 727.0 sentences/s (gpu mode, bsize=128)\n",
            "Nb words kept : 3754/3826 (98.1%)\n",
            "Speed : 773.6 sentences/s (gpu mode, bsize=128)\n",
            "Nb words kept : 3620/3657 (99.0%)\n",
            "Speed : 687.9 sentences/s (gpu mode, bsize=128)\n",
            "Nb words kept : 3576/3619 (98.8%)\n",
            "Speed : 865.1 sentences/s (gpu mode, bsize=128)\n",
            "Nb words kept : 3425/3492 (98.1%)\n",
            "Speed : 949.0 sentences/s (gpu mode, bsize=128)\n",
            "Nb words kept : 3259/3319 (98.2%)\n",
            "Speed : 898.8 sentences/s (gpu mode, bsize=128)\n",
            "Nb words kept : 3205/3258 (98.4%)\n",
            "Speed : 998.7 sentences/s (gpu mode, bsize=128)\n",
            "Nb words kept : 3473/3527 (98.5%)\n",
            "Speed : 959.1 sentences/s (gpu mode, bsize=128)\n",
            "Nb words kept : 3067/3096 (99.1%)\n",
            "Speed : 1019.6 sentences/s (gpu mode, bsize=128)\n",
            "Nb words kept : 3495/3535 (98.9%)\n",
            "Speed : 795.7 sentences/s (gpu mode, bsize=128)\n",
            "Nb words kept : 4082/4204 (97.1%)\n",
            "Speed : 765.4 sentences/s (gpu mode, bsize=128)\n",
            "Nb words kept : 4160/4234 (98.3%)\n",
            "Speed : 636.2 sentences/s (gpu mode, bsize=128)\n",
            "Nb words kept : 3830/3918 (97.8%)\n",
            "Speed : 762.5 sentences/s (gpu mode, bsize=128)\n",
            "Nb words kept : 3554/3589 (99.0%)\n",
            "Speed : 904.6 sentences/s (gpu mode, bsize=128)\n",
            "Nb words kept : 3022/3050 (99.1%)\n",
            "Speed : 1075.7 sentences/s (gpu mode, bsize=128)\n",
            "Nb words kept : 2676/2704 (99.0%)\n",
            "Speed : 1309.9 sentences/s (gpu mode, bsize=128)\n",
            "Nb words kept : 2639/2671 (98.8%)\n",
            "Speed : 1146.3 sentences/s (gpu mode, bsize=128)\n",
            "Nb words kept : 3320/3355 (99.0%)\n",
            "Speed : 901.2 sentences/s (gpu mode, bsize=128)\n",
            "Nb words kept : 3630/3671 (98.9%)\n",
            "Speed : 862.4 sentences/s (gpu mode, bsize=128)\n",
            "Nb words kept : 3186/3230 (98.6%)\n",
            "Speed : 920.6 sentences/s (gpu mode, bsize=128)\n",
            "Nb words kept : 3408/3453 (98.7%)\n",
            "Speed : 875.4 sentences/s (gpu mode, bsize=128)\n",
            "Nb words kept : 3532/3593 (98.3%)\n",
            "Speed : 863.1 sentences/s (gpu mode, bsize=128)\n",
            "Nb words kept : 3892/3976 (97.9%)\n",
            "Speed : 610.8 sentences/s (gpu mode, bsize=128)\n",
            "Nb words kept : 4305/4382 (98.2%)\n",
            "Speed : 540.0 sentences/s (gpu mode, bsize=128)\n",
            "Nb words kept : 3573/3612 (98.9%)\n",
            "Speed : 666.5 sentences/s (gpu mode, bsize=128)\n",
            "Nb words kept : 3423/3484 (98.2%)\n",
            "Speed : 949.2 sentences/s (gpu mode, bsize=128)\n",
            "Nb words kept : 3700/3741 (98.9%)\n",
            "Speed : 899.8 sentences/s (gpu mode, bsize=128)\n",
            "Nb words kept : 3561/3595 (99.1%)\n",
            "Speed : 908.4 sentences/s (gpu mode, bsize=128)\n",
            "Nb words kept : 3978/4020 (99.0%)\n",
            "Speed : 828.0 sentences/s (gpu mode, bsize=128)\n",
            "Nb words kept : 3445/3461 (99.5%)\n",
            "Speed : 895.1 sentences/s (gpu mode, bsize=128)\n",
            "Nb words kept : 3820/3920 (97.4%)\n",
            "Speed : 817.2 sentences/s (gpu mode, bsize=128)\n",
            "Nb words kept : 3636/3701 (98.2%)\n",
            "Speed : 826.8 sentences/s (gpu mode, bsize=128)\n",
            "Nb words kept : 3324/3377 (98.4%)\n",
            "Speed : 833.2 sentences/s (gpu mode, bsize=128)\n",
            "Nb words kept : 4156/4252 (97.7%)\n",
            "Speed : 739.2 sentences/s (gpu mode, bsize=128)\n",
            "Nb words kept : 3957/4056 (97.6%)\n",
            "Speed : 682.6 sentences/s (gpu mode, bsize=128)\n",
            "Nb words kept : 3648/3789 (96.3%)\n",
            "Speed : 800.3 sentences/s (gpu mode, bsize=128)\n",
            "Nb words kept : 3530/3579 (98.6%)\n",
            "Speed : 836.4 sentences/s (gpu mode, bsize=128)\n",
            "Nb words kept : 3489/3517 (99.2%)\n",
            "Speed : 845.8 sentences/s (gpu mode, bsize=128)\n",
            "Nb words kept : 4214/4302 (98.0%)\n",
            "Speed : 632.2 sentences/s (gpu mode, bsize=128)\n",
            "Nb words kept : 3327/3396 (98.0%)\n",
            "Speed : 864.4 sentences/s (gpu mode, bsize=128)\n",
            "Nb words kept : 3670/3747 (97.9%)\n",
            "Speed : 881.0 sentences/s (gpu mode, bsize=128)\n",
            "Nb words kept : 3628/3689 (98.3%)\n",
            "Speed : 846.5 sentences/s (gpu mode, bsize=128)\n",
            "Nb words kept : 3994/4044 (98.8%)\n",
            "Speed : 769.6 sentences/s (gpu mode, bsize=128)\n",
            "Nb words kept : 3309/3358 (98.5%)\n",
            "Speed : 941.0 sentences/s (gpu mode, bsize=128)\n",
            "Nb words kept : 4191/4369 (95.9%)\n",
            "Speed : 577.4 sentences/s (gpu mode, bsize=128)\n",
            "Nb words kept : 4400/4491 (98.0%)\n",
            "Speed : 715.6 sentences/s (gpu mode, bsize=128)\n",
            "Nb words kept : 3638/3726 (97.6%)\n",
            "Speed : 784.5 sentences/s (gpu mode, bsize=128)\n",
            "Nb words kept : 3209/3269 (98.2%)\n",
            "Speed : 1012.0 sentences/s (gpu mode, bsize=128)\n",
            "Nb words kept : 3889/3958 (98.3%)\n",
            "Speed : 724.0 sentences/s (gpu mode, bsize=128)\n",
            "Nb words kept : 3546/3642 (97.4%)\n",
            "Speed : 966.7 sentences/s (gpu mode, bsize=128)\n",
            "Nb words kept : 3237/3283 (98.6%)\n",
            "Speed : 1042.5 sentences/s (gpu mode, bsize=128)\n",
            "Nb words kept : 3284/3316 (99.0%)\n",
            "Speed : 886.4 sentences/s (gpu mode, bsize=128)\n",
            "Nb words kept : 3841/3965 (96.9%)\n",
            "Speed : 790.1 sentences/s (gpu mode, bsize=128)\n",
            "Nb words kept : 3853/3925 (98.2%)\n",
            "Speed : 660.5 sentences/s (gpu mode, bsize=128)\n",
            "Nb words kept : 3734/3797 (98.3%)\n",
            "Speed : 832.3 sentences/s (gpu mode, bsize=128)\n",
            "Nb words kept : 3750/3818 (98.2%)\n",
            "Speed : 779.8 sentences/s (gpu mode, bsize=128)\n",
            "Nb words kept : 3440/3485 (98.7%)\n",
            "Speed : 739.4 sentences/s (gpu mode, bsize=128)\n",
            "Nb words kept : 3723/3836 (97.1%)\n",
            "Speed : 622.6 sentences/s (gpu mode, bsize=128)\n",
            "Nb words kept : 3362/3432 (98.0%)\n",
            "Speed : 988.9 sentences/s (gpu mode, bsize=128)\n",
            "Nb words kept : 3667/3709 (98.9%)\n",
            "Speed : 787.4 sentences/s (gpu mode, bsize=128)\n",
            "Nb words kept : 3618/3677 (98.4%)\n",
            "Speed : 894.4 sentences/s (gpu mode, bsize=128)\n",
            "Nb words kept : 3200/3254 (98.3%)\n",
            "Speed : 812.1 sentences/s (gpu mode, bsize=128)\n",
            "Nb words kept : 2990/3041 (98.3%)\n",
            "Speed : 1011.1 sentences/s (gpu mode, bsize=128)\n",
            "Nb words kept : 3715/3770 (98.5%)\n",
            "Speed : 787.1 sentences/s (gpu mode, bsize=128)\n",
            "Nb words kept : 4175/4219 (99.0%)\n",
            "Speed : 605.2 sentences/s (gpu mode, bsize=128)\n",
            "Nb words kept : 3463/3527 (98.2%)\n",
            "Speed : 918.7 sentences/s (gpu mode, bsize=128)\n",
            "Nb words kept : 3505/3592 (97.6%)\n",
            "Speed : 892.0 sentences/s (gpu mode, bsize=128)\n",
            "Nb words kept : 3777/3827 (98.7%)\n",
            "Speed : 787.3 sentences/s (gpu mode, bsize=128)\n",
            "Nb words kept : 3769/3838 (98.2%)\n",
            "Speed : 844.3 sentences/s (gpu mode, bsize=128)\n",
            "Nb words kept : 4442/4561 (97.4%)\n",
            "Speed : 648.3 sentences/s (gpu mode, bsize=128)\n",
            "Nb words kept : 3992/4095 (97.5%)\n",
            "Speed : 756.6 sentences/s (gpu mode, bsize=128)\n",
            "Nb words kept : 3616/3682 (98.2%)\n",
            "Speed : 809.8 sentences/s (gpu mode, bsize=128)\n",
            "Nb words kept : 3798/3873 (98.1%)\n",
            "Speed : 773.9 sentences/s (gpu mode, bsize=128)\n",
            "Nb words kept : 4034/4124 (97.8%)\n",
            "Speed : 508.1 sentences/s (gpu mode, bsize=128)\n",
            "Nb words kept : 3483/3571 (97.5%)\n",
            "Speed : 865.9 sentences/s (gpu mode, bsize=128)\n",
            "Nb words kept : 3929/4080 (96.3%)\n",
            "Speed : 862.6 sentences/s (gpu mode, bsize=128)\n",
            "Nb words kept : 3880/3978 (97.5%)\n",
            "Speed : 552.9 sentences/s (gpu mode, bsize=128)\n",
            "Nb words kept : 3810/3839 (99.2%)\n",
            "Speed : 825.9 sentences/s (gpu mode, bsize=128)\n",
            "Nb words kept : 4062/4111 (98.8%)\n",
            "Speed : 747.8 sentences/s (gpu mode, bsize=128)\n",
            "Nb words kept : 3493/3554 (98.3%)\n",
            "Speed : 872.9 sentences/s (gpu mode, bsize=128)\n",
            "Nb words kept : 3776/3829 (98.6%)\n",
            "Speed : 761.8 sentences/s (gpu mode, bsize=128)\n",
            "Nb words kept : 4068/4122 (98.7%)\n",
            "Speed : 662.8 sentences/s (gpu mode, bsize=128)\n",
            "Nb words kept : 4266/4340 (98.3%)\n",
            "Speed : 623.7 sentences/s (gpu mode, bsize=128)\n",
            "Nb words kept : 4196/4263 (98.4%)\n",
            "Speed : 694.3 sentences/s (gpu mode, bsize=128)\n",
            "Nb words kept : 3516/3555 (98.9%)\n",
            "Speed : 937.9 sentences/s (gpu mode, bsize=128)\n",
            "Nb words kept : 3704/3746 (98.9%)\n",
            "Speed : 793.3 sentences/s (gpu mode, bsize=128)\n",
            "Nb words kept : 4278/4345 (98.5%)\n",
            "Speed : 638.4 sentences/s (gpu mode, bsize=128)\n",
            "Nb words kept : 4043/4097 (98.7%)\n",
            "Speed : 703.7 sentences/s (gpu mode, bsize=128)\n",
            "Nb words kept : 4362/4459 (97.8%)\n",
            "Speed : 659.6 sentences/s (gpu mode, bsize=128)\n",
            "Nb words kept : 3651/3734 (97.8%)\n",
            "Speed : 835.5 sentences/s (gpu mode, bsize=128)\n",
            "Nb words kept : 3296/3349 (98.4%)\n",
            "Speed : 1019.8 sentences/s (gpu mode, bsize=128)\n",
            "Nb words kept : 4077/4171 (97.7%)\n",
            "Speed : 725.7 sentences/s (gpu mode, bsize=128)\n",
            "Nb words kept : 4464/4542 (98.3%)\n",
            "Speed : 598.6 sentences/s (gpu mode, bsize=128)\n",
            "Nb words kept : 3331/3399 (98.0%)\n",
            "Speed : 736.8 sentences/s (gpu mode, bsize=128)\n",
            "Nb words kept : 3488/3555 (98.1%)\n",
            "Speed : 833.8 sentences/s (gpu mode, bsize=128)\n",
            "Nb words kept : 3321/3377 (98.3%)\n",
            "Speed : 815.9 sentences/s (gpu mode, bsize=128)\n",
            "Nb words kept : 3178/3203 (99.2%)\n",
            "Speed : 901.0 sentences/s (gpu mode, bsize=128)\n",
            "Nb words kept : 3588/3641 (98.5%)\n",
            "Speed : 857.6 sentences/s (gpu mode, bsize=128)\n",
            "Nb words kept : 3545/3589 (98.8%)\n",
            "Speed : 725.9 sentences/s (gpu mode, bsize=128)\n",
            "Nb words kept : 3731/3821 (97.6%)\n",
            "Speed : 739.9 sentences/s (gpu mode, bsize=128)\n",
            "Nb words kept : 3232/3253 (99.4%)\n",
            "Speed : 929.3 sentences/s (gpu mode, bsize=128)\n",
            "Nb words kept : 3695/3750 (98.5%)\n",
            "Speed : 653.2 sentences/s (gpu mode, bsize=128)\n",
            "Nb words kept : 3044/3084 (98.7%)\n",
            "Speed : 797.7 sentences/s (gpu mode, bsize=128)\n",
            "Nb words kept : 3326/3360 (99.0%)\n",
            "Speed : 896.0 sentences/s (gpu mode, bsize=128)\n",
            "Nb words kept : 3488/3524 (99.0%)\n",
            "Speed : 869.5 sentences/s (gpu mode, bsize=128)\n",
            "Nb words kept : 3563/3599 (99.0%)\n",
            "Speed : 779.8 sentences/s (gpu mode, bsize=128)\n",
            "Nb words kept : 2779/2897 (95.9%)\n",
            "Speed : 1113.7 sentences/s (gpu mode, bsize=128)\n",
            "Nb words kept : 3233/3296 (98.1%)\n",
            "Speed : 952.2 sentences/s (gpu mode, bsize=128)\n",
            "Nb words kept : 3002/3056 (98.2%)\n",
            "Speed : 980.1 sentences/s (gpu mode, bsize=128)\n",
            "Nb words kept : 3461/3486 (99.3%)\n",
            "Speed : 854.0 sentences/s (gpu mode, bsize=128)\n",
            "Nb words kept : 3808/3895 (97.8%)\n",
            "Speed : 776.8 sentences/s (gpu mode, bsize=128)\n",
            "Nb words kept : 460/480 (95.8%)\n",
            "Speed : 268.9 sentences/s (gpu mode, bsize=128)\n"
          ]
        }
      ]
    },
    {
      "cell_type": "code",
      "source": [
        "len(sent_embeddings)"
      ],
      "metadata": {
        "id": "qMI_Gy7kjuxT"
      },
      "execution_count": null,
      "outputs": []
    },
    {
      "cell_type": "code",
      "source": [
        "# quest_embeddings = []\n",
        "# for i in range(0, len(questions), 128):\n",
        "#   quest_embeddings.append(infersent.encode(questions[i:i+128], bsize = 128 ,tokenize = True, verbose = True))"
      ],
      "metadata": {
        "id": "BsygIKDThOBj"
      },
      "execution_count": null,
      "outputs": []
    },
    {
      "cell_type": "code",
      "source": [
        "q = infersent.encode(questions, bsize = 128 ,tokenize = True, verbose = True)"
      ],
      "metadata": {
        "colab": {
          "base_uri": "https://localhost:8080/"
        },
        "id": "b2TKg71cfYCP",
        "outputId": "3d5d3227-6deb-47ac-b75e-05952e04408b"
      },
      "execution_count": null,
      "outputs": [
        {
          "output_type": "stream",
          "name": "stdout",
          "text": [
            "Nb words kept : 974825/982207 (99.2%)\n",
            "Speed : 1880.7 sentences/s (gpu mode, bsize=128)\n"
          ]
        }
      ]
    },
    {
      "cell_type": "code",
      "source": [
        "len(q)"
      ],
      "metadata": {
        "id": "RJQZq8MwCJNh"
      },
      "execution_count": null,
      "outputs": []
    },
    {
      "cell_type": "code",
      "source": [
        "sent = []\n",
        "for i in sent_embeddings:\n",
        "  for j in i:\n",
        "    sent.append(j)"
      ],
      "metadata": {
        "id": "D8u4YN4UCQs5"
      },
      "execution_count": null,
      "outputs": []
    },
    {
      "cell_type": "code",
      "source": [],
      "metadata": {
        "colab": {
          "base_uri": "https://localhost:8080/"
        },
        "id": "t2JkQTMAkND6",
        "outputId": "a43c7fbc-f45a-42eb-f0e6-70e13cb609a1"
      },
      "execution_count": null,
      "outputs": [
        {
          "output_type": "execute_result",
          "data": {
            "text/plain": [
              "77838"
            ]
          },
          "metadata": {},
          "execution_count": 34
        }
      ]
    },
    {
      "cell_type": "code",
      "source": [
        "from numpy import dot\n",
        "from numpy.linalg import norm\n",
        "def cos_sim(a,b):\n",
        "  return dot(a, b)/(norm(a)*norm(b))\n"
      ],
      "metadata": {
        "id": "rkiVqsuaDcN_"
      },
      "execution_count": null,
      "outputs": []
    },
    {
      "cell_type": "code",
      "source": [
        "%%timeit\n",
        "cos_sim(q[1], sent[1])"
      ],
      "metadata": {
        "colab": {
          "base_uri": "https://localhost:8080/"
        },
        "id": "P9yg9hWdC2NT",
        "outputId": "71d469b6-76aa-4ca3-e487-b0735300478e"
      },
      "execution_count": null,
      "outputs": [
        {
          "output_type": "stream",
          "name": "stdout",
          "text": [
            "11.4 µs ± 347 ns per loop (mean ± std. dev. of 7 runs, 100000 loops each)\n"
          ]
        }
      ]
    },
    {
      "cell_type": "code",
      "source": [
        "def get_best_match(q_index):\n",
        "  base_cos = -2\n",
        "  ind = -6\n",
        "  for i in range(len(sent)):\n",
        "    cos = cos_sim(q[q_index], sent[i])\n",
        "    if cos > base_cos:\n",
        "      ind = i\n",
        "      base_cos = cos\n",
        "  return(sentences[ind], questions[q_index])\n"
      ],
      "metadata": {
        "id": "t3kyqhDJglS_"
      },
      "execution_count": null,
      "outputs": []
    },
    {
      "cell_type": "code",
      "source": [],
      "metadata": {
        "id": "OcWoxxmxC-k2"
      },
      "execution_count": null,
      "outputs": []
    },
    {
      "cell_type": "code",
      "source": [],
      "metadata": {
        "id": "w6jXpCf9lO9E"
      },
      "execution_count": null,
      "outputs": []
    },
    {
      "cell_type": "code",
      "source": [],
      "metadata": {
        "id": "kd5qIJq8nILR"
      },
      "execution_count": null,
      "outputs": []
    },
    {
      "cell_type": "code",
      "source": [
        "build_index(\"beyoncebbb\", ratio = 5)"
      ],
      "metadata": {
        "colab": {
          "base_uri": "https://localhost:8080/"
        },
        "id": "vPYscVycmw7h",
        "outputId": "cd759824-c566-443a-d7ec-b1ec18b9e377"
      },
      "execution_count": null,
      "outputs": [
        {
          "output_type": "stream",
          "name": "stdout",
          "text": [
            "5000 items loaded\n",
            "10000 items loaded\n",
            "15000 items loaded\n",
            "Loading completed suckers\n",
            "Building??????\n",
            "Index file size: 0.3 GB\n"
          ]
        }
      ]
    },
    {
      "cell_type": "code",
      "source": [
        "index = annoy.AnnoyIndex(4096)\n",
        "index.load('beyoncebbb', prefault=True)\n",
        "print('Annoy index is loaded.')\n"
      ],
      "metadata": {
        "colab": {
          "base_uri": "https://localhost:8080/"
        },
        "id": "2Id_4c3tHIhZ",
        "outputId": "895d5303-c5d6-4aa7-a255-8f8fa6275c1d"
      },
      "execution_count": null,
      "outputs": [
        {
          "output_type": "stream",
          "name": "stdout",
          "text": [
            "Annoy index is loaded.\n"
          ]
        },
        {
          "output_type": "stream",
          "name": "stderr",
          "text": [
            "<ipython-input-27-150ece8400de>:1: FutureWarning: The default argument for metric will be removed in future version of Annoy. Please pass metric='angular' explicitly.\n",
            "  index = annoy.AnnoyIndex(4096)\n"
          ]
        }
      ]
    },
    {
      "cell_type": "code",
      "source": [
        "def find_similar_items(embedding, num_matches=25):\n",
        "  '''Finds similar items to a given embedding in the ANN index'''\n",
        "  ids = index.get_nns_by_vector(\n",
        "  embedding, num_matches, search_k=-1, include_distances=False)\n",
        "  return ids"
      ],
      "metadata": {
        "id": "wg8CFMvYtYh9"
      },
      "execution_count": null,
      "outputs": []
    },
    {
      "cell_type": "code",
      "source": [
        "# %%timeit\n",
        "x = find_similar_items(q[0])\n",
        "y = [sentences[i] for i in x]"
      ],
      "metadata": {
        "id": "FeoMylBAtddI"
      },
      "execution_count": null,
      "outputs": []
    },
    {
      "cell_type": "code",
      "source": [
        "for i in y:\n",
        "  print(i)\n",
        "\n",
        "print(\"\\n\\n\")\n",
        "print(questions[0])"
      ],
      "metadata": {
        "colab": {
          "base_uri": "https://localhost:8080/"
        },
        "id": "ApLY7M8Ztl6W",
        "outputId": "51a1c974-6b91-4996-b903-9978cf823b76"
      },
      "execution_count": null,
      "outputs": [
        {
          "output_type": "stream",
          "name": "stdout",
          "text": [
            "Beyoncé's younger sister Solange is also a singer and a former member of Destiny's Child.\n",
            "When Beyoncé does an album, when Beyoncé sings a song, when Beyoncé does anything, it's an event, and it's broadly influential.\n",
            "When The Guardian named her Artist of the Decade, Llewyn-Smith wrote, \"Why Beyoncé?\n",
            "The album's lead single, \"Crazy in Love\", featuring Jay Z, became Beyoncé's first number-one single as a solo artist in the US.\n",
            "Beyoncé's third solo album I Am... Sasha Fierce was inspired by Jay Z and especially by Etta James, whose \"boldness\" inspired Beyoncé to explore other musical genres and styles.\n",
            "Beyoncé Giselle Knowles-Carter (/biːˈjɒnseɪ/ bee-YON-say) (born September 4, 1981) is an American singer, songwriter, record producer and actress.\n",
            "The feminism and female empowerment themes on Beyoncé's second solo album B'Day were inspired by her role in Dreamgirls and by singer Josephine Baker.\n",
            "To promote the film, Beyoncé released \"Listen\" as the lead single from the soundtrack album.\n",
            "Beyoncé stated that she struggled to speak about her depression because Destiny's Child had just won their first Grammy Award and she feared no one would take her seriously.\n",
            "Both judges Mariah Carey and Nicki Minaj also decided to leave after one season to focus on their music careers.\n",
            "The song detailed the couple's pregnancy struggles, including a miscarriage Beyoncé suffered before becoming pregnant with Blue Ivy.\n",
            "In 2013, Drake released a single titled \"Girls Love Beyoncé\", which featured an interpolation from Destiny Child's \"Say My Name\" and discussed his relationship with women.\n",
            "Fantasia released as her coronation single \"I Believe\", a song co-written by season one finalist Tamyra Gray, and DeGarmo released \"Dreams\".\n",
            "She credits Mariah Carey's singing and her song \"Vision of Love\" as influencing her to begin practicing vocal runs as a child.\n",
            "Girl's Tyme failed to win, and Beyoncé later said the song they performed was not good.\n",
            "Beyoncé has won 20 Grammy Awards, both as a solo artist and member of Destiny's Child, making her the second most honored female artist by the Grammys, behind Alison Krauss and the most nominated woman in Grammy Award history with 52 nominations.\n",
            "However, this was put on hold so she could concentrate on recording Destiny Fulfilled, the final studio album by Destiny's Child.\n",
            "\"Do I Make You Proud\" was released as Hicks' first single and McPhee's was \"My Destiny\".\n",
            "Aged five, Beyoncé attended her first ever concert where Jackson performed and she claims to have realised her purpose.\n",
            "Teenage singer Deanna Durbin starred in Pasternak's first American film, Three Smart Girls (1936).\n",
            "The mentors regularly bring in guest mentors to aid them, including Akon, Alicia Keys, Lady Gaga, and current judge Harry Connick, Jr..\n",
            "The band have supported Beyoncé in most subsequent live performances, including her 2007 concert tour The Beyoncé Experience, 2009–2010 I Am... World Tour and 2013–2014 The Mrs. Carter Show World Tour.\n",
            "In it, she starred opposite Jennifer Hudson, Jamie Foxx, and Eddie Murphy playing a pop singer based on Diana Ross.\n",
            "Sasha was conceived during the making of \"Crazy in Love\", and Beyoncé introduced her with the release of her 2008 album I Am... Sasha Fierce.\n",
            "In 2010, Beyoncé was featured on Lady Gaga's single \"Telephone\" and its music video.\n",
            "\n",
            "\n",
            "\n",
            "When did Beyonce leave Destiny's Child and become a solo singer?\n"
          ]
        }
      ]
    },
    {
      "cell_type": "code",
      "source": [
        "s = np.array(sent)\n",
        "# q = np.array(q)"
      ],
      "metadata": {
        "id": "VX7hUNR6vN7N"
      },
      "execution_count": null,
      "outputs": []
    },
    {
      "cell_type": "code",
      "source": [
        "s.shape"
      ],
      "metadata": {
        "colab": {
          "base_uri": "https://localhost:8080/"
        },
        "id": "te5ght4zvQxc",
        "outputId": "ec5928d5-96e3-426d-80a5-94bd896712d2"
      },
      "execution_count": null,
      "outputs": [
        {
          "output_type": "execute_result",
          "data": {
            "text/plain": [
              "(77838, 4096)"
            ]
          },
          "metadata": {},
          "execution_count": 49
        }
      ]
    },
    {
      "cell_type": "code",
      "source": [
        "!pip install faiss-gpu"
      ],
      "metadata": {
        "colab": {
          "base_uri": "https://localhost:8080/"
        },
        "id": "Z4zGfuh-vTyT",
        "outputId": "456d3a89-0bcf-4c94-86d4-23643165e8da"
      },
      "execution_count": null,
      "outputs": [
        {
          "output_type": "stream",
          "name": "stdout",
          "text": [
            "Looking in indexes: https://pypi.org/simple, https://us-python.pkg.dev/colab-wheels/public/simple/\n",
            "Requirement already satisfied: faiss-gpu in /usr/local/lib/python3.8/dist-packages (1.7.2)\n"
          ]
        }
      ]
    },
    {
      "cell_type": "code",
      "source": [
        "import faiss"
      ],
      "metadata": {
        "id": "NIoC5BeLwjFq"
      },
      "execution_count": null,
      "outputs": []
    },
    {
      "cell_type": "code",
      "source": [],
      "metadata": {
        "id": "ZMlQ_siivV4D"
      },
      "execution_count": null,
      "outputs": []
    },
    {
      "cell_type": "code",
      "source": [
        "faiss.normalize_L2(s)"
      ],
      "metadata": {
        "id": "uqludjMMwicD"
      },
      "execution_count": null,
      "outputs": []
    },
    {
      "cell_type": "code",
      "source": [
        "index = faiss.index_factory(4096, \"Flat\", faiss.METRIC_INNER_PRODUCT)"
      ],
      "metadata": {
        "id": "pZ96BiQJx8kh"
      },
      "execution_count": null,
      "outputs": []
    },
    {
      "cell_type": "code",
      "source": [
        "index.add(s)"
      ],
      "metadata": {
        "id": "LhjMyMURyUP7"
      },
      "execution_count": null,
      "outputs": []
    },
    {
      "cell_type": "code",
      "source": [
        "q_ = np.array(q)"
      ],
      "metadata": {
        "id": "hVoQXcVoyWUi"
      },
      "execution_count": null,
      "outputs": []
    },
    {
      "cell_type": "code",
      "source": [
        "faiss.normalize_L2(q_)"
      ],
      "metadata": {
        "id": "bdkZ8MA4ybxJ"
      },
      "execution_count": null,
      "outputs": []
    },
    {
      "cell_type": "code",
      "source": [
        "ll = np.array([list(q_[0])])"
      ],
      "metadata": {
        "id": "RV9e63fhzEeo"
      },
      "execution_count": null,
      "outputs": []
    },
    {
      "cell_type": "code",
      "source": [
        "D, I = index.search(ll, 12)  # search\n",
        "print(I)\n"
      ],
      "metadata": {
        "colab": {
          "base_uri": "https://localhost:8080/"
        },
        "id": "sG5XbHIyyjkS",
        "outputId": "4cd4047f-4845-4055-9559-5a078b64d6de"
      },
      "execution_count": null,
      "outputs": [
        {
          "output_type": "stream",
          "name": "stdout",
          "text": [
            "[[   19   296   292    75   246 35980 35811     0   244    93    53  3938]]\n"
          ]
        }
      ]
    },
    {
      "cell_type": "code",
      "source": [
        "for i in I:\n",
        "  for j in I:\n",
        "    for x_ in range(len(j)):\n",
        "      print(sentences[j[x_]])"
      ],
      "metadata": {
        "colab": {
          "base_uri": "https://localhost:8080/"
        },
        "id": "vhMt_BJ-ziG3",
        "outputId": "6c4a2397-81ff-4645-b96a-825d2657bf33"
      },
      "execution_count": null,
      "outputs": [
        {
          "output_type": "stream",
          "name": "stdout",
          "text": [
            "Beyoncé's younger sister Solange is also a singer and a former member of Destiny's Child.\n",
            "When Beyoncé does an album, when Beyoncé sings a song, when Beyoncé does anything, it's an event, and it's broadly influential.\n",
            "When The Guardian named her Artist of the Decade, Llewyn-Smith wrote, \"Why Beyoncé?\n",
            "The album's lead single, \"Crazy in Love\", featuring Jay Z, became Beyoncé's first number-one single as a solo artist in the US.\n",
            "Beyoncé's third solo album I Am... Sasha Fierce was inspired by Jay Z and especially by Etta James, whose \"boldness\" inspired Beyoncé to explore other musical genres and styles.\n",
            "When The Beatles hit America, they changed the paradigm of performer from solo act to band.\n",
            "Days later, she joined singer Miley Cyrus on her MTV Unplugged special, singing a mash-up of \"Don't Tell Me\" and Cyrus' single \"We Can't Stop\" (2013).\n",
            "Beyoncé Giselle Knowles-Carter (/biːˈjɒnseɪ/ bee-YON-say) (born September 4, 1981) is an American singer, songwriter, record producer and actress.\n",
            "The feminism and female empowerment themes on Beyoncé's second solo album B'Day were inspired by her role in Dreamgirls and by singer Josephine Baker.\n",
            "To promote the film, Beyoncé released \"Listen\" as the lead single from the soundtrack album.\n",
            "Beyoncé stated that she struggled to speak about her depression because Destiny's Child had just won their first Grammy Award and she feared no one would take her seriously.\n",
            "Both judges Mariah Carey and Nicki Minaj also decided to leave after one season to focus on their music careers.\n"
          ]
        }
      ]
    },
    {
      "cell_type": "code",
      "source": [
        "questions[0]"
      ],
      "metadata": {
        "colab": {
          "base_uri": "https://localhost:8080/",
          "height": 35
        },
        "id": "kKZsUfC2zwWu",
        "outputId": "c65571e1-8c5e-4f0a-c5ad-7a9639d2aee8"
      },
      "execution_count": null,
      "outputs": [
        {
          "output_type": "execute_result",
          "data": {
            "text/plain": [
              "\"When did Beyonce leave Destiny's Child and become a solo singer?\""
            ],
            "application/vnd.google.colaboratory.intrinsic+json": {
              "type": "string"
            }
          },
          "metadata": {},
          "execution_count": 55
        }
      ]
    },
    {
      "cell_type": "code",
      "execution_count": null,
      "metadata": {
        "id": "4KMcEmMzAeYV"
      },
      "outputs": [],
      "source": [
        "# def best_match_cosine(embeddings):\n",
        "#   question_embedding = embeddings[-1]\n",
        "#   mag_q = np.sqrt(np.sum(question_embedding**2))\n",
        "#   max_cosine = 0\n",
        "#   best_sent = -9\n",
        "#   second_best = 0\n",
        "#   second_sent = -9\n",
        "#   for i in embeddings[:-1]:\n",
        "#     dot_prod = np.dot(i, question_embedding)\n",
        "#     mag_i = np.sqrt(np.sum(i**2))\n",
        "#     cos_sim = dot_prod/(mag_i*mag_q)\n",
        "#     # print(cos_sim)\n",
        "#     if (cos_sim > max_cosine):\n",
        "#       second_best = max_cosine\n",
        "#       second_sent = best_sent\n",
        "#       max_cosine = cos_sim\n",
        "#       best_sent = i\n",
        "      \n",
        "#     # print(cos_sim)\n",
        "#     # print(max_cosine)\n",
        "#     # print(best_sent)\n",
        "#     # print()\n",
        "#   # print(best_sent)\n",
        "#   # print(second_sent)\n",
        "#   best_int = -9\n",
        "#   second_int = None\n",
        "#   for i in range(len(embeddings)):\n",
        "#   # print(encodings[i])\n",
        "#   # print(best_sent)\n",
        "#     if (embeddings[i] == best_sent).all() == True:\n",
        "#       best_int = i\n",
        "#     # if (second_sent != -9):\n",
        "#     #   if (embeddings[i] == second_sent).all() == True:\n",
        "#     #     second_int = i\n",
        "#   return best_int\n",
        "\n",
        "\n",
        "  \n"
      ]
    },
    {
      "cell_type": "code",
      "execution_count": null,
      "metadata": {
        "id": "FBNBf5TK5Vtl"
      },
      "outputs": [],
      "source": [
        "# def evaluate(index : int):\n",
        "#   # print(index)\n",
        "#   sentences, question, answer = get_ith_datapt(index)\n",
        "#   # if possible:\n",
        "#   embeddings = get_embeddings(sentences, question)\n",
        "#   best_match = best_match_cosine(embeddings)\n",
        "#   # output = \"I: {}\\nQ: {}\\nA: {}\\nBest Match: {}\\n\".format(index, question, answer, sentences[best_match])\n",
        "#   output = sentences[best_match]\n",
        "#   # if best_match[1] != None:\n",
        "#   #   print(\"S2: \", sentences[best_match[1]])\n",
        "\n",
        "#   # print(\"Ch: \", possible)\n",
        "#   return output\n",
        "#   # else:\n",
        "#   #   output = \"Answer not Possible lmaooo\\n\"\n",
        "#   #   print(\"Answer not Possible lmaoooo\")\n",
        "#   #   return output\n",
        "#   # for i in sentences:\n",
        "#   #   print(i)\n"
      ]
    },
    {
      "cell_type": "code",
      "execution_count": null,
      "metadata": {
        "id": "rYtDZUu1NGuJ"
      },
      "outputs": [],
      "source": [
        "import random"
      ]
    },
    {
      "cell_type": "code",
      "execution_count": null,
      "metadata": {
        "id": "lnpQq1Jaewf9"
      },
      "outputs": [],
      "source": [
        "import json"
      ]
    }
  ],
  "metadata": {
    "colab": {
      "provenance": []
    },
    "kernelspec": {
      "display_name": "Python 3",
      "name": "python3"
    },
    "language_info": {
      "name": "python"
    },
    "accelerator": "GPU",
    "gpuClass": "standard"
  },
  "nbformat": 4,
  "nbformat_minor": 0
}